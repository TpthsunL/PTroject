{
 "cells": [
  {
   "cell_type": "markdown",
   "metadata": {},
   "source": [
    "# 데이터 전처리\n",
    "* 중복행 확인 및 제거\n",
    "* 데이터 범위 필터링\n",
    "* 이상치 탐색 및 제거"
   ]
  },
  {
   "cell_type": "markdown",
   "metadata": {},
   "source": [
    "# 중복행 확인 및 제거"
   ]
  },
  {
   "cell_type": "code",
   "execution_count": 1,
   "metadata": {},
   "outputs": [],
   "source": [
    "# 라이브러리 불러오기\n",
    "\n",
    "import pandas as pd\n",
    "import numpy as np\n",
    "import matplotlib.pyplot as plt\n",
    "import seaborn as sns\n",
    "import datetime as dt\n",
    "import warnings # 경고메세지 무시하기\n",
    "warnings.filterwarnings(action='ignore')"
   ]
  },
  {
   "cell_type": "code",
   "execution_count": 2,
   "metadata": {},
   "outputs": [
    {
     "data": {
      "text/plain": [
       "<AxesSubplot:title={'center':'한글폰트'}>"
      ]
     },
     "execution_count": 2,
     "metadata": {},
     "output_type": "execute_result"
    },
    {
     "data": {
      "image/png": "[encoded data removed]",
      "text/plain": [
       "<Figure size 432x288 with 1 Axes>"
      ]
     },
     "metadata": {
      "image/png": {
       "height": 264,
       "width": 365
      },
      "needs_background": "light"
     },
     "output_type": "display_data"
    }
   ],
   "source": [
    "# 한글폰트\n",
    "\n",
    "plt.rc(\"font\", family=\"Malgun Gothic\")\n",
    "plt.rc(\"axes\", unicode_minus=False) #마이너스 코드 \n",
    "pd.options.display.float_format = '{:.3f}'.format\n",
    "from IPython.display import set_matplotlib_formats #폰트 선명하게 설정.\n",
    "set_matplotlib_formats('retina') \n",
    "pd.Series([-1,0,1,3,5]).plot(title=\"한글폰트\") # 한글폰트와 마이너스 폰트 설정 확인"
   ]
  },
  {
   "cell_type": "code",
   "execution_count": 3,
   "metadata": {},
   "outputs": [
    {
     "data": {
      "text/plain": [
       "(3447070, 13)"
      ]
     },
     "execution_count": 3,
     "metadata": {},
     "output_type": "execute_result"
    }
   ],
   "source": [
    "# 데이터 로드\n",
    "\n",
    "df = pd.read_csv('df_shop.csv', parse_dates=['구매일자'])\n",
    "df.drop(columns = ['총_쇼핑소비금액'], inplace=True)\n",
    "df.shape"
   ]
  },
  {
   "cell_type": "code",
   "execution_count": 4,
   "metadata": {},
   "outputs": [
    {
     "data": {
      "text/plain": [
       "171231"
      ]
     },
     "execution_count": 4,
     "metadata": {},
     "output_type": "execute_result"
    }
   ],
   "source": [
    "# 중복 행 확인\n",
    "\n",
    "df.duplicated().sum()"
   ]
  },
  {
   "cell_type": "code",
   "execution_count": 5,
   "metadata": {},
   "outputs": [
    {
     "data": {
      "text/html": [
       "<div>\n",
       "<style scoped>\n",
       "    .dataframe tbody tr th:only-of-type {\n",
       "        vertical-align: middle;\n",
       "    }\n",
       "\n",
       "    .dataframe tbody tr th {\n",
       "        vertical-align: top;\n",
       "    }\n",
       "\n",
       "    .dataframe thead th {\n",
       "        text-align: right;\n",
       "    }\n",
       "</style>\n",
       "<table border=\"1\" class=\"dataframe\">\n",
       "  <thead>\n",
       "    <tr style=\"text-align: right;\">\n",
       "      <th></th>\n",
       "      <th>ID</th>\n",
       "      <th>성별</th>\n",
       "      <th>연령대</th>\n",
       "      <th>시도</th>\n",
       "      <th>시군구</th>\n",
       "      <th>구매일자</th>\n",
       "      <th>구매시간</th>\n",
       "      <th>구매금액</th>\n",
       "      <th>구매수량</th>\n",
       "      <th>업종</th>\n",
       "      <th>소분류명</th>\n",
       "      <th>중분류명</th>\n",
       "      <th>대분류명</th>\n",
       "    </tr>\n",
       "  </thead>\n",
       "  <tbody>\n",
       "    <tr>\n",
       "      <th>0</th>\n",
       "      <td>1</td>\n",
       "      <td>남성</td>\n",
       "      <td>60대</td>\n",
       "      <td>서울특별시</td>\n",
       "      <td>강동구</td>\n",
       "      <td>2015-12-16</td>\n",
       "      <td>17</td>\n",
       "      <td>28000</td>\n",
       "      <td>1</td>\n",
       "      <td>백화점</td>\n",
       "      <td>수입주방</td>\n",
       "      <td>주방용품</td>\n",
       "      <td>가정</td>\n",
       "    </tr>\n",
       "    <tr>\n",
       "      <th>1</th>\n",
       "      <td>1</td>\n",
       "      <td>남성</td>\n",
       "      <td>60대</td>\n",
       "      <td>서울특별시</td>\n",
       "      <td>강동구</td>\n",
       "      <td>2015-05-13</td>\n",
       "      <td>14</td>\n",
       "      <td>15000</td>\n",
       "      <td>1</td>\n",
       "      <td>백화점</td>\n",
       "      <td>수입주방</td>\n",
       "      <td>주방용품</td>\n",
       "      <td>가정</td>\n",
       "    </tr>\n",
       "    <tr>\n",
       "      <th>2</th>\n",
       "      <td>1</td>\n",
       "      <td>남성</td>\n",
       "      <td>60대</td>\n",
       "      <td>서울특별시</td>\n",
       "      <td>강동구</td>\n",
       "      <td>2015-08-01</td>\n",
       "      <td>19</td>\n",
       "      <td>166400</td>\n",
       "      <td>1</td>\n",
       "      <td>백화점</td>\n",
       "      <td>N/B골프의류</td>\n",
       "      <td>골프용품</td>\n",
       "      <td>스포츠</td>\n",
       "    </tr>\n",
       "    <tr>\n",
       "      <th>3</th>\n",
       "      <td>1</td>\n",
       "      <td>남성</td>\n",
       "      <td>60대</td>\n",
       "      <td>서울특별시</td>\n",
       "      <td>강동구</td>\n",
       "      <td>2015-12-28</td>\n",
       "      <td>12</td>\n",
       "      <td>166000</td>\n",
       "      <td>1</td>\n",
       "      <td>백화점</td>\n",
       "      <td>란제리</td>\n",
       "      <td>란제리/내의</td>\n",
       "      <td>여성의류</td>\n",
       "    </tr>\n",
       "    <tr>\n",
       "      <th>4</th>\n",
       "      <td>1</td>\n",
       "      <td>남성</td>\n",
       "      <td>60대</td>\n",
       "      <td>서울특별시</td>\n",
       "      <td>강동구</td>\n",
       "      <td>2015-05-13</td>\n",
       "      <td>12</td>\n",
       "      <td>1000</td>\n",
       "      <td>2</td>\n",
       "      <td>백화점</td>\n",
       "      <td>어묵</td>\n",
       "      <td>젓갈/반찬</td>\n",
       "      <td>식품</td>\n",
       "    </tr>\n",
       "    <tr>\n",
       "      <th>...</th>\n",
       "      <td>...</td>\n",
       "      <td>...</td>\n",
       "      <td>...</td>\n",
       "      <td>...</td>\n",
       "      <td>...</td>\n",
       "      <td>...</td>\n",
       "      <td>...</td>\n",
       "      <td>...</td>\n",
       "      <td>...</td>\n",
       "      <td>...</td>\n",
       "      <td>...</td>\n",
       "      <td>...</td>\n",
       "      <td>...</td>\n",
       "    </tr>\n",
       "    <tr>\n",
       "      <th>3447065</th>\n",
       "      <td>19998</td>\n",
       "      <td>남성</td>\n",
       "      <td>40대</td>\n",
       "      <td>경상남도</td>\n",
       "      <td>김해시</td>\n",
       "      <td>2015-12-26</td>\n",
       "      <td>17</td>\n",
       "      <td>15000</td>\n",
       "      <td>1</td>\n",
       "      <td>대형마트</td>\n",
       "      <td>남성병행수입</td>\n",
       "      <td>병행수입</td>\n",
       "      <td>남성의류편집</td>\n",
       "    </tr>\n",
       "    <tr>\n",
       "      <th>3447066</th>\n",
       "      <td>19998</td>\n",
       "      <td>남성</td>\n",
       "      <td>40대</td>\n",
       "      <td>경상남도</td>\n",
       "      <td>김해시</td>\n",
       "      <td>2015-12-26</td>\n",
       "      <td>14</td>\n",
       "      <td>40000</td>\n",
       "      <td>4</td>\n",
       "      <td>대형마트</td>\n",
       "      <td>일반화장품</td>\n",
       "      <td>기초화장품</td>\n",
       "      <td>브랜드화장품</td>\n",
       "    </tr>\n",
       "    <tr>\n",
       "      <th>3447067</th>\n",
       "      <td>19998</td>\n",
       "      <td>남성</td>\n",
       "      <td>40대</td>\n",
       "      <td>경상남도</td>\n",
       "      <td>김해시</td>\n",
       "      <td>2015-12-26</td>\n",
       "      <td>14</td>\n",
       "      <td>8000</td>\n",
       "      <td>8</td>\n",
       "      <td>대형마트</td>\n",
       "      <td>일반화장품</td>\n",
       "      <td>기초화장품</td>\n",
       "      <td>브랜드화장품</td>\n",
       "    </tr>\n",
       "    <tr>\n",
       "      <th>3447068</th>\n",
       "      <td>19998</td>\n",
       "      <td>남성</td>\n",
       "      <td>40대</td>\n",
       "      <td>경상남도</td>\n",
       "      <td>김해시</td>\n",
       "      <td>2015-12-26</td>\n",
       "      <td>14</td>\n",
       "      <td>500</td>\n",
       "      <td>5</td>\n",
       "      <td>대형마트</td>\n",
       "      <td>일반화장품</td>\n",
       "      <td>기초화장품</td>\n",
       "      <td>브랜드화장품</td>\n",
       "    </tr>\n",
       "    <tr>\n",
       "      <th>3447069</th>\n",
       "      <td>20000</td>\n",
       "      <td>여성</td>\n",
       "      <td>40대</td>\n",
       "      <td>경상남도</td>\n",
       "      <td>김해시</td>\n",
       "      <td>2015-12-31</td>\n",
       "      <td>17</td>\n",
       "      <td>69000</td>\n",
       "      <td>1</td>\n",
       "      <td>백화점</td>\n",
       "      <td>캐릭터 여화</td>\n",
       "      <td>구두</td>\n",
       "      <td>잡화</td>\n",
       "    </tr>\n",
       "  </tbody>\n",
       "</table>\n",
       "<p>3275839 rows × 13 columns</p>\n",
       "</div>"
      ],
      "text/plain": [
       "            ID  성별  연령대     시도  시군구       구매일자  구매시간    구매금액  구매수량    업종  \\\n",
       "0            1  남성  60대  서울특별시  강동구 2015-12-16    17   28000     1   백화점   \n",
       "1            1  남성  60대  서울특별시  강동구 2015-05-13    14   15000     1   백화점   \n",
       "2            1  남성  60대  서울특별시  강동구 2015-08-01    19  166400     1   백화점   \n",
       "3            1  남성  60대  서울특별시  강동구 2015-12-28    12  166000     1   백화점   \n",
       "4            1  남성  60대  서울특별시  강동구 2015-05-13    12    1000     2   백화점   \n",
       "...        ...  ..  ...    ...  ...        ...   ...     ...   ...   ...   \n",
       "3447065  19998  남성  40대   경상남도  김해시 2015-12-26    17   15000     1  대형마트   \n",
       "3447066  19998  남성  40대   경상남도  김해시 2015-12-26    14   40000     4  대형마트   \n",
       "3447067  19998  남성  40대   경상남도  김해시 2015-12-26    14    8000     8  대형마트   \n",
       "3447068  19998  남성  40대   경상남도  김해시 2015-12-26    14     500     5  대형마트   \n",
       "3447069  20000  여성  40대   경상남도  김해시 2015-12-31    17   69000     1   백화점   \n",
       "\n",
       "            소분류명    중분류명    대분류명  \n",
       "0           수입주방    주방용품      가정  \n",
       "1           수입주방    주방용품      가정  \n",
       "2        N/B골프의류    골프용품     스포츠  \n",
       "3            란제리  란제리/내의    여성의류  \n",
       "4             어묵   젓갈/반찬      식품  \n",
       "...          ...     ...     ...  \n",
       "3447065   남성병행수입    병행수입  남성의류편집  \n",
       "3447066    일반화장품   기초화장품  브랜드화장품  \n",
       "3447067    일반화장품   기초화장품  브랜드화장품  \n",
       "3447068    일반화장품   기초화장품  브랜드화장품  \n",
       "3447069   캐릭터 여화      구두      잡화  \n",
       "\n",
       "[3275839 rows x 13 columns]"
      ]
     },
     "execution_count": 5,
     "metadata": {},
     "output_type": "execute_result"
    }
   ],
   "source": [
    "# 중복 행 제거\n",
    "\n",
    "df = df.drop_duplicates()\n",
    "df"
   ]
  },
  {
   "cell_type": "markdown",
   "metadata": {},
   "source": [
    "# 데이터 범위 필터링\n",
    "* 시도: 서울특별시\n",
    "* 대분류명: 식품"
   ]
  },
  {
   "cell_type": "code",
   "execution_count": 6,
   "metadata": {},
   "outputs": [
    {
     "data": {
      "text/html": [
       "<div>\n",
       "<style scoped>\n",
       "    .dataframe tbody tr th:only-of-type {\n",
       "        vertical-align: middle;\n",
       "    }\n",
       "\n",
       "    .dataframe tbody tr th {\n",
       "        vertical-align: top;\n",
       "    }\n",
       "\n",
       "    .dataframe thead th {\n",
       "        text-align: right;\n",
       "    }\n",
       "</style>\n",
       "<table border=\"1\" class=\"dataframe\">\n",
       "  <thead>\n",
       "    <tr style=\"text-align: right;\">\n",
       "      <th></th>\n",
       "      <th>ID</th>\n",
       "      <th>성별</th>\n",
       "      <th>연령대</th>\n",
       "      <th>시도</th>\n",
       "      <th>시군구</th>\n",
       "      <th>구매일자</th>\n",
       "      <th>구매시간</th>\n",
       "      <th>구매금액</th>\n",
       "      <th>구매수량</th>\n",
       "      <th>업종</th>\n",
       "      <th>소분류명</th>\n",
       "      <th>중분류명</th>\n",
       "      <th>대분류명</th>\n",
       "    </tr>\n",
       "  </thead>\n",
       "  <tbody>\n",
       "    <tr>\n",
       "      <th>4</th>\n",
       "      <td>1</td>\n",
       "      <td>남성</td>\n",
       "      <td>60대</td>\n",
       "      <td>서울특별시</td>\n",
       "      <td>강동구</td>\n",
       "      <td>2015-05-13</td>\n",
       "      <td>12</td>\n",
       "      <td>1000</td>\n",
       "      <td>2</td>\n",
       "      <td>백화점</td>\n",
       "      <td>어묵</td>\n",
       "      <td>젓갈/반찬</td>\n",
       "      <td>식품</td>\n",
       "    </tr>\n",
       "    <tr>\n",
       "      <th>5</th>\n",
       "      <td>1</td>\n",
       "      <td>남성</td>\n",
       "      <td>60대</td>\n",
       "      <td>서울특별시</td>\n",
       "      <td>강동구</td>\n",
       "      <td>2015-05-13</td>\n",
       "      <td>12</td>\n",
       "      <td>6900</td>\n",
       "      <td>1</td>\n",
       "      <td>백화점</td>\n",
       "      <td>어묵</td>\n",
       "      <td>젓갈/반찬</td>\n",
       "      <td>식품</td>\n",
       "    </tr>\n",
       "    <tr>\n",
       "      <th>6</th>\n",
       "      <td>1</td>\n",
       "      <td>남성</td>\n",
       "      <td>60대</td>\n",
       "      <td>서울특별시</td>\n",
       "      <td>강동구</td>\n",
       "      <td>2015-05-13</td>\n",
       "      <td>12</td>\n",
       "      <td>2400</td>\n",
       "      <td>2</td>\n",
       "      <td>백화점</td>\n",
       "      <td>어묵</td>\n",
       "      <td>젓갈/반찬</td>\n",
       "      <td>식품</td>\n",
       "    </tr>\n",
       "    <tr>\n",
       "      <th>7</th>\n",
       "      <td>1</td>\n",
       "      <td>남성</td>\n",
       "      <td>60대</td>\n",
       "      <td>서울특별시</td>\n",
       "      <td>강동구</td>\n",
       "      <td>2015-05-13</td>\n",
       "      <td>12</td>\n",
       "      <td>1000</td>\n",
       "      <td>1</td>\n",
       "      <td>백화점</td>\n",
       "      <td>어묵</td>\n",
       "      <td>젓갈/반찬</td>\n",
       "      <td>식품</td>\n",
       "    </tr>\n",
       "    <tr>\n",
       "      <th>8</th>\n",
       "      <td>1</td>\n",
       "      <td>남성</td>\n",
       "      <td>60대</td>\n",
       "      <td>서울특별시</td>\n",
       "      <td>강동구</td>\n",
       "      <td>2015-11-04</td>\n",
       "      <td>18</td>\n",
       "      <td>3200</td>\n",
       "      <td>1</td>\n",
       "      <td>백화점</td>\n",
       "      <td>디저트류</td>\n",
       "      <td>차/커피</td>\n",
       "      <td>식품</td>\n",
       "    </tr>\n",
       "    <tr>\n",
       "      <th>...</th>\n",
       "      <td>...</td>\n",
       "      <td>...</td>\n",
       "      <td>...</td>\n",
       "      <td>...</td>\n",
       "      <td>...</td>\n",
       "      <td>...</td>\n",
       "      <td>...</td>\n",
       "      <td>...</td>\n",
       "      <td>...</td>\n",
       "      <td>...</td>\n",
       "      <td>...</td>\n",
       "      <td>...</td>\n",
       "      <td>...</td>\n",
       "    </tr>\n",
       "    <tr>\n",
       "      <th>3446544</th>\n",
       "      <td>19952</td>\n",
       "      <td>남성</td>\n",
       "      <td>20대</td>\n",
       "      <td>서울특별시</td>\n",
       "      <td>광진구</td>\n",
       "      <td>2015-12-11</td>\n",
       "      <td>14</td>\n",
       "      <td>8700</td>\n",
       "      <td>1</td>\n",
       "      <td>백화점</td>\n",
       "      <td>스넥(부대)</td>\n",
       "      <td>가공식품</td>\n",
       "      <td>식품</td>\n",
       "    </tr>\n",
       "    <tr>\n",
       "      <th>3446546</th>\n",
       "      <td>19952</td>\n",
       "      <td>남성</td>\n",
       "      <td>20대</td>\n",
       "      <td>서울특별시</td>\n",
       "      <td>광진구</td>\n",
       "      <td>2015-12-18</td>\n",
       "      <td>16</td>\n",
       "      <td>3000</td>\n",
       "      <td>1</td>\n",
       "      <td>백화점</td>\n",
       "      <td>전문베이커리</td>\n",
       "      <td>가공식품</td>\n",
       "      <td>식품</td>\n",
       "    </tr>\n",
       "    <tr>\n",
       "      <th>3446550</th>\n",
       "      <td>19952</td>\n",
       "      <td>남성</td>\n",
       "      <td>20대</td>\n",
       "      <td>서울특별시</td>\n",
       "      <td>광진구</td>\n",
       "      <td>2015-12-21</td>\n",
       "      <td>12</td>\n",
       "      <td>8500</td>\n",
       "      <td>1</td>\n",
       "      <td>백화점</td>\n",
       "      <td>식당가 한식</td>\n",
       "      <td>가공식품</td>\n",
       "      <td>식품</td>\n",
       "    </tr>\n",
       "    <tr>\n",
       "      <th>3446551</th>\n",
       "      <td>19952</td>\n",
       "      <td>남성</td>\n",
       "      <td>20대</td>\n",
       "      <td>서울특별시</td>\n",
       "      <td>광진구</td>\n",
       "      <td>2015-12-21</td>\n",
       "      <td>12</td>\n",
       "      <td>9000</td>\n",
       "      <td>1</td>\n",
       "      <td>백화점</td>\n",
       "      <td>식당가 한식</td>\n",
       "      <td>가공식품</td>\n",
       "      <td>식품</td>\n",
       "    </tr>\n",
       "    <tr>\n",
       "      <th>3446571</th>\n",
       "      <td>19953</td>\n",
       "      <td>여성</td>\n",
       "      <td>30대</td>\n",
       "      <td>서울특별시</td>\n",
       "      <td>마포구</td>\n",
       "      <td>2015-09-29</td>\n",
       "      <td>11</td>\n",
       "      <td>8000</td>\n",
       "      <td>1</td>\n",
       "      <td>백화점</td>\n",
       "      <td>한식델리</td>\n",
       "      <td>가공식품</td>\n",
       "      <td>식품</td>\n",
       "    </tr>\n",
       "  </tbody>\n",
       "</table>\n",
       "<p>226333 rows × 13 columns</p>\n",
       "</div>"
      ],
      "text/plain": [
       "            ID  성별  연령대     시도  시군구       구매일자  구매시간  구매금액  구매수량   업종    소분류명  \\\n",
       "4            1  남성  60대  서울특별시  강동구 2015-05-13    12  1000     2  백화점      어묵   \n",
       "5            1  남성  60대  서울특별시  강동구 2015-05-13    12  6900     1  백화점      어묵   \n",
       "6            1  남성  60대  서울특별시  강동구 2015-05-13    12  2400     2  백화점      어묵   \n",
       "7            1  남성  60대  서울특별시  강동구 2015-05-13    12  1000     1  백화점      어묵   \n",
       "8            1  남성  60대  서울특별시  강동구 2015-11-04    18  3200     1  백화점    디저트류   \n",
       "...        ...  ..  ...    ...  ...        ...   ...   ...   ...  ...     ...   \n",
       "3446544  19952  남성  20대  서울특별시  광진구 2015-12-11    14  8700     1  백화점  스넥(부대)   \n",
       "3446546  19952  남성  20대  서울특별시  광진구 2015-12-18    16  3000     1  백화점  전문베이커리   \n",
       "3446550  19952  남성  20대  서울특별시  광진구 2015-12-21    12  8500     1  백화점  식당가 한식   \n",
       "3446551  19952  남성  20대  서울특별시  광진구 2015-12-21    12  9000     1  백화점  식당가 한식   \n",
       "3446571  19953  여성  30대  서울특별시  마포구 2015-09-29    11  8000     1  백화점    한식델리   \n",
       "\n",
       "          중분류명 대분류명  \n",
       "4        젓갈/반찬   식품  \n",
       "5        젓갈/반찬   식품  \n",
       "6        젓갈/반찬   식품  \n",
       "7        젓갈/반찬   식품  \n",
       "8         차/커피   식품  \n",
       "...        ...  ...  \n",
       "3446544   가공식품   식품  \n",
       "3446546   가공식품   식품  \n",
       "3446550   가공식품   식품  \n",
       "3446551   가공식품   식품  \n",
       "3446571   가공식품   식품  \n",
       "\n",
       "[226333 rows x 13 columns]"
      ]
     },
     "execution_count": 6,
     "metadata": {},
     "output_type": "execute_result"
    }
   ],
   "source": [
    "df = df[df['시도'] == '서울특별시']\n",
    "df = df[df['대분류명'] == '식품']\n",
    "df"
   ]
  },
  {
   "cell_type": "code",
   "execution_count": 7,
   "metadata": {},
   "outputs": [
    {
     "data": {
      "text/plain": [
       "array(['젓갈/반찬', '차/커피', '가공식품', '육류', '농산물', '주류', '수산품', '건강식품', '축산가공',\n",
       "       '일용잡화', '과자', '음료'], dtype=object)"
      ]
     },
     "execution_count": 7,
     "metadata": {},
     "output_type": "execute_result"
    }
   ],
   "source": [
    "df['중분류명'].unique()"
   ]
  },
  {
   "cell_type": "markdown",
   "metadata": {},
   "source": [
    "# 이상치 탐색"
   ]
  },
  {
   "cell_type": "markdown",
   "metadata": {},
   "source": [
    "## 구매금액 탐색 "
   ]
  },
  {
   "cell_type": "code",
   "execution_count": 8,
   "metadata": {
    "scrolled": true
   },
   "outputs": [
    {
     "data": {
      "text/plain": [
       "<AxesSubplot:xlabel='구매금액', ylabel='Density'>"
      ]
     },
     "execution_count": 8,
     "metadata": {},
     "output_type": "execute_result"
    },
    {
     "data": {
      "image/png": "[encoded data removed]",
      "text/plain": [
       "<Figure size 936x432 with 1 Axes>"
      ]
     },
     "metadata": {
      "image/png": {
       "height": 383,
       "width": 774
      },
      "needs_background": "light"
     },
     "output_type": "display_data"
    }
   ],
   "source": [
    "plt.figure(figsize=(13, 6))\n",
    "sns.distplot(df['구매금액'])"
   ]
  },
  {
   "cell_type": "markdown",
   "metadata": {},
   "source": [
    "distplot을 그려본결과 한 쪽에만 값이 몰려있는 모습"
   ]
  },
  {
   "cell_type": "code",
   "execution_count": 9,
   "metadata": {},
   "outputs": [
    {
     "data": {
      "text/plain": [
       "count     226333.000\n",
       "mean       15143.846\n",
       "std        86880.443\n",
       "min           10.000\n",
       "25%         3800.000\n",
       "50%         7600.000\n",
       "75%        13000.000\n",
       "max     12675000.000\n",
       "Name: 구매금액, dtype: float64"
      ]
     },
     "execution_count": 9,
     "metadata": {},
     "output_type": "execute_result"
    }
   ],
   "source": [
    "df['구매금액'].describe()"
   ]
  },
  {
   "cell_type": "code",
   "execution_count": 11,
   "metadata": {},
   "outputs": [
    {
     "data": {
      "text/plain": [
       "1900875    12675000\n",
       "2549431    10240000\n",
       "2500687    10088000\n",
       "416319     10000000\n",
       "416238     10000000\n",
       "2500708     9812000\n",
       "2500665     9629000\n",
       "1900876     8635000\n",
       "2500604     8028000\n",
       "276621      5117000\n",
       "Name: 구매금액, dtype: int64"
      ]
     },
     "execution_count": 11,
     "metadata": {},
     "output_type": "execute_result"
    }
   ],
   "source": [
    "df['구매금액'].sort_values(ascending=False).head(10)"
   ]
  },
  {
   "cell_type": "code",
   "execution_count": 12,
   "metadata": {},
   "outputs": [
    {
     "data": {
      "text/html": [
       "<div>\n",
       "<style scoped>\n",
       "    .dataframe tbody tr th:only-of-type {\n",
       "        vertical-align: middle;\n",
       "    }\n",
       "\n",
       "    .dataframe tbody tr th {\n",
       "        vertical-align: top;\n",
       "    }\n",
       "\n",
       "    .dataframe thead th {\n",
       "        text-align: right;\n",
       "    }\n",
       "</style>\n",
       "<table border=\"1\" class=\"dataframe\">\n",
       "  <thead>\n",
       "    <tr style=\"text-align: right;\">\n",
       "      <th></th>\n",
       "      <th>ID</th>\n",
       "      <th>성별</th>\n",
       "      <th>연령대</th>\n",
       "      <th>시도</th>\n",
       "      <th>시군구</th>\n",
       "      <th>구매일자</th>\n",
       "      <th>구매시간</th>\n",
       "      <th>구매금액</th>\n",
       "      <th>구매수량</th>\n",
       "      <th>업종</th>\n",
       "      <th>소분류명</th>\n",
       "      <th>중분류명</th>\n",
       "      <th>대분류명</th>\n",
       "    </tr>\n",
       "  </thead>\n",
       "  <tbody>\n",
       "    <tr>\n",
       "      <th>2500687</th>\n",
       "      <td>11802</td>\n",
       "      <td>남성</td>\n",
       "      <td>30대</td>\n",
       "      <td>서울특별시</td>\n",
       "      <td>강서구</td>\n",
       "      <td>2015-09-11</td>\n",
       "      <td>16</td>\n",
       "      <td>10088000</td>\n",
       "      <td>1</td>\n",
       "      <td>백화점</td>\n",
       "      <td>선어세트</td>\n",
       "      <td>수산품</td>\n",
       "      <td>식품</td>\n",
       "    </tr>\n",
       "  </tbody>\n",
       "</table>\n",
       "</div>"
      ],
      "text/plain": [
       "            ID  성별  연령대     시도  시군구       구매일자  구매시간      구매금액  구매수량   업종  \\\n",
       "2500687  11802  남성  30대  서울특별시  강서구 2015-09-11    16  10088000     1  백화점   \n",
       "\n",
       "         소분류명 중분류명 대분류명  \n",
       "2500687  선어세트  수산품   식품  "
      ]
     },
     "execution_count": 12,
     "metadata": {},
     "output_type": "execute_result"
    }
   ],
   "source": [
    "df[df['구매금액'] == 10088000]"
   ]
  },
  {
   "cell_type": "markdown",
   "metadata": {},
   "source": [
    "선어세트 하나에 천만원이 넘는다는 것이 상식적으로 말이 되지 않음"
   ]
  },
  {
   "cell_type": "code",
   "execution_count": 13,
   "metadata": {},
   "outputs": [
    {
     "data": {
      "text/plain": [
       "3267796    40\n",
       "2496838    40\n",
       "350144     40\n",
       "3046036    40\n",
       "872219     40\n",
       "713035     40\n",
       "3046020    40\n",
       "906277     30\n",
       "3409373    30\n",
       "652445     10\n",
       "Name: 구매금액, dtype: int64"
      ]
     },
     "execution_count": 13,
     "metadata": {},
     "output_type": "execute_result"
    }
   ],
   "source": [
    "df['구매금액'].sort_values(ascending=False).tail(10)"
   ]
  },
  {
   "cell_type": "code",
   "execution_count": 16,
   "metadata": {},
   "outputs": [
    {
     "data": {
      "text/html": [
       "<div>\n",
       "<style scoped>\n",
       "    .dataframe tbody tr th:only-of-type {\n",
       "        vertical-align: middle;\n",
       "    }\n",
       "\n",
       "    .dataframe tbody tr th {\n",
       "        vertical-align: top;\n",
       "    }\n",
       "\n",
       "    .dataframe thead th {\n",
       "        text-align: right;\n",
       "    }\n",
       "</style>\n",
       "<table border=\"1\" class=\"dataframe\">\n",
       "  <thead>\n",
       "    <tr style=\"text-align: right;\">\n",
       "      <th></th>\n",
       "      <th>ID</th>\n",
       "      <th>성별</th>\n",
       "      <th>연령대</th>\n",
       "      <th>시도</th>\n",
       "      <th>시군구</th>\n",
       "      <th>구매일자</th>\n",
       "      <th>구매시간</th>\n",
       "      <th>구매금액</th>\n",
       "      <th>구매수량</th>\n",
       "      <th>업종</th>\n",
       "      <th>소분류명</th>\n",
       "      <th>중분류명</th>\n",
       "      <th>대분류명</th>\n",
       "    </tr>\n",
       "  </thead>\n",
       "  <tbody>\n",
       "    <tr>\n",
       "      <th>652445</th>\n",
       "      <td>2867</td>\n",
       "      <td>여성</td>\n",
       "      <td>50대</td>\n",
       "      <td>서울특별시</td>\n",
       "      <td>송파구</td>\n",
       "      <td>2015-01-29</td>\n",
       "      <td>15</td>\n",
       "      <td>10</td>\n",
       "      <td>1</td>\n",
       "      <td>백화점</td>\n",
       "      <td>돈육</td>\n",
       "      <td>육류</td>\n",
       "      <td>식품</td>\n",
       "    </tr>\n",
       "  </tbody>\n",
       "</table>\n",
       "</div>"
      ],
      "text/plain": [
       "          ID  성별  연령대     시도  시군구       구매일자  구매시간  구매금액  구매수량   업종 소분류명 중분류명  \\\n",
       "652445  2867  여성  50대  서울특별시  송파구 2015-01-29    15    10     1  백화점   돈육   육류   \n",
       "\n",
       "       대분류명  \n",
       "652445   식품  "
      ]
     },
     "execution_count": 16,
     "metadata": {},
     "output_type": "execute_result"
    }
   ],
   "source": [
    "df[df['구매금액'] == 10]"
   ]
  },
  {
   "cell_type": "markdown",
   "metadata": {},
   "source": [
    "육류가 금액이 10원이라는 것도 말이 안 됨"
   ]
  },
  {
   "cell_type": "markdown",
   "metadata": {},
   "source": [
    "## 구매금액 이상치 제거"
   ]
  },
  {
   "cell_type": "code",
   "execution_count": 17,
   "metadata": {},
   "outputs": [
    {
     "data": {
      "text/html": [
       "<div>\n",
       "<style scoped>\n",
       "    .dataframe tbody tr th:only-of-type {\n",
       "        vertical-align: middle;\n",
       "    }\n",
       "\n",
       "    .dataframe tbody tr th {\n",
       "        vertical-align: top;\n",
       "    }\n",
       "\n",
       "    .dataframe thead th {\n",
       "        text-align: right;\n",
       "    }\n",
       "</style>\n",
       "<table border=\"1\" class=\"dataframe\">\n",
       "  <thead>\n",
       "    <tr style=\"text-align: right;\">\n",
       "      <th></th>\n",
       "      <th>ID</th>\n",
       "      <th>성별</th>\n",
       "      <th>연령대</th>\n",
       "      <th>시도</th>\n",
       "      <th>시군구</th>\n",
       "      <th>구매일자</th>\n",
       "      <th>구매시간</th>\n",
       "      <th>구매금액</th>\n",
       "      <th>구매수량</th>\n",
       "      <th>업종</th>\n",
       "      <th>소분류명</th>\n",
       "      <th>중분류명</th>\n",
       "      <th>대분류명</th>\n",
       "    </tr>\n",
       "  </thead>\n",
       "  <tbody>\n",
       "    <tr>\n",
       "      <th>5</th>\n",
       "      <td>1</td>\n",
       "      <td>남성</td>\n",
       "      <td>60대</td>\n",
       "      <td>서울특별시</td>\n",
       "      <td>강동구</td>\n",
       "      <td>2015-05-13</td>\n",
       "      <td>12</td>\n",
       "      <td>6900</td>\n",
       "      <td>1</td>\n",
       "      <td>백화점</td>\n",
       "      <td>어묵</td>\n",
       "      <td>젓갈/반찬</td>\n",
       "      <td>식품</td>\n",
       "    </tr>\n",
       "    <tr>\n",
       "      <th>6</th>\n",
       "      <td>1</td>\n",
       "      <td>남성</td>\n",
       "      <td>60대</td>\n",
       "      <td>서울특별시</td>\n",
       "      <td>강동구</td>\n",
       "      <td>2015-05-13</td>\n",
       "      <td>12</td>\n",
       "      <td>2400</td>\n",
       "      <td>2</td>\n",
       "      <td>백화점</td>\n",
       "      <td>어묵</td>\n",
       "      <td>젓갈/반찬</td>\n",
       "      <td>식품</td>\n",
       "    </tr>\n",
       "    <tr>\n",
       "      <th>8</th>\n",
       "      <td>1</td>\n",
       "      <td>남성</td>\n",
       "      <td>60대</td>\n",
       "      <td>서울특별시</td>\n",
       "      <td>강동구</td>\n",
       "      <td>2015-11-04</td>\n",
       "      <td>18</td>\n",
       "      <td>3200</td>\n",
       "      <td>1</td>\n",
       "      <td>백화점</td>\n",
       "      <td>디저트류</td>\n",
       "      <td>차/커피</td>\n",
       "      <td>식품</td>\n",
       "    </tr>\n",
       "    <tr>\n",
       "      <th>10</th>\n",
       "      <td>1</td>\n",
       "      <td>남성</td>\n",
       "      <td>60대</td>\n",
       "      <td>서울특별시</td>\n",
       "      <td>강동구</td>\n",
       "      <td>2015-06-10</td>\n",
       "      <td>19</td>\n",
       "      <td>5000</td>\n",
       "      <td>1</td>\n",
       "      <td>백화점</td>\n",
       "      <td>제과,제빵</td>\n",
       "      <td>가공식품</td>\n",
       "      <td>식품</td>\n",
       "    </tr>\n",
       "    <tr>\n",
       "      <th>14</th>\n",
       "      <td>1</td>\n",
       "      <td>남성</td>\n",
       "      <td>60대</td>\n",
       "      <td>서울특별시</td>\n",
       "      <td>강동구</td>\n",
       "      <td>2015-01-28</td>\n",
       "      <td>13</td>\n",
       "      <td>18000</td>\n",
       "      <td>2</td>\n",
       "      <td>백화점</td>\n",
       "      <td>식당가 한식</td>\n",
       "      <td>가공식품</td>\n",
       "      <td>식품</td>\n",
       "    </tr>\n",
       "    <tr>\n",
       "      <th>...</th>\n",
       "      <td>...</td>\n",
       "      <td>...</td>\n",
       "      <td>...</td>\n",
       "      <td>...</td>\n",
       "      <td>...</td>\n",
       "      <td>...</td>\n",
       "      <td>...</td>\n",
       "      <td>...</td>\n",
       "      <td>...</td>\n",
       "      <td>...</td>\n",
       "      <td>...</td>\n",
       "      <td>...</td>\n",
       "      <td>...</td>\n",
       "    </tr>\n",
       "    <tr>\n",
       "      <th>3446544</th>\n",
       "      <td>19952</td>\n",
       "      <td>남성</td>\n",
       "      <td>20대</td>\n",
       "      <td>서울특별시</td>\n",
       "      <td>광진구</td>\n",
       "      <td>2015-12-11</td>\n",
       "      <td>14</td>\n",
       "      <td>8700</td>\n",
       "      <td>1</td>\n",
       "      <td>백화점</td>\n",
       "      <td>스넥(부대)</td>\n",
       "      <td>가공식품</td>\n",
       "      <td>식품</td>\n",
       "    </tr>\n",
       "    <tr>\n",
       "      <th>3446546</th>\n",
       "      <td>19952</td>\n",
       "      <td>남성</td>\n",
       "      <td>20대</td>\n",
       "      <td>서울특별시</td>\n",
       "      <td>광진구</td>\n",
       "      <td>2015-12-18</td>\n",
       "      <td>16</td>\n",
       "      <td>3000</td>\n",
       "      <td>1</td>\n",
       "      <td>백화점</td>\n",
       "      <td>전문베이커리</td>\n",
       "      <td>가공식품</td>\n",
       "      <td>식품</td>\n",
       "    </tr>\n",
       "    <tr>\n",
       "      <th>3446550</th>\n",
       "      <td>19952</td>\n",
       "      <td>남성</td>\n",
       "      <td>20대</td>\n",
       "      <td>서울특별시</td>\n",
       "      <td>광진구</td>\n",
       "      <td>2015-12-21</td>\n",
       "      <td>12</td>\n",
       "      <td>8500</td>\n",
       "      <td>1</td>\n",
       "      <td>백화점</td>\n",
       "      <td>식당가 한식</td>\n",
       "      <td>가공식품</td>\n",
       "      <td>식품</td>\n",
       "    </tr>\n",
       "    <tr>\n",
       "      <th>3446551</th>\n",
       "      <td>19952</td>\n",
       "      <td>남성</td>\n",
       "      <td>20대</td>\n",
       "      <td>서울특별시</td>\n",
       "      <td>광진구</td>\n",
       "      <td>2015-12-21</td>\n",
       "      <td>12</td>\n",
       "      <td>9000</td>\n",
       "      <td>1</td>\n",
       "      <td>백화점</td>\n",
       "      <td>식당가 한식</td>\n",
       "      <td>가공식품</td>\n",
       "      <td>식품</td>\n",
       "    </tr>\n",
       "    <tr>\n",
       "      <th>3446571</th>\n",
       "      <td>19953</td>\n",
       "      <td>여성</td>\n",
       "      <td>30대</td>\n",
       "      <td>서울특별시</td>\n",
       "      <td>마포구</td>\n",
       "      <td>2015-09-29</td>\n",
       "      <td>11</td>\n",
       "      <td>8000</td>\n",
       "      <td>1</td>\n",
       "      <td>백화점</td>\n",
       "      <td>한식델리</td>\n",
       "      <td>가공식품</td>\n",
       "      <td>식품</td>\n",
       "    </tr>\n",
       "  </tbody>\n",
       "</table>\n",
       "<p>211974 rows × 13 columns</p>\n",
       "</div>"
      ],
      "text/plain": [
       "            ID  성별  연령대     시도  시군구       구매일자  구매시간   구매금액  구매수량   업종  \\\n",
       "5            1  남성  60대  서울특별시  강동구 2015-05-13    12   6900     1  백화점   \n",
       "6            1  남성  60대  서울특별시  강동구 2015-05-13    12   2400     2  백화점   \n",
       "8            1  남성  60대  서울특별시  강동구 2015-11-04    18   3200     1  백화점   \n",
       "10           1  남성  60대  서울특별시  강동구 2015-06-10    19   5000     1  백화점   \n",
       "14           1  남성  60대  서울특별시  강동구 2015-01-28    13  18000     2  백화점   \n",
       "...        ...  ..  ...    ...  ...        ...   ...    ...   ...  ...   \n",
       "3446544  19952  남성  20대  서울특별시  광진구 2015-12-11    14   8700     1  백화점   \n",
       "3446546  19952  남성  20대  서울특별시  광진구 2015-12-18    16   3000     1  백화점   \n",
       "3446550  19952  남성  20대  서울특별시  광진구 2015-12-21    12   8500     1  백화점   \n",
       "3446551  19952  남성  20대  서울특별시  광진구 2015-12-21    12   9000     1  백화점   \n",
       "3446571  19953  여성  30대  서울특별시  마포구 2015-09-29    11   8000     1  백화점   \n",
       "\n",
       "           소분류명   중분류명 대분류명  \n",
       "5            어묵  젓갈/반찬   식품  \n",
       "6            어묵  젓갈/반찬   식품  \n",
       "8          디저트류   차/커피   식품  \n",
       "10        제과,제빵   가공식품   식품  \n",
       "14       식당가 한식   가공식품   식품  \n",
       "...         ...    ...  ...  \n",
       "3446544  스넥(부대)   가공식품   식품  \n",
       "3446546  전문베이커리   가공식품   식품  \n",
       "3446550  식당가 한식   가공식품   식품  \n",
       "3446551  식당가 한식   가공식품   식품  \n",
       "3446571    한식델리   가공식품   식품  \n",
       "\n",
       "[211974 rows x 13 columns]"
      ]
     },
     "execution_count": 17,
     "metadata": {},
     "output_type": "execute_result"
    }
   ],
   "source": [
    "# 0.25, 0.75로 자르는 경우 너무 많은 데이터가 잘릴 수 있으므로 최소한의 제거를 위해 0.05, 0.95 선택\n",
    "\n",
    "Q1 = df['구매금액'].quantile(0.05)\n",
    "Q3 = df['구매금액'].quantile(0.95)\n",
    "IQR = Q3 - Q1\n",
    "\n",
    "\n",
    "\n",
    "# 최대값의 경우 비싼 홍삼세트 같은 제품이 있었기에 범위를 Q3 + 1.5*IQR로 넓게 지정  \n",
    "\n",
    "df = df[(df['구매금액'] >= Q1) & (df['구매금액'] <= Q3 + 1.5*IQR)]\n",
    "df"
   ]
  },
  {
   "cell_type": "code",
   "execution_count": 18,
   "metadata": {},
   "outputs": [
    {
     "data": {
      "text/html": [
       "<div>\n",
       "<style scoped>\n",
       "    .dataframe tbody tr th:only-of-type {\n",
       "        vertical-align: middle;\n",
       "    }\n",
       "\n",
       "    .dataframe tbody tr th {\n",
       "        vertical-align: top;\n",
       "    }\n",
       "\n",
       "    .dataframe thead th {\n",
       "        text-align: right;\n",
       "    }\n",
       "</style>\n",
       "<table border=\"1\" class=\"dataframe\">\n",
       "  <thead>\n",
       "    <tr style=\"text-align: right;\">\n",
       "      <th></th>\n",
       "      <th>ID</th>\n",
       "      <th>구매시간</th>\n",
       "      <th>구매금액</th>\n",
       "      <th>구매수량</th>\n",
       "    </tr>\n",
       "  </thead>\n",
       "  <tbody>\n",
       "    <tr>\n",
       "      <th>count</th>\n",
       "      <td>211974.000</td>\n",
       "      <td>211974.000</td>\n",
       "      <td>211974.000</td>\n",
       "      <td>211974.000</td>\n",
       "    </tr>\n",
       "    <tr>\n",
       "      <th>mean</th>\n",
       "      <td>7078.043</td>\n",
       "      <td>15.717</td>\n",
       "      <td>11586.202</td>\n",
       "      <td>1.998</td>\n",
       "    </tr>\n",
       "    <tr>\n",
       "      <th>std</th>\n",
       "      <td>5370.620</td>\n",
       "      <td>2.665</td>\n",
       "      <td>12470.520</td>\n",
       "      <td>20.416</td>\n",
       "    </tr>\n",
       "    <tr>\n",
       "      <th>min</th>\n",
       "      <td>1.000</td>\n",
       "      <td>0.000</td>\n",
       "      <td>1210.000</td>\n",
       "      <td>1.000</td>\n",
       "    </tr>\n",
       "    <tr>\n",
       "      <th>25%</th>\n",
       "      <td>2520.000</td>\n",
       "      <td>14.000</td>\n",
       "      <td>4000.000</td>\n",
       "      <td>1.000</td>\n",
       "    </tr>\n",
       "    <tr>\n",
       "      <th>50%</th>\n",
       "      <td>5891.000</td>\n",
       "      <td>16.000</td>\n",
       "      <td>8000.000</td>\n",
       "      <td>1.000</td>\n",
       "    </tr>\n",
       "    <tr>\n",
       "      <th>75%</th>\n",
       "      <td>11073.000</td>\n",
       "      <td>18.000</td>\n",
       "      <td>13090.000</td>\n",
       "      <td>1.000</td>\n",
       "    </tr>\n",
       "    <tr>\n",
       "      <th>max</th>\n",
       "      <td>19953.000</td>\n",
       "      <td>23.000</td>\n",
       "      <td>98100.000</td>\n",
       "      <td>985.000</td>\n",
       "    </tr>\n",
       "  </tbody>\n",
       "</table>\n",
       "</div>"
      ],
      "text/plain": [
       "              ID       구매시간       구매금액       구매수량\n",
       "count 211974.000 211974.000 211974.000 211974.000\n",
       "mean    7078.043     15.717  11586.202      1.998\n",
       "std     5370.620      2.665  12470.520     20.416\n",
       "min        1.000      0.000   1210.000      1.000\n",
       "25%     2520.000     14.000   4000.000      1.000\n",
       "50%     5891.000     16.000   8000.000      1.000\n",
       "75%    11073.000     18.000  13090.000      1.000\n",
       "max    19953.000     23.000  98100.000    985.000"
      ]
     },
     "execution_count": 18,
     "metadata": {},
     "output_type": "execute_result"
    }
   ],
   "source": [
    "df.describe()"
   ]
  },
  {
   "cell_type": "markdown",
   "metadata": {},
   "source": [
    "## 구매수량 탐색"
   ]
  },
  {
   "cell_type": "code",
   "execution_count": 20,
   "metadata": {},
   "outputs": [
    {
     "data": {
      "text/plain": [
       "<AxesSubplot:xlabel='구매수량', ylabel='Density'>"
      ]
     },
     "execution_count": 20,
     "metadata": {},
     "output_type": "execute_result"
    },
    {
     "data": {
      "image/png": "[encoded data removed]",
      "text/plain": [
       "<Figure size 936x432 with 1 Axes>"
      ]
     },
     "metadata": {
      "image/png": {
       "height": 372,
       "width": 779
      },
      "needs_background": "light"
     },
     "output_type": "display_data"
    }
   ],
   "source": [
    "plt.figure(figsize=(13, 6))\n",
    "sns.distplot(df['구매수량'])"
   ]
  },
  {
   "cell_type": "markdown",
   "metadata": {},
   "source": [
    "구매수량 역시 앞 쪽에 값이 몰려있는 모습"
   ]
  },
  {
   "cell_type": "code",
   "execution_count": 22,
   "metadata": {},
   "outputs": [
    {
     "data": {
      "text/plain": [
       "count   211974.000\n",
       "mean         1.998\n",
       "std         20.416\n",
       "min          1.000\n",
       "25%          1.000\n",
       "50%          1.000\n",
       "75%          1.000\n",
       "max        985.000\n",
       "Name: 구매수량, dtype: float64"
      ]
     },
     "execution_count": 22,
     "metadata": {},
     "output_type": "execute_result"
    }
   ],
   "source": [
    "df['구매수량'].describe()"
   ]
  },
  {
   "cell_type": "code",
   "execution_count": 27,
   "metadata": {},
   "outputs": [
    {
     "data": {
      "text/plain": [
       "<AxesSubplot:xlabel='구매수량', ylabel='Density'>"
      ]
     },
     "execution_count": 27,
     "metadata": {},
     "output_type": "execute_result"
    },
    {
     "data": {
      "image/png": "[encoded data removed]",
      "text/plain": [
       "<Figure size 432x288 with 1 Axes>"
      ]
     },
     "metadata": {
      "image/png": {
       "height": 263,
       "width": 385
      },
      "needs_background": "light"
     },
     "output_type": "display_data"
    }
   ],
   "source": [
    "# 값을 50개로 한정했을때의 distplot\n",
    "\n",
    "sns.distplot(df[df['구매수량'] < 50]['구매수량'])"
   ]
  },
  {
   "cell_type": "code",
   "execution_count": 28,
   "metadata": {},
   "outputs": [
    {
     "data": {
      "text/plain": [
       "<AxesSubplot:xlabel='구매수량', ylabel='Density'>"
      ]
     },
     "execution_count": 28,
     "metadata": {},
     "output_type": "execute_result"
    },
    {
     "data": {
      "image/png": "[encoded data removed]",
      "text/plain": [
       "<Figure size 432x288 with 1 Axes>"
      ]
     },
     "metadata": {
      "image/png": {
       "height": 263,
       "width": 376
      },
      "needs_background": "light"
     },
     "output_type": "display_data"
    }
   ],
   "source": [
    "# 값을 10개로 한정했을때의 distplot\n",
    "\n",
    "sns.distplot(df[df['구매수량'] < 10]['구매수량'])"
   ]
  },
  {
   "cell_type": "markdown",
   "metadata": {},
   "source": [
    "값을 10개로 한정했을 때도 distplot의 분포가 앞 쪽에 많이 쏠려있으므로 구매수량의 범위는 10 미만으로 지정"
   ]
  },
  {
   "cell_type": "code",
   "execution_count": 30,
   "metadata": {},
   "outputs": [
    {
     "data": {
      "text/html": [
       "<div>\n",
       "<style scoped>\n",
       "    .dataframe tbody tr th:only-of-type {\n",
       "        vertical-align: middle;\n",
       "    }\n",
       "\n",
       "    .dataframe tbody tr th {\n",
       "        vertical-align: top;\n",
       "    }\n",
       "\n",
       "    .dataframe thead th {\n",
       "        text-align: right;\n",
       "    }\n",
       "</style>\n",
       "<table border=\"1\" class=\"dataframe\">\n",
       "  <thead>\n",
       "    <tr style=\"text-align: right;\">\n",
       "      <th></th>\n",
       "      <th>ID</th>\n",
       "      <th>성별</th>\n",
       "      <th>연령대</th>\n",
       "      <th>시도</th>\n",
       "      <th>시군구</th>\n",
       "      <th>구매일자</th>\n",
       "      <th>구매시간</th>\n",
       "      <th>구매금액</th>\n",
       "      <th>구매수량</th>\n",
       "      <th>업종</th>\n",
       "      <th>소분류명</th>\n",
       "      <th>중분류명</th>\n",
       "      <th>대분류명</th>\n",
       "    </tr>\n",
       "  </thead>\n",
       "  <tbody>\n",
       "    <tr>\n",
       "      <th>5</th>\n",
       "      <td>1</td>\n",
       "      <td>남성</td>\n",
       "      <td>60대</td>\n",
       "      <td>서울특별시</td>\n",
       "      <td>강동구</td>\n",
       "      <td>2015-05-13</td>\n",
       "      <td>12</td>\n",
       "      <td>6900</td>\n",
       "      <td>1</td>\n",
       "      <td>백화점</td>\n",
       "      <td>어묵</td>\n",
       "      <td>젓갈/반찬</td>\n",
       "      <td>식품</td>\n",
       "    </tr>\n",
       "    <tr>\n",
       "      <th>6</th>\n",
       "      <td>1</td>\n",
       "      <td>남성</td>\n",
       "      <td>60대</td>\n",
       "      <td>서울특별시</td>\n",
       "      <td>강동구</td>\n",
       "      <td>2015-05-13</td>\n",
       "      <td>12</td>\n",
       "      <td>2400</td>\n",
       "      <td>2</td>\n",
       "      <td>백화점</td>\n",
       "      <td>어묵</td>\n",
       "      <td>젓갈/반찬</td>\n",
       "      <td>식품</td>\n",
       "    </tr>\n",
       "    <tr>\n",
       "      <th>8</th>\n",
       "      <td>1</td>\n",
       "      <td>남성</td>\n",
       "      <td>60대</td>\n",
       "      <td>서울특별시</td>\n",
       "      <td>강동구</td>\n",
       "      <td>2015-11-04</td>\n",
       "      <td>18</td>\n",
       "      <td>3200</td>\n",
       "      <td>1</td>\n",
       "      <td>백화점</td>\n",
       "      <td>디저트류</td>\n",
       "      <td>차/커피</td>\n",
       "      <td>식품</td>\n",
       "    </tr>\n",
       "    <tr>\n",
       "      <th>10</th>\n",
       "      <td>1</td>\n",
       "      <td>남성</td>\n",
       "      <td>60대</td>\n",
       "      <td>서울특별시</td>\n",
       "      <td>강동구</td>\n",
       "      <td>2015-06-10</td>\n",
       "      <td>19</td>\n",
       "      <td>5000</td>\n",
       "      <td>1</td>\n",
       "      <td>백화점</td>\n",
       "      <td>제과,제빵</td>\n",
       "      <td>가공식품</td>\n",
       "      <td>식품</td>\n",
       "    </tr>\n",
       "    <tr>\n",
       "      <th>14</th>\n",
       "      <td>1</td>\n",
       "      <td>남성</td>\n",
       "      <td>60대</td>\n",
       "      <td>서울특별시</td>\n",
       "      <td>강동구</td>\n",
       "      <td>2015-01-28</td>\n",
       "      <td>13</td>\n",
       "      <td>18000</td>\n",
       "      <td>2</td>\n",
       "      <td>백화점</td>\n",
       "      <td>식당가 한식</td>\n",
       "      <td>가공식품</td>\n",
       "      <td>식품</td>\n",
       "    </tr>\n",
       "    <tr>\n",
       "      <th>...</th>\n",
       "      <td>...</td>\n",
       "      <td>...</td>\n",
       "      <td>...</td>\n",
       "      <td>...</td>\n",
       "      <td>...</td>\n",
       "      <td>...</td>\n",
       "      <td>...</td>\n",
       "      <td>...</td>\n",
       "      <td>...</td>\n",
       "      <td>...</td>\n",
       "      <td>...</td>\n",
       "      <td>...</td>\n",
       "      <td>...</td>\n",
       "    </tr>\n",
       "    <tr>\n",
       "      <th>3446544</th>\n",
       "      <td>19952</td>\n",
       "      <td>남성</td>\n",
       "      <td>20대</td>\n",
       "      <td>서울특별시</td>\n",
       "      <td>광진구</td>\n",
       "      <td>2015-12-11</td>\n",
       "      <td>14</td>\n",
       "      <td>8700</td>\n",
       "      <td>1</td>\n",
       "      <td>백화점</td>\n",
       "      <td>스넥(부대)</td>\n",
       "      <td>가공식품</td>\n",
       "      <td>식품</td>\n",
       "    </tr>\n",
       "    <tr>\n",
       "      <th>3446546</th>\n",
       "      <td>19952</td>\n",
       "      <td>남성</td>\n",
       "      <td>20대</td>\n",
       "      <td>서울특별시</td>\n",
       "      <td>광진구</td>\n",
       "      <td>2015-12-18</td>\n",
       "      <td>16</td>\n",
       "      <td>3000</td>\n",
       "      <td>1</td>\n",
       "      <td>백화점</td>\n",
       "      <td>전문베이커리</td>\n",
       "      <td>가공식품</td>\n",
       "      <td>식품</td>\n",
       "    </tr>\n",
       "    <tr>\n",
       "      <th>3446550</th>\n",
       "      <td>19952</td>\n",
       "      <td>남성</td>\n",
       "      <td>20대</td>\n",
       "      <td>서울특별시</td>\n",
       "      <td>광진구</td>\n",
       "      <td>2015-12-21</td>\n",
       "      <td>12</td>\n",
       "      <td>8500</td>\n",
       "      <td>1</td>\n",
       "      <td>백화점</td>\n",
       "      <td>식당가 한식</td>\n",
       "      <td>가공식품</td>\n",
       "      <td>식품</td>\n",
       "    </tr>\n",
       "    <tr>\n",
       "      <th>3446551</th>\n",
       "      <td>19952</td>\n",
       "      <td>남성</td>\n",
       "      <td>20대</td>\n",
       "      <td>서울특별시</td>\n",
       "      <td>광진구</td>\n",
       "      <td>2015-12-21</td>\n",
       "      <td>12</td>\n",
       "      <td>9000</td>\n",
       "      <td>1</td>\n",
       "      <td>백화점</td>\n",
       "      <td>식당가 한식</td>\n",
       "      <td>가공식품</td>\n",
       "      <td>식품</td>\n",
       "    </tr>\n",
       "    <tr>\n",
       "      <th>3446571</th>\n",
       "      <td>19953</td>\n",
       "      <td>여성</td>\n",
       "      <td>30대</td>\n",
       "      <td>서울특별시</td>\n",
       "      <td>마포구</td>\n",
       "      <td>2015-09-29</td>\n",
       "      <td>11</td>\n",
       "      <td>8000</td>\n",
       "      <td>1</td>\n",
       "      <td>백화점</td>\n",
       "      <td>한식델리</td>\n",
       "      <td>가공식품</td>\n",
       "      <td>식품</td>\n",
       "    </tr>\n",
       "  </tbody>\n",
       "</table>\n",
       "<p>211076 rows × 13 columns</p>\n",
       "</div>"
      ],
      "text/plain": [
       "            ID  성별  연령대     시도  시군구       구매일자  구매시간   구매금액  구매수량   업종  \\\n",
       "5            1  남성  60대  서울특별시  강동구 2015-05-13    12   6900     1  백화점   \n",
       "6            1  남성  60대  서울특별시  강동구 2015-05-13    12   2400     2  백화점   \n",
       "8            1  남성  60대  서울특별시  강동구 2015-11-04    18   3200     1  백화점   \n",
       "10           1  남성  60대  서울특별시  강동구 2015-06-10    19   5000     1  백화점   \n",
       "14           1  남성  60대  서울특별시  강동구 2015-01-28    13  18000     2  백화점   \n",
       "...        ...  ..  ...    ...  ...        ...   ...    ...   ...  ...   \n",
       "3446544  19952  남성  20대  서울특별시  광진구 2015-12-11    14   8700     1  백화점   \n",
       "3446546  19952  남성  20대  서울특별시  광진구 2015-12-18    16   3000     1  백화점   \n",
       "3446550  19952  남성  20대  서울특별시  광진구 2015-12-21    12   8500     1  백화점   \n",
       "3446551  19952  남성  20대  서울특별시  광진구 2015-12-21    12   9000     1  백화점   \n",
       "3446571  19953  여성  30대  서울특별시  마포구 2015-09-29    11   8000     1  백화점   \n",
       "\n",
       "           소분류명   중분류명 대분류명  \n",
       "5            어묵  젓갈/반찬   식품  \n",
       "6            어묵  젓갈/반찬   식품  \n",
       "8          디저트류   차/커피   식품  \n",
       "10        제과,제빵   가공식품   식품  \n",
       "14       식당가 한식   가공식품   식품  \n",
       "...         ...    ...  ...  \n",
       "3446544  스넥(부대)   가공식품   식품  \n",
       "3446546  전문베이커리   가공식품   식품  \n",
       "3446550  식당가 한식   가공식품   식품  \n",
       "3446551  식당가 한식   가공식품   식품  \n",
       "3446571    한식델리   가공식품   식품  \n",
       "\n",
       "[211076 rows x 13 columns]"
      ]
     },
     "execution_count": 30,
     "metadata": {},
     "output_type": "execute_result"
    }
   ],
   "source": [
    "# 최종 데이터\n",
    "\n",
    "df = df[df['구매수량'] < 10]\n",
    "df"
   ]
  },
  {
   "cell_type": "markdown",
   "metadata": {},
   "source": [
    "# 전처리 완료 df CSV 저장"
   ]
  },
  {
   "cell_type": "code",
   "execution_count": 31,
   "metadata": {},
   "outputs": [],
   "source": [
    "# df.to_csv('전처리완료최종데이터.csv', index=False)"
   ]
  },
  {
   "cell_type": "code",
   "execution_count": 32,
   "metadata": {},
   "outputs": [],
   "source": [
    "# 엑셀 저장\n",
    "# df.to_excel('전처리완료최종데이터.xlsx', index=False)"
   ]
  },
  {
   "cell_type": "code",
   "execution_count": null,
   "metadata": {},
   "outputs": [],
   "source": []
  }
 ],
 "metadata": {
  "kernelspec": {
   "display_name": "Python 3",
   "language": "python",
   "name": "python3"
  },
  "language_info": {
   "codemirror_mode": {
    "name": "ipython",
    "version": 3
   },
   "file_extension": ".py",
   "mimetype": "text/x-python",
   "name": "python",
   "nbconvert_exporter": "python",
   "pygments_lexer": "ipython3",
   "version": "3.8.5"
  },
  "toc": {
   "base_numbering": 1,
   "nav_menu": {},
   "number_sections": true,
   "sideBar": true,
   "skip_h1_title": false,
   "title_cell": "Table of Contents",
   "title_sidebar": "Contents",
   "toc_cell": false,
   "toc_position": {},
   "toc_section_display": true,
   "toc_window_display": true
  },
  "varInspector": {
   "cols": {
    "lenName": 16,
    "lenType": 16,
    "lenVar": 40
   },
   "kernels_config": {
    "python": {
     "delete_cmd_postfix": "",
     "delete_cmd_prefix": "del ",
     "library": "var_list.py",
     "varRefreshCmd": "print(var_dic_list())"
    },
    "r": {
     "delete_cmd_postfix": ") ",
     "delete_cmd_prefix": "rm(",
     "library": "var_list.r",
     "varRefreshCmd": "cat(var_dic_list()) "
    }
   },
   "types_to_exclude": [
    "module",
    "function",
    "builtin_function_or_method",
    "instance",
    "_Feature"
   ],
   "window_display": false
  }
 },
 "nbformat": 4,
 "nbformat_minor": 4
}
