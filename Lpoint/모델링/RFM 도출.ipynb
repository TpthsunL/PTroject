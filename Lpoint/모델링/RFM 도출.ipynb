{
 "cells": [
  {
   "cell_type": "markdown",
   "metadata": {},
   "source": [
    "# K-Means clustering을 위한 RFM 도출"
   ]
  },
  {
   "cell_type": "markdown",
   "metadata": {},
   "source": [
    "# 데이터 로드"
   ]
  },
  {
   "cell_type": "code",
   "execution_count": 1,
   "metadata": {},
   "outputs": [],
   "source": [
    "# 라이브러리 불러오기\n",
    "\n",
    "import pandas as pd\n",
    "import numpy as np\n",
    "import matplotlib.pyplot as plt\n",
    "import seaborn as sns\n",
    "import datetime as dt\n",
    "import warnings # 경고메세지 무시하기\n",
    "warnings.filterwarnings(action='ignore')"
   ]
  },
  {
   "cell_type": "code",
   "execution_count": 2,
   "metadata": {},
   "outputs": [
    {
     "data": {
      "text/plain": [
       "<AxesSubplot:title={'center':'한글폰트'}>"
      ]
     },
     "execution_count": 2,
     "metadata": {},
     "output_type": "execute_result"
    },
    {
     "data": {
      "image/png": "[encoded data removed]",
      "text/plain": [
       "<Figure size 432x288 with 1 Axes>"
      ]
     },
     "metadata": {
      "image/png": {
       "height": 264,
       "width": 365
      },
      "needs_background": "light"
     },
     "output_type": "display_data"
    }
   ],
   "source": [
    "# 한글폰트\n",
    "\n",
    "plt.rc(\"font\", family=\"Malgun Gothic\")\n",
    "plt.rc(\"axes\", unicode_minus=False) #마이너스 코드 \n",
    "pd.options.display.float_format = '{:.3f}'.format\n",
    "from IPython.display import set_matplotlib_formats #폰트 선명하게 설정.\n",
    "set_matplotlib_formats('retina') \n",
    "pd.Series([-1,0,1,3,5]).plot(title=\"한글폰트\") # 한글폰트와 마이너스 폰트 설정 확인"
   ]
  },
  {
   "cell_type": "code",
   "execution_count": 3,
   "metadata": {},
   "outputs": [
    {
     "data": {
      "text/plain": [
       "(211076, 13)"
      ]
     },
     "execution_count": 3,
     "metadata": {},
     "output_type": "execute_result"
    }
   ],
   "source": [
    "# 데이터 로드\n",
    "\n",
    "df = pd.read_csv('전처리완료최종데이터.csv', parse_dates=['구매일자'])\n",
    "df.shape"
   ]
  },
  {
   "cell_type": "code",
   "execution_count": 4,
   "metadata": {},
   "outputs": [
    {
     "data": {
      "text/plain": [
       "ID      0\n",
       "성별      0\n",
       "연령대     0\n",
       "시도      0\n",
       "시군구     0\n",
       "구매일자    0\n",
       "구매시간    0\n",
       "구매금액    0\n",
       "구매수량    0\n",
       "업종      0\n",
       "소분류명    0\n",
       "중분류명    0\n",
       "대분류명    0\n",
       "dtype: int64"
      ]
     },
     "execution_count": 4,
     "metadata": {},
     "output_type": "execute_result"
    }
   ],
   "source": [
    "df.isnull().sum()"
   ]
  },
  {
   "cell_type": "code",
   "execution_count": 5,
   "metadata": {},
   "outputs": [
    {
     "data": {
      "text/html": [
       "<div>\n",
       "<style scoped>\n",
       "    .dataframe tbody tr th:only-of-type {\n",
       "        vertical-align: middle;\n",
       "    }\n",
       "\n",
       "    .dataframe tbody tr th {\n",
       "        vertical-align: top;\n",
       "    }\n",
       "\n",
       "    .dataframe thead th {\n",
       "        text-align: right;\n",
       "    }\n",
       "</style>\n",
       "<table border=\"1\" class=\"dataframe\">\n",
       "  <thead>\n",
       "    <tr style=\"text-align: right;\">\n",
       "      <th></th>\n",
       "      <th>ID</th>\n",
       "      <th>성별</th>\n",
       "      <th>연령대</th>\n",
       "      <th>시도</th>\n",
       "      <th>시군구</th>\n",
       "      <th>구매일자</th>\n",
       "      <th>구매시간</th>\n",
       "      <th>구매금액</th>\n",
       "      <th>구매수량</th>\n",
       "      <th>업종</th>\n",
       "      <th>소분류명</th>\n",
       "      <th>중분류명</th>\n",
       "      <th>대분류명</th>\n",
       "    </tr>\n",
       "  </thead>\n",
       "  <tbody>\n",
       "    <tr>\n",
       "      <th>0</th>\n",
       "      <td>1</td>\n",
       "      <td>남성</td>\n",
       "      <td>60대</td>\n",
       "      <td>서울특별시</td>\n",
       "      <td>강동구</td>\n",
       "      <td>2015-05-13</td>\n",
       "      <td>12</td>\n",
       "      <td>6900</td>\n",
       "      <td>1</td>\n",
       "      <td>백화점</td>\n",
       "      <td>어묵</td>\n",
       "      <td>젓갈/반찬</td>\n",
       "      <td>식품</td>\n",
       "    </tr>\n",
       "    <tr>\n",
       "      <th>1</th>\n",
       "      <td>1</td>\n",
       "      <td>남성</td>\n",
       "      <td>60대</td>\n",
       "      <td>서울특별시</td>\n",
       "      <td>강동구</td>\n",
       "      <td>2015-05-13</td>\n",
       "      <td>12</td>\n",
       "      <td>2400</td>\n",
       "      <td>2</td>\n",
       "      <td>백화점</td>\n",
       "      <td>어묵</td>\n",
       "      <td>젓갈/반찬</td>\n",
       "      <td>식품</td>\n",
       "    </tr>\n",
       "    <tr>\n",
       "      <th>2</th>\n",
       "      <td>1</td>\n",
       "      <td>남성</td>\n",
       "      <td>60대</td>\n",
       "      <td>서울특별시</td>\n",
       "      <td>강동구</td>\n",
       "      <td>2015-11-04</td>\n",
       "      <td>18</td>\n",
       "      <td>3200</td>\n",
       "      <td>1</td>\n",
       "      <td>백화점</td>\n",
       "      <td>디저트류</td>\n",
       "      <td>차/커피</td>\n",
       "      <td>식품</td>\n",
       "    </tr>\n",
       "    <tr>\n",
       "      <th>3</th>\n",
       "      <td>1</td>\n",
       "      <td>남성</td>\n",
       "      <td>60대</td>\n",
       "      <td>서울특별시</td>\n",
       "      <td>강동구</td>\n",
       "      <td>2015-06-10</td>\n",
       "      <td>19</td>\n",
       "      <td>5000</td>\n",
       "      <td>1</td>\n",
       "      <td>백화점</td>\n",
       "      <td>제과,제빵</td>\n",
       "      <td>가공식품</td>\n",
       "      <td>식품</td>\n",
       "    </tr>\n",
       "    <tr>\n",
       "      <th>4</th>\n",
       "      <td>1</td>\n",
       "      <td>남성</td>\n",
       "      <td>60대</td>\n",
       "      <td>서울특별시</td>\n",
       "      <td>강동구</td>\n",
       "      <td>2015-01-28</td>\n",
       "      <td>13</td>\n",
       "      <td>18000</td>\n",
       "      <td>2</td>\n",
       "      <td>백화점</td>\n",
       "      <td>식당가 한식</td>\n",
       "      <td>가공식품</td>\n",
       "      <td>식품</td>\n",
       "    </tr>\n",
       "    <tr>\n",
       "      <th>...</th>\n",
       "      <td>...</td>\n",
       "      <td>...</td>\n",
       "      <td>...</td>\n",
       "      <td>...</td>\n",
       "      <td>...</td>\n",
       "      <td>...</td>\n",
       "      <td>...</td>\n",
       "      <td>...</td>\n",
       "      <td>...</td>\n",
       "      <td>...</td>\n",
       "      <td>...</td>\n",
       "      <td>...</td>\n",
       "      <td>...</td>\n",
       "    </tr>\n",
       "    <tr>\n",
       "      <th>211071</th>\n",
       "      <td>19952</td>\n",
       "      <td>남성</td>\n",
       "      <td>20대</td>\n",
       "      <td>서울특별시</td>\n",
       "      <td>광진구</td>\n",
       "      <td>2015-12-11</td>\n",
       "      <td>14</td>\n",
       "      <td>8700</td>\n",
       "      <td>1</td>\n",
       "      <td>백화점</td>\n",
       "      <td>스넥(부대)</td>\n",
       "      <td>가공식품</td>\n",
       "      <td>식품</td>\n",
       "    </tr>\n",
       "    <tr>\n",
       "      <th>211072</th>\n",
       "      <td>19952</td>\n",
       "      <td>남성</td>\n",
       "      <td>20대</td>\n",
       "      <td>서울특별시</td>\n",
       "      <td>광진구</td>\n",
       "      <td>2015-12-18</td>\n",
       "      <td>16</td>\n",
       "      <td>3000</td>\n",
       "      <td>1</td>\n",
       "      <td>백화점</td>\n",
       "      <td>전문베이커리</td>\n",
       "      <td>가공식품</td>\n",
       "      <td>식품</td>\n",
       "    </tr>\n",
       "    <tr>\n",
       "      <th>211073</th>\n",
       "      <td>19952</td>\n",
       "      <td>남성</td>\n",
       "      <td>20대</td>\n",
       "      <td>서울특별시</td>\n",
       "      <td>광진구</td>\n",
       "      <td>2015-12-21</td>\n",
       "      <td>12</td>\n",
       "      <td>8500</td>\n",
       "      <td>1</td>\n",
       "      <td>백화점</td>\n",
       "      <td>식당가 한식</td>\n",
       "      <td>가공식품</td>\n",
       "      <td>식품</td>\n",
       "    </tr>\n",
       "    <tr>\n",
       "      <th>211074</th>\n",
       "      <td>19952</td>\n",
       "      <td>남성</td>\n",
       "      <td>20대</td>\n",
       "      <td>서울특별시</td>\n",
       "      <td>광진구</td>\n",
       "      <td>2015-12-21</td>\n",
       "      <td>12</td>\n",
       "      <td>9000</td>\n",
       "      <td>1</td>\n",
       "      <td>백화점</td>\n",
       "      <td>식당가 한식</td>\n",
       "      <td>가공식품</td>\n",
       "      <td>식품</td>\n",
       "    </tr>\n",
       "    <tr>\n",
       "      <th>211075</th>\n",
       "      <td>19953</td>\n",
       "      <td>여성</td>\n",
       "      <td>30대</td>\n",
       "      <td>서울특별시</td>\n",
       "      <td>마포구</td>\n",
       "      <td>2015-09-29</td>\n",
       "      <td>11</td>\n",
       "      <td>8000</td>\n",
       "      <td>1</td>\n",
       "      <td>백화점</td>\n",
       "      <td>한식델리</td>\n",
       "      <td>가공식품</td>\n",
       "      <td>식품</td>\n",
       "    </tr>\n",
       "  </tbody>\n",
       "</table>\n",
       "<p>211076 rows × 13 columns</p>\n",
       "</div>"
      ],
      "text/plain": [
       "           ID  성별  연령대     시도  시군구       구매일자  구매시간   구매금액  구매수량   업종    소분류명  \\\n",
       "0           1  남성  60대  서울특별시  강동구 2015-05-13    12   6900     1  백화점      어묵   \n",
       "1           1  남성  60대  서울특별시  강동구 2015-05-13    12   2400     2  백화점      어묵   \n",
       "2           1  남성  60대  서울특별시  강동구 2015-11-04    18   3200     1  백화점    디저트류   \n",
       "3           1  남성  60대  서울특별시  강동구 2015-06-10    19   5000     1  백화점   제과,제빵   \n",
       "4           1  남성  60대  서울특별시  강동구 2015-01-28    13  18000     2  백화점  식당가 한식   \n",
       "...       ...  ..  ...    ...  ...        ...   ...    ...   ...  ...     ...   \n",
       "211071  19952  남성  20대  서울특별시  광진구 2015-12-11    14   8700     1  백화점  스넥(부대)   \n",
       "211072  19952  남성  20대  서울특별시  광진구 2015-12-18    16   3000     1  백화점  전문베이커리   \n",
       "211073  19952  남성  20대  서울특별시  광진구 2015-12-21    12   8500     1  백화점  식당가 한식   \n",
       "211074  19952  남성  20대  서울특별시  광진구 2015-12-21    12   9000     1  백화점  식당가 한식   \n",
       "211075  19953  여성  30대  서울특별시  마포구 2015-09-29    11   8000     1  백화점    한식델리   \n",
       "\n",
       "         중분류명 대분류명  \n",
       "0       젓갈/반찬   식품  \n",
       "1       젓갈/반찬   식품  \n",
       "2        차/커피   식품  \n",
       "3        가공식품   식품  \n",
       "4        가공식품   식품  \n",
       "...       ...  ...  \n",
       "211071   가공식품   식품  \n",
       "211072   가공식품   식품  \n",
       "211073   가공식품   식품  \n",
       "211074   가공식품   식품  \n",
       "211075   가공식품   식품  \n",
       "\n",
       "[211076 rows x 13 columns]"
      ]
     },
     "execution_count": 5,
     "metadata": {},
     "output_type": "execute_result"
    }
   ],
   "source": [
    "df"
   ]
  },
  {
   "cell_type": "markdown",
   "metadata": {},
   "source": [
    "---"
   ]
  },
  {
   "cell_type": "markdown",
   "metadata": {},
   "source": [
    "# 데이터 준비\n",
    "* rfm_df를 만들기\n",
    "* R(최근): 마지막 구매 이후 일수\n",
    "* F(빈도): 구매 빈도\n",
    "* M(금액): 거래 총액 (기여 수익)\n",
    "\n",
    "* rfm의 이상치 처리"
   ]
  },
  {
   "cell_type": "markdown",
   "metadata": {},
   "source": [
    "## R, F, M 변수 생성\n",
    "* 각각의 변수 생성 후 merge"
   ]
  },
  {
   "cell_type": "markdown",
   "metadata": {},
   "source": [
    "* 구매일자와 시간을 합치는 이유: 구매일자를 기준으로 구매빈도를 정하게 되면 중복값이 카운트 되므로 시간까지 고려해 구매횟수를 계산하였다"
   ]
  },
  {
   "cell_type": "code",
   "execution_count": 6,
   "metadata": {},
   "outputs": [
    {
     "data": {
      "text/html": [
       "<div>\n",
       "<style scoped>\n",
       "    .dataframe tbody tr th:only-of-type {\n",
       "        vertical-align: middle;\n",
       "    }\n",
       "\n",
       "    .dataframe tbody tr th {\n",
       "        vertical-align: top;\n",
       "    }\n",
       "\n",
       "    .dataframe thead th {\n",
       "        text-align: right;\n",
       "    }\n",
       "</style>\n",
       "<table border=\"1\" class=\"dataframe\">\n",
       "  <thead>\n",
       "    <tr style=\"text-align: right;\">\n",
       "      <th></th>\n",
       "      <th>ID</th>\n",
       "      <th>성별</th>\n",
       "      <th>연령대</th>\n",
       "      <th>시도</th>\n",
       "      <th>시군구</th>\n",
       "      <th>구매일자</th>\n",
       "      <th>구매시간</th>\n",
       "      <th>구매금액</th>\n",
       "      <th>구매수량</th>\n",
       "      <th>업종</th>\n",
       "      <th>소분류명</th>\n",
       "      <th>중분류명</th>\n",
       "      <th>대분류명</th>\n",
       "      <th>구매일자-시간</th>\n",
       "    </tr>\n",
       "  </thead>\n",
       "  <tbody>\n",
       "    <tr>\n",
       "      <th>0</th>\n",
       "      <td>1</td>\n",
       "      <td>남성</td>\n",
       "      <td>60대</td>\n",
       "      <td>서울특별시</td>\n",
       "      <td>강동구</td>\n",
       "      <td>2015-05-13</td>\n",
       "      <td>12</td>\n",
       "      <td>6900</td>\n",
       "      <td>1</td>\n",
       "      <td>백화점</td>\n",
       "      <td>어묵</td>\n",
       "      <td>젓갈/반찬</td>\n",
       "      <td>식품</td>\n",
       "      <td>2015-05-13-12</td>\n",
       "    </tr>\n",
       "    <tr>\n",
       "      <th>1</th>\n",
       "      <td>1</td>\n",
       "      <td>남성</td>\n",
       "      <td>60대</td>\n",
       "      <td>서울특별시</td>\n",
       "      <td>강동구</td>\n",
       "      <td>2015-05-13</td>\n",
       "      <td>12</td>\n",
       "      <td>2400</td>\n",
       "      <td>2</td>\n",
       "      <td>백화점</td>\n",
       "      <td>어묵</td>\n",
       "      <td>젓갈/반찬</td>\n",
       "      <td>식품</td>\n",
       "      <td>2015-05-13-12</td>\n",
       "    </tr>\n",
       "    <tr>\n",
       "      <th>2</th>\n",
       "      <td>1</td>\n",
       "      <td>남성</td>\n",
       "      <td>60대</td>\n",
       "      <td>서울특별시</td>\n",
       "      <td>강동구</td>\n",
       "      <td>2015-11-04</td>\n",
       "      <td>18</td>\n",
       "      <td>3200</td>\n",
       "      <td>1</td>\n",
       "      <td>백화점</td>\n",
       "      <td>디저트류</td>\n",
       "      <td>차/커피</td>\n",
       "      <td>식품</td>\n",
       "      <td>2015-11-04-18</td>\n",
       "    </tr>\n",
       "    <tr>\n",
       "      <th>3</th>\n",
       "      <td>1</td>\n",
       "      <td>남성</td>\n",
       "      <td>60대</td>\n",
       "      <td>서울특별시</td>\n",
       "      <td>강동구</td>\n",
       "      <td>2015-06-10</td>\n",
       "      <td>19</td>\n",
       "      <td>5000</td>\n",
       "      <td>1</td>\n",
       "      <td>백화점</td>\n",
       "      <td>제과,제빵</td>\n",
       "      <td>가공식품</td>\n",
       "      <td>식품</td>\n",
       "      <td>2015-06-10-19</td>\n",
       "    </tr>\n",
       "    <tr>\n",
       "      <th>4</th>\n",
       "      <td>1</td>\n",
       "      <td>남성</td>\n",
       "      <td>60대</td>\n",
       "      <td>서울특별시</td>\n",
       "      <td>강동구</td>\n",
       "      <td>2015-01-28</td>\n",
       "      <td>13</td>\n",
       "      <td>18000</td>\n",
       "      <td>2</td>\n",
       "      <td>백화점</td>\n",
       "      <td>식당가 한식</td>\n",
       "      <td>가공식품</td>\n",
       "      <td>식품</td>\n",
       "      <td>2015-01-28-13</td>\n",
       "    </tr>\n",
       "    <tr>\n",
       "      <th>...</th>\n",
       "      <td>...</td>\n",
       "      <td>...</td>\n",
       "      <td>...</td>\n",
       "      <td>...</td>\n",
       "      <td>...</td>\n",
       "      <td>...</td>\n",
       "      <td>...</td>\n",
       "      <td>...</td>\n",
       "      <td>...</td>\n",
       "      <td>...</td>\n",
       "      <td>...</td>\n",
       "      <td>...</td>\n",
       "      <td>...</td>\n",
       "      <td>...</td>\n",
       "    </tr>\n",
       "    <tr>\n",
       "      <th>211071</th>\n",
       "      <td>19952</td>\n",
       "      <td>남성</td>\n",
       "      <td>20대</td>\n",
       "      <td>서울특별시</td>\n",
       "      <td>광진구</td>\n",
       "      <td>2015-12-11</td>\n",
       "      <td>14</td>\n",
       "      <td>8700</td>\n",
       "      <td>1</td>\n",
       "      <td>백화점</td>\n",
       "      <td>스넥(부대)</td>\n",
       "      <td>가공식품</td>\n",
       "      <td>식품</td>\n",
       "      <td>2015-12-11-14</td>\n",
       "    </tr>\n",
       "    <tr>\n",
       "      <th>211072</th>\n",
       "      <td>19952</td>\n",
       "      <td>남성</td>\n",
       "      <td>20대</td>\n",
       "      <td>서울특별시</td>\n",
       "      <td>광진구</td>\n",
       "      <td>2015-12-18</td>\n",
       "      <td>16</td>\n",
       "      <td>3000</td>\n",
       "      <td>1</td>\n",
       "      <td>백화점</td>\n",
       "      <td>전문베이커리</td>\n",
       "      <td>가공식품</td>\n",
       "      <td>식품</td>\n",
       "      <td>2015-12-18-16</td>\n",
       "    </tr>\n",
       "    <tr>\n",
       "      <th>211073</th>\n",
       "      <td>19952</td>\n",
       "      <td>남성</td>\n",
       "      <td>20대</td>\n",
       "      <td>서울특별시</td>\n",
       "      <td>광진구</td>\n",
       "      <td>2015-12-21</td>\n",
       "      <td>12</td>\n",
       "      <td>8500</td>\n",
       "      <td>1</td>\n",
       "      <td>백화점</td>\n",
       "      <td>식당가 한식</td>\n",
       "      <td>가공식품</td>\n",
       "      <td>식품</td>\n",
       "      <td>2015-12-21-12</td>\n",
       "    </tr>\n",
       "    <tr>\n",
       "      <th>211074</th>\n",
       "      <td>19952</td>\n",
       "      <td>남성</td>\n",
       "      <td>20대</td>\n",
       "      <td>서울특별시</td>\n",
       "      <td>광진구</td>\n",
       "      <td>2015-12-21</td>\n",
       "      <td>12</td>\n",
       "      <td>9000</td>\n",
       "      <td>1</td>\n",
       "      <td>백화점</td>\n",
       "      <td>식당가 한식</td>\n",
       "      <td>가공식품</td>\n",
       "      <td>식품</td>\n",
       "      <td>2015-12-21-12</td>\n",
       "    </tr>\n",
       "    <tr>\n",
       "      <th>211075</th>\n",
       "      <td>19953</td>\n",
       "      <td>여성</td>\n",
       "      <td>30대</td>\n",
       "      <td>서울특별시</td>\n",
       "      <td>마포구</td>\n",
       "      <td>2015-09-29</td>\n",
       "      <td>11</td>\n",
       "      <td>8000</td>\n",
       "      <td>1</td>\n",
       "      <td>백화점</td>\n",
       "      <td>한식델리</td>\n",
       "      <td>가공식품</td>\n",
       "      <td>식품</td>\n",
       "      <td>2015-09-29-11</td>\n",
       "    </tr>\n",
       "  </tbody>\n",
       "</table>\n",
       "<p>211076 rows × 14 columns</p>\n",
       "</div>"
      ],
      "text/plain": [
       "           ID  성별  연령대     시도  시군구        구매일자 구매시간   구매금액  구매수량   업종    소분류명  \\\n",
       "0           1  남성  60대  서울특별시  강동구  2015-05-13   12   6900     1  백화점      어묵   \n",
       "1           1  남성  60대  서울특별시  강동구  2015-05-13   12   2400     2  백화점      어묵   \n",
       "2           1  남성  60대  서울특별시  강동구  2015-11-04   18   3200     1  백화점    디저트류   \n",
       "3           1  남성  60대  서울특별시  강동구  2015-06-10   19   5000     1  백화점   제과,제빵   \n",
       "4           1  남성  60대  서울특별시  강동구  2015-01-28   13  18000     2  백화점  식당가 한식   \n",
       "...       ...  ..  ...    ...  ...         ...  ...    ...   ...  ...     ...   \n",
       "211071  19952  남성  20대  서울특별시  광진구  2015-12-11   14   8700     1  백화점  스넥(부대)   \n",
       "211072  19952  남성  20대  서울특별시  광진구  2015-12-18   16   3000     1  백화점  전문베이커리   \n",
       "211073  19952  남성  20대  서울특별시  광진구  2015-12-21   12   8500     1  백화점  식당가 한식   \n",
       "211074  19952  남성  20대  서울특별시  광진구  2015-12-21   12   9000     1  백화점  식당가 한식   \n",
       "211075  19953  여성  30대  서울특별시  마포구  2015-09-29   11   8000     1  백화점    한식델리   \n",
       "\n",
       "         중분류명 대분류명        구매일자-시간  \n",
       "0       젓갈/반찬   식품  2015-05-13-12  \n",
       "1       젓갈/반찬   식품  2015-05-13-12  \n",
       "2        차/커피   식품  2015-11-04-18  \n",
       "3        가공식품   식품  2015-06-10-19  \n",
       "4        가공식품   식품  2015-01-28-13  \n",
       "...       ...  ...            ...  \n",
       "211071   가공식품   식품  2015-12-11-14  \n",
       "211072   가공식품   식품  2015-12-18-16  \n",
       "211073   가공식품   식품  2015-12-21-12  \n",
       "211074   가공식품   식품  2015-12-21-12  \n",
       "211075   가공식품   식품  2015-09-29-11  \n",
       "\n",
       "[211076 rows x 14 columns]"
      ]
     },
     "execution_count": 6,
     "metadata": {},
     "output_type": "execute_result"
    }
   ],
   "source": [
    "df_일자시간 = df.copy()\n",
    "\n",
    "# 구매일자와 구매시간을 합치기 위해 문자열로 타입 변경\n",
    "\n",
    "df_일자시간['구매일자'] = df_일자시간['구매일자'].astype('str')\n",
    "df_일자시간['구매시간'] = df_일자시간['구매시간'].astype('str')\n",
    "df_일자시간['구매일자-시간'] = df_일자시간['구매일자'] + '-' + df_일자시간['구매시간'] \n",
    "# df_일자시간.drop(columns = ['구매일자', '구매시간'])\n",
    "df_일자시간"
   ]
  },
  {
   "cell_type": "code",
   "execution_count": 7,
   "metadata": {},
   "outputs": [
    {
     "data": {
      "text/html": [
       "<div>\n",
       "<style scoped>\n",
       "    .dataframe tbody tr th:only-of-type {\n",
       "        vertical-align: middle;\n",
       "    }\n",
       "\n",
       "    .dataframe tbody tr th {\n",
       "        vertical-align: top;\n",
       "    }\n",
       "\n",
       "    .dataframe thead th {\n",
       "        text-align: right;\n",
       "    }\n",
       "</style>\n",
       "<table border=\"1\" class=\"dataframe\">\n",
       "  <thead>\n",
       "    <tr style=\"text-align: right;\">\n",
       "      <th></th>\n",
       "      <th>CustomerID</th>\n",
       "      <th>Frequency</th>\n",
       "    </tr>\n",
       "  </thead>\n",
       "  <tbody>\n",
       "    <tr>\n",
       "      <th>0</th>\n",
       "      <td>1</td>\n",
       "      <td>13</td>\n",
       "    </tr>\n",
       "    <tr>\n",
       "      <th>1</th>\n",
       "      <td>2</td>\n",
       "      <td>3</td>\n",
       "    </tr>\n",
       "    <tr>\n",
       "      <th>2</th>\n",
       "      <td>6</td>\n",
       "      <td>1</td>\n",
       "    </tr>\n",
       "    <tr>\n",
       "      <th>3</th>\n",
       "      <td>7</td>\n",
       "      <td>24</td>\n",
       "    </tr>\n",
       "    <tr>\n",
       "      <th>4</th>\n",
       "      <td>10</td>\n",
       "      <td>7</td>\n",
       "    </tr>\n",
       "  </tbody>\n",
       "</table>\n",
       "</div>"
      ],
      "text/plain": [
       "   CustomerID  Frequency\n",
       "0           1         13\n",
       "1           2          3\n",
       "2           6          1\n",
       "3           7         24\n",
       "4          10          7"
      ]
     },
     "execution_count": 7,
     "metadata": {},
     "output_type": "execute_result"
    }
   ],
   "source": [
    "# Frequency 변수 생성\n",
    "\n",
    "# 고객별 구매 횟수\n",
    "\n",
    "rfm_f = pd.DataFrame(df_일자시간.groupby(['ID'])['구매일자-시간'].nunique().reset_index())\n",
    "rfm_f.columns = ['CustomerID', 'Frequency']\n",
    "rfm_f.head()"
   ]
  },
  {
   "cell_type": "code",
   "execution_count": 8,
   "metadata": {},
   "outputs": [],
   "source": [
    "# Recency 변수 생성\n",
    "\n",
    "# 이 데이터셋의 가장 최근 날짜\n",
    "\n",
    "max_date = max(df['구매일자'])\n",
    "df['구매텀'] = max_date - df['구매일자']\n",
    "\n",
    "# 최신성을 얻기 위해 고객별 마지막 거래가 얼마나 지났는지 알아보기\n",
    "\n",
    "rfm_r = pd.DataFrame(df.groupby('ID')['구매텀'].min().reset_index())\n",
    "rfm_r['구매텀'] = rfm_r['구매텀'].dt.days # 일수만 추출\n",
    "rfm_r.columns = ['CustomerID', 'Recency']\n",
    "\n",
    "\n",
    "\n",
    "# Monetary 변수 생성\n",
    "\n",
    "df['총쇼핑금액'] = df['구매금액'] * df['구매수량'] # 수량 * 가격\n",
    "\n",
    "# 고객별 총 거래 수익\n",
    "\n",
    "rfm_m = pd.DataFrame(df.groupby('ID')['총쇼핑금액'].sum().reset_index())\n",
    "rfm_m.columns = ['CustomerID', 'Monetary']"
   ]
  },
  {
   "cell_type": "code",
   "execution_count": 9,
   "metadata": {},
   "outputs": [
    {
     "data": {
      "text/html": [
       "<div>\n",
       "<style scoped>\n",
       "    .dataframe tbody tr th:only-of-type {\n",
       "        vertical-align: middle;\n",
       "    }\n",
       "\n",
       "    .dataframe tbody tr th {\n",
       "        vertical-align: top;\n",
       "    }\n",
       "\n",
       "    .dataframe thead th {\n",
       "        text-align: right;\n",
       "    }\n",
       "</style>\n",
       "<table border=\"1\" class=\"dataframe\">\n",
       "  <thead>\n",
       "    <tr style=\"text-align: right;\">\n",
       "      <th></th>\n",
       "      <th>CustomerID</th>\n",
       "      <th>Monetary</th>\n",
       "      <th>Frequency</th>\n",
       "      <th>Recency</th>\n",
       "    </tr>\n",
       "  </thead>\n",
       "  <tbody>\n",
       "    <tr>\n",
       "      <th>0</th>\n",
       "      <td>1</td>\n",
       "      <td>418540</td>\n",
       "      <td>13</td>\n",
       "      <td>15</td>\n",
       "    </tr>\n",
       "    <tr>\n",
       "      <th>1</th>\n",
       "      <td>2</td>\n",
       "      <td>41000</td>\n",
       "      <td>3</td>\n",
       "      <td>352</td>\n",
       "    </tr>\n",
       "    <tr>\n",
       "      <th>2</th>\n",
       "      <td>6</td>\n",
       "      <td>78500</td>\n",
       "      <td>1</td>\n",
       "      <td>120</td>\n",
       "    </tr>\n",
       "    <tr>\n",
       "      <th>3</th>\n",
       "      <td>7</td>\n",
       "      <td>1108200</td>\n",
       "      <td>24</td>\n",
       "      <td>16</td>\n",
       "    </tr>\n",
       "    <tr>\n",
       "      <th>4</th>\n",
       "      <td>10</td>\n",
       "      <td>283800</td>\n",
       "      <td>7</td>\n",
       "      <td>9</td>\n",
       "    </tr>\n",
       "  </tbody>\n",
       "</table>\n",
       "</div>"
      ],
      "text/plain": [
       "   CustomerID  Monetary  Frequency  Recency\n",
       "0           1    418540         13       15\n",
       "1           2     41000          3      352\n",
       "2           6     78500          1      120\n",
       "3           7   1108200         24       16\n",
       "4          10    283800          7        9"
      ]
     },
     "execution_count": 9,
     "metadata": {},
     "output_type": "execute_result"
    }
   ],
   "source": [
    "# r, f, m을 merge\n",
    "\n",
    "rf_merge = pd.merge(rfm_m, rfm_f, on='CustomerID', how='inner')\n",
    "rfm = pd.merge(rf_merge, rfm_r, on='CustomerID', how='inner')\n",
    "rfm.head()"
   ]
  },
  {
   "cell_type": "code",
   "execution_count": 10,
   "metadata": {},
   "outputs": [
    {
     "data": {
      "text/plain": [
       "CustomerID    0\n",
       "Monetary      0\n",
       "Frequency     0\n",
       "Recency       0\n",
       "dtype: int64"
      ]
     },
     "execution_count": 10,
     "metadata": {},
     "output_type": "execute_result"
    }
   ],
   "source": [
    "rfm.isnull().sum()"
   ]
  },
  {
   "cell_type": "code",
   "execution_count": 11,
   "metadata": {},
   "outputs": [
    {
     "data": {
      "text/plain": [
       "(5516, 4)"
      ]
     },
     "execution_count": 11,
     "metadata": {},
     "output_type": "execute_result"
    }
   ],
   "source": [
    "rfm.shape"
   ]
  },
  {
   "cell_type": "markdown",
   "metadata": {},
   "source": [
    "## RFM DF의 이상치 탐색 및 제거"
   ]
  },
  {
   "cell_type": "code",
   "execution_count": 12,
   "metadata": {},
   "outputs": [
    {
     "data": {
      "text/html": [
       "<div>\n",
       "<style scoped>\n",
       "    .dataframe tbody tr th:only-of-type {\n",
       "        vertical-align: middle;\n",
       "    }\n",
       "\n",
       "    .dataframe tbody tr th {\n",
       "        vertical-align: top;\n",
       "    }\n",
       "\n",
       "    .dataframe thead th {\n",
       "        text-align: right;\n",
       "    }\n",
       "</style>\n",
       "<table border=\"1\" class=\"dataframe\">\n",
       "  <thead>\n",
       "    <tr style=\"text-align: right;\">\n",
       "      <th></th>\n",
       "      <th>CustomerID</th>\n",
       "      <th>Monetary</th>\n",
       "      <th>Frequency</th>\n",
       "      <th>Recency</th>\n",
       "    </tr>\n",
       "  </thead>\n",
       "  <tbody>\n",
       "    <tr>\n",
       "      <th>count</th>\n",
       "      <td>5516.000</td>\n",
       "      <td>5516.000</td>\n",
       "      <td>5516.000</td>\n",
       "      <td>5516.000</td>\n",
       "    </tr>\n",
       "    <tr>\n",
       "      <th>mean</th>\n",
       "      <td>8399.869</td>\n",
       "      <td>541577.043</td>\n",
       "      <td>19.566</td>\n",
       "      <td>58.516</td>\n",
       "    </tr>\n",
       "    <tr>\n",
       "      <th>std</th>\n",
       "      <td>5560.159</td>\n",
       "      <td>914745.155</td>\n",
       "      <td>24.894</td>\n",
       "      <td>80.289</td>\n",
       "    </tr>\n",
       "    <tr>\n",
       "      <th>min</th>\n",
       "      <td>1.000</td>\n",
       "      <td>1280.000</td>\n",
       "      <td>1.000</td>\n",
       "      <td>0.000</td>\n",
       "    </tr>\n",
       "    <tr>\n",
       "      <th>25%</th>\n",
       "      <td>3575.000</td>\n",
       "      <td>74755.000</td>\n",
       "      <td>4.000</td>\n",
       "      <td>6.000</td>\n",
       "    </tr>\n",
       "    <tr>\n",
       "      <th>50%</th>\n",
       "      <td>7735.500</td>\n",
       "      <td>253545.000</td>\n",
       "      <td>11.000</td>\n",
       "      <td>21.000</td>\n",
       "    </tr>\n",
       "    <tr>\n",
       "      <th>75%</th>\n",
       "      <td>12866.250</td>\n",
       "      <td>633460.000</td>\n",
       "      <td>26.000</td>\n",
       "      <td>79.000</td>\n",
       "    </tr>\n",
       "    <tr>\n",
       "      <th>max</th>\n",
       "      <td>19953.000</td>\n",
       "      <td>18187690.000</td>\n",
       "      <td>261.000</td>\n",
       "      <td>364.000</td>\n",
       "    </tr>\n",
       "  </tbody>\n",
       "</table>\n",
       "</div>"
      ],
      "text/plain": [
       "       CustomerID     Monetary  Frequency  Recency\n",
       "count    5516.000     5516.000   5516.000 5516.000\n",
       "mean     8399.869   541577.043     19.566   58.516\n",
       "std      5560.159   914745.155     24.894   80.289\n",
       "min         1.000     1280.000      1.000    0.000\n",
       "25%      3575.000    74755.000      4.000    6.000\n",
       "50%      7735.500   253545.000     11.000   21.000\n",
       "75%     12866.250   633460.000     26.000   79.000\n",
       "max     19953.000 18187690.000    261.000  364.000"
      ]
     },
     "execution_count": 12,
     "metadata": {},
     "output_type": "execute_result"
    }
   ],
   "source": [
    "rfm.describe()"
   ]
  },
  {
   "cell_type": "code",
   "execution_count": 13,
   "metadata": {},
   "outputs": [
    {
     "data": {
      "text/html": [
       "<div>\n",
       "<style scoped>\n",
       "    .dataframe tbody tr th:only-of-type {\n",
       "        vertical-align: middle;\n",
       "    }\n",
       "\n",
       "    .dataframe tbody tr th {\n",
       "        vertical-align: top;\n",
       "    }\n",
       "\n",
       "    .dataframe thead th {\n",
       "        text-align: right;\n",
       "    }\n",
       "</style>\n",
       "<table border=\"1\" class=\"dataframe\">\n",
       "  <thead>\n",
       "    <tr style=\"text-align: right;\">\n",
       "      <th></th>\n",
       "      <th>CustomerID</th>\n",
       "      <th>Monetary</th>\n",
       "      <th>Frequency</th>\n",
       "      <th>Recency</th>\n",
       "    </tr>\n",
       "  </thead>\n",
       "  <tbody>\n",
       "    <tr>\n",
       "      <th>457</th>\n",
       "      <td>1018</td>\n",
       "      <td>18187690</td>\n",
       "      <td>223</td>\n",
       "      <td>0</td>\n",
       "    </tr>\n",
       "  </tbody>\n",
       "</table>\n",
       "</div>"
      ],
      "text/plain": [
       "     CustomerID  Monetary  Frequency  Recency\n",
       "457        1018  18187690        223        0"
      ]
     },
     "execution_count": 13,
     "metadata": {},
     "output_type": "execute_result"
    }
   ],
   "source": [
    "rfm[rfm['Monetary'] == 18187690]"
   ]
  },
  {
   "cell_type": "code",
   "execution_count": 14,
   "metadata": {
    "scrolled": true
   },
   "outputs": [
    {
     "data": {
      "image/png": "[encoded data removed]",
      "text/plain": [
       "<Figure size 720x432 with 1 Axes>"
      ]
     },
     "metadata": {
      "image/png": {
       "height": 393,
       "width": 612
      },
      "needs_background": "light"
     },
     "output_type": "display_data"
    },
    {
     "data": {
      "image/png": "[encoded data removed]",
      "text/plain": [
       "<Figure size 720x432 with 1 Axes>"
      ]
     },
     "metadata": {
      "image/png": {
       "height": 393,
       "width": 610
      },
      "needs_background": "light"
     },
     "output_type": "display_data"
    },
    {
     "data": {
      "image/png": "[encoded data removed]",
      "text/plain": [
       "<Figure size 720x432 with 1 Axes>"
      ]
     },
     "metadata": {
      "image/png": {
       "height": 393,
       "width": 610
      },
      "needs_background": "light"
     },
     "output_type": "display_data"
    }
   ],
   "source": [
    "# boxplot으로 각각의 이상치 탐색\n",
    "\n",
    "cols = ['Monetary', 'Frequency', 'Recency']\n",
    "\n",
    "for col in cols : \n",
    "    plt.figure(figsize = (10, 6))\n",
    "    sns.boxplot(data=rfm[col], orient=\"v\", palette=\"Set2\" ,whis=1.5,saturation=1, width=0.7)\n",
    "    plt.title(f'{col} boxplot', fontsize=20)\n",
    "    plt.xlabel('속성')\n",
    "    plt.ylabel('범위')"
   ]
  },
  {
   "cell_type": "markdown",
   "metadata": {},
   "source": [
    "* boxplot을 그려본 결과 Monetary, Frequency의 경우 이상치 처리가 필요해보임"
   ]
  },
  {
   "cell_type": "code",
   "execution_count": 15,
   "metadata": {},
   "outputs": [],
   "source": [
    "# 이상치 제거를 위해 일반적으로 사용하는 사분위수 기준으로 Q1, Q3의 범위 지정\n",
    "\n",
    "Q1 = rfm.Monetary.quantile(0.25)\n",
    "Q3 = rfm.Monetary.quantile(0.75)\n",
    "IQR = Q3 - Q1\n",
    "\n",
    "\n",
    "# 해당하는 값의 범위만 rfm에 다시 할당\n",
    "# 최소값은 문제없으므로 최대값만 범위 다시 지정\n",
    "\n",
    "rfm = rfm[(rfm.Monetary <= Q3 + 1.5*IQR)] \n",
    "rfm = rfm[(rfm.Frequency <= Q3 + 1.5*IQR)]"
   ]
  },
  {
   "cell_type": "code",
   "execution_count": 16,
   "metadata": {},
   "outputs": [
    {
     "data": {
      "text/html": [
       "<div>\n",
       "<style scoped>\n",
       "    .dataframe tbody tr th:only-of-type {\n",
       "        vertical-align: middle;\n",
       "    }\n",
       "\n",
       "    .dataframe tbody tr th {\n",
       "        vertical-align: top;\n",
       "    }\n",
       "\n",
       "    .dataframe thead th {\n",
       "        text-align: right;\n",
       "    }\n",
       "</style>\n",
       "<table border=\"1\" class=\"dataframe\">\n",
       "  <thead>\n",
       "    <tr style=\"text-align: right;\">\n",
       "      <th></th>\n",
       "      <th>CustomerID</th>\n",
       "      <th>Monetary</th>\n",
       "      <th>Frequency</th>\n",
       "      <th>Recency</th>\n",
       "    </tr>\n",
       "  </thead>\n",
       "  <tbody>\n",
       "    <tr>\n",
       "      <th>count</th>\n",
       "      <td>5072.000</td>\n",
       "      <td>5072.000</td>\n",
       "      <td>5072.000</td>\n",
       "      <td>5072.000</td>\n",
       "    </tr>\n",
       "    <tr>\n",
       "      <th>mean</th>\n",
       "      <td>8594.786</td>\n",
       "      <td>338681.792</td>\n",
       "      <td>14.740</td>\n",
       "      <td>63.018</td>\n",
       "    </tr>\n",
       "    <tr>\n",
       "      <th>std</th>\n",
       "      <td>5548.964</td>\n",
       "      <td>344298.110</td>\n",
       "      <td>15.189</td>\n",
       "      <td>82.080</td>\n",
       "    </tr>\n",
       "    <tr>\n",
       "      <th>min</th>\n",
       "      <td>1.000</td>\n",
       "      <td>1280.000</td>\n",
       "      <td>1.000</td>\n",
       "      <td>0.000</td>\n",
       "    </tr>\n",
       "    <tr>\n",
       "      <th>25%</th>\n",
       "      <td>3823.750</td>\n",
       "      <td>67000.000</td>\n",
       "      <td>3.000</td>\n",
       "      <td>7.000</td>\n",
       "    </tr>\n",
       "    <tr>\n",
       "      <th>50%</th>\n",
       "      <td>8025.000</td>\n",
       "      <td>213350.000</td>\n",
       "      <td>10.000</td>\n",
       "      <td>26.000</td>\n",
       "    </tr>\n",
       "    <tr>\n",
       "      <th>75%</th>\n",
       "      <td>13045.000</td>\n",
       "      <td>513617.500</td>\n",
       "      <td>21.000</td>\n",
       "      <td>87.000</td>\n",
       "    </tr>\n",
       "    <tr>\n",
       "      <th>max</th>\n",
       "      <td>19953.000</td>\n",
       "      <td>1470640.000</td>\n",
       "      <td>117.000</td>\n",
       "      <td>364.000</td>\n",
       "    </tr>\n",
       "  </tbody>\n",
       "</table>\n",
       "</div>"
      ],
      "text/plain": [
       "       CustomerID    Monetary  Frequency  Recency\n",
       "count    5072.000    5072.000   5072.000 5072.000\n",
       "mean     8594.786  338681.792     14.740   63.018\n",
       "std      5548.964  344298.110     15.189   82.080\n",
       "min         1.000    1280.000      1.000    0.000\n",
       "25%      3823.750   67000.000      3.000    7.000\n",
       "50%      8025.000  213350.000     10.000   26.000\n",
       "75%     13045.000  513617.500     21.000   87.000\n",
       "max     19953.000 1470640.000    117.000  364.000"
      ]
     },
     "execution_count": 16,
     "metadata": {},
     "output_type": "execute_result"
    }
   ],
   "source": [
    "rfm.describe()"
   ]
  },
  {
   "cell_type": "code",
   "execution_count": 17,
   "metadata": {},
   "outputs": [
    {
     "data": {
      "text/plain": [
       "(5072, 4)"
      ]
     },
     "execution_count": 17,
     "metadata": {},
     "output_type": "execute_result"
    }
   ],
   "source": [
    "# 최종 RFM\n",
    "\n",
    "rfm.shape"
   ]
  },
  {
   "cell_type": "markdown",
   "metadata": {},
   "source": [
    "---"
   ]
  },
  {
   "cell_type": "markdown",
   "metadata": {},
   "source": [
    "# RFM DF CSV 파일 저장"
   ]
  },
  {
   "cell_type": "code",
   "execution_count": 19,
   "metadata": {},
   "outputs": [],
   "source": [
    "rfm.to_csv('고객rfm.csv', index=False)"
   ]
  },
  {
   "cell_type": "code",
   "execution_count": null,
   "metadata": {},
   "outputs": [],
   "source": []
  },
  {
   "cell_type": "code",
   "execution_count": null,
   "metadata": {},
   "outputs": [],
   "source": []
  }
 ],
 "metadata": {
  "kernelspec": {
   "display_name": "Python 3",
   "language": "python",
   "name": "python3"
  },
  "language_info": {
   "codemirror_mode": {
    "name": "ipython",
    "version": 3
   },
   "file_extension": ".py",
   "mimetype": "text/x-python",
   "name": "python",
   "nbconvert_exporter": "python",
   "pygments_lexer": "ipython3",
   "version": "3.8.5"
  },
  "toc": {
   "base_numbering": 1,
   "nav_menu": {},
   "number_sections": true,
   "sideBar": true,
   "skip_h1_title": false,
   "title_cell": "Table of Contents",
   "title_sidebar": "Contents",
   "toc_cell": false,
   "toc_position": {},
   "toc_section_display": true,
   "toc_window_display": false
  },
  "varInspector": {
   "cols": {
    "lenName": 16,
    "lenType": 16,
    "lenVar": 40
   },
   "kernels_config": {
    "python": {
     "delete_cmd_postfix": "",
     "delete_cmd_prefix": "del ",
     "library": "var_list.py",
     "varRefreshCmd": "print(var_dic_list())"
    },
    "r": {
     "delete_cmd_postfix": ") ",
     "delete_cmd_prefix": "rm(",
     "library": "var_list.r",
     "varRefreshCmd": "cat(var_dic_list()) "
    }
   },
   "types_to_exclude": [
    "module",
    "function",
    "builtin_function_or_method",
    "instance",
    "_Feature"
   ],
   "window_display": false
  }
 },
 "nbformat": 4,
 "nbformat_minor": 4
}
