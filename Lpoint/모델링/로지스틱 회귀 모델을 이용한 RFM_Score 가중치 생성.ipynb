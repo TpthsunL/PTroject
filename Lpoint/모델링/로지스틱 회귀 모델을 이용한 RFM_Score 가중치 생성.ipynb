{
 "cells": [
  {
   "cell_type": "markdown",
   "metadata": {},
   "source": [
    "# 1. 배경"
   ]
  },
  {
   "cell_type": "markdown",
   "metadata": {},
   "source": [
    "*흩어져있는 고객 데이터를 '군집'시키는 것이 목적*\n",
    "* 본 프로젝트에서는 마케팅에서 보편적으로 쓰이는 방식인 RFM을 기준으로 점수를 부여하여 군집을 나누는 방안을 채택하였다.\n",
    "* 그러나 업종별로 각 변수의 중요도가 다르기 때문에 회귀모델을 이용하여 가중치를 도출하였고, 도출된 가중치를 최종 RFM Score에 적용하였다."
   ]
  },
  {
   "cell_type": "markdown",
   "metadata": {},
   "source": [
    "# 2. 가중치 실험"
   ]
  },
  {
   "cell_type": "markdown",
   "metadata": {},
   "source": [
    "* 1년간의 고객 구매데이터를 앞의 8개월과 뒤의 4개월 데이터로 분할하였다.\n",
    "* 앞의 8개월 데이터에서는 R,F,M 값을 관측하고 뒤의 4개월 데이터에서는 해당 기간 동안의 구매 여부를 1(구매함)과 0(구매하지 않음)으로 코딩하여 이분형 자료를 만들었다. \n",
    "* 이렇게 두 개로 나뉜 데이터를 비교하여 예측되는 값을 토대로 가중치로 선택하였다.\n",
    "* 참고 논문 출처: 김동석, <RFM 모형의 가중치 선택에 관한 연구>"
   ]
  },
  {
   "cell_type": "markdown",
   "metadata": {},
   "source": [
    "## 2.1 데이터 불러오기"
   ]
  },
  {
   "cell_type": "code",
   "execution_count": 1,
   "metadata": {},
   "outputs": [
    {
     "data": {
      "image/png": "[encoded data removed]",
      "text/plain": [
       "<Figure size 432x288 with 1 Axes>"
      ]
     },
     "metadata": {
      "needs_background": "light"
     },
     "output_type": "display_data"
    }
   ],
   "source": [
    "# 라이브러리 불러오기\n",
    "\n",
    "import pandas as pd\n",
    "import numpy as np\n",
    "import matplotlib.pyplot as plt\n",
    "import seaborn as sns\n",
    "import datetime as dt\n",
    "from sklearn.linear_model import LogisticRegression\n",
    "from sklearn.model_selection import train_test_split\n",
    "from sklearn.metrics import confusion_matrix, classification_report\n",
    "from sklearn.metrics import accuracy_score, roc_auc_score, roc_curve, precision_score, recall_score, f1_score\n",
    "import statsmodels.api as sm\n",
    "import matplotlib.pyplot as plt\n",
    "plt.rc(\"font\", family=\"Malgun Gothic\") #한글 폰트 \n",
    "plt.rc(\"axes\", unicode_minus=False) #마이너스 코드 \n",
    "import time \n",
    "pd.Series([-1,0,1,3,5]).plot(title=\"한글폰트\") # 한글폰트와 마이너스 폰트 설정 확인\n",
    "from IPython.display import set_matplotlib_formats #폰트 선명하게 설정.\n",
    "import warnings # 경고메세지 무시하기\n",
    "warnings.filterwarnings(action='ignore')"
   ]
  },
  {
   "cell_type": "code",
   "execution_count": 2,
   "metadata": {
    "scrolled": true
   },
   "outputs": [
    {
     "name": "stdout",
     "output_type": "stream",
     "text": [
      "(3447070, 14)\n"
     ]
    },
    {
     "data": {
      "text/html": [
       "<div>\n",
       "<style scoped>\n",
       "    .dataframe tbody tr th:only-of-type {\n",
       "        vertical-align: middle;\n",
       "    }\n",
       "\n",
       "    .dataframe tbody tr th {\n",
       "        vertical-align: top;\n",
       "    }\n",
       "\n",
       "    .dataframe thead th {\n",
       "        text-align: right;\n",
       "    }\n",
       "</style>\n",
       "<table border=\"1\" class=\"dataframe\">\n",
       "  <thead>\n",
       "    <tr style=\"text-align: right;\">\n",
       "      <th></th>\n",
       "      <th>ID</th>\n",
       "      <th>성별</th>\n",
       "      <th>연령대</th>\n",
       "      <th>시도</th>\n",
       "      <th>시군구</th>\n",
       "      <th>총_쇼핑소비금액</th>\n",
       "      <th>구매일자</th>\n",
       "      <th>구매시간</th>\n",
       "      <th>구매금액</th>\n",
       "      <th>구매수량</th>\n",
       "      <th>업종</th>\n",
       "      <th>소분류명</th>\n",
       "      <th>중분류명</th>\n",
       "      <th>대분류명</th>\n",
       "    </tr>\n",
       "  </thead>\n",
       "  <tbody>\n",
       "    <tr>\n",
       "      <th>0</th>\n",
       "      <td>1</td>\n",
       "      <td>남성</td>\n",
       "      <td>60대</td>\n",
       "      <td>서울특별시</td>\n",
       "      <td>강동구</td>\n",
       "      <td>3899130</td>\n",
       "      <td>2015-12-16</td>\n",
       "      <td>17</td>\n",
       "      <td>28000</td>\n",
       "      <td>1</td>\n",
       "      <td>백화점</td>\n",
       "      <td>수입주방</td>\n",
       "      <td>주방용품</td>\n",
       "      <td>가정</td>\n",
       "    </tr>\n",
       "    <tr>\n",
       "      <th>1</th>\n",
       "      <td>1</td>\n",
       "      <td>남성</td>\n",
       "      <td>60대</td>\n",
       "      <td>서울특별시</td>\n",
       "      <td>강동구</td>\n",
       "      <td>3899130</td>\n",
       "      <td>2015-05-13</td>\n",
       "      <td>14</td>\n",
       "      <td>15000</td>\n",
       "      <td>1</td>\n",
       "      <td>백화점</td>\n",
       "      <td>수입주방</td>\n",
       "      <td>주방용품</td>\n",
       "      <td>가정</td>\n",
       "    </tr>\n",
       "    <tr>\n",
       "      <th>2</th>\n",
       "      <td>1</td>\n",
       "      <td>남성</td>\n",
       "      <td>60대</td>\n",
       "      <td>서울특별시</td>\n",
       "      <td>강동구</td>\n",
       "      <td>3899130</td>\n",
       "      <td>2015-08-01</td>\n",
       "      <td>19</td>\n",
       "      <td>166400</td>\n",
       "      <td>1</td>\n",
       "      <td>백화점</td>\n",
       "      <td>N/B골프의류</td>\n",
       "      <td>골프용품</td>\n",
       "      <td>스포츠</td>\n",
       "    </tr>\n",
       "    <tr>\n",
       "      <th>3</th>\n",
       "      <td>1</td>\n",
       "      <td>남성</td>\n",
       "      <td>60대</td>\n",
       "      <td>서울특별시</td>\n",
       "      <td>강동구</td>\n",
       "      <td>3899130</td>\n",
       "      <td>2015-12-28</td>\n",
       "      <td>12</td>\n",
       "      <td>166000</td>\n",
       "      <td>1</td>\n",
       "      <td>백화점</td>\n",
       "      <td>란제리</td>\n",
       "      <td>란제리/내의</td>\n",
       "      <td>여성의류</td>\n",
       "    </tr>\n",
       "    <tr>\n",
       "      <th>4</th>\n",
       "      <td>1</td>\n",
       "      <td>남성</td>\n",
       "      <td>60대</td>\n",
       "      <td>서울특별시</td>\n",
       "      <td>강동구</td>\n",
       "      <td>3899130</td>\n",
       "      <td>2015-05-13</td>\n",
       "      <td>12</td>\n",
       "      <td>1000</td>\n",
       "      <td>2</td>\n",
       "      <td>백화점</td>\n",
       "      <td>어묵</td>\n",
       "      <td>젓갈/반찬</td>\n",
       "      <td>식품</td>\n",
       "    </tr>\n",
       "  </tbody>\n",
       "</table>\n",
       "</div>"
      ],
      "text/plain": [
       "   ID  성별  연령대     시도  시군구  총_쇼핑소비금액        구매일자  구매시간    구매금액  구매수량   업종  \\\n",
       "0   1  남성  60대  서울특별시  강동구   3899130  2015-12-16    17   28000     1  백화점   \n",
       "1   1  남성  60대  서울특별시  강동구   3899130  2015-05-13    14   15000     1  백화점   \n",
       "2   1  남성  60대  서울특별시  강동구   3899130  2015-08-01    19  166400     1  백화점   \n",
       "3   1  남성  60대  서울특별시  강동구   3899130  2015-12-28    12  166000     1  백화점   \n",
       "4   1  남성  60대  서울특별시  강동구   3899130  2015-05-13    12    1000     2  백화점   \n",
       "\n",
       "      소분류명    중분류명  대분류명  \n",
       "0     수입주방    주방용품    가정  \n",
       "1     수입주방    주방용품    가정  \n",
       "2  N/B골프의류    골프용품   스포츠  \n",
       "3      란제리  란제리/내의  여성의류  \n",
       "4       어묵   젓갈/반찬    식품  "
      ]
     },
     "execution_count": 2,
     "metadata": {},
     "output_type": "execute_result"
    }
   ],
   "source": [
    "df_shop = pd.read_csv('data/df_shop.csv')\n",
    "# df_shop = df_shop.drop(columns='Unnamed: 0', axis=1)\n",
    "print(df_shop.shape)\n",
    "df_shop.head()"
   ]
  },
  {
   "cell_type": "code",
   "execution_count": 3,
   "metadata": {},
   "outputs": [
    {
     "data": {
      "text/html": [
       "<div>\n",
       "<style scoped>\n",
       "    .dataframe tbody tr th:only-of-type {\n",
       "        vertical-align: middle;\n",
       "    }\n",
       "\n",
       "    .dataframe tbody tr th {\n",
       "        vertical-align: top;\n",
       "    }\n",
       "\n",
       "    .dataframe thead th {\n",
       "        text-align: right;\n",
       "    }\n",
       "</style>\n",
       "<table border=\"1\" class=\"dataframe\">\n",
       "  <thead>\n",
       "    <tr style=\"text-align: right;\">\n",
       "      <th></th>\n",
       "      <th>ID</th>\n",
       "      <th>성별</th>\n",
       "      <th>연령대</th>\n",
       "      <th>시도</th>\n",
       "      <th>시군구</th>\n",
       "      <th>구매일자</th>\n",
       "      <th>구매시간</th>\n",
       "      <th>구매금액</th>\n",
       "      <th>구매수량</th>\n",
       "      <th>업종</th>\n",
       "      <th>소분류명</th>\n",
       "      <th>중분류명</th>\n",
       "      <th>대분류명</th>\n",
       "      <th>구매월</th>\n",
       "    </tr>\n",
       "  </thead>\n",
       "  <tbody>\n",
       "    <tr>\n",
       "      <th>0</th>\n",
       "      <td>1</td>\n",
       "      <td>남성</td>\n",
       "      <td>60대</td>\n",
       "      <td>서울특별시</td>\n",
       "      <td>강동구</td>\n",
       "      <td>2015-12-16</td>\n",
       "      <td>17</td>\n",
       "      <td>28000</td>\n",
       "      <td>1</td>\n",
       "      <td>백화점</td>\n",
       "      <td>수입주방</td>\n",
       "      <td>주방용품</td>\n",
       "      <td>가정</td>\n",
       "      <td>12</td>\n",
       "    </tr>\n",
       "    <tr>\n",
       "      <th>1</th>\n",
       "      <td>1</td>\n",
       "      <td>남성</td>\n",
       "      <td>60대</td>\n",
       "      <td>서울특별시</td>\n",
       "      <td>강동구</td>\n",
       "      <td>2015-05-13</td>\n",
       "      <td>14</td>\n",
       "      <td>15000</td>\n",
       "      <td>1</td>\n",
       "      <td>백화점</td>\n",
       "      <td>수입주방</td>\n",
       "      <td>주방용품</td>\n",
       "      <td>가정</td>\n",
       "      <td>5</td>\n",
       "    </tr>\n",
       "    <tr>\n",
       "      <th>2</th>\n",
       "      <td>1</td>\n",
       "      <td>남성</td>\n",
       "      <td>60대</td>\n",
       "      <td>서울특별시</td>\n",
       "      <td>강동구</td>\n",
       "      <td>2015-08-01</td>\n",
       "      <td>19</td>\n",
       "      <td>166400</td>\n",
       "      <td>1</td>\n",
       "      <td>백화점</td>\n",
       "      <td>N/B골프의류</td>\n",
       "      <td>골프용품</td>\n",
       "      <td>스포츠</td>\n",
       "      <td>8</td>\n",
       "    </tr>\n",
       "    <tr>\n",
       "      <th>3</th>\n",
       "      <td>1</td>\n",
       "      <td>남성</td>\n",
       "      <td>60대</td>\n",
       "      <td>서울특별시</td>\n",
       "      <td>강동구</td>\n",
       "      <td>2015-12-28</td>\n",
       "      <td>12</td>\n",
       "      <td>166000</td>\n",
       "      <td>1</td>\n",
       "      <td>백화점</td>\n",
       "      <td>란제리</td>\n",
       "      <td>란제리/내의</td>\n",
       "      <td>여성의류</td>\n",
       "      <td>12</td>\n",
       "    </tr>\n",
       "    <tr>\n",
       "      <th>4</th>\n",
       "      <td>1</td>\n",
       "      <td>남성</td>\n",
       "      <td>60대</td>\n",
       "      <td>서울특별시</td>\n",
       "      <td>강동구</td>\n",
       "      <td>2015-05-13</td>\n",
       "      <td>12</td>\n",
       "      <td>1000</td>\n",
       "      <td>2</td>\n",
       "      <td>백화점</td>\n",
       "      <td>어묵</td>\n",
       "      <td>젓갈/반찬</td>\n",
       "      <td>식품</td>\n",
       "      <td>5</td>\n",
       "    </tr>\n",
       "  </tbody>\n",
       "</table>\n",
       "</div>"
      ],
      "text/plain": [
       "   ID  성별  연령대     시도  시군구       구매일자  구매시간    구매금액  구매수량   업종     소분류명  \\\n",
       "0   1  남성  60대  서울특별시  강동구 2015-12-16    17   28000     1  백화점     수입주방   \n",
       "1   1  남성  60대  서울특별시  강동구 2015-05-13    14   15000     1  백화점     수입주방   \n",
       "2   1  남성  60대  서울특별시  강동구 2015-08-01    19  166400     1  백화점  N/B골프의류   \n",
       "3   1  남성  60대  서울특별시  강동구 2015-12-28    12  166000     1  백화점      란제리   \n",
       "4   1  남성  60대  서울특별시  강동구 2015-05-13    12    1000     2  백화점       어묵   \n",
       "\n",
       "     중분류명  대분류명  구매월  \n",
       "0    주방용품    가정   12  \n",
       "1    주방용품    가정    5  \n",
       "2    골프용품   스포츠    8  \n",
       "3  란제리/내의  여성의류   12  \n",
       "4   젓갈/반찬    식품    5  "
      ]
     },
     "execution_count": 3,
     "metadata": {},
     "output_type": "execute_result"
    }
   ],
   "source": [
    "df_shop = df_shop.drop(columns = ['총_쇼핑소비금액'])\n",
    "\n",
    "df_shop['구매일자'] = df_shop['구매일자'].astype('datetime64')\n",
    "df_shop['구매월'] = df_shop['구매일자'].dt.month\n",
    "df_shop.head()"
   ]
  },
  {
   "cell_type": "code",
   "execution_count": 4,
   "metadata": {},
   "outputs": [
    {
     "data": {
      "text/plain": [
       "Index(['ID', '성별', '연령대', '시도', '시군구', '구매일자', '구매시간', '구매금액', '구매수량', '업종',\n",
       "       '소분류명', '중분류명', '대분류명', '구매월'],\n",
       "      dtype='object')"
      ]
     },
     "execution_count": 4,
     "metadata": {},
     "output_type": "execute_result"
    }
   ],
   "source": [
    "df_shop.columns"
   ]
  },
  {
   "cell_type": "code",
   "execution_count": 5,
   "metadata": {},
   "outputs": [
    {
     "data": {
      "text/html": [
       "<div>\n",
       "<style scoped>\n",
       "    .dataframe tbody tr th:only-of-type {\n",
       "        vertical-align: middle;\n",
       "    }\n",
       "\n",
       "    .dataframe tbody tr th {\n",
       "        vertical-align: top;\n",
       "    }\n",
       "\n",
       "    .dataframe thead th {\n",
       "        text-align: right;\n",
       "    }\n",
       "</style>\n",
       "<table border=\"1\" class=\"dataframe\">\n",
       "  <thead>\n",
       "    <tr style=\"text-align: right;\">\n",
       "      <th></th>\n",
       "      <th>ID</th>\n",
       "      <th>성별</th>\n",
       "      <th>연령대</th>\n",
       "      <th>시도</th>\n",
       "      <th>시군구</th>\n",
       "      <th>구매시간</th>\n",
       "      <th>업종</th>\n",
       "      <th>소분류명</th>\n",
       "      <th>중분류명</th>\n",
       "      <th>대분류명</th>\n",
       "    </tr>\n",
       "  </thead>\n",
       "  <tbody>\n",
       "    <tr>\n",
       "      <th>0</th>\n",
       "      <td>1</td>\n",
       "      <td>남성</td>\n",
       "      <td>60대</td>\n",
       "      <td>서울특별시</td>\n",
       "      <td>강동구</td>\n",
       "      <td>17</td>\n",
       "      <td>백화점</td>\n",
       "      <td>수입주방</td>\n",
       "      <td>주방용품</td>\n",
       "      <td>가정</td>\n",
       "    </tr>\n",
       "    <tr>\n",
       "      <th>1</th>\n",
       "      <td>1</td>\n",
       "      <td>남성</td>\n",
       "      <td>60대</td>\n",
       "      <td>서울특별시</td>\n",
       "      <td>강동구</td>\n",
       "      <td>14</td>\n",
       "      <td>백화점</td>\n",
       "      <td>수입주방</td>\n",
       "      <td>주방용품</td>\n",
       "      <td>가정</td>\n",
       "    </tr>\n",
       "    <tr>\n",
       "      <th>2</th>\n",
       "      <td>1</td>\n",
       "      <td>남성</td>\n",
       "      <td>60대</td>\n",
       "      <td>서울특별시</td>\n",
       "      <td>강동구</td>\n",
       "      <td>19</td>\n",
       "      <td>백화점</td>\n",
       "      <td>N/B골프의류</td>\n",
       "      <td>골프용품</td>\n",
       "      <td>스포츠</td>\n",
       "    </tr>\n",
       "    <tr>\n",
       "      <th>3</th>\n",
       "      <td>1</td>\n",
       "      <td>남성</td>\n",
       "      <td>60대</td>\n",
       "      <td>서울특별시</td>\n",
       "      <td>강동구</td>\n",
       "      <td>12</td>\n",
       "      <td>백화점</td>\n",
       "      <td>란제리</td>\n",
       "      <td>란제리/내의</td>\n",
       "      <td>여성의류</td>\n",
       "    </tr>\n",
       "    <tr>\n",
       "      <th>4</th>\n",
       "      <td>1</td>\n",
       "      <td>남성</td>\n",
       "      <td>60대</td>\n",
       "      <td>서울특별시</td>\n",
       "      <td>강동구</td>\n",
       "      <td>12</td>\n",
       "      <td>백화점</td>\n",
       "      <td>어묵</td>\n",
       "      <td>젓갈/반찬</td>\n",
       "      <td>식품</td>\n",
       "    </tr>\n",
       "    <tr>\n",
       "      <th>...</th>\n",
       "      <td>...</td>\n",
       "      <td>...</td>\n",
       "      <td>...</td>\n",
       "      <td>...</td>\n",
       "      <td>...</td>\n",
       "      <td>...</td>\n",
       "      <td>...</td>\n",
       "      <td>...</td>\n",
       "      <td>...</td>\n",
       "      <td>...</td>\n",
       "    </tr>\n",
       "    <tr>\n",
       "      <th>3447065</th>\n",
       "      <td>19998</td>\n",
       "      <td>남성</td>\n",
       "      <td>40대</td>\n",
       "      <td>경상남도</td>\n",
       "      <td>김해시</td>\n",
       "      <td>17</td>\n",
       "      <td>대형마트</td>\n",
       "      <td>남성병행수입</td>\n",
       "      <td>병행수입</td>\n",
       "      <td>남성의류편집</td>\n",
       "    </tr>\n",
       "    <tr>\n",
       "      <th>3447066</th>\n",
       "      <td>19998</td>\n",
       "      <td>남성</td>\n",
       "      <td>40대</td>\n",
       "      <td>경상남도</td>\n",
       "      <td>김해시</td>\n",
       "      <td>14</td>\n",
       "      <td>대형마트</td>\n",
       "      <td>일반화장품</td>\n",
       "      <td>기초화장품</td>\n",
       "      <td>브랜드화장품</td>\n",
       "    </tr>\n",
       "    <tr>\n",
       "      <th>3447067</th>\n",
       "      <td>19998</td>\n",
       "      <td>남성</td>\n",
       "      <td>40대</td>\n",
       "      <td>경상남도</td>\n",
       "      <td>김해시</td>\n",
       "      <td>14</td>\n",
       "      <td>대형마트</td>\n",
       "      <td>일반화장품</td>\n",
       "      <td>기초화장품</td>\n",
       "      <td>브랜드화장품</td>\n",
       "    </tr>\n",
       "    <tr>\n",
       "      <th>3447068</th>\n",
       "      <td>19998</td>\n",
       "      <td>남성</td>\n",
       "      <td>40대</td>\n",
       "      <td>경상남도</td>\n",
       "      <td>김해시</td>\n",
       "      <td>14</td>\n",
       "      <td>대형마트</td>\n",
       "      <td>일반화장품</td>\n",
       "      <td>기초화장품</td>\n",
       "      <td>브랜드화장품</td>\n",
       "    </tr>\n",
       "    <tr>\n",
       "      <th>3447069</th>\n",
       "      <td>20000</td>\n",
       "      <td>여성</td>\n",
       "      <td>40대</td>\n",
       "      <td>경상남도</td>\n",
       "      <td>김해시</td>\n",
       "      <td>17</td>\n",
       "      <td>백화점</td>\n",
       "      <td>캐릭터 여화</td>\n",
       "      <td>구두</td>\n",
       "      <td>잡화</td>\n",
       "    </tr>\n",
       "  </tbody>\n",
       "</table>\n",
       "<p>3447070 rows × 10 columns</p>\n",
       "</div>"
      ],
      "text/plain": [
       "            ID  성별  연령대     시도  시군구  구매시간    업종     소분류명    중분류명    대분류명\n",
       "0            1  남성  60대  서울특별시  강동구    17   백화점     수입주방    주방용품      가정\n",
       "1            1  남성  60대  서울특별시  강동구    14   백화점     수입주방    주방용품      가정\n",
       "2            1  남성  60대  서울특별시  강동구    19   백화점  N/B골프의류    골프용품     스포츠\n",
       "3            1  남성  60대  서울특별시  강동구    12   백화점      란제리  란제리/내의    여성의류\n",
       "4            1  남성  60대  서울특별시  강동구    12   백화점       어묵   젓갈/반찬      식품\n",
       "...        ...  ..  ...    ...  ...   ...   ...      ...     ...     ...\n",
       "3447065  19998  남성  40대   경상남도  김해시    17  대형마트   남성병행수입    병행수입  남성의류편집\n",
       "3447066  19998  남성  40대   경상남도  김해시    14  대형마트    일반화장품   기초화장품  브랜드화장품\n",
       "3447067  19998  남성  40대   경상남도  김해시    14  대형마트    일반화장품   기초화장품  브랜드화장품\n",
       "3447068  19998  남성  40대   경상남도  김해시    14  대형마트    일반화장품   기초화장품  브랜드화장품\n",
       "3447069  20000  여성  40대   경상남도  김해시    17   백화점   캐릭터 여화      구두      잡화\n",
       "\n",
       "[3447070 rows x 10 columns]"
      ]
     },
     "execution_count": 5,
     "metadata": {},
     "output_type": "execute_result"
    }
   ],
   "source": [
    "df_shop[['ID', '성별', '연령대', '시도', '시군구', '구매시간', '업종',\n",
    "       '소분류명', '중분류명', '대분류명']]"
   ]
  },
  {
   "cell_type": "code",
   "execution_count": 6,
   "metadata": {},
   "outputs": [
    {
     "name": "stdout",
     "output_type": "stream",
     "text": [
      "<class 'pandas.core.frame.DataFrame'>\n",
      "RangeIndex: 3447070 entries, 0 to 3447069\n",
      "Data columns (total 14 columns):\n",
      " #   Column  Dtype         \n",
      "---  ------  -----         \n",
      " 0   ID      int64         \n",
      " 1   성별      object        \n",
      " 2   연령대     object        \n",
      " 3   시도      object        \n",
      " 4   시군구     object        \n",
      " 5   구매일자    datetime64[ns]\n",
      " 6   구매시간    int64         \n",
      " 7   구매금액    int64         \n",
      " 8   구매수량    int64         \n",
      " 9   업종      object        \n",
      " 10  소분류명    object        \n",
      " 11  중분류명    object        \n",
      " 12  대분류명    object        \n",
      " 13  구매월     int64         \n",
      "dtypes: datetime64[ns](1), int64(5), object(8)\n",
      "memory usage: 368.2+ MB\n"
     ]
    }
   ],
   "source": [
    "df_shop.info()"
   ]
  },
  {
   "cell_type": "code",
   "execution_count": 7,
   "metadata": {},
   "outputs": [],
   "source": [
    "# 12개월 기준으로 8개월과 4개월을 분리\n",
    "\n",
    "df_shop_aug = df_shop[df_shop['구매월']<=8]\n",
    "df_shop_nov = df_shop[df_shop['구매월']>8]"
   ]
  },
  {
   "cell_type": "code",
   "execution_count": 8,
   "metadata": {},
   "outputs": [
    {
     "data": {
      "text/html": [
       "<div>\n",
       "<style scoped>\n",
       "    .dataframe tbody tr th:only-of-type {\n",
       "        vertical-align: middle;\n",
       "    }\n",
       "\n",
       "    .dataframe tbody tr th {\n",
       "        vertical-align: top;\n",
       "    }\n",
       "\n",
       "    .dataframe thead th {\n",
       "        text-align: right;\n",
       "    }\n",
       "</style>\n",
       "<table border=\"1\" class=\"dataframe\">\n",
       "  <thead>\n",
       "    <tr style=\"text-align: right;\">\n",
       "      <th></th>\n",
       "      <th>ID</th>\n",
       "      <th>성별</th>\n",
       "      <th>연령대</th>\n",
       "      <th>시도</th>\n",
       "      <th>시군구</th>\n",
       "      <th>구매일자</th>\n",
       "      <th>구매시간</th>\n",
       "      <th>구매금액</th>\n",
       "      <th>구매수량</th>\n",
       "      <th>업종</th>\n",
       "      <th>소분류명</th>\n",
       "      <th>중분류명</th>\n",
       "      <th>대분류명</th>\n",
       "      <th>구매월</th>\n",
       "    </tr>\n",
       "  </thead>\n",
       "  <tbody>\n",
       "    <tr>\n",
       "      <th>1</th>\n",
       "      <td>1</td>\n",
       "      <td>남성</td>\n",
       "      <td>60대</td>\n",
       "      <td>서울특별시</td>\n",
       "      <td>강동구</td>\n",
       "      <td>2015-05-13</td>\n",
       "      <td>14</td>\n",
       "      <td>15000</td>\n",
       "      <td>1</td>\n",
       "      <td>백화점</td>\n",
       "      <td>수입주방</td>\n",
       "      <td>주방용품</td>\n",
       "      <td>가정</td>\n",
       "      <td>5</td>\n",
       "    </tr>\n",
       "    <tr>\n",
       "      <th>2</th>\n",
       "      <td>1</td>\n",
       "      <td>남성</td>\n",
       "      <td>60대</td>\n",
       "      <td>서울특별시</td>\n",
       "      <td>강동구</td>\n",
       "      <td>2015-08-01</td>\n",
       "      <td>19</td>\n",
       "      <td>166400</td>\n",
       "      <td>1</td>\n",
       "      <td>백화점</td>\n",
       "      <td>N/B골프의류</td>\n",
       "      <td>골프용품</td>\n",
       "      <td>스포츠</td>\n",
       "      <td>8</td>\n",
       "    </tr>\n",
       "    <tr>\n",
       "      <th>4</th>\n",
       "      <td>1</td>\n",
       "      <td>남성</td>\n",
       "      <td>60대</td>\n",
       "      <td>서울특별시</td>\n",
       "      <td>강동구</td>\n",
       "      <td>2015-05-13</td>\n",
       "      <td>12</td>\n",
       "      <td>1000</td>\n",
       "      <td>2</td>\n",
       "      <td>백화점</td>\n",
       "      <td>어묵</td>\n",
       "      <td>젓갈/반찬</td>\n",
       "      <td>식품</td>\n",
       "      <td>5</td>\n",
       "    </tr>\n",
       "    <tr>\n",
       "      <th>5</th>\n",
       "      <td>1</td>\n",
       "      <td>남성</td>\n",
       "      <td>60대</td>\n",
       "      <td>서울특별시</td>\n",
       "      <td>강동구</td>\n",
       "      <td>2015-05-13</td>\n",
       "      <td>12</td>\n",
       "      <td>6900</td>\n",
       "      <td>1</td>\n",
       "      <td>백화점</td>\n",
       "      <td>어묵</td>\n",
       "      <td>젓갈/반찬</td>\n",
       "      <td>식품</td>\n",
       "      <td>5</td>\n",
       "    </tr>\n",
       "    <tr>\n",
       "      <th>6</th>\n",
       "      <td>1</td>\n",
       "      <td>남성</td>\n",
       "      <td>60대</td>\n",
       "      <td>서울특별시</td>\n",
       "      <td>강동구</td>\n",
       "      <td>2015-05-13</td>\n",
       "      <td>12</td>\n",
       "      <td>2400</td>\n",
       "      <td>2</td>\n",
       "      <td>백화점</td>\n",
       "      <td>어묵</td>\n",
       "      <td>젓갈/반찬</td>\n",
       "      <td>식품</td>\n",
       "      <td>5</td>\n",
       "    </tr>\n",
       "  </tbody>\n",
       "</table>\n",
       "</div>"
      ],
      "text/plain": [
       "   ID  성별  연령대     시도  시군구       구매일자  구매시간    구매금액  구매수량   업종     소분류명  \\\n",
       "1   1  남성  60대  서울특별시  강동구 2015-05-13    14   15000     1  백화점     수입주방   \n",
       "2   1  남성  60대  서울특별시  강동구 2015-08-01    19  166400     1  백화점  N/B골프의류   \n",
       "4   1  남성  60대  서울특별시  강동구 2015-05-13    12    1000     2  백화점       어묵   \n",
       "5   1  남성  60대  서울특별시  강동구 2015-05-13    12    6900     1  백화점       어묵   \n",
       "6   1  남성  60대  서울특별시  강동구 2015-05-13    12    2400     2  백화점       어묵   \n",
       "\n",
       "    중분류명 대분류명  구매월  \n",
       "1   주방용품   가정    5  \n",
       "2   골프용품  스포츠    8  \n",
       "4  젓갈/반찬   식품    5  \n",
       "5  젓갈/반찬   식품    5  \n",
       "6  젓갈/반찬   식품    5  "
      ]
     },
     "execution_count": 8,
     "metadata": {},
     "output_type": "execute_result"
    }
   ],
   "source": [
    "df_shop_aug.head()"
   ]
  },
  {
   "cell_type": "code",
   "execution_count": 9,
   "metadata": {},
   "outputs": [
    {
     "data": {
      "text/html": [
       "<div>\n",
       "<style scoped>\n",
       "    .dataframe tbody tr th:only-of-type {\n",
       "        vertical-align: middle;\n",
       "    }\n",
       "\n",
       "    .dataframe tbody tr th {\n",
       "        vertical-align: top;\n",
       "    }\n",
       "\n",
       "    .dataframe thead th {\n",
       "        text-align: right;\n",
       "    }\n",
       "</style>\n",
       "<table border=\"1\" class=\"dataframe\">\n",
       "  <thead>\n",
       "    <tr style=\"text-align: right;\">\n",
       "      <th></th>\n",
       "      <th>ID</th>\n",
       "      <th>성별</th>\n",
       "      <th>연령대</th>\n",
       "      <th>시도</th>\n",
       "      <th>시군구</th>\n",
       "      <th>구매일자</th>\n",
       "      <th>구매시간</th>\n",
       "      <th>구매금액</th>\n",
       "      <th>구매수량</th>\n",
       "      <th>업종</th>\n",
       "      <th>소분류명</th>\n",
       "      <th>중분류명</th>\n",
       "      <th>대분류명</th>\n",
       "      <th>구매월</th>\n",
       "    </tr>\n",
       "  </thead>\n",
       "  <tbody>\n",
       "    <tr>\n",
       "      <th>0</th>\n",
       "      <td>1</td>\n",
       "      <td>남성</td>\n",
       "      <td>60대</td>\n",
       "      <td>서울특별시</td>\n",
       "      <td>강동구</td>\n",
       "      <td>2015-12-16</td>\n",
       "      <td>17</td>\n",
       "      <td>28000</td>\n",
       "      <td>1</td>\n",
       "      <td>백화점</td>\n",
       "      <td>수입주방</td>\n",
       "      <td>주방용품</td>\n",
       "      <td>가정</td>\n",
       "      <td>12</td>\n",
       "    </tr>\n",
       "    <tr>\n",
       "      <th>3</th>\n",
       "      <td>1</td>\n",
       "      <td>남성</td>\n",
       "      <td>60대</td>\n",
       "      <td>서울특별시</td>\n",
       "      <td>강동구</td>\n",
       "      <td>2015-12-28</td>\n",
       "      <td>12</td>\n",
       "      <td>166000</td>\n",
       "      <td>1</td>\n",
       "      <td>백화점</td>\n",
       "      <td>란제리</td>\n",
       "      <td>란제리/내의</td>\n",
       "      <td>여성의류</td>\n",
       "      <td>12</td>\n",
       "    </tr>\n",
       "    <tr>\n",
       "      <th>8</th>\n",
       "      <td>1</td>\n",
       "      <td>남성</td>\n",
       "      <td>60대</td>\n",
       "      <td>서울특별시</td>\n",
       "      <td>강동구</td>\n",
       "      <td>2015-11-04</td>\n",
       "      <td>18</td>\n",
       "      <td>3200</td>\n",
       "      <td>1</td>\n",
       "      <td>백화점</td>\n",
       "      <td>디저트류</td>\n",
       "      <td>차/커피</td>\n",
       "      <td>식품</td>\n",
       "      <td>11</td>\n",
       "    </tr>\n",
       "    <tr>\n",
       "      <th>12</th>\n",
       "      <td>1</td>\n",
       "      <td>남성</td>\n",
       "      <td>60대</td>\n",
       "      <td>서울특별시</td>\n",
       "      <td>강동구</td>\n",
       "      <td>2015-11-21</td>\n",
       "      <td>15</td>\n",
       "      <td>29000</td>\n",
       "      <td>1</td>\n",
       "      <td>백화점</td>\n",
       "      <td>유아복</td>\n",
       "      <td>아동</td>\n",
       "      <td>아동</td>\n",
       "      <td>11</td>\n",
       "    </tr>\n",
       "    <tr>\n",
       "      <th>13</th>\n",
       "      <td>1</td>\n",
       "      <td>남성</td>\n",
       "      <td>60대</td>\n",
       "      <td>서울특별시</td>\n",
       "      <td>강동구</td>\n",
       "      <td>2015-11-21</td>\n",
       "      <td>15</td>\n",
       "      <td>47000</td>\n",
       "      <td>1</td>\n",
       "      <td>백화점</td>\n",
       "      <td>유아복</td>\n",
       "      <td>아동</td>\n",
       "      <td>아동</td>\n",
       "      <td>11</td>\n",
       "    </tr>\n",
       "  </tbody>\n",
       "</table>\n",
       "</div>"
      ],
      "text/plain": [
       "    ID  성별  연령대     시도  시군구       구매일자  구매시간    구매금액  구매수량   업종  소분류명    중분류명  \\\n",
       "0    1  남성  60대  서울특별시  강동구 2015-12-16    17   28000     1  백화점  수입주방    주방용품   \n",
       "3    1  남성  60대  서울특별시  강동구 2015-12-28    12  166000     1  백화점   란제리  란제리/내의   \n",
       "8    1  남성  60대  서울특별시  강동구 2015-11-04    18    3200     1  백화점  디저트류    차/커피   \n",
       "12   1  남성  60대  서울특별시  강동구 2015-11-21    15   29000     1  백화점   유아복      아동   \n",
       "13   1  남성  60대  서울특별시  강동구 2015-11-21    15   47000     1  백화점   유아복      아동   \n",
       "\n",
       "    대분류명  구매월  \n",
       "0     가정   12  \n",
       "3   여성의류   12  \n",
       "8     식품   11  \n",
       "12    아동   11  \n",
       "13    아동   11  "
      ]
     },
     "execution_count": 9,
     "metadata": {},
     "output_type": "execute_result"
    }
   ],
   "source": [
    "df_shop_nov.head()"
   ]
  },
  {
   "cell_type": "markdown",
   "metadata": {},
   "source": [
    "## 2.2 가중치를 구하기 위한 로지스틱 회귀 모델 생성\n",
    "* 8개월 데이터의 RFM 분석으로 4개월 데이터에 영향을 미치는 요인의 우선순위를 찾아 가중치를 구하고자 한다.\n",
    "* 그 과정에서 데이터 특성상 목표변수를 생성할 수 있어(구매/비구매) 로지스틱 회귀 모델을 이용하였다."
   ]
  },
  {
   "cell_type": "markdown",
   "metadata": {},
   "source": [
    "### 2.2.1 8개월 데이터의 RFM"
   ]
  },
  {
   "cell_type": "code",
   "execution_count": 10,
   "metadata": {},
   "outputs": [
    {
     "data": {
      "text/html": [
       "<div>\n",
       "<style scoped>\n",
       "    .dataframe tbody tr th:only-of-type {\n",
       "        vertical-align: middle;\n",
       "    }\n",
       "\n",
       "    .dataframe tbody tr th {\n",
       "        vertical-align: top;\n",
       "    }\n",
       "\n",
       "    .dataframe thead th {\n",
       "        text-align: right;\n",
       "    }\n",
       "</style>\n",
       "<table border=\"1\" class=\"dataframe\">\n",
       "  <thead>\n",
       "    <tr style=\"text-align: right;\">\n",
       "      <th></th>\n",
       "      <th>CustomerID</th>\n",
       "      <th>Monetary</th>\n",
       "    </tr>\n",
       "  </thead>\n",
       "  <tbody>\n",
       "    <tr>\n",
       "      <th>0</th>\n",
       "      <td>1</td>\n",
       "      <td>2661130</td>\n",
       "    </tr>\n",
       "    <tr>\n",
       "      <th>1</th>\n",
       "      <td>2</td>\n",
       "      <td>2757892</td>\n",
       "    </tr>\n",
       "    <tr>\n",
       "      <th>2</th>\n",
       "      <td>3</td>\n",
       "      <td>170427845</td>\n",
       "    </tr>\n",
       "    <tr>\n",
       "      <th>3</th>\n",
       "      <td>4</td>\n",
       "      <td>75739142</td>\n",
       "    </tr>\n",
       "    <tr>\n",
       "      <th>4</th>\n",
       "      <td>6</td>\n",
       "      <td>303361931</td>\n",
       "    </tr>\n",
       "  </tbody>\n",
       "</table>\n",
       "</div>"
      ],
      "text/plain": [
       "   CustomerID   Monetary\n",
       "0           1    2661130\n",
       "1           2    2757892\n",
       "2           3  170427845\n",
       "3           4   75739142\n",
       "4           6  303361931"
      ]
     },
     "execution_count": 10,
     "metadata": {},
     "output_type": "execute_result"
    }
   ],
   "source": [
    "# Monetary 변수 생성\n",
    "\n",
    "df_shop_aug['총쇼핑금액'] = df_shop_aug['구매금액'] * df_shop_aug['구매수량'] # 수량 * 가격\n",
    "\n",
    "# 고객별 총 거래 수익\n",
    "\n",
    "rfm_aug_m = pd.DataFrame(df_shop_aug.groupby('ID')['총쇼핑금액'].sum().reset_index())\n",
    "rfm_aug_m.columns = ['CustomerID', 'Monetary']\n",
    "rfm_aug_m.head()"
   ]
  },
  {
   "cell_type": "code",
   "execution_count": 11,
   "metadata": {},
   "outputs": [
    {
     "data": {
      "text/html": [
       "<div>\n",
       "<style scoped>\n",
       "    .dataframe tbody tr th:only-of-type {\n",
       "        vertical-align: middle;\n",
       "    }\n",
       "\n",
       "    .dataframe tbody tr th {\n",
       "        vertical-align: top;\n",
       "    }\n",
       "\n",
       "    .dataframe thead th {\n",
       "        text-align: right;\n",
       "    }\n",
       "</style>\n",
       "<table border=\"1\" class=\"dataframe\">\n",
       "  <thead>\n",
       "    <tr style=\"text-align: right;\">\n",
       "      <th></th>\n",
       "      <th>CustomerID</th>\n",
       "      <th>Frequency</th>\n",
       "    </tr>\n",
       "  </thead>\n",
       "  <tbody>\n",
       "    <tr>\n",
       "      <th>0</th>\n",
       "      <td>1</td>\n",
       "      <td>38</td>\n",
       "    </tr>\n",
       "    <tr>\n",
       "      <th>1</th>\n",
       "      <td>2</td>\n",
       "      <td>171</td>\n",
       "    </tr>\n",
       "    <tr>\n",
       "      <th>2</th>\n",
       "      <td>3</td>\n",
       "      <td>51</td>\n",
       "    </tr>\n",
       "    <tr>\n",
       "      <th>3</th>\n",
       "      <td>4</td>\n",
       "      <td>216</td>\n",
       "    </tr>\n",
       "    <tr>\n",
       "      <th>4</th>\n",
       "      <td>6</td>\n",
       "      <td>660</td>\n",
       "    </tr>\n",
       "  </tbody>\n",
       "</table>\n",
       "</div>"
      ],
      "text/plain": [
       "   CustomerID  Frequency\n",
       "0           1         38\n",
       "1           2        171\n",
       "2           3         51\n",
       "3           4        216\n",
       "4           6        660"
      ]
     },
     "execution_count": 11,
     "metadata": {},
     "output_type": "execute_result"
    }
   ],
   "source": [
    "# Frequency 변수 생성\n",
    "\n",
    "# 고객별 구매 횟수\n",
    "\n",
    "rfm_aug_f = pd.DataFrame(df_shop_aug.groupby(['ID'])['구매일자'].count().reset_index())\n",
    "rfm_aug_f.columns = ['CustomerID', 'Frequency']\n",
    "rfm_aug_f.head()"
   ]
  },
  {
   "cell_type": "code",
   "execution_count": 12,
   "metadata": {},
   "outputs": [
    {
     "data": {
      "text/plain": [
       "Timestamp('2015-08-31 00:00:00')"
      ]
     },
     "execution_count": 12,
     "metadata": {},
     "output_type": "execute_result"
    }
   ],
   "source": [
    "# Recency 변수 생성\n",
    "\n",
    "# 이 데이터셋의 가장 최근 날짜\n",
    "max_date = max(df_shop_aug['구매일자'])\n",
    "max_date"
   ]
  },
  {
   "cell_type": "code",
   "execution_count": 13,
   "metadata": {},
   "outputs": [
    {
     "data": {
      "text/html": [
       "<div>\n",
       "<style scoped>\n",
       "    .dataframe tbody tr th:only-of-type {\n",
       "        vertical-align: middle;\n",
       "    }\n",
       "\n",
       "    .dataframe tbody tr th {\n",
       "        vertical-align: top;\n",
       "    }\n",
       "\n",
       "    .dataframe thead th {\n",
       "        text-align: right;\n",
       "    }\n",
       "</style>\n",
       "<table border=\"1\" class=\"dataframe\">\n",
       "  <thead>\n",
       "    <tr style=\"text-align: right;\">\n",
       "      <th></th>\n",
       "      <th>ID</th>\n",
       "      <th>성별</th>\n",
       "      <th>연령대</th>\n",
       "      <th>시도</th>\n",
       "      <th>시군구</th>\n",
       "      <th>구매일자</th>\n",
       "      <th>구매시간</th>\n",
       "      <th>구매금액</th>\n",
       "      <th>구매수량</th>\n",
       "      <th>업종</th>\n",
       "      <th>소분류명</th>\n",
       "      <th>중분류명</th>\n",
       "      <th>대분류명</th>\n",
       "      <th>구매월</th>\n",
       "      <th>총쇼핑금액</th>\n",
       "      <th>구매텀</th>\n",
       "    </tr>\n",
       "  </thead>\n",
       "  <tbody>\n",
       "    <tr>\n",
       "      <th>1</th>\n",
       "      <td>1</td>\n",
       "      <td>남성</td>\n",
       "      <td>60대</td>\n",
       "      <td>서울특별시</td>\n",
       "      <td>강동구</td>\n",
       "      <td>2015-05-13</td>\n",
       "      <td>14</td>\n",
       "      <td>15000</td>\n",
       "      <td>1</td>\n",
       "      <td>백화점</td>\n",
       "      <td>수입주방</td>\n",
       "      <td>주방용품</td>\n",
       "      <td>가정</td>\n",
       "      <td>5</td>\n",
       "      <td>15000</td>\n",
       "      <td>110 days</td>\n",
       "    </tr>\n",
       "    <tr>\n",
       "      <th>2</th>\n",
       "      <td>1</td>\n",
       "      <td>남성</td>\n",
       "      <td>60대</td>\n",
       "      <td>서울특별시</td>\n",
       "      <td>강동구</td>\n",
       "      <td>2015-08-01</td>\n",
       "      <td>19</td>\n",
       "      <td>166400</td>\n",
       "      <td>1</td>\n",
       "      <td>백화점</td>\n",
       "      <td>N/B골프의류</td>\n",
       "      <td>골프용품</td>\n",
       "      <td>스포츠</td>\n",
       "      <td>8</td>\n",
       "      <td>166400</td>\n",
       "      <td>30 days</td>\n",
       "    </tr>\n",
       "    <tr>\n",
       "      <th>4</th>\n",
       "      <td>1</td>\n",
       "      <td>남성</td>\n",
       "      <td>60대</td>\n",
       "      <td>서울특별시</td>\n",
       "      <td>강동구</td>\n",
       "      <td>2015-05-13</td>\n",
       "      <td>12</td>\n",
       "      <td>1000</td>\n",
       "      <td>2</td>\n",
       "      <td>백화점</td>\n",
       "      <td>어묵</td>\n",
       "      <td>젓갈/반찬</td>\n",
       "      <td>식품</td>\n",
       "      <td>5</td>\n",
       "      <td>2000</td>\n",
       "      <td>110 days</td>\n",
       "    </tr>\n",
       "    <tr>\n",
       "      <th>5</th>\n",
       "      <td>1</td>\n",
       "      <td>남성</td>\n",
       "      <td>60대</td>\n",
       "      <td>서울특별시</td>\n",
       "      <td>강동구</td>\n",
       "      <td>2015-05-13</td>\n",
       "      <td>12</td>\n",
       "      <td>6900</td>\n",
       "      <td>1</td>\n",
       "      <td>백화점</td>\n",
       "      <td>어묵</td>\n",
       "      <td>젓갈/반찬</td>\n",
       "      <td>식품</td>\n",
       "      <td>5</td>\n",
       "      <td>6900</td>\n",
       "      <td>110 days</td>\n",
       "    </tr>\n",
       "    <tr>\n",
       "      <th>6</th>\n",
       "      <td>1</td>\n",
       "      <td>남성</td>\n",
       "      <td>60대</td>\n",
       "      <td>서울특별시</td>\n",
       "      <td>강동구</td>\n",
       "      <td>2015-05-13</td>\n",
       "      <td>12</td>\n",
       "      <td>2400</td>\n",
       "      <td>2</td>\n",
       "      <td>백화점</td>\n",
       "      <td>어묵</td>\n",
       "      <td>젓갈/반찬</td>\n",
       "      <td>식품</td>\n",
       "      <td>5</td>\n",
       "      <td>4800</td>\n",
       "      <td>110 days</td>\n",
       "    </tr>\n",
       "  </tbody>\n",
       "</table>\n",
       "</div>"
      ],
      "text/plain": [
       "   ID  성별  연령대     시도  시군구       구매일자  구매시간    구매금액  구매수량   업종     소분류명  \\\n",
       "1   1  남성  60대  서울특별시  강동구 2015-05-13    14   15000     1  백화점     수입주방   \n",
       "2   1  남성  60대  서울특별시  강동구 2015-08-01    19  166400     1  백화점  N/B골프의류   \n",
       "4   1  남성  60대  서울특별시  강동구 2015-05-13    12    1000     2  백화점       어묵   \n",
       "5   1  남성  60대  서울특별시  강동구 2015-05-13    12    6900     1  백화점       어묵   \n",
       "6   1  남성  60대  서울특별시  강동구 2015-05-13    12    2400     2  백화점       어묵   \n",
       "\n",
       "    중분류명 대분류명  구매월   총쇼핑금액      구매텀  \n",
       "1   주방용품   가정    5   15000 110 days  \n",
       "2   골프용품  스포츠    8  166400  30 days  \n",
       "4  젓갈/반찬   식품    5    2000 110 days  \n",
       "5  젓갈/반찬   식품    5    6900 110 days  \n",
       "6  젓갈/반찬   식품    5    4800 110 days  "
      ]
     },
     "execution_count": 13,
     "metadata": {},
     "output_type": "execute_result"
    }
   ],
   "source": [
    "df_shop_aug['구매텀'] = max_date - df_shop_aug['구매일자']\n",
    "df_shop_aug.head()"
   ]
  },
  {
   "cell_type": "code",
   "execution_count": 14,
   "metadata": {},
   "outputs": [
    {
     "data": {
      "text/html": [
       "<div>\n",
       "<style scoped>\n",
       "    .dataframe tbody tr th:only-of-type {\n",
       "        vertical-align: middle;\n",
       "    }\n",
       "\n",
       "    .dataframe tbody tr th {\n",
       "        vertical-align: top;\n",
       "    }\n",
       "\n",
       "    .dataframe thead th {\n",
       "        text-align: right;\n",
       "    }\n",
       "</style>\n",
       "<table border=\"1\" class=\"dataframe\">\n",
       "  <thead>\n",
       "    <tr style=\"text-align: right;\">\n",
       "      <th></th>\n",
       "      <th>CustomerID</th>\n",
       "      <th>Recency</th>\n",
       "    </tr>\n",
       "  </thead>\n",
       "  <tbody>\n",
       "    <tr>\n",
       "      <th>0</th>\n",
       "      <td>1</td>\n",
       "      <td>26</td>\n",
       "    </tr>\n",
       "    <tr>\n",
       "      <th>1</th>\n",
       "      <td>2</td>\n",
       "      <td>15</td>\n",
       "    </tr>\n",
       "    <tr>\n",
       "      <th>2</th>\n",
       "      <td>3</td>\n",
       "      <td>15</td>\n",
       "    </tr>\n",
       "    <tr>\n",
       "      <th>3</th>\n",
       "      <td>4</td>\n",
       "      <td>3</td>\n",
       "    </tr>\n",
       "    <tr>\n",
       "      <th>4</th>\n",
       "      <td>6</td>\n",
       "      <td>0</td>\n",
       "    </tr>\n",
       "  </tbody>\n",
       "</table>\n",
       "</div>"
      ],
      "text/plain": [
       "   CustomerID  Recency\n",
       "0           1       26\n",
       "1           2       15\n",
       "2           3       15\n",
       "3           4        3\n",
       "4           6        0"
      ]
     },
     "execution_count": 14,
     "metadata": {},
     "output_type": "execute_result"
    }
   ],
   "source": [
    "# 최신성을 얻기 위해 고객별 마지막 거래가 얼마나 지났는지 알아보기\n",
    "\n",
    "rfm_aug_r = pd.DataFrame(df_shop_aug.groupby('ID')['구매텀'].min().reset_index())\n",
    "rfm_aug_r['구매텀'] = rfm_aug_r['구매텀'].dt.days # 일수만 추출\n",
    "rfm_aug_r.columns = ['CustomerID', 'Recency']\n",
    "rfm_aug_r.head()"
   ]
  },
  {
   "cell_type": "code",
   "execution_count": 15,
   "metadata": {},
   "outputs": [
    {
     "data": {
      "text/html": [
       "<div>\n",
       "<style scoped>\n",
       "    .dataframe tbody tr th:only-of-type {\n",
       "        vertical-align: middle;\n",
       "    }\n",
       "\n",
       "    .dataframe tbody tr th {\n",
       "        vertical-align: top;\n",
       "    }\n",
       "\n",
       "    .dataframe thead th {\n",
       "        text-align: right;\n",
       "    }\n",
       "</style>\n",
       "<table border=\"1\" class=\"dataframe\">\n",
       "  <thead>\n",
       "    <tr style=\"text-align: right;\">\n",
       "      <th></th>\n",
       "      <th>CustomerID</th>\n",
       "      <th>Monetary</th>\n",
       "      <th>Frequency</th>\n",
       "      <th>Recency</th>\n",
       "    </tr>\n",
       "  </thead>\n",
       "  <tbody>\n",
       "    <tr>\n",
       "      <th>0</th>\n",
       "      <td>1</td>\n",
       "      <td>2661130</td>\n",
       "      <td>38</td>\n",
       "      <td>26</td>\n",
       "    </tr>\n",
       "    <tr>\n",
       "      <th>1</th>\n",
       "      <td>2</td>\n",
       "      <td>2757892</td>\n",
       "      <td>171</td>\n",
       "      <td>15</td>\n",
       "    </tr>\n",
       "    <tr>\n",
       "      <th>2</th>\n",
       "      <td>3</td>\n",
       "      <td>170427845</td>\n",
       "      <td>51</td>\n",
       "      <td>15</td>\n",
       "    </tr>\n",
       "    <tr>\n",
       "      <th>3</th>\n",
       "      <td>4</td>\n",
       "      <td>75739142</td>\n",
       "      <td>216</td>\n",
       "      <td>3</td>\n",
       "    </tr>\n",
       "    <tr>\n",
       "      <th>4</th>\n",
       "      <td>6</td>\n",
       "      <td>303361931</td>\n",
       "      <td>660</td>\n",
       "      <td>0</td>\n",
       "    </tr>\n",
       "  </tbody>\n",
       "</table>\n",
       "</div>"
      ],
      "text/plain": [
       "   CustomerID   Monetary  Frequency  Recency\n",
       "0           1    2661130         38       26\n",
       "1           2    2757892        171       15\n",
       "2           3  170427845         51       15\n",
       "3           4   75739142        216        3\n",
       "4           6  303361931        660        0"
      ]
     },
     "execution_count": 15,
     "metadata": {},
     "output_type": "execute_result"
    }
   ],
   "source": [
    "# r, f, m을 merge\n",
    "\n",
    "rf_aug_merge = pd.merge(rfm_aug_m, rfm_aug_f, on='CustomerID', how='inner')\n",
    "rfm_aug = pd.merge(rf_aug_merge, rfm_aug_r, on='CustomerID', how='inner')\n",
    "rfm_aug.head()"
   ]
  },
  {
   "cell_type": "markdown",
   "metadata": {},
   "source": [
    "### 2.2.2 이상치 탐색 및 제거"
   ]
  },
  {
   "cell_type": "code",
   "execution_count": 16,
   "metadata": {},
   "outputs": [
    {
     "data": {
      "text/plain": [
       "Text(0, 0.5, '범위')"
      ]
     },
     "execution_count": 16,
     "metadata": {},
     "output_type": "execute_result"
    },
    {
     "data": {
      "image/png": "[encoded data removed]",
      "text/plain": [
       "<Figure size 936x432 with 1 Axes>"
      ]
     },
     "metadata": {
      "needs_background": "light"
     },
     "output_type": "display_data"
    }
   ],
   "source": [
    "속성 = ['Monetary', 'Frequency', 'Recency']\n",
    "\n",
    "plt.figure(figsize = (13, 6))\n",
    "sns.boxplot(data=rfm_aug[속성], orient=\"v\", palette=\"Set2\" ,whis=1.5,saturation=1, width=0.7)\n",
    "plt.title('각 속성별 이상치 탐색', fontsize=20)\n",
    "plt.xlabel('속성')\n",
    "plt.ylabel('범위')"
   ]
  },
  {
   "cell_type": "markdown",
   "metadata": {},
   "source": [
    "'Monetary' 변수에 이상치가 보이므로 이상치를 제거해주도록 한다"
   ]
  },
  {
   "cell_type": "code",
   "execution_count": 17,
   "metadata": {},
   "outputs": [],
   "source": [
    "# 사분위수를 기준으로 이상치 제거\n",
    "\n",
    "Q1 = rfm_aug.Monetary.quantile(0.25)\n",
    "Q3 = rfm_aug.Monetary.quantile(0.75)\n",
    "IQR = Q3 - Q1\n",
    "\n",
    "# 해당하는 값의 범위만 rfm_aug에 다시 할당\n",
    "# 즉, 이상치를 제외\n",
    "\n",
    "rfm_aug = rfm_aug[(rfm_aug.Monetary >= Q1 - 1.5*IQR) & (rfm_aug.Monetary <= Q3 + 1.5*IQR)] \n",
    "\n",
    "# 이상치 처리시 다른 속성들도 같은 갯수여야 하므로 Frequency, Recency도 똑같이 처리\n",
    "\n",
    "Q1 = rfm_aug.Frequency.quantile(0.25)\n",
    "Q3 = rfm_aug.Frequency.quantile(0.75)\n",
    "IQR = Q3 - Q1\n",
    "rfm_aug = rfm_aug[(rfm_aug.Frequency >= Q1 - 1.5*IQR) & (rfm_aug.Frequency <= Q3 + 1.5*IQR)]\n",
    "\n",
    "\n",
    "Q1 = rfm_aug.Recency.quantile(0.25)\n",
    "Q3 = rfm_aug.Recency.quantile(0.75)\n",
    "IQR = Q3 - Q1\n",
    "rfm_aug = rfm_aug[(rfm_aug.Recency >= Q1 - 1.5*IQR) & (rfm_aug.Recency <= Q3 + 1.5*IQR)]"
   ]
  },
  {
   "cell_type": "code",
   "execution_count": 18,
   "metadata": {},
   "outputs": [
    {
     "data": {
      "text/plain": [
       "<AxesSubplot:xlabel='Monetary'>"
      ]
     },
     "execution_count": 18,
     "metadata": {},
     "output_type": "execute_result"
    },
    {
     "data": {
      "image/png": "[encoded data removed]",
      "text/plain": [
       "<Figure size 432x288 with 1 Axes>"
      ]
     },
     "metadata": {
      "needs_background": "light"
     },
     "output_type": "display_data"
    }
   ],
   "source": [
    "sns.boxplot(rfm_aug['Monetary'])"
   ]
  },
  {
   "cell_type": "code",
   "execution_count": 19,
   "metadata": {},
   "outputs": [
    {
     "data": {
      "text/plain": [
       "<AxesSubplot:xlabel='Frequency'>"
      ]
     },
     "execution_count": 19,
     "metadata": {},
     "output_type": "execute_result"
    },
    {
     "data": {
      "image/png": "[encoded data removed]",
      "text/plain": [
       "<Figure size 432x288 with 1 Axes>"
      ]
     },
     "metadata": {
      "needs_background": "light"
     },
     "output_type": "display_data"
    }
   ],
   "source": [
    "sns.boxplot(rfm_aug['Frequency'])"
   ]
  },
  {
   "cell_type": "code",
   "execution_count": 20,
   "metadata": {},
   "outputs": [
    {
     "data": {
      "text/plain": [
       "<AxesSubplot:xlabel='Recency'>"
      ]
     },
     "execution_count": 20,
     "metadata": {},
     "output_type": "execute_result"
    },
    {
     "data": {
      "image/png": "[encoded data removed]",
      "text/plain": [
       "<Figure size 432x288 with 1 Axes>"
      ]
     },
     "metadata": {
      "needs_background": "light"
     },
     "output_type": "display_data"
    }
   ],
   "source": [
    "sns.boxplot(rfm_aug['Recency'])"
   ]
  },
  {
   "cell_type": "markdown",
   "metadata": {},
   "source": [
    "### 2.2.3 4개월 데이터 구매여부 컬럼 생성\n",
    "* 0: 구매 X\n",
    "* 1: 구매 O"
   ]
  },
  {
   "cell_type": "code",
   "execution_count": 21,
   "metadata": {},
   "outputs": [],
   "source": [
    "df_shop_nov['y'] = df_shop_nov['구매금액'] * df_shop_nov['구매수량'] # 수량 * 가격\n"
   ]
  },
  {
   "cell_type": "code",
   "execution_count": 22,
   "metadata": {},
   "outputs": [],
   "source": [
    "# 변수생성\n",
    "# 총쇼핑금액으로 8개월 데이터 구매자가 4개월 데이터에서 구매했는지 알아보고자 각각의 총 쇼핑금액으로 merge 실행\n",
    "# y값이 비어있는경우, 4개월 데이터에서는 구매하지 않은 것.\n",
    "\n",
    "aug_money = pd.DataFrame(df_shop_aug.groupby('ID')['총쇼핑금액'].sum()).reset_index()  # 8개월 데이터에서의 고객별 총 쇼핑금액\n",
    "nov_money = pd.DataFrame(df_shop_nov.groupby('ID')['y'].sum()).reset_index()  # 4개월 데이터에서의 고객별 총 쇼핑금액(y)\n",
    "money = pd.DataFrame(pd.merge(aug_money, nov_money, how='left', on='ID')) # 위 두개의 데이터를 합친 데이터"
   ]
  },
  {
   "cell_type": "code",
   "execution_count": 23,
   "metadata": {},
   "outputs": [
    {
     "name": "stdout",
     "output_type": "stream",
     "text": [
      "(16315, 2) (15240, 2)\n"
     ]
    }
   ],
   "source": [
    "print(aug_money.shape, nov_money.shape)"
   ]
  },
  {
   "cell_type": "code",
   "execution_count": 24,
   "metadata": {},
   "outputs": [
    {
     "data": {
      "text/html": [
       "<div>\n",
       "<style scoped>\n",
       "    .dataframe tbody tr th:only-of-type {\n",
       "        vertical-align: middle;\n",
       "    }\n",
       "\n",
       "    .dataframe tbody tr th {\n",
       "        vertical-align: top;\n",
       "    }\n",
       "\n",
       "    .dataframe thead th {\n",
       "        text-align: right;\n",
       "    }\n",
       "</style>\n",
       "<table border=\"1\" class=\"dataframe\">\n",
       "  <thead>\n",
       "    <tr style=\"text-align: right;\">\n",
       "      <th></th>\n",
       "      <th>ID</th>\n",
       "      <th>총쇼핑금액</th>\n",
       "      <th>y</th>\n",
       "    </tr>\n",
       "  </thead>\n",
       "  <tbody>\n",
       "    <tr>\n",
       "      <th>0</th>\n",
       "      <td>1</td>\n",
       "      <td>2661130</td>\n",
       "      <td>1238000.0</td>\n",
       "    </tr>\n",
       "    <tr>\n",
       "      <th>1</th>\n",
       "      <td>2</td>\n",
       "      <td>2757892</td>\n",
       "      <td>29835268.0</td>\n",
       "    </tr>\n",
       "    <tr>\n",
       "      <th>2</th>\n",
       "      <td>3</td>\n",
       "      <td>170427845</td>\n",
       "      <td>15620779.0</td>\n",
       "    </tr>\n",
       "    <tr>\n",
       "      <th>3</th>\n",
       "      <td>4</td>\n",
       "      <td>75739142</td>\n",
       "      <td>43509080.0</td>\n",
       "    </tr>\n",
       "    <tr>\n",
       "      <th>4</th>\n",
       "      <td>6</td>\n",
       "      <td>303361931</td>\n",
       "      <td>67669959.0</td>\n",
       "    </tr>\n",
       "  </tbody>\n",
       "</table>\n",
       "</div>"
      ],
      "text/plain": [
       "   ID      총쇼핑금액           y\n",
       "0   1    2661130   1238000.0\n",
       "1   2    2757892  29835268.0\n",
       "2   3  170427845  15620779.0\n",
       "3   4   75739142  43509080.0\n",
       "4   6  303361931  67669959.0"
      ]
     },
     "execution_count": 24,
     "metadata": {},
     "output_type": "execute_result"
    }
   ],
   "source": [
    "money.head()"
   ]
  },
  {
   "cell_type": "code",
   "execution_count": 25,
   "metadata": {},
   "outputs": [
    {
     "data": {
      "text/plain": [
       "(16315, 3)"
      ]
     },
     "execution_count": 25,
     "metadata": {},
     "output_type": "execute_result"
    }
   ],
   "source": [
    "money.shape"
   ]
  },
  {
   "cell_type": "code",
   "execution_count": 26,
   "metadata": {},
   "outputs": [],
   "source": [
    "# 비어있는 값 0으로 채움\n",
    "\n",
    "money['y'] = money['y'].fillna(0)"
   ]
  },
  {
   "cell_type": "code",
   "execution_count": 27,
   "metadata": {},
   "outputs": [],
   "source": [
    "# 값이 0이 아닌경우에는 다 1로 바꾸기\n",
    "\n",
    "money['y'][money['y'] != 0] = 1"
   ]
  },
  {
   "cell_type": "code",
   "execution_count": 28,
   "metadata": {},
   "outputs": [
    {
     "data": {
      "text/html": [
       "<div>\n",
       "<style scoped>\n",
       "    .dataframe tbody tr th:only-of-type {\n",
       "        vertical-align: middle;\n",
       "    }\n",
       "\n",
       "    .dataframe tbody tr th {\n",
       "        vertical-align: top;\n",
       "    }\n",
       "\n",
       "    .dataframe thead th {\n",
       "        text-align: right;\n",
       "    }\n",
       "</style>\n",
       "<table border=\"1\" class=\"dataframe\">\n",
       "  <thead>\n",
       "    <tr style=\"text-align: right;\">\n",
       "      <th></th>\n",
       "      <th>ID</th>\n",
       "      <th>구매여부</th>\n",
       "    </tr>\n",
       "  </thead>\n",
       "  <tbody>\n",
       "    <tr>\n",
       "      <th>0</th>\n",
       "      <td>1</td>\n",
       "      <td>1.0</td>\n",
       "    </tr>\n",
       "    <tr>\n",
       "      <th>1</th>\n",
       "      <td>2</td>\n",
       "      <td>1.0</td>\n",
       "    </tr>\n",
       "    <tr>\n",
       "      <th>2</th>\n",
       "      <td>3</td>\n",
       "      <td>1.0</td>\n",
       "    </tr>\n",
       "    <tr>\n",
       "      <th>3</th>\n",
       "      <td>4</td>\n",
       "      <td>1.0</td>\n",
       "    </tr>\n",
       "    <tr>\n",
       "      <th>4</th>\n",
       "      <td>6</td>\n",
       "      <td>1.0</td>\n",
       "    </tr>\n",
       "  </tbody>\n",
       "</table>\n",
       "</div>"
      ],
      "text/plain": [
       "   ID  구매여부\n",
       "0   1   1.0\n",
       "1   2   1.0\n",
       "2   3   1.0\n",
       "3   4   1.0\n",
       "4   6   1.0"
      ]
     },
     "execution_count": 28,
     "metadata": {},
     "output_type": "execute_result"
    }
   ],
   "source": [
    "# 구매함 : 1, 구매하지 않음 : 0\n",
    "\n",
    "money = money.drop(columns='총쇼핑금액', axis=1)\n",
    "money = money.rename(columns={'y':'구매여부'})\n",
    "money.head()"
   ]
  },
  {
   "cell_type": "code",
   "execution_count": 29,
   "metadata": {
    "scrolled": true
   },
   "outputs": [
    {
     "data": {
      "text/html": [
       "<div>\n",
       "<style scoped>\n",
       "    .dataframe tbody tr th:only-of-type {\n",
       "        vertical-align: middle;\n",
       "    }\n",
       "\n",
       "    .dataframe tbody tr th {\n",
       "        vertical-align: top;\n",
       "    }\n",
       "\n",
       "    .dataframe thead th {\n",
       "        text-align: right;\n",
       "    }\n",
       "</style>\n",
       "<table border=\"1\" class=\"dataframe\">\n",
       "  <thead>\n",
       "    <tr style=\"text-align: right;\">\n",
       "      <th></th>\n",
       "      <th>CustomerID</th>\n",
       "      <th>Monetary</th>\n",
       "      <th>Frequency</th>\n",
       "      <th>Recency</th>\n",
       "      <th>구매여부</th>\n",
       "    </tr>\n",
       "  </thead>\n",
       "  <tbody>\n",
       "    <tr>\n",
       "      <th>0</th>\n",
       "      <td>1</td>\n",
       "      <td>2661130</td>\n",
       "      <td>38</td>\n",
       "      <td>26</td>\n",
       "      <td>1.0</td>\n",
       "    </tr>\n",
       "    <tr>\n",
       "      <th>1</th>\n",
       "      <td>2</td>\n",
       "      <td>2757892</td>\n",
       "      <td>171</td>\n",
       "      <td>15</td>\n",
       "      <td>1.0</td>\n",
       "    </tr>\n",
       "    <tr>\n",
       "      <th>2</th>\n",
       "      <td>7</td>\n",
       "      <td>1007480</td>\n",
       "      <td>41</td>\n",
       "      <td>5</td>\n",
       "      <td>1.0</td>\n",
       "    </tr>\n",
       "    <tr>\n",
       "      <th>3</th>\n",
       "      <td>8</td>\n",
       "      <td>26140557</td>\n",
       "      <td>219</td>\n",
       "      <td>4</td>\n",
       "      <td>1.0</td>\n",
       "    </tr>\n",
       "    <tr>\n",
       "      <th>4</th>\n",
       "      <td>9</td>\n",
       "      <td>42598356</td>\n",
       "      <td>115</td>\n",
       "      <td>6</td>\n",
       "      <td>1.0</td>\n",
       "    </tr>\n",
       "  </tbody>\n",
       "</table>\n",
       "</div>"
      ],
      "text/plain": [
       "   CustomerID  Monetary  Frequency  Recency  구매여부\n",
       "0           1   2661130         38       26   1.0\n",
       "1           2   2757892        171       15   1.0\n",
       "2           7   1007480         41        5   1.0\n",
       "3           8  26140557        219        4   1.0\n",
       "4           9  42598356        115        6   1.0"
      ]
     },
     "execution_count": 29,
     "metadata": {},
     "output_type": "execute_result"
    }
   ],
   "source": [
    "# 최종데이터 (8개월 데이터에 구매여부를 생성)\n",
    "\n",
    "rfm_aug_binary = pd.merge(rfm_aug,money, how='inner', left_on='CustomerID', right_on='ID')\n",
    "rfm_aug_binary = rfm_aug_binary.drop(columns='ID', axis=1)\n",
    "rfm_aug_binary.head()"
   ]
  },
  {
   "cell_type": "code",
   "execution_count": 30,
   "metadata": {},
   "outputs": [
    {
     "data": {
      "text/plain": [
       "(11542, 5)"
      ]
     },
     "execution_count": 30,
     "metadata": {},
     "output_type": "execute_result"
    }
   ],
   "source": [
    "rfm_aug_binary.shape"
   ]
  },
  {
   "cell_type": "code",
   "execution_count": 31,
   "metadata": {
    "scrolled": true
   },
   "outputs": [
    {
     "data": {
      "text/plain": [
       "1.0    10621\n",
       "0.0      921\n",
       "Name: 구매여부, dtype: int64"
      ]
     },
     "execution_count": 31,
     "metadata": {},
     "output_type": "execute_result"
    }
   ],
   "source": [
    "rfm_aug_binary['구매여부'].value_counts()"
   ]
  },
  {
   "cell_type": "code",
   "execution_count": 32,
   "metadata": {
    "scrolled": true
   },
   "outputs": [
    {
     "data": {
      "text/plain": [
       "CustomerID    0\n",
       "Monetary      0\n",
       "Frequency     0\n",
       "Recency       0\n",
       "구매여부          0\n",
       "dtype: int64"
      ]
     },
     "execution_count": 32,
     "metadata": {},
     "output_type": "execute_result"
    }
   ],
   "source": [
    "rfm_aug_binary.isnull().sum()"
   ]
  },
  {
   "cell_type": "code",
   "execution_count": 33,
   "metadata": {},
   "outputs": [],
   "source": [
    "rfm_aug_binary['구매여부'] = rfm_aug_binary['구매여부'].astype('int')"
   ]
  },
  {
   "cell_type": "code",
   "execution_count": 34,
   "metadata": {},
   "outputs": [
    {
     "name": "stdout",
     "output_type": "stream",
     "text": [
      "<class 'pandas.core.frame.DataFrame'>\n",
      "Int64Index: 11542 entries, 0 to 11541\n",
      "Data columns (total 5 columns):\n",
      " #   Column      Non-Null Count  Dtype\n",
      "---  ------      --------------  -----\n",
      " 0   CustomerID  11542 non-null  int64\n",
      " 1   Monetary    11542 non-null  int64\n",
      " 2   Frequency   11542 non-null  int64\n",
      " 3   Recency     11542 non-null  int64\n",
      " 4   구매여부        11542 non-null  int32\n",
      "dtypes: int32(1), int64(4)\n",
      "memory usage: 495.9 KB\n"
     ]
    }
   ],
   "source": [
    "rfm_aug_binary.info()"
   ]
  },
  {
   "cell_type": "code",
   "execution_count": 35,
   "metadata": {},
   "outputs": [
    {
     "data": {
      "text/plain": [
       "1     1044\n",
       "0      915\n",
       "2      903\n",
       "3      622\n",
       "4      473\n",
       "      ... \n",
       "83      15\n",
       "88      15\n",
       "84      15\n",
       "87      13\n",
       "82      12\n",
       "Name: Recency, Length: 94, dtype: int64"
      ]
     },
     "execution_count": 35,
     "metadata": {},
     "output_type": "execute_result"
    }
   ],
   "source": [
    "rfm_aug_binary['Recency'].value_counts()"
   ]
  },
  {
   "cell_type": "code",
   "execution_count": 36,
   "metadata": {},
   "outputs": [
    {
     "data": {
      "text/plain": [
       "<AxesSubplot:xlabel='Recency', ylabel='Density'>"
      ]
     },
     "execution_count": 36,
     "metadata": {},
     "output_type": "execute_result"
    },
    {
     "data": {
      "image/png": "[encoded data removed]",
      "text/plain": [
       "<Figure size 432x288 with 1 Axes>"
      ]
     },
     "metadata": {
      "needs_background": "light"
     },
     "output_type": "display_data"
    }
   ],
   "source": [
    "sns.distplot(rfm_aug_binary['Recency'])"
   ]
  },
  {
   "cell_type": "markdown",
   "metadata": {},
   "source": [
    "변수들의 값 범위가 정규분포 형태로 이루어져 있지 않아 log값을 씌워주었다"
   ]
  },
  {
   "cell_type": "code",
   "execution_count": 37,
   "metadata": {},
   "outputs": [
    {
     "data": {
      "text/html": [
       "<div>\n",
       "<style scoped>\n",
       "    .dataframe tbody tr th:only-of-type {\n",
       "        vertical-align: middle;\n",
       "    }\n",
       "\n",
       "    .dataframe tbody tr th {\n",
       "        vertical-align: top;\n",
       "    }\n",
       "\n",
       "    .dataframe thead th {\n",
       "        text-align: right;\n",
       "    }\n",
       "</style>\n",
       "<table border=\"1\" class=\"dataframe\">\n",
       "  <thead>\n",
       "    <tr style=\"text-align: right;\">\n",
       "      <th></th>\n",
       "      <th>Monetary</th>\n",
       "      <th>Frequency</th>\n",
       "      <th>Recency</th>\n",
       "      <th>구매여부</th>\n",
       "    </tr>\n",
       "  </thead>\n",
       "  <tbody>\n",
       "    <tr>\n",
       "      <th>0</th>\n",
       "      <td>14.794</td>\n",
       "      <td>3.664</td>\n",
       "      <td>3.296</td>\n",
       "      <td>1</td>\n",
       "    </tr>\n",
       "    <tr>\n",
       "      <th>1</th>\n",
       "      <td>14.830</td>\n",
       "      <td>5.147</td>\n",
       "      <td>2.773</td>\n",
       "      <td>1</td>\n",
       "    </tr>\n",
       "    <tr>\n",
       "      <th>2</th>\n",
       "      <td>13.823</td>\n",
       "      <td>3.738</td>\n",
       "      <td>1.792</td>\n",
       "      <td>1</td>\n",
       "    </tr>\n",
       "    <tr>\n",
       "      <th>3</th>\n",
       "      <td>17.079</td>\n",
       "      <td>5.394</td>\n",
       "      <td>1.609</td>\n",
       "      <td>1</td>\n",
       "    </tr>\n",
       "    <tr>\n",
       "      <th>4</th>\n",
       "      <td>17.567</td>\n",
       "      <td>4.754</td>\n",
       "      <td>1.946</td>\n",
       "      <td>1</td>\n",
       "    </tr>\n",
       "    <tr>\n",
       "      <th>...</th>\n",
       "      <td>...</td>\n",
       "      <td>...</td>\n",
       "      <td>...</td>\n",
       "      <td>...</td>\n",
       "    </tr>\n",
       "    <tr>\n",
       "      <th>11537</th>\n",
       "      <td>11.543</td>\n",
       "      <td>2.708</td>\n",
       "      <td>0.693</td>\n",
       "      <td>1</td>\n",
       "    </tr>\n",
       "    <tr>\n",
       "      <th>11538</th>\n",
       "      <td>10.382</td>\n",
       "      <td>2.944</td>\n",
       "      <td>0.000</td>\n",
       "      <td>1</td>\n",
       "    </tr>\n",
       "    <tr>\n",
       "      <th>11539</th>\n",
       "      <td>10.789</td>\n",
       "      <td>1.792</td>\n",
       "      <td>2.079</td>\n",
       "      <td>1</td>\n",
       "    </tr>\n",
       "    <tr>\n",
       "      <th>11540</th>\n",
       "      <td>14.877</td>\n",
       "      <td>2.303</td>\n",
       "      <td>2.639</td>\n",
       "      <td>1</td>\n",
       "    </tr>\n",
       "    <tr>\n",
       "      <th>11541</th>\n",
       "      <td>11.367</td>\n",
       "      <td>3.526</td>\n",
       "      <td>0.000</td>\n",
       "      <td>1</td>\n",
       "    </tr>\n",
       "  </tbody>\n",
       "</table>\n",
       "<p>11542 rows × 4 columns</p>\n",
       "</div>"
      ],
      "text/plain": [
       "       Monetary  Frequency  Recency  구매여부\n",
       "0        14.794      3.664    3.296     1\n",
       "1        14.830      5.147    2.773     1\n",
       "2        13.823      3.738    1.792     1\n",
       "3        17.079      5.394    1.609     1\n",
       "4        17.567      4.754    1.946     1\n",
       "...         ...        ...      ...   ...\n",
       "11537    11.543      2.708    0.693     1\n",
       "11538    10.382      2.944    0.000     1\n",
       "11539    10.789      1.792    2.079     1\n",
       "11540    14.877      2.303    2.639     1\n",
       "11541    11.367      3.526    0.000     1\n",
       "\n",
       "[11542 rows x 4 columns]"
      ]
     },
     "execution_count": 37,
     "metadata": {},
     "output_type": "execute_result"
    }
   ],
   "source": [
    "rfm_aug_binary_log = rfm_aug_binary[['Monetary', 'Frequency', 'Recency']].apply(np.log1p, axis=1).round(3)\n",
    "rfm_aug_binary_log['구매여부'] = rfm_aug_binary['구매여부']\n",
    "rfm_aug_binary_log"
   ]
  },
  {
   "cell_type": "code",
   "execution_count": 38,
   "metadata": {},
   "outputs": [
    {
     "data": {
      "text/plain": [
       "Monetary     0\n",
       "Frequency    0\n",
       "Recency      0\n",
       "구매여부         0\n",
       "dtype: int64"
      ]
     },
     "execution_count": 38,
     "metadata": {},
     "output_type": "execute_result"
    }
   ],
   "source": [
    "rfm_aug_binary_log.isnull().sum()"
   ]
  },
  {
   "cell_type": "markdown",
   "metadata": {},
   "source": [
    "### 2.2.4 Scaling"
   ]
  },
  {
   "cell_type": "markdown",
   "metadata": {},
   "source": [
    "- 로지스틱 회귀분석에 앞서 각각 변수의 범위가 차이가 많이나므로 스케일링을 진행하였다"
   ]
  },
  {
   "cell_type": "code",
   "execution_count": 39,
   "metadata": {},
   "outputs": [
    {
     "name": "stdout",
     "output_type": "stream",
     "text": [
      "(11542, 3)\n"
     ]
    },
    {
     "data": {
      "text/html": [
       "<div>\n",
       "<style scoped>\n",
       "    .dataframe tbody tr th:only-of-type {\n",
       "        vertical-align: middle;\n",
       "    }\n",
       "\n",
       "    .dataframe tbody tr th {\n",
       "        vertical-align: top;\n",
       "    }\n",
       "\n",
       "    .dataframe thead th {\n",
       "        text-align: right;\n",
       "    }\n",
       "</style>\n",
       "<table border=\"1\" class=\"dataframe\">\n",
       "  <thead>\n",
       "    <tr style=\"text-align: right;\">\n",
       "      <th></th>\n",
       "      <th>Monetary</th>\n",
       "      <th>Frequency</th>\n",
       "      <th>Recency</th>\n",
       "    </tr>\n",
       "  </thead>\n",
       "  <tbody>\n",
       "    <tr>\n",
       "      <th>0</th>\n",
       "      <td>0.090829</td>\n",
       "      <td>-0.235907</td>\n",
       "      <td>0.797702</td>\n",
       "    </tr>\n",
       "    <tr>\n",
       "      <th>1</th>\n",
       "      <td>0.109579</td>\n",
       "      <td>1.011220</td>\n",
       "      <td>0.381980</td>\n",
       "    </tr>\n",
       "    <tr>\n",
       "      <th>2</th>\n",
       "      <td>-0.414885</td>\n",
       "      <td>-0.173676</td>\n",
       "      <td>-0.397795</td>\n",
       "    </tr>\n",
       "    <tr>\n",
       "      <th>3</th>\n",
       "      <td>1.280898</td>\n",
       "      <td>1.218935</td>\n",
       "      <td>-0.543258</td>\n",
       "    </tr>\n",
       "    <tr>\n",
       "      <th>4</th>\n",
       "      <td>1.535057</td>\n",
       "      <td>0.680727</td>\n",
       "      <td>-0.275384</td>\n",
       "    </tr>\n",
       "    <tr>\n",
       "      <th>...</th>\n",
       "      <td>...</td>\n",
       "      <td>...</td>\n",
       "      <td>...</td>\n",
       "    </tr>\n",
       "    <tr>\n",
       "      <th>11537</th>\n",
       "      <td>-1.602349</td>\n",
       "      <td>-1.039854</td>\n",
       "      <td>-1.271367</td>\n",
       "    </tr>\n",
       "    <tr>\n",
       "      <th>11538</th>\n",
       "      <td>-2.207019</td>\n",
       "      <td>-0.841390</td>\n",
       "      <td>-1.822218</td>\n",
       "    </tr>\n",
       "    <tr>\n",
       "      <th>11539</th>\n",
       "      <td>-1.995046</td>\n",
       "      <td>-1.810163</td>\n",
       "      <td>-0.169665</td>\n",
       "    </tr>\n",
       "    <tr>\n",
       "      <th>11540</th>\n",
       "      <td>0.134057</td>\n",
       "      <td>-1.380438</td>\n",
       "      <td>0.275467</td>\n",
       "    </tr>\n",
       "    <tr>\n",
       "      <th>11541</th>\n",
       "      <td>-1.694013</td>\n",
       "      <td>-0.351958</td>\n",
       "      <td>-1.822218</td>\n",
       "    </tr>\n",
       "  </tbody>\n",
       "</table>\n",
       "<p>11542 rows × 3 columns</p>\n",
       "</div>"
      ],
      "text/plain": [
       "       Monetary  Frequency   Recency\n",
       "0      0.090829  -0.235907  0.797702\n",
       "1      0.109579   1.011220  0.381980\n",
       "2     -0.414885  -0.173676 -0.397795\n",
       "3      1.280898   1.218935 -0.543258\n",
       "4      1.535057   0.680727 -0.275384\n",
       "...         ...        ...       ...\n",
       "11537 -1.602349  -1.039854 -1.271367\n",
       "11538 -2.207019  -0.841390 -1.822218\n",
       "11539 -1.995046  -1.810163 -0.169665\n",
       "11540  0.134057  -1.380438  0.275467\n",
       "11541 -1.694013  -0.351958 -1.822218\n",
       "\n",
       "[11542 rows x 3 columns]"
      ]
     },
     "execution_count": 39,
     "metadata": {},
     "output_type": "execute_result"
    }
   ],
   "source": [
    "from sklearn.preprocessing import StandardScaler\n",
    "\n",
    "rfm_aug_log = rfm_aug_binary_log[['Monetary', 'Frequency', 'Recency']]\n",
    "\n",
    "scaler = StandardScaler()\n",
    "\n",
    "# fit_transform\n",
    "scaled_rfm_aug = scaler.fit_transform(rfm_aug_log)\n",
    "print(scaled_rfm_aug.shape)\n",
    "scaled_rfm_aug = pd.DataFrame(scaled_rfm_aug)\n",
    "scaled_rfm_aug.columns = ['Monetary', 'Frequency', 'Recency']\n",
    "scaled_rfm_aug"
   ]
  },
  {
   "cell_type": "code",
   "execution_count": 40,
   "metadata": {},
   "outputs": [],
   "source": [
    "scaled_rfm_aug['CustomerID'] = rfm_aug_binary['CustomerID']\n",
    "scaled_rfm_aug['구매여부'] = rfm_aug_binary['구매여부']\n",
    "scaled_rfm_aug = scaled_rfm_aug[['CustomerID', 'Monetary', 'Frequency', 'Recency', '구매여부']]\n",
    "scaled_rfm_aug['구매여부'] = scaled_rfm_aug['구매여부'].astype('int')"
   ]
  },
  {
   "cell_type": "code",
   "execution_count": 41,
   "metadata": {
    "scrolled": true
   },
   "outputs": [
    {
     "data": {
      "text/html": [
       "<div>\n",
       "<style scoped>\n",
       "    .dataframe tbody tr th:only-of-type {\n",
       "        vertical-align: middle;\n",
       "    }\n",
       "\n",
       "    .dataframe tbody tr th {\n",
       "        vertical-align: top;\n",
       "    }\n",
       "\n",
       "    .dataframe thead th {\n",
       "        text-align: right;\n",
       "    }\n",
       "</style>\n",
       "<table border=\"1\" class=\"dataframe\">\n",
       "  <thead>\n",
       "    <tr style=\"text-align: right;\">\n",
       "      <th></th>\n",
       "      <th>Monetary</th>\n",
       "      <th>Frequency</th>\n",
       "      <th>Recency</th>\n",
       "      <th>구매여부</th>\n",
       "    </tr>\n",
       "  </thead>\n",
       "  <tbody>\n",
       "    <tr>\n",
       "      <th>0</th>\n",
       "      <td>0.090829</td>\n",
       "      <td>-0.235907</td>\n",
       "      <td>0.797702</td>\n",
       "      <td>1</td>\n",
       "    </tr>\n",
       "    <tr>\n",
       "      <th>1</th>\n",
       "      <td>0.109579</td>\n",
       "      <td>1.011220</td>\n",
       "      <td>0.381980</td>\n",
       "      <td>1</td>\n",
       "    </tr>\n",
       "    <tr>\n",
       "      <th>2</th>\n",
       "      <td>-0.414885</td>\n",
       "      <td>-0.173676</td>\n",
       "      <td>-0.397795</td>\n",
       "      <td>1</td>\n",
       "    </tr>\n",
       "    <tr>\n",
       "      <th>3</th>\n",
       "      <td>1.280898</td>\n",
       "      <td>1.218935</td>\n",
       "      <td>-0.543258</td>\n",
       "      <td>1</td>\n",
       "    </tr>\n",
       "    <tr>\n",
       "      <th>4</th>\n",
       "      <td>1.535057</td>\n",
       "      <td>0.680727</td>\n",
       "      <td>-0.275384</td>\n",
       "      <td>1</td>\n",
       "    </tr>\n",
       "  </tbody>\n",
       "</table>\n",
       "</div>"
      ],
      "text/plain": [
       "   Monetary  Frequency   Recency  구매여부\n",
       "0  0.090829  -0.235907  0.797702     1\n",
       "1  0.109579   1.011220  0.381980     1\n",
       "2 -0.414885  -0.173676 -0.397795     1\n",
       "3  1.280898   1.218935 -0.543258     1\n",
       "4  1.535057   0.680727 -0.275384     1"
      ]
     },
     "execution_count": 41,
     "metadata": {},
     "output_type": "execute_result"
    }
   ],
   "source": [
    "# 모델 학습에 있어 CustomerID는 제거.\n",
    "\n",
    "scaled_rfm_aug = scaled_rfm_aug.drop(columns='CustomerID', axis=1)\n",
    "scaled_rfm_aug.head()"
   ]
  },
  {
   "cell_type": "markdown",
   "metadata": {},
   "source": [
    "### 2.2.5 로지스틱 회귀 모델 생성 "
   ]
  },
  {
   "cell_type": "code",
   "execution_count": 42,
   "metadata": {},
   "outputs": [
    {
     "name": "stdout",
     "output_type": "stream",
     "text": [
      "(8079, 3) (3463, 3) (8079,) (3463,)\n"
     ]
    }
   ],
   "source": [
    "# 구매여부는 y값이므로 제외. 나머지 컬럼들을 X로 지정\n",
    "\n",
    "feature_columns = scaled_rfm_aug.columns.difference(['구매여부'])\n",
    "\n",
    "# 독립변수와 종속변수를 지정\n",
    "# 독립변수(feature_columns): Monetary, Frequency, Recency\n",
    "# 종속변수(y): 구매여부\n",
    "\n",
    "X = scaled_rfm_aug[feature_columns] \n",
    "y = scaled_rfm_aug['구매여부']\n",
    "\n",
    "\n",
    "# 훈련세트와 테스트 세트 생성 \n",
    "train_x, test_x ,train_y, test_y = train_test_split(X, y, stratify=y,train_size=0.7,test_size=0.3,random_state=42)\n",
    "print(train_x.shape, test_x.shape, train_y.shape, test_y.shape)"
   ]
  },
  {
   "cell_type": "code",
   "execution_count": 43,
   "metadata": {},
   "outputs": [
    {
     "data": {
      "text/plain": [
       "LogisticRegression(random_state=42)"
      ]
     },
     "execution_count": 43,
     "metadata": {},
     "output_type": "execute_result"
    }
   ],
   "source": [
    "# 로지스틱 회귀분석 모델 생성 후 훈련\n",
    "\n",
    "model = LogisticRegression(random_state=42)\n",
    "model.fit(train_x, train_y)"
   ]
  },
  {
   "cell_type": "markdown",
   "metadata": {},
   "source": [
    "### 2.2.6 GridSearchCV를 이용한 하이퍼 파라미터 튜닝"
   ]
  },
  {
   "cell_type": "code",
   "execution_count": 44,
   "metadata": {},
   "outputs": [
    {
     "data": {
      "text/plain": [
       "GridSearchCV(cv=3, estimator=LogisticRegression(random_state=42), n_jobs=-1,\n",
       "             param_grid={'C': [0.001, 0.01, 0.1, 1, 10],\n",
       "                         'penalty': ['l1', 'l2']},\n",
       "             scoring='roc_auc')"
      ]
     },
     "execution_count": 44,
     "metadata": {},
     "output_type": "execute_result"
    }
   ],
   "source": [
    "# GridSearchCV로 최적의 파라미터 값 찾기\n",
    "\n",
    "from sklearn.model_selection import GridSearchCV\n",
    "\n",
    "parameters = {'C':[0.001, 0.01, 0.1, 1, 10], 'penalty' : ['l1', 'l2']}\n",
    "grid_search = GridSearchCV(model, parameters, n_jobs=-1, cv=3, scoring='roc_auc')\n",
    "grid_search.fit(train_x, train_y)\n",
    "\n",
    "# penalty = 'L2'와 'l1', 규제(오버피팅을 방지)의 릿지와 라쏘\n",
    "# L2는 페널티를 가하게 되면서 변수의 값이 0에 가까워진다. \n",
    "# L1는 0이되는 그런 형태\n",
    "# C : 규제의 정도를 나타내는 것\n",
    "# C값이 커지면 규제가 느슨해져 오버피팅이 일어남, 0에 가까워지면 규제가 강해짐\n",
    "# n_jobs=-1 : CPU를 다 쓴다. \n",
    "# cv=3, 교차검증의 약자로, 3-fold"
   ]
  },
  {
   "cell_type": "code",
   "execution_count": 45,
   "metadata": {},
   "outputs": [
    {
     "data": {
      "text/plain": [
       "{'C': 10, 'penalty': 'l2'}"
      ]
     },
     "execution_count": 45,
     "metadata": {},
     "output_type": "execute_result"
    }
   ],
   "source": [
    "# 최적의 파라미터 결과\n",
    "\n",
    "grid_search.best_params_"
   ]
  },
  {
   "cell_type": "code",
   "execution_count": 46,
   "metadata": {},
   "outputs": [
    {
     "data": {
      "text/plain": [
       "array([1, 1, 1, ..., 1, 1, 1])"
      ]
     },
     "execution_count": 46,
     "metadata": {},
     "output_type": "execute_result"
    }
   ],
   "source": [
    "# 최적의 하이퍼 파라미터가 적용된 모델로 값을 예측\n",
    "\n",
    "model_best = grid_search.best_estimator_\n",
    "y_pred = model_best.predict(test_x)\n",
    "y_pred"
   ]
  },
  {
   "cell_type": "code",
   "execution_count": 47,
   "metadata": {},
   "outputs": [
    {
     "data": {
      "text/plain": [
       "(array([0, 1]), array([  74, 3389], dtype=int64))"
      ]
     },
     "execution_count": 47,
     "metadata": {},
     "output_type": "execute_result"
    }
   ],
   "source": [
    "np.unique(y_pred, return_counts=True)"
   ]
  },
  {
   "cell_type": "markdown",
   "metadata": {},
   "source": [
    "### 2.2.7 로지스틱 회귀 모델 평가"
   ]
  },
  {
   "cell_type": "code",
   "execution_count": 48,
   "metadata": {},
   "outputs": [
    {
     "data": {
      "text/plain": [
       "0.9220329194340168"
      ]
     },
     "execution_count": 48,
     "metadata": {},
     "output_type": "execute_result"
    }
   ],
   "source": [
    "# 회귀모델의 정확도\n",
    "\n",
    "from sklearn.metrics import accuracy_score\n",
    "accuracy_score(test_y, y_pred)"
   ]
  },
  {
   "cell_type": "code",
   "execution_count": 49,
   "metadata": {},
   "outputs": [
    {
     "data": {
      "text/plain": [
       "array([0.99516133, 0.94458085, 0.99588133, ..., 0.5048821 , 0.78311217,\n",
       "       0.69678089])"
      ]
     },
     "execution_count": 49,
     "metadata": {},
     "output_type": "execute_result"
    }
   ],
   "source": [
    "from sklearn.metrics import roc_auc_score, roc_curve\n",
    "y_pred_proba = model_best.predict_proba(test_x)[:, 1]\n",
    "y_pred_proba"
   ]
  },
  {
   "cell_type": "code",
   "execution_count": 50,
   "metadata": {},
   "outputs": [
    {
     "data": {
      "image/png": "[encoded data removed]",
      "text/plain": [
       "<Figure size 432x288 with 1 Axes>"
      ]
     },
     "metadata": {
      "needs_background": "light"
     },
     "output_type": "display_data"
    }
   ],
   "source": [
    "# ROC 그래프 \n",
    "\n",
    "fpr, tpr, _ = roc_curve(test_y, y_pred_proba)\n",
    "auc = roc_auc_score(test_y, y_pred_proba)\n",
    "plt.plot(fpr, tpr, 'r-', label='LogisticRegression')\n",
    "plt.plot([0, 1], [0, 1], 'b--', label = 'random guess')\n",
    "plt.xlabel('false positive rate')\n",
    "plt.ylabel('true positive rate')\n",
    "plt.title('AUC={0:.2f}'.format(auc))\n",
    "plt.legend(loc='lower right');"
   ]
  },
  {
   "cell_type": "markdown",
   "metadata": {},
   "source": [
    "- 로그를 하지 않았을시, 0.67\n",
    "- 로그를 하였을 경우, 0.86(향상)\n",
    "  - 로그를 다시 선택한 이유 : 회귀분석시, 정규성, 등분산성 검토해야하는데, 해당 데이터가 비정규성이므로 사용."
   ]
  },
  {
   "attachments": {
    "image.png": {
     "image/png": "[encoded data removed]"
    }
   },
   "cell_type": "markdown",
   "metadata": {},
   "source": [
    "![image.png](attachment:image.png)"
   ]
  },
  {
   "cell_type": "code",
   "execution_count": 51,
   "metadata": {},
   "outputs": [
    {
     "name": "stdout",
     "output_type": "stream",
     "text": [
      "              precision    recall  f1-score   support\n",
      "\n",
      "           0       0.54      0.14      0.23       276\n",
      "           1       0.93      0.99      0.96      3187\n",
      "\n",
      "    accuracy                           0.92      3463\n",
      "   macro avg       0.74      0.57      0.59      3463\n",
      "weighted avg       0.90      0.92      0.90      3463\n",
      "\n"
     ]
    }
   ],
   "source": [
    "# 로지스틱 회귀 모형에 대한 평가 보고서\n",
    "\n",
    "print(classification_report(test_y, y_pred))"
   ]
  },
  {
   "cell_type": "code",
   "execution_count": 52,
   "metadata": {},
   "outputs": [
    {
     "name": "stdout",
     "output_type": "stream",
     "text": [
      "Index(['Frequency', 'Monetary', 'Recency'], dtype='object')\n"
     ]
    },
    {
     "data": {
      "text/plain": [
       "array([[ 1.02412651,  0.23479531, -0.49357152]])"
      ]
     },
     "execution_count": 52,
     "metadata": {},
     "output_type": "execute_result"
    }
   ],
   "source": [
    "# 구해진 가중치 \n",
    "\n",
    "print(train_x.columns)\n",
    "model_best.coef_"
   ]
  },
  {
   "cell_type": "markdown",
   "metadata": {},
   "source": [
    "# 3. 가중치 결과"
   ]
  },
  {
   "cell_type": "code",
   "execution_count": 53,
   "metadata": {},
   "outputs": [
    {
     "data": {
      "text/html": [
       "<div>\n",
       "<style scoped>\n",
       "    .dataframe tbody tr th:only-of-type {\n",
       "        vertical-align: middle;\n",
       "    }\n",
       "\n",
       "    .dataframe tbody tr th {\n",
       "        vertical-align: top;\n",
       "    }\n",
       "\n",
       "    .dataframe thead th {\n",
       "        text-align: right;\n",
       "    }\n",
       "</style>\n",
       "<table border=\"1\" class=\"dataframe\">\n",
       "  <thead>\n",
       "    <tr style=\"text-align: right;\">\n",
       "      <th></th>\n",
       "      <th>Frequency</th>\n",
       "      <th>Monetary</th>\n",
       "      <th>Recency</th>\n",
       "    </tr>\n",
       "  </thead>\n",
       "  <tbody>\n",
       "    <tr>\n",
       "      <th>0</th>\n",
       "      <td>1.024127</td>\n",
       "      <td>0.234795</td>\n",
       "      <td>-0.493572</td>\n",
       "    </tr>\n",
       "  </tbody>\n",
       "</table>\n",
       "</div>"
      ],
      "text/plain": [
       "   Frequency  Monetary   Recency\n",
       "0   1.024127  0.234795 -0.493572"
      ]
     },
     "execution_count": 53,
     "metadata": {},
     "output_type": "execute_result"
    }
   ],
   "source": [
    "weight = pd.DataFrame(model_best.coef_)\n",
    "weight.columns = ['Frequency', 'Monetary', 'Recency']\n",
    "weight"
   ]
  },
  {
   "cell_type": "markdown",
   "metadata": {},
   "source": [
    "*R, F, M 변수 중 데이터에서 가장 중요한 변수는 Frequency로 고객의 구매에는 구매빈도가 가장 많은 영향을 미친다고 해석할 수 있다*\n",
    "* 가중치 결과에 따라 최종 rfm score의 값은 1.024127×f_score + 0.234795×m_score -0.493572×r_score으로 계산할 수 있다"
   ]
  },
  {
   "cell_type": "code",
   "execution_count": null,
   "metadata": {},
   "outputs": [],
   "source": []
  },
  {
   "cell_type": "code",
   "execution_count": null,
   "metadata": {},
   "outputs": [],
   "source": []
  }
 ],
 "metadata": {
  "kernelspec": {
   "display_name": "Python 3",
   "language": "python",
   "name": "python3"
  },
  "language_info": {
   "codemirror_mode": {
    "name": "ipython",
    "version": 3
   },
   "file_extension": ".py",
   "mimetype": "text/x-python",
   "name": "python",
   "nbconvert_exporter": "python",
   "pygments_lexer": "ipython3",
   "version": "3.8.5"
  },
  "toc": {
   "base_numbering": 1,
   "nav_menu": {},
   "number_sections": false,
   "sideBar": true,
   "skip_h1_title": false,
   "title_cell": "Table of Contents",
   "title_sidebar": "Contents",
   "toc_cell": false,
   "toc_position": {
    "height": "calc(100% - 180px)",
    "left": "10px",
    "top": "150px",
    "width": "177.663px"
   },
   "toc_section_display": true,
   "toc_window_display": false
  },
  "varInspector": {
   "cols": {
    "lenName": 16,
    "lenType": 16,
    "lenVar": 40
   },
   "kernels_config": {
    "python": {
     "delete_cmd_postfix": "",
     "delete_cmd_prefix": "del ",
     "library": "var_list.py",
     "varRefreshCmd": "print(var_dic_list())"
    },
    "r": {
     "delete_cmd_postfix": ") ",
     "delete_cmd_prefix": "rm(",
     "library": "var_list.r",
     "varRefreshCmd": "cat(var_dic_list()) "
    }
   },
   "types_to_exclude": [
    "module",
    "function",
    "builtin_function_or_method",
    "instance",
    "_Feature"
   ],
   "window_display": false
  }
 },
 "nbformat": 4,
 "nbformat_minor": 5
}
