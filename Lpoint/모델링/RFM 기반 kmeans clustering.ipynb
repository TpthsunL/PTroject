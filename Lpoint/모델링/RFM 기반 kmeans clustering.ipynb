{
 "cells": [
  {
   "cell_type": "markdown",
   "metadata": {},
   "source": [
    "# RFM 기반 군집 분석 (k-means clustering)"
   ]
  },
  {
   "cell_type": "markdown",
   "metadata": {},
   "source": [
    "목표: 고객의 클래스 정의 (플래티넘, 골드, 실버)"
   ]
  },
  {
   "cell_type": "markdown",
   "metadata": {},
   "source": [
    "**카드사에서 가장 중요한 요소는 'Monetary' 즉, 고객이 얼마나 많은 금액을 쓰는가?**\n",
    "* 플래티넘 고객 - 큰 수익, 빈번한 구매\n",
    "* 골드 고객 - 수익 창출은 적지만 빈번한 구매\n",
    "* 실버 고객 - 빈도도 적고 수익 창출도 적음"
   ]
  },
  {
   "cell_type": "markdown",
   "metadata": {},
   "source": [
    "* 1단계: 데이터 읽기 및 이해\n",
    "* 2단계: 데이터 준비\n",
    "* 3단계: 모델 구축\n",
    "* 4단계: 최종 군집 결과 설명"
   ]
  },
  {
   "cell_type": "markdown",
   "metadata": {},
   "source": [
    "# 데이터 읽기 및 이해"
   ]
  },
  {
   "cell_type": "code",
   "execution_count": 1,
   "metadata": {},
   "outputs": [],
   "source": [
    "# 라이브러리 불러오기\n",
    "\n",
    "import pandas as pd\n",
    "import numpy as np\n",
    "import matplotlib.pyplot as plt\n",
    "import seaborn as sns\n",
    "import datetime as dt"
   ]
  },
  {
   "cell_type": "code",
   "execution_count": 22,
   "metadata": {},
   "outputs": [],
   "source": [
    "# 한글폰트\n",
    "\n",
    "plt.rc('font', family='NanumGothic')"
   ]
  },
  {
   "cell_type": "code",
   "execution_count": 9,
   "metadata": {},
   "outputs": [],
   "source": [
    "df_shop = pd.read_csv('data/df_shop.csv')"
   ]
  },
  {
   "cell_type": "code",
   "execution_count": 15,
   "metadata": {},
   "outputs": [],
   "source": [
    "df_shop.drop(columns = ['총_쇼핑소비금액'], inplace=True)"
   ]
  },
  {
   "cell_type": "code",
   "execution_count": 16,
   "metadata": {},
   "outputs": [
    {
     "data": {
      "text/plain": [
       "(3447070, 13)"
      ]
     },
     "execution_count": 16,
     "metadata": {},
     "output_type": "execute_result"
    }
   ],
   "source": [
    "df_shop.shape"
   ]
  },
  {
   "cell_type": "code",
   "execution_count": 17,
   "metadata": {},
   "outputs": [
    {
     "name": "stdout",
     "output_type": "stream",
     "text": [
      "<class 'pandas.core.frame.DataFrame'>\n",
      "RangeIndex: 3447070 entries, 0 to 3447069\n",
      "Data columns (total 13 columns):\n",
      " #   Column  Dtype \n",
      "---  ------  ----- \n",
      " 0   ID      int64 \n",
      " 1   성별      object\n",
      " 2   연령대     object\n",
      " 3   시도      object\n",
      " 4   시군구     object\n",
      " 5   구매일자    object\n",
      " 6   구매시간    int64 \n",
      " 7   구매금액    int64 \n",
      " 8   구매수량    int64 \n",
      " 9   업종      object\n",
      " 10  소분류명    object\n",
      " 11  중분류명    object\n",
      " 12  대분류명    object\n",
      "dtypes: int64(4), object(9)\n",
      "memory usage: 341.9+ MB\n"
     ]
    }
   ],
   "source": [
    "df_shop.info()"
   ]
  },
  {
   "cell_type": "code",
   "execution_count": 18,
   "metadata": {},
   "outputs": [],
   "source": [
    "df_shop['구매일자'] = pd.to_datetime(df_shop['구매일자'])"
   ]
  },
  {
   "cell_type": "code",
   "execution_count": 19,
   "metadata": {},
   "outputs": [
    {
     "data": {
      "text/html": [
       "<div>\n",
       "<style scoped>\n",
       "    .dataframe tbody tr th:only-of-type {\n",
       "        vertical-align: middle;\n",
       "    }\n",
       "\n",
       "    .dataframe tbody tr th {\n",
       "        vertical-align: top;\n",
       "    }\n",
       "\n",
       "    .dataframe thead th {\n",
       "        text-align: right;\n",
       "    }\n",
       "</style>\n",
       "<table border=\"1\" class=\"dataframe\">\n",
       "  <thead>\n",
       "    <tr style=\"text-align: right;\">\n",
       "      <th></th>\n",
       "      <th>ID</th>\n",
       "      <th>성별</th>\n",
       "      <th>연령대</th>\n",
       "      <th>시도</th>\n",
       "      <th>시군구</th>\n",
       "      <th>구매일자</th>\n",
       "      <th>구매시간</th>\n",
       "      <th>구매금액</th>\n",
       "      <th>구매수량</th>\n",
       "      <th>업종</th>\n",
       "      <th>소분류명</th>\n",
       "      <th>중분류명</th>\n",
       "      <th>대분류명</th>\n",
       "    </tr>\n",
       "  </thead>\n",
       "  <tbody>\n",
       "    <tr>\n",
       "      <th>0</th>\n",
       "      <td>1</td>\n",
       "      <td>남성</td>\n",
       "      <td>60대</td>\n",
       "      <td>서울특별시</td>\n",
       "      <td>강동구</td>\n",
       "      <td>2015-12-16</td>\n",
       "      <td>17</td>\n",
       "      <td>28000</td>\n",
       "      <td>1</td>\n",
       "      <td>백화점</td>\n",
       "      <td>수입주방</td>\n",
       "      <td>주방용품</td>\n",
       "      <td>가정</td>\n",
       "    </tr>\n",
       "    <tr>\n",
       "      <th>1</th>\n",
       "      <td>1</td>\n",
       "      <td>남성</td>\n",
       "      <td>60대</td>\n",
       "      <td>서울특별시</td>\n",
       "      <td>강동구</td>\n",
       "      <td>2015-05-13</td>\n",
       "      <td>14</td>\n",
       "      <td>15000</td>\n",
       "      <td>1</td>\n",
       "      <td>백화점</td>\n",
       "      <td>수입주방</td>\n",
       "      <td>주방용품</td>\n",
       "      <td>가정</td>\n",
       "    </tr>\n",
       "    <tr>\n",
       "      <th>2</th>\n",
       "      <td>1</td>\n",
       "      <td>남성</td>\n",
       "      <td>60대</td>\n",
       "      <td>서울특별시</td>\n",
       "      <td>강동구</td>\n",
       "      <td>2015-08-01</td>\n",
       "      <td>19</td>\n",
       "      <td>166400</td>\n",
       "      <td>1</td>\n",
       "      <td>백화점</td>\n",
       "      <td>N/B골프의류</td>\n",
       "      <td>골프용품</td>\n",
       "      <td>스포츠</td>\n",
       "    </tr>\n",
       "    <tr>\n",
       "      <th>3</th>\n",
       "      <td>1</td>\n",
       "      <td>남성</td>\n",
       "      <td>60대</td>\n",
       "      <td>서울특별시</td>\n",
       "      <td>강동구</td>\n",
       "      <td>2015-12-28</td>\n",
       "      <td>12</td>\n",
       "      <td>166000</td>\n",
       "      <td>1</td>\n",
       "      <td>백화점</td>\n",
       "      <td>란제리</td>\n",
       "      <td>란제리/내의</td>\n",
       "      <td>여성의류</td>\n",
       "    </tr>\n",
       "    <tr>\n",
       "      <th>4</th>\n",
       "      <td>1</td>\n",
       "      <td>남성</td>\n",
       "      <td>60대</td>\n",
       "      <td>서울특별시</td>\n",
       "      <td>강동구</td>\n",
       "      <td>2015-05-13</td>\n",
       "      <td>12</td>\n",
       "      <td>1000</td>\n",
       "      <td>2</td>\n",
       "      <td>백화점</td>\n",
       "      <td>어묵</td>\n",
       "      <td>젓갈/반찬</td>\n",
       "      <td>식품</td>\n",
       "    </tr>\n",
       "  </tbody>\n",
       "</table>\n",
       "</div>"
      ],
      "text/plain": [
       "   ID  성별  연령대     시도  시군구       구매일자  구매시간    구매금액  구매수량   업종     소분류명  \\\n",
       "0   1  남성  60대  서울특별시  강동구 2015-12-16    17   28000     1  백화점     수입주방   \n",
       "1   1  남성  60대  서울특별시  강동구 2015-05-13    14   15000     1  백화점     수입주방   \n",
       "2   1  남성  60대  서울특별시  강동구 2015-08-01    19  166400     1  백화점  N/B골프의류   \n",
       "3   1  남성  60대  서울특별시  강동구 2015-12-28    12  166000     1  백화점      란제리   \n",
       "4   1  남성  60대  서울특별시  강동구 2015-05-13    12    1000     2  백화점       어묵   \n",
       "\n",
       "     중분류명  대분류명  \n",
       "0    주방용품    가정  \n",
       "1    주방용품    가정  \n",
       "2    골프용품   스포츠  \n",
       "3  란제리/내의  여성의류  \n",
       "4   젓갈/반찬    식품  "
      ]
     },
     "execution_count": 19,
     "metadata": {},
     "output_type": "execute_result"
    }
   ],
   "source": [
    "df_shop.head()"
   ]
  },
  {
   "cell_type": "code",
   "execution_count": 20,
   "metadata": {},
   "outputs": [
    {
     "data": {
      "text/plain": [
       "ID      0\n",
       "성별      0\n",
       "연령대     0\n",
       "시도      0\n",
       "시군구     0\n",
       "구매일자    0\n",
       "구매시간    0\n",
       "구매금액    0\n",
       "구매수량    0\n",
       "업종      0\n",
       "소분류명    0\n",
       "중분류명    0\n",
       "대분류명    0\n",
       "dtype: int64"
      ]
     },
     "execution_count": 20,
     "metadata": {},
     "output_type": "execute_result"
    }
   ],
   "source": [
    "df_shop.isnull().sum()"
   ]
  },
  {
   "cell_type": "code",
   "execution_count": 23,
   "metadata": {},
   "outputs": [
    {
     "name": "stderr",
     "output_type": "stream",
     "text": [
      "C:\\Users\\jessi\\anaconda3\\lib\\site-packages\\seaborn\\_decorators.py:36: FutureWarning: Pass the following variable as a keyword arg: x. From version 0.12, the only valid positional argument will be `data`, and passing other arguments without an explicit keyword will result in an error or misinterpretation.\n",
      "  warnings.warn(\n"
     ]
    },
    {
     "data": {
      "text/plain": [
       "<AxesSubplot:xlabel='구매수량'>"
      ]
     },
     "execution_count": 23,
     "metadata": {},
     "output_type": "execute_result"
    },
    {
     "data": {
      "image/png": "[encoded data removed]",
      "text/plain": [
       "<Figure size 432x288 with 1 Axes>"
      ]
     },
     "metadata": {
      "needs_background": "light"
     },
     "output_type": "display_data"
    }
   ],
   "source": [
    "# 수량 분포 확인\n",
    "\n",
    "sns.violinplot(df_shop['구매수량'])"
   ]
  },
  {
   "cell_type": "code",
   "execution_count": 24,
   "metadata": {},
   "outputs": [
    {
     "name": "stderr",
     "output_type": "stream",
     "text": [
      "C:\\Users\\jessi\\anaconda3\\lib\\site-packages\\seaborn\\_decorators.py:36: FutureWarning: Pass the following variable as a keyword arg: x. From version 0.12, the only valid positional argument will be `data`, and passing other arguments without an explicit keyword will result in an error or misinterpretation.\n",
      "  warnings.warn(\n"
     ]
    },
    {
     "data": {
      "text/plain": [
       "<AxesSubplot:xlabel='구매금액'>"
      ]
     },
     "execution_count": 24,
     "metadata": {},
     "output_type": "execute_result"
    },
    {
     "data": {
      "image/png": "[encoded data removed]",
      "text/plain": [
       "<Figure size 432x288 with 1 Axes>"
      ]
     },
     "metadata": {
      "needs_background": "light"
     },
     "output_type": "display_data"
    }
   ],
   "source": [
    "# 구매 금액 분포 확인\n",
    "\n",
    "sns.violinplot(df_shop['구매금액'])"
   ]
  },
  {
   "cell_type": "markdown",
   "metadata": {},
   "source": [
    "# 데이터 준비\n",
    "* rfm_df를 만들기\n",
    "* R(최근): 마지막 구매 이후 일수\n",
    "* F(빈도): 구매 빈도\n",
    "* M(금액): 거래 총액 (기여 수익)"
   ]
  },
  {
   "cell_type": "code",
   "execution_count": 35,
   "metadata": {},
   "outputs": [
    {
     "data": {
      "text/html": [
       "<div>\n",
       "<style scoped>\n",
       "    .dataframe tbody tr th:only-of-type {\n",
       "        vertical-align: middle;\n",
       "    }\n",
       "\n",
       "    .dataframe tbody tr th {\n",
       "        vertical-align: top;\n",
       "    }\n",
       "\n",
       "    .dataframe thead th {\n",
       "        text-align: right;\n",
       "    }\n",
       "</style>\n",
       "<table border=\"1\" class=\"dataframe\">\n",
       "  <thead>\n",
       "    <tr style=\"text-align: right;\">\n",
       "      <th></th>\n",
       "      <th>CustomerID</th>\n",
       "      <th>Monetary</th>\n",
       "    </tr>\n",
       "  </thead>\n",
       "  <tbody>\n",
       "    <tr>\n",
       "      <th>0</th>\n",
       "      <td>1</td>\n",
       "      <td>3899130</td>\n",
       "    </tr>\n",
       "    <tr>\n",
       "      <th>1</th>\n",
       "      <td>2</td>\n",
       "      <td>32593160</td>\n",
       "    </tr>\n",
       "    <tr>\n",
       "      <th>2</th>\n",
       "      <td>3</td>\n",
       "      <td>186048624</td>\n",
       "    </tr>\n",
       "    <tr>\n",
       "      <th>3</th>\n",
       "      <td>4</td>\n",
       "      <td>119248222</td>\n",
       "    </tr>\n",
       "    <tr>\n",
       "      <th>4</th>\n",
       "      <td>6</td>\n",
       "      <td>371031890</td>\n",
       "    </tr>\n",
       "  </tbody>\n",
       "</table>\n",
       "</div>"
      ],
      "text/plain": [
       "   CustomerID   Monetary\n",
       "0           1    3899130\n",
       "1           2   32593160\n",
       "2           3  186048624\n",
       "3           4  119248222\n",
       "4           6  371031890"
      ]
     },
     "execution_count": 35,
     "metadata": {},
     "output_type": "execute_result"
    }
   ],
   "source": [
    "# Monetary 변수 생성\n",
    "\n",
    "df_shop['총쇼핑금액'] = df_shop['구매금액'] * df_shop['구매수량'] # 수량 * 가격\n",
    "\n",
    "# 고객별 총 거래 수익\n",
    "\n",
    "rfm_m = pd.DataFrame(df_shop.groupby('ID')['총쇼핑금액'].sum().reset_index())\n",
    "rfm_m.columns = ['CustomerID', 'Monetary']\n",
    "rfm_m.head()"
   ]
  },
  {
   "cell_type": "code",
   "execution_count": 33,
   "metadata": {},
   "outputs": [
    {
     "data": {
      "text/html": [
       "<div>\n",
       "<style scoped>\n",
       "    .dataframe tbody tr th:only-of-type {\n",
       "        vertical-align: middle;\n",
       "    }\n",
       "\n",
       "    .dataframe tbody tr th {\n",
       "        vertical-align: top;\n",
       "    }\n",
       "\n",
       "    .dataframe thead th {\n",
       "        text-align: right;\n",
       "    }\n",
       "</style>\n",
       "<table border=\"1\" class=\"dataframe\">\n",
       "  <thead>\n",
       "    <tr style=\"text-align: right;\">\n",
       "      <th></th>\n",
       "      <th>CustomerID</th>\n",
       "      <th>Frequency</th>\n",
       "    </tr>\n",
       "  </thead>\n",
       "  <tbody>\n",
       "    <tr>\n",
       "      <th>0</th>\n",
       "      <td>1</td>\n",
       "      <td>55</td>\n",
       "    </tr>\n",
       "    <tr>\n",
       "      <th>1</th>\n",
       "      <td>2</td>\n",
       "      <td>259</td>\n",
       "    </tr>\n",
       "    <tr>\n",
       "      <th>2</th>\n",
       "      <td>3</td>\n",
       "      <td>109</td>\n",
       "    </tr>\n",
       "    <tr>\n",
       "      <th>3</th>\n",
       "      <td>4</td>\n",
       "      <td>308</td>\n",
       "    </tr>\n",
       "    <tr>\n",
       "      <th>4</th>\n",
       "      <td>6</td>\n",
       "      <td>946</td>\n",
       "    </tr>\n",
       "  </tbody>\n",
       "</table>\n",
       "</div>"
      ],
      "text/plain": [
       "   CustomerID  Frequency\n",
       "0           1         55\n",
       "1           2        259\n",
       "2           3        109\n",
       "3           4        308\n",
       "4           6        946"
      ]
     },
     "execution_count": 33,
     "metadata": {},
     "output_type": "execute_result"
    }
   ],
   "source": [
    "# Frequency 변수 생성\n",
    "\n",
    "# 고객별 구매 횟수\n",
    "\n",
    "rfm_f = pd.DataFrame(df_shop.groupby(['ID'])['구매일자'].count().reset_index())\n",
    "rfm_f.columns = ['CustomerID', 'Frequency']\n",
    "rfm_f.head()"
   ]
  },
  {
   "cell_type": "code",
   "execution_count": 36,
   "metadata": {},
   "outputs": [
    {
     "data": {
      "text/plain": [
       "Timestamp('2015-12-31 00:00:00')"
      ]
     },
     "execution_count": 36,
     "metadata": {},
     "output_type": "execute_result"
    }
   ],
   "source": [
    "# Recency 변수 생성\n",
    "\n",
    "# 이 데이터셋의 가장 최근 날짜\n",
    "max_date = max(df_shop['구매일자'])\n",
    "max_date"
   ]
  },
  {
   "cell_type": "code",
   "execution_count": 37,
   "metadata": {},
   "outputs": [
    {
     "data": {
      "text/html": [
       "<div>\n",
       "<style scoped>\n",
       "    .dataframe tbody tr th:only-of-type {\n",
       "        vertical-align: middle;\n",
       "    }\n",
       "\n",
       "    .dataframe tbody tr th {\n",
       "        vertical-align: top;\n",
       "    }\n",
       "\n",
       "    .dataframe thead th {\n",
       "        text-align: right;\n",
       "    }\n",
       "</style>\n",
       "<table border=\"1\" class=\"dataframe\">\n",
       "  <thead>\n",
       "    <tr style=\"text-align: right;\">\n",
       "      <th></th>\n",
       "      <th>ID</th>\n",
       "      <th>성별</th>\n",
       "      <th>연령대</th>\n",
       "      <th>시도</th>\n",
       "      <th>시군구</th>\n",
       "      <th>구매일자</th>\n",
       "      <th>구매시간</th>\n",
       "      <th>구매금액</th>\n",
       "      <th>구매수량</th>\n",
       "      <th>업종</th>\n",
       "      <th>소분류명</th>\n",
       "      <th>중분류명</th>\n",
       "      <th>대분류명</th>\n",
       "      <th>총쇼핑금액</th>\n",
       "      <th>구매텀</th>\n",
       "    </tr>\n",
       "  </thead>\n",
       "  <tbody>\n",
       "    <tr>\n",
       "      <th>0</th>\n",
       "      <td>1</td>\n",
       "      <td>남성</td>\n",
       "      <td>60대</td>\n",
       "      <td>서울특별시</td>\n",
       "      <td>강동구</td>\n",
       "      <td>2015-12-16</td>\n",
       "      <td>17</td>\n",
       "      <td>28000</td>\n",
       "      <td>1</td>\n",
       "      <td>백화점</td>\n",
       "      <td>수입주방</td>\n",
       "      <td>주방용품</td>\n",
       "      <td>가정</td>\n",
       "      <td>28000</td>\n",
       "      <td>15 days</td>\n",
       "    </tr>\n",
       "    <tr>\n",
       "      <th>1</th>\n",
       "      <td>1</td>\n",
       "      <td>남성</td>\n",
       "      <td>60대</td>\n",
       "      <td>서울특별시</td>\n",
       "      <td>강동구</td>\n",
       "      <td>2015-05-13</td>\n",
       "      <td>14</td>\n",
       "      <td>15000</td>\n",
       "      <td>1</td>\n",
       "      <td>백화점</td>\n",
       "      <td>수입주방</td>\n",
       "      <td>주방용품</td>\n",
       "      <td>가정</td>\n",
       "      <td>15000</td>\n",
       "      <td>232 days</td>\n",
       "    </tr>\n",
       "    <tr>\n",
       "      <th>2</th>\n",
       "      <td>1</td>\n",
       "      <td>남성</td>\n",
       "      <td>60대</td>\n",
       "      <td>서울특별시</td>\n",
       "      <td>강동구</td>\n",
       "      <td>2015-08-01</td>\n",
       "      <td>19</td>\n",
       "      <td>166400</td>\n",
       "      <td>1</td>\n",
       "      <td>백화점</td>\n",
       "      <td>N/B골프의류</td>\n",
       "      <td>골프용품</td>\n",
       "      <td>스포츠</td>\n",
       "      <td>166400</td>\n",
       "      <td>152 days</td>\n",
       "    </tr>\n",
       "    <tr>\n",
       "      <th>3</th>\n",
       "      <td>1</td>\n",
       "      <td>남성</td>\n",
       "      <td>60대</td>\n",
       "      <td>서울특별시</td>\n",
       "      <td>강동구</td>\n",
       "      <td>2015-12-28</td>\n",
       "      <td>12</td>\n",
       "      <td>166000</td>\n",
       "      <td>1</td>\n",
       "      <td>백화점</td>\n",
       "      <td>란제리</td>\n",
       "      <td>란제리/내의</td>\n",
       "      <td>여성의류</td>\n",
       "      <td>166000</td>\n",
       "      <td>3 days</td>\n",
       "    </tr>\n",
       "    <tr>\n",
       "      <th>4</th>\n",
       "      <td>1</td>\n",
       "      <td>남성</td>\n",
       "      <td>60대</td>\n",
       "      <td>서울특별시</td>\n",
       "      <td>강동구</td>\n",
       "      <td>2015-05-13</td>\n",
       "      <td>12</td>\n",
       "      <td>1000</td>\n",
       "      <td>2</td>\n",
       "      <td>백화점</td>\n",
       "      <td>어묵</td>\n",
       "      <td>젓갈/반찬</td>\n",
       "      <td>식품</td>\n",
       "      <td>2000</td>\n",
       "      <td>232 days</td>\n",
       "    </tr>\n",
       "  </tbody>\n",
       "</table>\n",
       "</div>"
      ],
      "text/plain": [
       "   ID  성별  연령대     시도  시군구       구매일자  구매시간    구매금액  구매수량   업종     소분류명  \\\n",
       "0   1  남성  60대  서울특별시  강동구 2015-12-16    17   28000     1  백화점     수입주방   \n",
       "1   1  남성  60대  서울특별시  강동구 2015-05-13    14   15000     1  백화점     수입주방   \n",
       "2   1  남성  60대  서울특별시  강동구 2015-08-01    19  166400     1  백화점  N/B골프의류   \n",
       "3   1  남성  60대  서울특별시  강동구 2015-12-28    12  166000     1  백화점      란제리   \n",
       "4   1  남성  60대  서울특별시  강동구 2015-05-13    12    1000     2  백화점       어묵   \n",
       "\n",
       "     중분류명  대분류명   총쇼핑금액      구매텀  \n",
       "0    주방용품    가정   28000  15 days  \n",
       "1    주방용품    가정   15000 232 days  \n",
       "2    골프용품   스포츠  166400 152 days  \n",
       "3  란제리/내의  여성의류  166000   3 days  \n",
       "4   젓갈/반찬    식품    2000 232 days  "
      ]
     },
     "execution_count": 37,
     "metadata": {},
     "output_type": "execute_result"
    }
   ],
   "source": [
    "df_shop['구매텀'] = max_date - df_shop['구매일자']\n",
    "df_shop.head()"
   ]
  },
  {
   "cell_type": "code",
   "execution_count": 40,
   "metadata": {},
   "outputs": [
    {
     "data": {
      "text/html": [
       "<div>\n",
       "<style scoped>\n",
       "    .dataframe tbody tr th:only-of-type {\n",
       "        vertical-align: middle;\n",
       "    }\n",
       "\n",
       "    .dataframe tbody tr th {\n",
       "        vertical-align: top;\n",
       "    }\n",
       "\n",
       "    .dataframe thead th {\n",
       "        text-align: right;\n",
       "    }\n",
       "</style>\n",
       "<table border=\"1\" class=\"dataframe\">\n",
       "  <thead>\n",
       "    <tr style=\"text-align: right;\">\n",
       "      <th></th>\n",
       "      <th>CustomerID</th>\n",
       "      <th>Recency</th>\n",
       "    </tr>\n",
       "  </thead>\n",
       "  <tbody>\n",
       "    <tr>\n",
       "      <th>0</th>\n",
       "      <td>1</td>\n",
       "      <td>3</td>\n",
       "    </tr>\n",
       "    <tr>\n",
       "      <th>1</th>\n",
       "      <td>2</td>\n",
       "      <td>11</td>\n",
       "    </tr>\n",
       "    <tr>\n",
       "      <th>2</th>\n",
       "      <td>3</td>\n",
       "      <td>7</td>\n",
       "    </tr>\n",
       "    <tr>\n",
       "      <th>3</th>\n",
       "      <td>4</td>\n",
       "      <td>3</td>\n",
       "    </tr>\n",
       "    <tr>\n",
       "      <th>4</th>\n",
       "      <td>6</td>\n",
       "      <td>4</td>\n",
       "    </tr>\n",
       "  </tbody>\n",
       "</table>\n",
       "</div>"
      ],
      "text/plain": [
       "   CustomerID  Recency\n",
       "0           1        3\n",
       "1           2       11\n",
       "2           3        7\n",
       "3           4        3\n",
       "4           6        4"
      ]
     },
     "execution_count": 40,
     "metadata": {},
     "output_type": "execute_result"
    }
   ],
   "source": [
    "# 최신성을 얻기 위해 고객별 마지막 거래가 얼마나 지났는지 알아보기\n",
    "\n",
    "rfm_r = pd.DataFrame(df_shop.groupby('ID')['구매텀'].min().reset_index())\n",
    "rfm_r['구매텀'] = rfm_r['구매텀'].dt.days # 일수만 추출\n",
    "rfm_r.columns = ['CustomerID', 'Recency']\n",
    "rfm_r.head()"
   ]
  },
  {
   "cell_type": "code",
   "execution_count": 41,
   "metadata": {},
   "outputs": [],
   "source": [
    "# r, f, m을 merge\n",
    "\n",
    "rf_merge = pd.merge(rfm_m, rfm_f, on='CustomerID', how='inner')\n",
    "rfm = pd.merge(rf_merge, rfm_r, on='CustomerID', how='inner')"
   ]
  },
  {
   "cell_type": "code",
   "execution_count": 42,
   "metadata": {},
   "outputs": [
    {
     "data": {
      "text/html": [
       "<div>\n",
       "<style scoped>\n",
       "    .dataframe tbody tr th:only-of-type {\n",
       "        vertical-align: middle;\n",
       "    }\n",
       "\n",
       "    .dataframe tbody tr th {\n",
       "        vertical-align: top;\n",
       "    }\n",
       "\n",
       "    .dataframe thead th {\n",
       "        text-align: right;\n",
       "    }\n",
       "</style>\n",
       "<table border=\"1\" class=\"dataframe\">\n",
       "  <thead>\n",
       "    <tr style=\"text-align: right;\">\n",
       "      <th></th>\n",
       "      <th>CustomerID</th>\n",
       "      <th>Monetary</th>\n",
       "      <th>Frequency</th>\n",
       "      <th>Recency</th>\n",
       "    </tr>\n",
       "  </thead>\n",
       "  <tbody>\n",
       "    <tr>\n",
       "      <th>0</th>\n",
       "      <td>1</td>\n",
       "      <td>3899130</td>\n",
       "      <td>55</td>\n",
       "      <td>3</td>\n",
       "    </tr>\n",
       "    <tr>\n",
       "      <th>1</th>\n",
       "      <td>2</td>\n",
       "      <td>32593160</td>\n",
       "      <td>259</td>\n",
       "      <td>11</td>\n",
       "    </tr>\n",
       "    <tr>\n",
       "      <th>2</th>\n",
       "      <td>3</td>\n",
       "      <td>186048624</td>\n",
       "      <td>109</td>\n",
       "      <td>7</td>\n",
       "    </tr>\n",
       "    <tr>\n",
       "      <th>3</th>\n",
       "      <td>4</td>\n",
       "      <td>119248222</td>\n",
       "      <td>308</td>\n",
       "      <td>3</td>\n",
       "    </tr>\n",
       "    <tr>\n",
       "      <th>4</th>\n",
       "      <td>6</td>\n",
       "      <td>371031890</td>\n",
       "      <td>946</td>\n",
       "      <td>4</td>\n",
       "    </tr>\n",
       "  </tbody>\n",
       "</table>\n",
       "</div>"
      ],
      "text/plain": [
       "   CustomerID   Monetary  Frequency  Recency\n",
       "0           1    3899130         55        3\n",
       "1           2   32593160        259       11\n",
       "2           3  186048624        109        7\n",
       "3           4  119248222        308        3\n",
       "4           6  371031890        946        4"
      ]
     },
     "execution_count": 42,
     "metadata": {},
     "output_type": "execute_result"
    }
   ],
   "source": [
    "rfm.head()"
   ]
  },
  {
   "cell_type": "markdown",
   "metadata": {},
   "source": [
    "## 이상치 탐색"
   ]
  },
  {
   "cell_type": "code",
   "execution_count": 51,
   "metadata": {},
   "outputs": [
    {
     "data": {
      "text/plain": [
       "Text(0, 0.5, '범위')"
      ]
     },
     "execution_count": 51,
     "metadata": {},
     "output_type": "execute_result"
    },
    {
     "data": {
      "image/png": "[encoded data removed]",
      "text/plain": [
       "<Figure size 936x432 with 1 Axes>"
      ]
     },
     "metadata": {
      "needs_background": "light"
     },
     "output_type": "display_data"
    }
   ],
   "source": [
    "속성 = ['Monetary', 'Frequency', 'Recency']\n",
    "\n",
    "plt.figure(figsize = (13, 6))\n",
    "sns.boxplot(data=rfm[속성], orient=\"v\", palette=\"Set2\" ,whis=1.5,saturation=1, width=0.7)\n",
    "plt.title('각 속성별 이상치 탐색', fontsize=20)\n",
    "plt.xlabel('속성')\n",
    "plt.ylabel('범위')"
   ]
  },
  {
   "cell_type": "markdown",
   "metadata": {},
   "source": [
    "Monetary에 대한 이상치가 많아보이므로 IQR로 이상치 처리"
   ]
  },
  {
   "cell_type": "code",
   "execution_count": 52,
   "metadata": {},
   "outputs": [],
   "source": [
    "Q1 = rfm.Monetary.quantile(0.05)\n",
    "Q3 = rfm.Monetary.quantile(0.95)\n",
    "IQR = Q3 - Q1\n",
    "\n",
    "# 해당하는 값의 범위만 rfm에 다시 할당\n",
    "# 즉, 이상치를 제외\n",
    "\n",
    "rfm = rfm[(rfm.Monetary >= Q1 - 1.5*IQR) & (rfm.Monetary <= Q3 + 1.5*IQR)] \n",
    "\n",
    "# 이상치 처리시 다른 속성들도 같은 갯수여야 하므로 Frequency, Recency도 똑같이 처리\n",
    "\n",
    "Q1 = rfm.Frequency.quantile(0.05)\n",
    "Q3 = rfm.Frequency.quantile(0.95)\n",
    "IQR = Q3 - Q1\n",
    "rfm = rfm[(rfm.Frequency >= Q1 - 1.5*IQR) & (rfm.Frequency <= Q3 + 1.5*IQR)]\n",
    "\n",
    "\n",
    "Q1 = rfm.Recency.quantile(0.05)\n",
    "Q3 = rfm.Recency.quantile(0.95)\n",
    "IQR = Q3 - Q1\n",
    "rfm = rfm[(rfm.Recency >= Q1 - 1.5*IQR) & (rfm.Recency <= Q3 + 1.5*IQR)]"
   ]
  },
  {
   "cell_type": "code",
   "execution_count": 54,
   "metadata": {},
   "outputs": [
    {
     "data": {
      "text/html": [
       "<div>\n",
       "<style scoped>\n",
       "    .dataframe tbody tr th:only-of-type {\n",
       "        vertical-align: middle;\n",
       "    }\n",
       "\n",
       "    .dataframe tbody tr th {\n",
       "        vertical-align: top;\n",
       "    }\n",
       "\n",
       "    .dataframe thead th {\n",
       "        text-align: right;\n",
       "    }\n",
       "</style>\n",
       "<table border=\"1\" class=\"dataframe\">\n",
       "  <thead>\n",
       "    <tr style=\"text-align: right;\">\n",
       "      <th></th>\n",
       "      <th>CustomerID</th>\n",
       "      <th>Monetary</th>\n",
       "      <th>Frequency</th>\n",
       "      <th>Recency</th>\n",
       "    </tr>\n",
       "  </thead>\n",
       "  <tbody>\n",
       "    <tr>\n",
       "      <th>count</th>\n",
       "      <td>16651.000000</td>\n",
       "      <td>1.665100e+04</td>\n",
       "      <td>16651.000000</td>\n",
       "      <td>16651.000000</td>\n",
       "    </tr>\n",
       "    <tr>\n",
       "      <th>mean</th>\n",
       "      <td>9588.102636</td>\n",
       "      <td>3.912275e+07</td>\n",
       "      <td>194.470302</td>\n",
       "      <td>38.825176</td>\n",
       "    </tr>\n",
       "    <tr>\n",
       "      <th>std</th>\n",
       "      <td>5668.619789</td>\n",
       "      <td>8.217575e+07</td>\n",
       "      <td>245.882241</td>\n",
       "      <td>66.830685</td>\n",
       "    </tr>\n",
       "    <tr>\n",
       "      <th>min</th>\n",
       "      <td>1.000000</td>\n",
       "      <td>4.000000e+02</td>\n",
       "      <td>1.000000</td>\n",
       "      <td>0.000000</td>\n",
       "    </tr>\n",
       "    <tr>\n",
       "      <th>25%</th>\n",
       "      <td>4710.500000</td>\n",
       "      <td>1.026500e+06</td>\n",
       "      <td>28.000000</td>\n",
       "      <td>4.000000</td>\n",
       "    </tr>\n",
       "    <tr>\n",
       "      <th>50%</th>\n",
       "      <td>9411.000000</td>\n",
       "      <td>6.201204e+06</td>\n",
       "      <td>102.000000</td>\n",
       "      <td>10.000000</td>\n",
       "    </tr>\n",
       "    <tr>\n",
       "      <th>75%</th>\n",
       "      <td>14360.500000</td>\n",
       "      <td>3.424341e+07</td>\n",
       "      <td>264.000000</td>\n",
       "      <td>38.000000</td>\n",
       "    </tr>\n",
       "    <tr>\n",
       "      <th>max</th>\n",
       "      <td>20000.000000</td>\n",
       "      <td>6.259853e+08</td>\n",
       "      <td>1771.000000</td>\n",
       "      <td>367.000000</td>\n",
       "    </tr>\n",
       "  </tbody>\n",
       "</table>\n",
       "</div>"
      ],
      "text/plain": [
       "         CustomerID      Monetary     Frequency       Recency\n",
       "count  16651.000000  1.665100e+04  16651.000000  16651.000000\n",
       "mean    9588.102636  3.912275e+07    194.470302     38.825176\n",
       "std     5668.619789  8.217575e+07    245.882241     66.830685\n",
       "min        1.000000  4.000000e+02      1.000000      0.000000\n",
       "25%     4710.500000  1.026500e+06     28.000000      4.000000\n",
       "50%     9411.000000  6.201204e+06    102.000000     10.000000\n",
       "75%    14360.500000  3.424341e+07    264.000000     38.000000\n",
       "max    20000.000000  6.259853e+08   1771.000000    367.000000"
      ]
     },
     "execution_count": 54,
     "metadata": {},
     "output_type": "execute_result"
    }
   ],
   "source": [
    "rfm.describe()"
   ]
  },
  {
   "cell_type": "markdown",
   "metadata": {},
   "source": [
    "세 속성의 범위가 매우 달라보이므로 scaling이 필요"
   ]
  },
  {
   "cell_type": "markdown",
   "metadata": {},
   "source": [
    "## 속성 scaling\n",
    "* Standardscaler 이용"
   ]
  },
  {
   "cell_type": "code",
   "execution_count": 55,
   "metadata": {},
   "outputs": [
    {
     "data": {
      "text/plain": [
       "(16651, 3)"
      ]
     },
     "execution_count": 55,
     "metadata": {},
     "output_type": "execute_result"
    }
   ],
   "source": [
    "from sklearn.preprocessing import StandardScaler\n",
    "\n",
    "rfm_df = rfm[['Monetary', 'Frequency', 'Recency']]\n",
    "\n",
    "scaler = StandardScaler()\n",
    "\n",
    "# fit_transform\n",
    "scaled_rfm = scaler.fit_transform(rfm_df)\n",
    "scaled_rfm.shape"
   ]
  },
  {
   "cell_type": "code",
   "execution_count": 56,
   "metadata": {},
   "outputs": [
    {
     "data": {
      "text/plain": [
       "array([[-0.42865056, -0.56724101, -0.53607488],\n",
       "       [-0.07946128,  0.26244936, -0.4163658 ],\n",
       "       [ 1.78800044, -0.34761709, -0.47622034],\n",
       "       ...,\n",
       "       [-0.4747958 , -0.70145563, -0.56600215],\n",
       "       [-0.47218575, -0.75432805, -0.50614761],\n",
       "       [-0.47526096, -0.78686493, -0.58096579]])"
      ]
     },
     "execution_count": 56,
     "metadata": {},
     "output_type": "execute_result"
    }
   ],
   "source": [
    "scaled_rfm"
   ]
  },
  {
   "cell_type": "code",
   "execution_count": 57,
   "metadata": {},
   "outputs": [
    {
     "data": {
      "text/html": [
       "<div>\n",
       "<style scoped>\n",
       "    .dataframe tbody tr th:only-of-type {\n",
       "        vertical-align: middle;\n",
       "    }\n",
       "\n",
       "    .dataframe tbody tr th {\n",
       "        vertical-align: top;\n",
       "    }\n",
       "\n",
       "    .dataframe thead th {\n",
       "        text-align: right;\n",
       "    }\n",
       "</style>\n",
       "<table border=\"1\" class=\"dataframe\">\n",
       "  <thead>\n",
       "    <tr style=\"text-align: right;\">\n",
       "      <th></th>\n",
       "      <th>Monetary</th>\n",
       "      <th>Frequency</th>\n",
       "      <th>Recency</th>\n",
       "    </tr>\n",
       "  </thead>\n",
       "  <tbody>\n",
       "    <tr>\n",
       "      <th>0</th>\n",
       "      <td>-0.428651</td>\n",
       "      <td>-0.567241</td>\n",
       "      <td>-0.536075</td>\n",
       "    </tr>\n",
       "    <tr>\n",
       "      <th>1</th>\n",
       "      <td>-0.079461</td>\n",
       "      <td>0.262449</td>\n",
       "      <td>-0.416366</td>\n",
       "    </tr>\n",
       "    <tr>\n",
       "      <th>2</th>\n",
       "      <td>1.788000</td>\n",
       "      <td>-0.347617</td>\n",
       "      <td>-0.476220</td>\n",
       "    </tr>\n",
       "    <tr>\n",
       "      <th>3</th>\n",
       "      <td>0.975079</td>\n",
       "      <td>0.461738</td>\n",
       "      <td>-0.536075</td>\n",
       "    </tr>\n",
       "    <tr>\n",
       "      <th>4</th>\n",
       "      <td>4.039137</td>\n",
       "      <td>3.056554</td>\n",
       "      <td>-0.521111</td>\n",
       "    </tr>\n",
       "  </tbody>\n",
       "</table>\n",
       "</div>"
      ],
      "text/plain": [
       "   Monetary  Frequency   Recency\n",
       "0 -0.428651  -0.567241 -0.536075\n",
       "1 -0.079461   0.262449 -0.416366\n",
       "2  1.788000  -0.347617 -0.476220\n",
       "3  0.975079   0.461738 -0.536075\n",
       "4  4.039137   3.056554 -0.521111"
      ]
     },
     "execution_count": 57,
     "metadata": {},
     "output_type": "execute_result"
    }
   ],
   "source": [
    "scaled_rfm = pd.DataFrame(scaled_rfm)\n",
    "scaled_rfm.columns = ['Monetary', 'Frequency', 'Recency']\n",
    "scaled_rfm.head()"
   ]
  },
  {
   "cell_type": "markdown",
   "metadata": {},
   "source": [
    "# 모델 구축\n",
    "* K-Means 알고리즘 사용"
   ]
  },
  {
   "cell_type": "code",
   "execution_count": 66,
   "metadata": {},
   "outputs": [
    {
     "name": "stderr",
     "output_type": "stream",
     "text": [
      "C:\\Users\\jessi\\anaconda3\\lib\\site-packages\\matplotlib\\backends\\backend_agg.py:238: RuntimeWarning: Glyph 8722 missing from current font.\n",
      "  font.set_text(s, 0.0, flags=flags)\n",
      "C:\\Users\\jessi\\anaconda3\\lib\\site-packages\\matplotlib\\backends\\backend_agg.py:201: RuntimeWarning: Glyph 8722 missing from current font.\n",
      "  font.set_text(s, 0, flags=flags)\n"
     ]
    },
    {
     "data": {
      "image/png": "[encoded data removed]",
      "text/plain": [
       "<Figure size 432x288 with 1 Axes>"
      ]
     },
     "metadata": {
      "needs_background": "light"
     },
     "output_type": "display_data"
    }
   ],
   "source": [
    "from sklearn.cluster import KMeans\n",
    "\n",
    "# 클러스터 갯수 1~20까지 돌려가면서 점수 확인\n",
    "\n",
    "k = range(1, 20)\n",
    "model = [KMeans(n_clusters = i, max_iter=100) for i in k]\n",
    "score = [model[i].fit(scaled_rfm).score(scaled_rfm) for i in range(len(model))]\n",
    "\n",
    "plt.plot(k, score)\n",
    "plt.xlabel('클러스터 갯수')\n",
    "plt.ylabel('점수')\n",
    "plt.title('Elbow Curve')\n",
    "plt.show()"
   ]
  },
  {
   "cell_type": "code",
   "execution_count": 67,
   "metadata": {},
   "outputs": [
    {
     "name": "stderr",
     "output_type": "stream",
     "text": [
      "C:\\Users\\jessi\\anaconda3\\lib\\site-packages\\matplotlib\\backends\\backend_agg.py:238: RuntimeWarning: Glyph 8722 missing from current font.\n",
      "  font.set_text(s, 0.0, flags=flags)\n",
      "C:\\Users\\jessi\\anaconda3\\lib\\site-packages\\matplotlib\\backends\\backend_agg.py:201: RuntimeWarning: Glyph 8722 missing from current font.\n",
      "  font.set_text(s, 0, flags=flags)\n"
     ]
    },
    {
     "data": {
      "image/png": "[encoded data removed]",
      "text/plain": [
       "<Figure size 432x288 with 1 Axes>"
      ]
     },
     "metadata": {
      "needs_background": "light"
     },
     "output_type": "display_data"
    }
   ],
   "source": [
    "k = range(1, 10)\n",
    "model = [KMeans(n_clusters = i, max_iter=100) for i in k]\n",
    "score = [model[i].fit(scaled_rfm).score(scaled_rfm) for i in range(len(model))]\n",
    "\n",
    "plt.plot(k, score)\n",
    "plt.xlabel('클러스터 갯수')\n",
    "plt.ylabel('점수')\n",
    "plt.title('Elbow Curve')\n",
    "plt.show()"
   ]
  },
  {
   "cell_type": "markdown",
   "metadata": {},
   "source": [
    "* 엘보우 곡선으로 봤을때 k값은 4개가 적당해 보임"
   ]
  },
  {
   "cell_type": "code",
   "execution_count": 68,
   "metadata": {},
   "outputs": [
    {
     "name": "stdout",
     "output_type": "stream",
     "text": [
      "클러스터 갯수 = 2, 실루엣 점수 = 0.5568839758681144\n",
      "클러스터 갯수 = 3, 실루엣 점수 = 0.575883913647974\n",
      "클러스터 갯수 = 4, 실루엣 점수 = 0.5360463565260135\n",
      "클러스터 갯수 = 5, 실루엣 점수 = 0.45794695681223807\n",
      "클러스터 갯수 = 6, 실루엣 점수 = 0.4669452758352198\n",
      "클러스터 갯수 = 7, 실루엣 점수 = 0.4699739855061425\n",
      "클러스터 갯수 = 8, 실루엣 점수 = 0.41659527813439945\n",
      "클러스터 갯수 = 9, 실루엣 점수 = 0.4186980798289029\n",
      "클러스터 갯수 = 10, 실루엣 점수 = 0.42209866638384047\n"
     ]
    }
   ],
   "source": [
    "# 실루엣 분석\n",
    "\n",
    "from sklearn.metrics import silhouette_score\n",
    "\n",
    "range_n_clusters = [2, 3, 4, 5, 6, 7, 8, 9, 10]\n",
    "\n",
    "for n_cluster in range_n_clusters:\n",
    "    kmeans = KMeans(n_clusters=n_cluster, max_iter=100)\n",
    "    kmeans.fit(scaled_rfm)\n",
    "    \n",
    "    cluster_labels = kmeans.labels_\n",
    "    \n",
    "    sil_avg = silhouette_score(scaled_rfm, cluster_labels)\n",
    "    print(f\"클러스터 갯수 = {n_cluster}, 실루엣 점수 = {sil_avg}\")\n"
   ]
  },
  {
   "cell_type": "markdown",
   "metadata": {},
   "source": [
    "* 클러스터 갯수 = 4 이후로 실루엣 점수가 뚝 떨어지므로 k=4로 결정"
   ]
  },
  {
   "cell_type": "code",
   "execution_count": 70,
   "metadata": {},
   "outputs": [
    {
     "data": {
      "text/plain": [
       "KMeans(max_iter=100, n_clusters=4)"
      ]
     },
     "execution_count": 70,
     "metadata": {},
     "output_type": "execute_result"
    }
   ],
   "source": [
    "# k=4\n",
    "model = KMeans(n_clusters=4, max_iter=100)\n",
    "model.fit(scaled_rfm)"
   ]
  },
  {
   "cell_type": "code",
   "execution_count": 73,
   "metadata": {},
   "outputs": [
    {
     "data": {
      "text/plain": [
       "array([0, 0, 0, ..., 0, 0, 0])"
      ]
     },
     "execution_count": 73,
     "metadata": {},
     "output_type": "execute_result"
    }
   ],
   "source": [
    "model.labels_"
   ]
  },
  {
   "cell_type": "code",
   "execution_count": 74,
   "metadata": {},
   "outputs": [
    {
     "data": {
      "text/html": [
       "<div>\n",
       "<style scoped>\n",
       "    .dataframe tbody tr th:only-of-type {\n",
       "        vertical-align: middle;\n",
       "    }\n",
       "\n",
       "    .dataframe tbody tr th {\n",
       "        vertical-align: top;\n",
       "    }\n",
       "\n",
       "    .dataframe thead th {\n",
       "        text-align: right;\n",
       "    }\n",
       "</style>\n",
       "<table border=\"1\" class=\"dataframe\">\n",
       "  <thead>\n",
       "    <tr style=\"text-align: right;\">\n",
       "      <th></th>\n",
       "      <th>CustomerID</th>\n",
       "      <th>Monetary</th>\n",
       "      <th>Frequency</th>\n",
       "      <th>Recency</th>\n",
       "      <th>cluster</th>\n",
       "    </tr>\n",
       "  </thead>\n",
       "  <tbody>\n",
       "    <tr>\n",
       "      <th>0</th>\n",
       "      <td>1</td>\n",
       "      <td>3899130</td>\n",
       "      <td>55</td>\n",
       "      <td>3</td>\n",
       "      <td>0</td>\n",
       "    </tr>\n",
       "    <tr>\n",
       "      <th>1</th>\n",
       "      <td>2</td>\n",
       "      <td>32593160</td>\n",
       "      <td>259</td>\n",
       "      <td>11</td>\n",
       "      <td>0</td>\n",
       "    </tr>\n",
       "    <tr>\n",
       "      <th>2</th>\n",
       "      <td>3</td>\n",
       "      <td>186048624</td>\n",
       "      <td>109</td>\n",
       "      <td>7</td>\n",
       "      <td>0</td>\n",
       "    </tr>\n",
       "    <tr>\n",
       "      <th>3</th>\n",
       "      <td>4</td>\n",
       "      <td>119248222</td>\n",
       "      <td>308</td>\n",
       "      <td>3</td>\n",
       "      <td>3</td>\n",
       "    </tr>\n",
       "    <tr>\n",
       "      <th>4</th>\n",
       "      <td>6</td>\n",
       "      <td>371031890</td>\n",
       "      <td>946</td>\n",
       "      <td>4</td>\n",
       "      <td>1</td>\n",
       "    </tr>\n",
       "  </tbody>\n",
       "</table>\n",
       "</div>"
      ],
      "text/plain": [
       "   CustomerID   Monetary  Frequency  Recency  cluster\n",
       "0           1    3899130         55        3        0\n",
       "1           2   32593160        259       11        0\n",
       "2           3  186048624        109        7        0\n",
       "3           4  119248222        308        3        3\n",
       "4           6  371031890        946        4        1"
      ]
     },
     "execution_count": 74,
     "metadata": {},
     "output_type": "execute_result"
    }
   ],
   "source": [
    "# 라벨값 추가\n",
    "\n",
    "rfm['cluster'] = model.labels_\n",
    "rfm.head()"
   ]
  },
  {
   "cell_type": "code",
   "execution_count": 81,
   "metadata": {},
   "outputs": [
    {
     "data": {
      "text/html": [
       "<div>\n",
       "<style scoped>\n",
       "    .dataframe tbody tr th:only-of-type {\n",
       "        vertical-align: middle;\n",
       "    }\n",
       "\n",
       "    .dataframe tbody tr th {\n",
       "        vertical-align: top;\n",
       "    }\n",
       "\n",
       "    .dataframe thead th {\n",
       "        text-align: right;\n",
       "    }\n",
       "</style>\n",
       "<table border=\"1\" class=\"dataframe\">\n",
       "  <thead>\n",
       "    <tr style=\"text-align: right;\">\n",
       "      <th></th>\n",
       "      <th>CustomerID</th>\n",
       "      <th>Monetary</th>\n",
       "      <th>Frequency</th>\n",
       "      <th>Recency</th>\n",
       "      <th>cluster</th>\n",
       "    </tr>\n",
       "  </thead>\n",
       "  <tbody>\n",
       "    <tr>\n",
       "      <th>0</th>\n",
       "      <td>1</td>\n",
       "      <td>3899130</td>\n",
       "      <td>55</td>\n",
       "      <td>3</td>\n",
       "      <td>0</td>\n",
       "    </tr>\n",
       "    <tr>\n",
       "      <th>1</th>\n",
       "      <td>2</td>\n",
       "      <td>32593160</td>\n",
       "      <td>259</td>\n",
       "      <td>11</td>\n",
       "      <td>0</td>\n",
       "    </tr>\n",
       "    <tr>\n",
       "      <th>2</th>\n",
       "      <td>3</td>\n",
       "      <td>186048624</td>\n",
       "      <td>109</td>\n",
       "      <td>7</td>\n",
       "      <td>0</td>\n",
       "    </tr>\n",
       "    <tr>\n",
       "      <th>3</th>\n",
       "      <td>4</td>\n",
       "      <td>119248222</td>\n",
       "      <td>308</td>\n",
       "      <td>3</td>\n",
       "      <td>3</td>\n",
       "    </tr>\n",
       "    <tr>\n",
       "      <th>4</th>\n",
       "      <td>6</td>\n",
       "      <td>371031890</td>\n",
       "      <td>946</td>\n",
       "      <td>4</td>\n",
       "      <td>1</td>\n",
       "    </tr>\n",
       "    <tr>\n",
       "      <th>...</th>\n",
       "      <td>...</td>\n",
       "      <td>...</td>\n",
       "      <td>...</td>\n",
       "      <td>...</td>\n",
       "      <td>...</td>\n",
       "    </tr>\n",
       "    <tr>\n",
       "      <th>16887</th>\n",
       "      <td>19995</td>\n",
       "      <td>159600</td>\n",
       "      <td>1</td>\n",
       "      <td>6</td>\n",
       "      <td>0</td>\n",
       "    </tr>\n",
       "    <tr>\n",
       "      <th>16888</th>\n",
       "      <td>19996</td>\n",
       "      <td>378780</td>\n",
       "      <td>27</td>\n",
       "      <td>8</td>\n",
       "      <td>0</td>\n",
       "    </tr>\n",
       "    <tr>\n",
       "      <th>16889</th>\n",
       "      <td>19997</td>\n",
       "      <td>107224</td>\n",
       "      <td>22</td>\n",
       "      <td>1</td>\n",
       "      <td>0</td>\n",
       "    </tr>\n",
       "    <tr>\n",
       "      <th>16890</th>\n",
       "      <td>19998</td>\n",
       "      <td>321700</td>\n",
       "      <td>9</td>\n",
       "      <td>5</td>\n",
       "      <td>0</td>\n",
       "    </tr>\n",
       "    <tr>\n",
       "      <th>16891</th>\n",
       "      <td>20000</td>\n",
       "      <td>69000</td>\n",
       "      <td>1</td>\n",
       "      <td>0</td>\n",
       "      <td>0</td>\n",
       "    </tr>\n",
       "  </tbody>\n",
       "</table>\n",
       "<p>16651 rows × 5 columns</p>\n",
       "</div>"
      ],
      "text/plain": [
       "       CustomerID   Monetary  Frequency  Recency  cluster\n",
       "0               1    3899130         55        3        0\n",
       "1               2   32593160        259       11        0\n",
       "2               3  186048624        109        7        0\n",
       "3               4  119248222        308        3        3\n",
       "4               6  371031890        946        4        1\n",
       "...           ...        ...        ...      ...      ...\n",
       "16887       19995     159600          1        6        0\n",
       "16888       19996     378780         27        8        0\n",
       "16889       19997     107224         22        1        0\n",
       "16890       19998     321700          9        5        0\n",
       "16891       20000      69000          1        0        0\n",
       "\n",
       "[16651 rows x 5 columns]"
      ]
     },
     "execution_count": 81,
     "metadata": {},
     "output_type": "execute_result"
    }
   ],
   "source": [
    "rfm"
   ]
  },
  {
   "cell_type": "markdown",
   "metadata": {},
   "source": [
    "## 군집별 값 분포 알아보기\n",
    "* boxplot"
   ]
  },
  {
   "cell_type": "code",
   "execution_count": 77,
   "metadata": {},
   "outputs": [
    {
     "data": {
      "text/plain": [
       "<AxesSubplot:title={'center':'군집별 Monetary boxplot'}, xlabel='cluster', ylabel='Monetary'>"
      ]
     },
     "execution_count": 77,
     "metadata": {},
     "output_type": "execute_result"
    },
    {
     "data": {
      "image/png": "[encoded data removed]",
      "text/plain": [
       "<Figure size 936x432 with 1 Axes>"
      ]
     },
     "metadata": {
      "needs_background": "light"
     },
     "output_type": "display_data"
    }
   ],
   "source": [
    "plt.figure(figsize=(13, 6))\n",
    "plt.title('군집별 Monetary boxplot', fontsize=20)\n",
    "sns.boxplot(data=rfm, x='cluster', y='Monetary')"
   ]
  },
  {
   "cell_type": "code",
   "execution_count": 78,
   "metadata": {},
   "outputs": [
    {
     "data": {
      "text/plain": [
       "<AxesSubplot:title={'center':'군집별 Frequency boxplot'}, xlabel='cluster', ylabel='Frequency'>"
      ]
     },
     "execution_count": 78,
     "metadata": {},
     "output_type": "execute_result"
    },
    {
     "data": {
      "image/png": "[encoded data removed]",
      "text/plain": [
       "<Figure size 936x432 with 1 Axes>"
      ]
     },
     "metadata": {
      "needs_background": "light"
     },
     "output_type": "display_data"
    }
   ],
   "source": [
    "plt.figure(figsize=(13, 6))\n",
    "plt.title('군집별 Frequency boxplot', fontsize=20)\n",
    "sns.boxplot(data=rfm, x='cluster', y='Frequency')"
   ]
  },
  {
   "cell_type": "code",
   "execution_count": 79,
   "metadata": {},
   "outputs": [
    {
     "data": {
      "text/plain": [
       "<AxesSubplot:title={'center':'군집별 Recency boxplot'}, xlabel='cluster', ylabel='Recency'>"
      ]
     },
     "execution_count": 79,
     "metadata": {},
     "output_type": "execute_result"
    },
    {
     "data": {
      "image/png": "[encoded data removed]",
      "text/plain": [
       "<Figure size 936x432 with 1 Axes>"
      ]
     },
     "metadata": {
      "needs_background": "light"
     },
     "output_type": "display_data"
    }
   ],
   "source": [
    "plt.figure(figsize=(13, 6))\n",
    "plt.title('군집별 Recency boxplot', fontsize=20)\n",
    "sns.boxplot(data=rfm, x='cluster', y='Recency')"
   ]
  },
  {
   "cell_type": "markdown",
   "metadata": {},
   "source": [
    "# 최종 분석 결과 정리"
   ]
  },
  {
   "cell_type": "markdown",
   "metadata": {},
   "source": [
    "* 큰 수익을 창출하고 빈번하게 구매하는 집단은 클러스터 1 집단 (플래티넘)\n",
    "* 상대적으로 큰 수익은 아니지만 빈번한 구매가 이루어지는 집단은 클러스터 3 집단 (골드)\n",
    "* 구매빈도도 적고 수익도 적은 집단은 클러스터 0집단 (실버)\n",
    "* 클러스터 2집단의 경우에는 최신성도 가장 적으면서 빈번 구매도 X, 수익도 가장 적으므로 비즈니스 관점에서 중요도가 가장 낮아보임. 분석시 제외해도 될 듯."
   ]
  },
  {
   "cell_type": "markdown",
   "metadata": {},
   "source": [
    "# 티어별 고객 정보 CSV 저장\n",
    "* 플래티넘 그룹 - 클러스터 1\n",
    "* 골드 그룹 - 클러스터 3\n",
    "* 실버 그룹 - 클러스터 0"
   ]
  },
  {
   "cell_type": "code",
   "execution_count": 84,
   "metadata": {},
   "outputs": [
    {
     "data": {
      "text/html": [
       "<div>\n",
       "<style scoped>\n",
       "    .dataframe tbody tr th:only-of-type {\n",
       "        vertical-align: middle;\n",
       "    }\n",
       "\n",
       "    .dataframe tbody tr th {\n",
       "        vertical-align: top;\n",
       "    }\n",
       "\n",
       "    .dataframe thead th {\n",
       "        text-align: right;\n",
       "    }\n",
       "</style>\n",
       "<table border=\"1\" class=\"dataframe\">\n",
       "  <thead>\n",
       "    <tr style=\"text-align: right;\">\n",
       "      <th></th>\n",
       "      <th>ID</th>\n",
       "      <th>성별</th>\n",
       "      <th>연령대</th>\n",
       "      <th>시도</th>\n",
       "      <th>시군구</th>\n",
       "      <th>구매일자</th>\n",
       "      <th>구매시간</th>\n",
       "      <th>구매금액</th>\n",
       "      <th>구매수량</th>\n",
       "      <th>업종</th>\n",
       "      <th>소분류명</th>\n",
       "      <th>중분류명</th>\n",
       "      <th>대분류명</th>\n",
       "      <th>총쇼핑금액</th>\n",
       "      <th>구매텀</th>\n",
       "      <th>Monetary</th>\n",
       "      <th>Frequency</th>\n",
       "      <th>Recency</th>\n",
       "      <th>cluster</th>\n",
       "    </tr>\n",
       "  </thead>\n",
       "  <tbody>\n",
       "    <tr>\n",
       "      <th>0</th>\n",
       "      <td>1</td>\n",
       "      <td>남성</td>\n",
       "      <td>60대</td>\n",
       "      <td>서울특별시</td>\n",
       "      <td>강동구</td>\n",
       "      <td>2015-12-16</td>\n",
       "      <td>17</td>\n",
       "      <td>28000</td>\n",
       "      <td>1</td>\n",
       "      <td>백화점</td>\n",
       "      <td>수입주방</td>\n",
       "      <td>주방용품</td>\n",
       "      <td>가정</td>\n",
       "      <td>28000</td>\n",
       "      <td>15 days</td>\n",
       "      <td>3899130.0</td>\n",
       "      <td>55.0</td>\n",
       "      <td>3.0</td>\n",
       "      <td>0.0</td>\n",
       "    </tr>\n",
       "    <tr>\n",
       "      <th>1</th>\n",
       "      <td>1</td>\n",
       "      <td>남성</td>\n",
       "      <td>60대</td>\n",
       "      <td>서울특별시</td>\n",
       "      <td>강동구</td>\n",
       "      <td>2015-05-13</td>\n",
       "      <td>14</td>\n",
       "      <td>15000</td>\n",
       "      <td>1</td>\n",
       "      <td>백화점</td>\n",
       "      <td>수입주방</td>\n",
       "      <td>주방용품</td>\n",
       "      <td>가정</td>\n",
       "      <td>15000</td>\n",
       "      <td>232 days</td>\n",
       "      <td>3899130.0</td>\n",
       "      <td>55.0</td>\n",
       "      <td>3.0</td>\n",
       "      <td>0.0</td>\n",
       "    </tr>\n",
       "    <tr>\n",
       "      <th>2</th>\n",
       "      <td>1</td>\n",
       "      <td>남성</td>\n",
       "      <td>60대</td>\n",
       "      <td>서울특별시</td>\n",
       "      <td>강동구</td>\n",
       "      <td>2015-08-01</td>\n",
       "      <td>19</td>\n",
       "      <td>166400</td>\n",
       "      <td>1</td>\n",
       "      <td>백화점</td>\n",
       "      <td>N/B골프의류</td>\n",
       "      <td>골프용품</td>\n",
       "      <td>스포츠</td>\n",
       "      <td>166400</td>\n",
       "      <td>152 days</td>\n",
       "      <td>3899130.0</td>\n",
       "      <td>55.0</td>\n",
       "      <td>3.0</td>\n",
       "      <td>0.0</td>\n",
       "    </tr>\n",
       "    <tr>\n",
       "      <th>3</th>\n",
       "      <td>1</td>\n",
       "      <td>남성</td>\n",
       "      <td>60대</td>\n",
       "      <td>서울특별시</td>\n",
       "      <td>강동구</td>\n",
       "      <td>2015-12-28</td>\n",
       "      <td>12</td>\n",
       "      <td>166000</td>\n",
       "      <td>1</td>\n",
       "      <td>백화점</td>\n",
       "      <td>란제리</td>\n",
       "      <td>란제리/내의</td>\n",
       "      <td>여성의류</td>\n",
       "      <td>166000</td>\n",
       "      <td>3 days</td>\n",
       "      <td>3899130.0</td>\n",
       "      <td>55.0</td>\n",
       "      <td>3.0</td>\n",
       "      <td>0.0</td>\n",
       "    </tr>\n",
       "    <tr>\n",
       "      <th>4</th>\n",
       "      <td>1</td>\n",
       "      <td>남성</td>\n",
       "      <td>60대</td>\n",
       "      <td>서울특별시</td>\n",
       "      <td>강동구</td>\n",
       "      <td>2015-05-13</td>\n",
       "      <td>12</td>\n",
       "      <td>1000</td>\n",
       "      <td>2</td>\n",
       "      <td>백화점</td>\n",
       "      <td>어묵</td>\n",
       "      <td>젓갈/반찬</td>\n",
       "      <td>식품</td>\n",
       "      <td>2000</td>\n",
       "      <td>232 days</td>\n",
       "      <td>3899130.0</td>\n",
       "      <td>55.0</td>\n",
       "      <td>3.0</td>\n",
       "      <td>0.0</td>\n",
       "    </tr>\n",
       "  </tbody>\n",
       "</table>\n",
       "</div>"
      ],
      "text/plain": [
       "   ID  성별  연령대     시도  시군구       구매일자  구매시간    구매금액  구매수량   업종     소분류명  \\\n",
       "0   1  남성  60대  서울특별시  강동구 2015-12-16    17   28000     1  백화점     수입주방   \n",
       "1   1  남성  60대  서울특별시  강동구 2015-05-13    14   15000     1  백화점     수입주방   \n",
       "2   1  남성  60대  서울특별시  강동구 2015-08-01    19  166400     1  백화점  N/B골프의류   \n",
       "3   1  남성  60대  서울특별시  강동구 2015-12-28    12  166000     1  백화점      란제리   \n",
       "4   1  남성  60대  서울특별시  강동구 2015-05-13    12    1000     2  백화점       어묵   \n",
       "\n",
       "     중분류명  대분류명   총쇼핑금액      구매텀   Monetary  Frequency  Recency  cluster  \n",
       "0    주방용품    가정   28000  15 days  3899130.0       55.0      3.0      0.0  \n",
       "1    주방용품    가정   15000 232 days  3899130.0       55.0      3.0      0.0  \n",
       "2    골프용품   스포츠  166400 152 days  3899130.0       55.0      3.0      0.0  \n",
       "3  란제리/내의  여성의류  166000   3 days  3899130.0       55.0      3.0      0.0  \n",
       "4   젓갈/반찬    식품    2000 232 days  3899130.0       55.0      3.0      0.0  "
      ]
     },
     "execution_count": 84,
     "metadata": {},
     "output_type": "execute_result"
    }
   ],
   "source": [
    "df = pd.merge(df_shop, rfm, left_on='ID', right_on='CustomerID', how='left')\n",
    "df.drop(columns=['CustomerID'], inplace=True)\n",
    "df.head()"
   ]
  },
  {
   "cell_type": "code",
   "execution_count": 86,
   "metadata": {},
   "outputs": [
    {
     "data": {
      "text/plain": [
       "(480630, 19)"
      ]
     },
     "execution_count": 86,
     "metadata": {},
     "output_type": "execute_result"
    }
   ],
   "source": [
    "# 플래티넘 그룹\n",
    "platinum_df = df[df['cluster'] == 1]\n",
    "platinum_df.shape"
   ]
  },
  {
   "cell_type": "code",
   "execution_count": 87,
   "metadata": {},
   "outputs": [
    {
     "data": {
      "text/plain": [
       "(1504988, 19)"
      ]
     },
     "execution_count": 87,
     "metadata": {},
     "output_type": "execute_result"
    }
   ],
   "source": [
    "# 골드 그룹\n",
    "gold_df = df[df['cluster'] == 3]\n",
    "gold_df.shape"
   ]
  },
  {
   "cell_type": "code",
   "execution_count": 88,
   "metadata": {},
   "outputs": [
    {
     "data": {
      "text/plain": [
       "(1221269, 19)"
      ]
     },
     "execution_count": 88,
     "metadata": {},
     "output_type": "execute_result"
    }
   ],
   "source": [
    "# 실버 그룹\n",
    "silver_df = df[df['cluster'] == 0]\n",
    "silver_df.shape"
   ]
  },
  {
   "cell_type": "code",
   "execution_count": 89,
   "metadata": {},
   "outputs": [],
   "source": [
    "# csv 파일로 저장\n",
    "platinum_df.to_csv('data/platinum_df.csv', index=False)\n",
    "gold_df.to_csv('data/gold_df.csv', index=False)\n",
    "silver_df.to_csv('data/silver_df.csv', index=False)"
   ]
  },
  {
   "cell_type": "code",
   "execution_count": 90,
   "metadata": {},
   "outputs": [
    {
     "data": {
      "text/html": [
       "<div>\n",
       "<style scoped>\n",
       "    .dataframe tbody tr th:only-of-type {\n",
       "        vertical-align: middle;\n",
       "    }\n",
       "\n",
       "    .dataframe tbody tr th {\n",
       "        vertical-align: top;\n",
       "    }\n",
       "\n",
       "    .dataframe thead th {\n",
       "        text-align: right;\n",
       "    }\n",
       "</style>\n",
       "<table border=\"1\" class=\"dataframe\">\n",
       "  <thead>\n",
       "    <tr style=\"text-align: right;\">\n",
       "      <th></th>\n",
       "      <th>ID</th>\n",
       "      <th>성별</th>\n",
       "      <th>연령대</th>\n",
       "      <th>시도</th>\n",
       "      <th>시군구</th>\n",
       "      <th>구매일자</th>\n",
       "      <th>구매시간</th>\n",
       "      <th>구매금액</th>\n",
       "      <th>구매수량</th>\n",
       "      <th>업종</th>\n",
       "      <th>소분류명</th>\n",
       "      <th>중분류명</th>\n",
       "      <th>대분류명</th>\n",
       "      <th>총쇼핑금액</th>\n",
       "      <th>구매텀</th>\n",
       "      <th>Monetary</th>\n",
       "      <th>Frequency</th>\n",
       "      <th>Recency</th>\n",
       "      <th>cluster</th>\n",
       "    </tr>\n",
       "  </thead>\n",
       "  <tbody>\n",
       "    <tr>\n",
       "      <th>0</th>\n",
       "      <td>6</td>\n",
       "      <td>여성</td>\n",
       "      <td>60대</td>\n",
       "      <td>서울특별시</td>\n",
       "      <td>송파구</td>\n",
       "      <td>2015-07-27</td>\n",
       "      <td>19</td>\n",
       "      <td>6980</td>\n",
       "      <td>1</td>\n",
       "      <td>대형마트</td>\n",
       "      <td>냉장면류</td>\n",
       "      <td>냉장식사HMR</td>\n",
       "      <td>가공HMR</td>\n",
       "      <td>6980</td>\n",
       "      <td>157 days</td>\n",
       "      <td>371031890.0</td>\n",
       "      <td>946.0</td>\n",
       "      <td>4.0</td>\n",
       "      <td>1.0</td>\n",
       "    </tr>\n",
       "    <tr>\n",
       "      <th>1</th>\n",
       "      <td>6</td>\n",
       "      <td>여성</td>\n",
       "      <td>60대</td>\n",
       "      <td>서울특별시</td>\n",
       "      <td>송파구</td>\n",
       "      <td>2015-07-27</td>\n",
       "      <td>19</td>\n",
       "      <td>1980</td>\n",
       "      <td>1</td>\n",
       "      <td>대형마트</td>\n",
       "      <td>건나물</td>\n",
       "      <td>나물</td>\n",
       "      <td>두부/콩나물/나물</td>\n",
       "      <td>1980</td>\n",
       "      <td>157 days</td>\n",
       "      <td>371031890.0</td>\n",
       "      <td>946.0</td>\n",
       "      <td>4.0</td>\n",
       "      <td>1.0</td>\n",
       "    </tr>\n",
       "    <tr>\n",
       "      <th>2</th>\n",
       "      <td>6</td>\n",
       "      <td>여성</td>\n",
       "      <td>60대</td>\n",
       "      <td>서울특별시</td>\n",
       "      <td>송파구</td>\n",
       "      <td>2015-07-27</td>\n",
       "      <td>19</td>\n",
       "      <td>4600</td>\n",
       "      <td>1</td>\n",
       "      <td>대형마트</td>\n",
       "      <td>차별화계란</td>\n",
       "      <td>계란</td>\n",
       "      <td>계란</td>\n",
       "      <td>4600</td>\n",
       "      <td>157 days</td>\n",
       "      <td>371031890.0</td>\n",
       "      <td>946.0</td>\n",
       "      <td>4.0</td>\n",
       "      <td>1.0</td>\n",
       "    </tr>\n",
       "    <tr>\n",
       "      <th>3</th>\n",
       "      <td>6</td>\n",
       "      <td>여성</td>\n",
       "      <td>60대</td>\n",
       "      <td>서울특별시</td>\n",
       "      <td>송파구</td>\n",
       "      <td>2015-07-27</td>\n",
       "      <td>19</td>\n",
       "      <td>2000</td>\n",
       "      <td>1</td>\n",
       "      <td>대형마트</td>\n",
       "      <td>삶은나물</td>\n",
       "      <td>나물</td>\n",
       "      <td>두부/콩나물/나물</td>\n",
       "      <td>2000</td>\n",
       "      <td>157 days</td>\n",
       "      <td>371031890.0</td>\n",
       "      <td>946.0</td>\n",
       "      <td>4.0</td>\n",
       "      <td>1.0</td>\n",
       "    </tr>\n",
       "    <tr>\n",
       "      <th>4</th>\n",
       "      <td>6</td>\n",
       "      <td>여성</td>\n",
       "      <td>60대</td>\n",
       "      <td>서울특별시</td>\n",
       "      <td>송파구</td>\n",
       "      <td>2015-07-27</td>\n",
       "      <td>19</td>\n",
       "      <td>1900</td>\n",
       "      <td>1</td>\n",
       "      <td>대형마트</td>\n",
       "      <td>건나물</td>\n",
       "      <td>나물</td>\n",
       "      <td>두부/콩나물/나물</td>\n",
       "      <td>1900</td>\n",
       "      <td>157 days</td>\n",
       "      <td>371031890.0</td>\n",
       "      <td>946.0</td>\n",
       "      <td>4.0</td>\n",
       "      <td>1.0</td>\n",
       "    </tr>\n",
       "  </tbody>\n",
       "</table>\n",
       "</div>"
      ],
      "text/plain": [
       "   ID  성별  연령대     시도  시군구        구매일자  구매시간  구매금액  구매수량    업종   소분류명  \\\n",
       "0   6  여성  60대  서울특별시  송파구  2015-07-27    19  6980     1  대형마트   냉장면류   \n",
       "1   6  여성  60대  서울특별시  송파구  2015-07-27    19  1980     1  대형마트    건나물   \n",
       "2   6  여성  60대  서울특별시  송파구  2015-07-27    19  4600     1  대형마트  차별화계란   \n",
       "3   6  여성  60대  서울특별시  송파구  2015-07-27    19  2000     1  대형마트   삶은나물   \n",
       "4   6  여성  60대  서울특별시  송파구  2015-07-27    19  1900     1  대형마트    건나물   \n",
       "\n",
       "      중분류명       대분류명  총쇼핑금액       구매텀     Monetary  Frequency  Recency  \\\n",
       "0  냉장식사HMR      가공HMR   6980  157 days  371031890.0      946.0      4.0   \n",
       "1       나물  두부/콩나물/나물   1980  157 days  371031890.0      946.0      4.0   \n",
       "2       계란         계란   4600  157 days  371031890.0      946.0      4.0   \n",
       "3       나물  두부/콩나물/나물   2000  157 days  371031890.0      946.0      4.0   \n",
       "4       나물  두부/콩나물/나물   1900  157 days  371031890.0      946.0      4.0   \n",
       "\n",
       "   cluster  \n",
       "0      1.0  \n",
       "1      1.0  \n",
       "2      1.0  \n",
       "3      1.0  \n",
       "4      1.0  "
      ]
     },
     "execution_count": 90,
     "metadata": {},
     "output_type": "execute_result"
    }
   ],
   "source": [
    "# 확인\n",
    "p = pd.read_csv('data/platinum_df.csv')\n",
    "p.head()"
   ]
  },
  {
   "cell_type": "code",
   "execution_count": 91,
   "metadata": {},
   "outputs": [
    {
     "data": {
      "text/html": [
       "<div>\n",
       "<style scoped>\n",
       "    .dataframe tbody tr th:only-of-type {\n",
       "        vertical-align: middle;\n",
       "    }\n",
       "\n",
       "    .dataframe tbody tr th {\n",
       "        vertical-align: top;\n",
       "    }\n",
       "\n",
       "    .dataframe thead th {\n",
       "        text-align: right;\n",
       "    }\n",
       "</style>\n",
       "<table border=\"1\" class=\"dataframe\">\n",
       "  <thead>\n",
       "    <tr style=\"text-align: right;\">\n",
       "      <th></th>\n",
       "      <th>ID</th>\n",
       "      <th>성별</th>\n",
       "      <th>연령대</th>\n",
       "      <th>시도</th>\n",
       "      <th>시군구</th>\n",
       "      <th>구매일자</th>\n",
       "      <th>구매시간</th>\n",
       "      <th>구매금액</th>\n",
       "      <th>구매수량</th>\n",
       "      <th>업종</th>\n",
       "      <th>소분류명</th>\n",
       "      <th>중분류명</th>\n",
       "      <th>대분류명</th>\n",
       "      <th>총쇼핑금액</th>\n",
       "      <th>구매텀</th>\n",
       "      <th>Monetary</th>\n",
       "      <th>Frequency</th>\n",
       "      <th>Recency</th>\n",
       "      <th>cluster</th>\n",
       "    </tr>\n",
       "  </thead>\n",
       "  <tbody>\n",
       "    <tr>\n",
       "      <th>0</th>\n",
       "      <td>4</td>\n",
       "      <td>남성</td>\n",
       "      <td>60대</td>\n",
       "      <td>경기도</td>\n",
       "      <td>남양주시</td>\n",
       "      <td>2015-10-08</td>\n",
       "      <td>19</td>\n",
       "      <td>339000</td>\n",
       "      <td>1</td>\n",
       "      <td>백화점</td>\n",
       "      <td>직수입 골프의류</td>\n",
       "      <td>골프용품</td>\n",
       "      <td>스포츠</td>\n",
       "      <td>339000</td>\n",
       "      <td>84 days</td>\n",
       "      <td>119248222.0</td>\n",
       "      <td>308.0</td>\n",
       "      <td>3.0</td>\n",
       "      <td>3.0</td>\n",
       "    </tr>\n",
       "    <tr>\n",
       "      <th>1</th>\n",
       "      <td>4</td>\n",
       "      <td>남성</td>\n",
       "      <td>60대</td>\n",
       "      <td>경기도</td>\n",
       "      <td>남양주시</td>\n",
       "      <td>2015-01-20</td>\n",
       "      <td>14</td>\n",
       "      <td>900</td>\n",
       "      <td>1</td>\n",
       "      <td>대형마트</td>\n",
       "      <td>양배추</td>\n",
       "      <td>잎채소</td>\n",
       "      <td>잎/샐러드채소</td>\n",
       "      <td>900</td>\n",
       "      <td>345 days</td>\n",
       "      <td>119248222.0</td>\n",
       "      <td>308.0</td>\n",
       "      <td>3.0</td>\n",
       "      <td>3.0</td>\n",
       "    </tr>\n",
       "    <tr>\n",
       "      <th>2</th>\n",
       "      <td>4</td>\n",
       "      <td>남성</td>\n",
       "      <td>60대</td>\n",
       "      <td>경기도</td>\n",
       "      <td>남양주시</td>\n",
       "      <td>2015-01-20</td>\n",
       "      <td>14</td>\n",
       "      <td>5900</td>\n",
       "      <td>1</td>\n",
       "      <td>대형마트</td>\n",
       "      <td>일반닭</td>\n",
       "      <td>닭고기</td>\n",
       "      <td>닭고기</td>\n",
       "      <td>5900</td>\n",
       "      <td>345 days</td>\n",
       "      <td>119248222.0</td>\n",
       "      <td>308.0</td>\n",
       "      <td>3.0</td>\n",
       "      <td>3.0</td>\n",
       "    </tr>\n",
       "    <tr>\n",
       "      <th>3</th>\n",
       "      <td>4</td>\n",
       "      <td>남성</td>\n",
       "      <td>60대</td>\n",
       "      <td>경기도</td>\n",
       "      <td>남양주시</td>\n",
       "      <td>2015-01-20</td>\n",
       "      <td>14</td>\n",
       "      <td>5000</td>\n",
       "      <td>1</td>\n",
       "      <td>대형마트</td>\n",
       "      <td>다이소</td>\n",
       "      <td>균일가</td>\n",
       "      <td>주방잡화</td>\n",
       "      <td>5000</td>\n",
       "      <td>345 days</td>\n",
       "      <td>119248222.0</td>\n",
       "      <td>308.0</td>\n",
       "      <td>3.0</td>\n",
       "      <td>3.0</td>\n",
       "    </tr>\n",
       "    <tr>\n",
       "      <th>4</th>\n",
       "      <td>4</td>\n",
       "      <td>남성</td>\n",
       "      <td>60대</td>\n",
       "      <td>경기도</td>\n",
       "      <td>남양주시</td>\n",
       "      <td>2015-08-28</td>\n",
       "      <td>13</td>\n",
       "      <td>15000</td>\n",
       "      <td>15</td>\n",
       "      <td>대형마트</td>\n",
       "      <td>브랜드</td>\n",
       "      <td>골프</td>\n",
       "      <td>스포츠브랜드</td>\n",
       "      <td>225000</td>\n",
       "      <td>125 days</td>\n",
       "      <td>119248222.0</td>\n",
       "      <td>308.0</td>\n",
       "      <td>3.0</td>\n",
       "      <td>3.0</td>\n",
       "    </tr>\n",
       "  </tbody>\n",
       "</table>\n",
       "</div>"
      ],
      "text/plain": [
       "   ID  성별  연령대   시도   시군구        구매일자  구매시간    구매금액  구매수량    업종      소분류명  \\\n",
       "0   4  남성  60대  경기도  남양주시  2015-10-08    19  339000     1   백화점  직수입 골프의류   \n",
       "1   4  남성  60대  경기도  남양주시  2015-01-20    14     900     1  대형마트       양배추   \n",
       "2   4  남성  60대  경기도  남양주시  2015-01-20    14    5900     1  대형마트       일반닭   \n",
       "3   4  남성  60대  경기도  남양주시  2015-01-20    14    5000     1  대형마트       다이소   \n",
       "4   4  남성  60대  경기도  남양주시  2015-08-28    13   15000    15  대형마트       브랜드   \n",
       "\n",
       "   중분류명     대분류명   총쇼핑금액       구매텀     Monetary  Frequency  Recency  cluster  \n",
       "0  골프용품      스포츠  339000   84 days  119248222.0      308.0      3.0      3.0  \n",
       "1   잎채소  잎/샐러드채소     900  345 days  119248222.0      308.0      3.0      3.0  \n",
       "2   닭고기      닭고기    5900  345 days  119248222.0      308.0      3.0      3.0  \n",
       "3   균일가     주방잡화    5000  345 days  119248222.0      308.0      3.0      3.0  \n",
       "4    골프   스포츠브랜드  225000  125 days  119248222.0      308.0      3.0      3.0  "
      ]
     },
     "execution_count": 91,
     "metadata": {},
     "output_type": "execute_result"
    }
   ],
   "source": [
    "g = pd.read_csv('data/gold_df.csv')\n",
    "g.head()"
   ]
  },
  {
   "cell_type": "code",
   "execution_count": 92,
   "metadata": {},
   "outputs": [
    {
     "data": {
      "text/html": [
       "<div>\n",
       "<style scoped>\n",
       "    .dataframe tbody tr th:only-of-type {\n",
       "        vertical-align: middle;\n",
       "    }\n",
       "\n",
       "    .dataframe tbody tr th {\n",
       "        vertical-align: top;\n",
       "    }\n",
       "\n",
       "    .dataframe thead th {\n",
       "        text-align: right;\n",
       "    }\n",
       "</style>\n",
       "<table border=\"1\" class=\"dataframe\">\n",
       "  <thead>\n",
       "    <tr style=\"text-align: right;\">\n",
       "      <th></th>\n",
       "      <th>ID</th>\n",
       "      <th>성별</th>\n",
       "      <th>연령대</th>\n",
       "      <th>시도</th>\n",
       "      <th>시군구</th>\n",
       "      <th>구매일자</th>\n",
       "      <th>구매시간</th>\n",
       "      <th>구매금액</th>\n",
       "      <th>구매수량</th>\n",
       "      <th>업종</th>\n",
       "      <th>소분류명</th>\n",
       "      <th>중분류명</th>\n",
       "      <th>대분류명</th>\n",
       "      <th>총쇼핑금액</th>\n",
       "      <th>구매텀</th>\n",
       "      <th>Monetary</th>\n",
       "      <th>Frequency</th>\n",
       "      <th>Recency</th>\n",
       "      <th>cluster</th>\n",
       "    </tr>\n",
       "  </thead>\n",
       "  <tbody>\n",
       "    <tr>\n",
       "      <th>0</th>\n",
       "      <td>1</td>\n",
       "      <td>남성</td>\n",
       "      <td>60대</td>\n",
       "      <td>서울특별시</td>\n",
       "      <td>강동구</td>\n",
       "      <td>2015-12-16</td>\n",
       "      <td>17</td>\n",
       "      <td>28000</td>\n",
       "      <td>1</td>\n",
       "      <td>백화점</td>\n",
       "      <td>수입주방</td>\n",
       "      <td>주방용품</td>\n",
       "      <td>가정</td>\n",
       "      <td>28000</td>\n",
       "      <td>15 days</td>\n",
       "      <td>3899130.0</td>\n",
       "      <td>55.0</td>\n",
       "      <td>3.0</td>\n",
       "      <td>0.0</td>\n",
       "    </tr>\n",
       "    <tr>\n",
       "      <th>1</th>\n",
       "      <td>1</td>\n",
       "      <td>남성</td>\n",
       "      <td>60대</td>\n",
       "      <td>서울특별시</td>\n",
       "      <td>강동구</td>\n",
       "      <td>2015-05-13</td>\n",
       "      <td>14</td>\n",
       "      <td>15000</td>\n",
       "      <td>1</td>\n",
       "      <td>백화점</td>\n",
       "      <td>수입주방</td>\n",
       "      <td>주방용품</td>\n",
       "      <td>가정</td>\n",
       "      <td>15000</td>\n",
       "      <td>232 days</td>\n",
       "      <td>3899130.0</td>\n",
       "      <td>55.0</td>\n",
       "      <td>3.0</td>\n",
       "      <td>0.0</td>\n",
       "    </tr>\n",
       "    <tr>\n",
       "      <th>2</th>\n",
       "      <td>1</td>\n",
       "      <td>남성</td>\n",
       "      <td>60대</td>\n",
       "      <td>서울특별시</td>\n",
       "      <td>강동구</td>\n",
       "      <td>2015-08-01</td>\n",
       "      <td>19</td>\n",
       "      <td>166400</td>\n",
       "      <td>1</td>\n",
       "      <td>백화점</td>\n",
       "      <td>N/B골프의류</td>\n",
       "      <td>골프용품</td>\n",
       "      <td>스포츠</td>\n",
       "      <td>166400</td>\n",
       "      <td>152 days</td>\n",
       "      <td>3899130.0</td>\n",
       "      <td>55.0</td>\n",
       "      <td>3.0</td>\n",
       "      <td>0.0</td>\n",
       "    </tr>\n",
       "    <tr>\n",
       "      <th>3</th>\n",
       "      <td>1</td>\n",
       "      <td>남성</td>\n",
       "      <td>60대</td>\n",
       "      <td>서울특별시</td>\n",
       "      <td>강동구</td>\n",
       "      <td>2015-12-28</td>\n",
       "      <td>12</td>\n",
       "      <td>166000</td>\n",
       "      <td>1</td>\n",
       "      <td>백화점</td>\n",
       "      <td>란제리</td>\n",
       "      <td>란제리/내의</td>\n",
       "      <td>여성의류</td>\n",
       "      <td>166000</td>\n",
       "      <td>3 days</td>\n",
       "      <td>3899130.0</td>\n",
       "      <td>55.0</td>\n",
       "      <td>3.0</td>\n",
       "      <td>0.0</td>\n",
       "    </tr>\n",
       "    <tr>\n",
       "      <th>4</th>\n",
       "      <td>1</td>\n",
       "      <td>남성</td>\n",
       "      <td>60대</td>\n",
       "      <td>서울특별시</td>\n",
       "      <td>강동구</td>\n",
       "      <td>2015-05-13</td>\n",
       "      <td>12</td>\n",
       "      <td>1000</td>\n",
       "      <td>2</td>\n",
       "      <td>백화점</td>\n",
       "      <td>어묵</td>\n",
       "      <td>젓갈/반찬</td>\n",
       "      <td>식품</td>\n",
       "      <td>2000</td>\n",
       "      <td>232 days</td>\n",
       "      <td>3899130.0</td>\n",
       "      <td>55.0</td>\n",
       "      <td>3.0</td>\n",
       "      <td>0.0</td>\n",
       "    </tr>\n",
       "  </tbody>\n",
       "</table>\n",
       "</div>"
      ],
      "text/plain": [
       "   ID  성별  연령대     시도  시군구        구매일자  구매시간    구매금액  구매수량   업종     소분류명  \\\n",
       "0   1  남성  60대  서울특별시  강동구  2015-12-16    17   28000     1  백화점     수입주방   \n",
       "1   1  남성  60대  서울특별시  강동구  2015-05-13    14   15000     1  백화점     수입주방   \n",
       "2   1  남성  60대  서울특별시  강동구  2015-08-01    19  166400     1  백화점  N/B골프의류   \n",
       "3   1  남성  60대  서울특별시  강동구  2015-12-28    12  166000     1  백화점      란제리   \n",
       "4   1  남성  60대  서울특별시  강동구  2015-05-13    12    1000     2  백화점       어묵   \n",
       "\n",
       "     중분류명  대분류명   총쇼핑금액       구매텀   Monetary  Frequency  Recency  cluster  \n",
       "0    주방용품    가정   28000   15 days  3899130.0       55.0      3.0      0.0  \n",
       "1    주방용품    가정   15000  232 days  3899130.0       55.0      3.0      0.0  \n",
       "2    골프용품   스포츠  166400  152 days  3899130.0       55.0      3.0      0.0  \n",
       "3  란제리/내의  여성의류  166000    3 days  3899130.0       55.0      3.0      0.0  \n",
       "4   젓갈/반찬    식품    2000  232 days  3899130.0       55.0      3.0      0.0  "
      ]
     },
     "execution_count": 92,
     "metadata": {},
     "output_type": "execute_result"
    }
   ],
   "source": [
    "s = pd.read_csv('data/silver_df.csv')\n",
    "s.head()"
   ]
  },
  {
   "cell_type": "code",
   "execution_count": null,
   "metadata": {},
   "outputs": [],
   "source": []
  }
 ],
 "metadata": {
  "kernelspec": {
   "display_name": "Python 3",
   "language": "python",
   "name": "python3"
  },
  "language_info": {
   "codemirror_mode": {
    "name": "ipython",
    "version": 3
   },
   "file_extension": ".py",
   "mimetype": "text/x-python",
   "name": "python",
   "nbconvert_exporter": "python",
   "pygments_lexer": "ipython3",
   "version": "3.8.5"
  },
  "toc": {
   "base_numbering": 1,
   "nav_menu": {},
   "number_sections": true,
   "sideBar": true,
   "skip_h1_title": false,
   "title_cell": "Table of Contents",
   "title_sidebar": "Contents",
   "toc_cell": false,
   "toc_position": {},
   "toc_section_display": true,
   "toc_window_display": false
  },
  "varInspector": {
   "cols": {
    "lenName": 16,
    "lenType": 16,
    "lenVar": 40
   },
   "kernels_config": {
    "python": {
     "delete_cmd_postfix": "",
     "delete_cmd_prefix": "del ",
     "library": "var_list.py",
     "varRefreshCmd": "print(var_dic_list())"
    },
    "r": {
     "delete_cmd_postfix": ") ",
     "delete_cmd_prefix": "rm(",
     "library": "var_list.r",
     "varRefreshCmd": "cat(var_dic_list()) "
    }
   },
   "types_to_exclude": [
    "module",
    "function",
    "builtin_function_or_method",
    "instance",
    "_Feature"
   ],
   "window_display": false
  }
 },
 "nbformat": 4,
 "nbformat_minor": 4
}
