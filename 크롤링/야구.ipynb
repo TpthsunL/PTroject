{
 "cells": [
  {
   "cell_type": "code",
   "execution_count": 1,
   "id": "9ebdf98f",
   "metadata": {},
   "outputs": [],
   "source": [
    "from bs4 import BeautifulSoup as bs\n",
    "import requests\n",
    "import pandas as pd\n",
    "\n",
    "address = \"https://sports.news.naver.com/kbaseball/schedule/index.nhn?date=20210626&month=04&year=2021&teamCode=\"\n",
    "request = requests.get(address)\n",
    "html = request.text\n",
    "soup = bs(html, 'lxml')\n",
    "soupData = [soup.findAll(\"div\", {\"class\" : \"sch_tb\"})\n",
    "            ,soup.findAll(\"div\", {\"class\" : \"sch_tb2\"})]"
   ]
  },
  {
   "cell_type": "code",
   "execution_count": 2,
   "id": "c3fc10ae",
   "metadata": {},
   "outputs": [],
   "source": [
    "dataList =[]\n",
    "\n",
    "for data_tb in soupData: #div 리스트 개개를 data_tb라고 정의하고 soupData에서 순서대로 불러오기\n",
    "    for data in data_tb: #날짜별 한줄씩\n",
    "        date_val = data.findAll('span', {'class' : 'td_date'})[0].text #날짜뽑기\n",
    "        match_cnt = data.findAll('td')[0]['rowspan'] #경기 수 뽑기 \n",
    "        if int(match_cnt) ==5: #rowspan 5개면 패스(경기없는 날)\n",
    "            continue\n",
    "            \n",
    "        for i in range(0, int(match_cnt)): #경기당 한줄씩\n",
    "            matchData = {}\n",
    "            matchData['날짜']=date_val\n",
    "            matchData['시간']=data.findAll('tr')[i].findAll('span', {'class':'td_hour'})[0].text\n",
    "            matchData['홈팀']=data.findAll('tr')[i].findAll('span', {'class':'td_hour'})[0].text\n",
    "            matchData['원정팀']=data.findAll('tr')[i].findAll('span', {'class':'td_hour'})[0].text\n",
    "            matchData['구장']=data.findAll('tr')[i].findAll('span', {'class':'td_hour'})[0].text\n",
    "            \n",
    "            dataList.append(matchData) #matchdata를 datalist 저장"
   ]
  },
  {
   "cell_type": "code",
   "execution_count": 4,
   "id": "26447b67",
   "metadata": {},
   "outputs": [],
   "source": [
    "df = pd.DataFrame(dataList)"
   ]
  },
  {
   "cell_type": "code",
   "execution_count": 5,
   "id": "0795989a",
   "metadata": {},
   "outputs": [
    {
     "data": {
      "text/html": [
       "<div>\n",
       "<style scoped>\n",
       "    .dataframe tbody tr th:only-of-type {\n",
       "        vertical-align: middle;\n",
       "    }\n",
       "\n",
       "    .dataframe tbody tr th {\n",
       "        vertical-align: top;\n",
       "    }\n",
       "\n",
       "    .dataframe thead th {\n",
       "        text-align: right;\n",
       "    }\n",
       "</style>\n",
       "<table border=\"1\" class=\"dataframe\">\n",
       "  <thead>\n",
       "    <tr style=\"text-align: right;\">\n",
       "      <th></th>\n",
       "      <th>날짜</th>\n",
       "      <th>시간</th>\n",
       "      <th>홈팀</th>\n",
       "      <th>원정팀</th>\n",
       "      <th>구장</th>\n",
       "    </tr>\n",
       "  </thead>\n",
       "  <tbody>\n",
       "    <tr>\n",
       "      <th>0</th>\n",
       "      <td>4.1 (목)</td>\n",
       "      <td>-</td>\n",
       "      <td>-</td>\n",
       "      <td>-</td>\n",
       "      <td>-</td>\n",
       "    </tr>\n",
       "    <tr>\n",
       "      <th>1</th>\n",
       "      <td>4.5 (월)</td>\n",
       "      <td>-</td>\n",
       "      <td>-</td>\n",
       "      <td>-</td>\n",
       "      <td>-</td>\n",
       "    </tr>\n",
       "    <tr>\n",
       "      <th>2</th>\n",
       "      <td>4.19 (월)</td>\n",
       "      <td>-</td>\n",
       "      <td>-</td>\n",
       "      <td>-</td>\n",
       "      <td>-</td>\n",
       "    </tr>\n",
       "    <tr>\n",
       "      <th>3</th>\n",
       "      <td>4.2 (금)</td>\n",
       "      <td>-</td>\n",
       "      <td>-</td>\n",
       "      <td>-</td>\n",
       "      <td>-</td>\n",
       "    </tr>\n",
       "    <tr>\n",
       "      <th>4</th>\n",
       "      <td>4.12 (월)</td>\n",
       "      <td>-</td>\n",
       "      <td>-</td>\n",
       "      <td>-</td>\n",
       "      <td>-</td>\n",
       "    </tr>\n",
       "    <tr>\n",
       "      <th>5</th>\n",
       "      <td>4.26 (월)</td>\n",
       "      <td>-</td>\n",
       "      <td>-</td>\n",
       "      <td>-</td>\n",
       "      <td>-</td>\n",
       "    </tr>\n",
       "  </tbody>\n",
       "</table>\n",
       "</div>"
      ],
      "text/plain": [
       "         날짜 시간 홈팀 원정팀 구장\n",
       "0   4.1 (목)  -  -   -  -\n",
       "1   4.5 (월)  -  -   -  -\n",
       "2  4.19 (월)  -  -   -  -\n",
       "3   4.2 (금)  -  -   -  -\n",
       "4  4.12 (월)  -  -   -  -\n",
       "5  4.26 (월)  -  -   -  -"
      ]
     },
     "execution_count": 5,
     "metadata": {},
     "output_type": "execute_result"
    }
   ],
   "source": [
    "df"
   ]
  },
  {
   "cell_type": "code",
   "execution_count": null,
   "id": "d30f73f7",
   "metadata": {},
   "outputs": [],
   "source": []
  }
 ],
 "metadata": {
  "kernelspec": {
   "display_name": "Python 3",
   "language": "python",
   "name": "python3"
  },
  "language_info": {
   "codemirror_mode": {
    "name": "ipython",
    "version": 3
   },
   "file_extension": ".py",
   "mimetype": "text/x-python",
   "name": "python",
   "nbconvert_exporter": "python",
   "pygments_lexer": "ipython3",
   "version": "3.8.8"
  },
  "toc": {
   "base_numbering": 1,
   "nav_menu": {},
   "number_sections": true,
   "sideBar": true,
   "skip_h1_title": false,
   "title_cell": "Table of Contents",
   "title_sidebar": "Contents",
   "toc_cell": false,
   "toc_position": {},
   "toc_section_display": true,
   "toc_window_display": false
  }
 },
 "nbformat": 4,
 "nbformat_minor": 5
}
