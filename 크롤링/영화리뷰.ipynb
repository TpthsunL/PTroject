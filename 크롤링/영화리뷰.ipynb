{
 "cells": [
  {
   "cell_type": "code",
   "execution_count": 7,
   "id": "ac2d5a65",
   "metadata": {},
   "outputs": [],
   "source": [
    "import pandas as pd\n",
    "import numpy as np\n",
    "import requests"
   ]
  },
  {
   "cell_type": "code",
   "execution_count": 1,
   "id": "87a4ebf0",
   "metadata": {},
   "outputs": [],
   "source": [
    "url = 'https://movie.naver.com/movie/point/af/list.nhn?&page=2'"
   ]
  },
  {
   "cell_type": "code",
   "execution_count": 2,
   "id": "43867720",
   "metadata": {},
   "outputs": [
    {
     "data": {
      "text/plain": [
       "'https://movie.naver.com/movie/point/af/list.nhn?&page=2'"
      ]
     },
     "execution_count": 2,
     "metadata": {},
     "output_type": "execute_result"
    }
   ],
   "source": [
    "url"
   ]
  },
  {
   "cell_type": "code",
   "execution_count": 5,
   "id": "00a9da30",
   "metadata": {},
   "outputs": [
    {
     "data": {
      "text/plain": [
       "{'user-agent': 'Mozilla/5.0 (Windows NT 10.0; Win64; x64) AppleWebKit/537.36 (KHTML, like Gecko) Chrome/86.0.4240.111 Safari/537.36 Edg/86.0.622.51'}"
      ]
     },
     "execution_count": 5,
     "metadata": {},
     "output_type": "execute_result"
    }
   ],
   "source": [
    "headers = {'user-agent': 'Mozilla/5.0 (Windows NT 10.0; Win64; x64) AppleWebKit/537.36 (KHTML, like Gecko) Chrome/86.0.4240.111 Safari/537.36 Edg/86.0.622.51'}\n",
    "headers"
   ]
  },
  {
   "cell_type": "code",
   "execution_count": 8,
   "id": "2e26877d",
   "metadata": {},
   "outputs": [
    {
     "data": {
      "text/plain": [
       "<Response [200]>"
      ]
     },
     "execution_count": 8,
     "metadata": {},
     "output_type": "execute_result"
    }
   ],
   "source": [
    "response = requests.get(url, headers=headers)\n",
    "response"
   ]
  },
  {
   "cell_type": "code",
   "execution_count": 9,
   "id": "23a1a05f",
   "metadata": {
    "collapsed": true
   },
   "outputs": [
    {
     "data": {
      "text/plain": [
       "'\\r\\n\\r\\n\\r\\n\\r\\n\\r\\n\\r\\n\\r\\n\\r\\n\\r\\n\\r\\n\\t\\r\\n\\t\\r\\n\\t\\r\\n\\t\\r\\n\\t\\r\\n\\r\\n\\t\\r\\n\\t\\r\\n\\r\\n\\r\\n\\t\\r\\n\\t\\r\\n\\t\\r\\n\\t\\r\\n\\t\\r\\n\\t\\r\\n\\t\\r\\n\\t\\r\\n\\t\\r\\n\\t\\r\\n\\t\\r\\n\\t\\r\\n\\r\\n\\t\\r\\n\\t\\r\\n\\t\\r\\n\\t\\r\\n\\t\\r\\n\\r\\n\\t\\r\\n\\t\\r\\n\\t\\r\\n\\r\\n\\t\\r\\n\\t\\r\\n\\t\\r\\n\\r\\n\\r\\n\\t\\r\\n\\t\\r\\n\\t\\r\\n\\t\\r\\n\\t\\t\\r\\n\\t\\t\\t\\r\\n\\t\\t\\t\\t\\r\\n\\t\\t\\t\\r\\n\\t\\t\\t\\r\\n\\t\\t\\t\\r\\n\\t\\t\\t\\r\\n\\t\\t\\r\\n\\t\\r\\n\\t\\r\\n\\t\\t\\r\\n\\t\\r\\n\\r\\n<!DOCTYPE html>\\r\\n<html lang=\"ko\">\\r\\n<head>\\r\\n<meta http-equiv=\"Content-Type\" content=\"text/html; charset=UTF-8\">\\r\\n<meta http-equiv=\"X-UA-Compatible\" content=\"IE=edge\">\\r\\n\\r\\n\\r\\n\\r\\n\\r\\n\\r\\n\\r\\n<meta property=\"me2:image\" content=\"http://imgmovie.naver.com/today/naverme/naverme_profile.jpg\"/>\\r\\n<meta property=\"me2:post_tag\" content=\"네이버영화 \"/>\\r\\n<meta property=\"me2:category1\" content=\"네이버영화\"/>\\r\\n<meta property=\"me2:category2\" content=\"\"/>\\r\\n\\r\\n\\r\\n\\r\\n\\r\\n\\r\\n\\t\\r\\n\\t\\r\\n\\t\\r\\n\\t\\r\\n\\t\\t<meta property=\"og:title\" content=\"평점 : 네이버 영화\"/>\\r\\n\\t\\t<meta property=\"og:description\" content=\"네티즌 평점과 리뷰 정보 제공\"/>\\r\\n\\t\\r\\n\\t\\r\\n\\t\\r\\n\\r\\n\\r\\n<meta property=\"og:type\" content=\"article\"/>\\r\\n<meta property=\"og:url\" content=\"https://movie.naver.com/movie/point/af/list.nhn?&amp;page=2\"/>\\r\\n\\r\\n\\t\\r\\n\\t\\r\\n\\t\\t<meta property=\"og:image\" content=\"http://static.naver.net/m/movie/icons/OG_270_270.png\"/><!-- http://static.naver.net/m/movie/im/navermovie.jpg -->\\r\\n\\t\\r\\n\\r\\n\\r\\n<meta property=\"og:article:thumbnailUrl\" content=\"http://imgmovie.naver.com/today/naverme/naverme_profile.jpg\"/>\\r\\n<meta property=\"og:article:author\" content=\"네이버 영화\"/>\\r\\n<meta property=\"og:article:author:url\" content=\"https://movie.naver.com/\"/>\\r\\n\\r\\n\\r\\n\\n\\n\\n\\t\\n\\t\\n\\t\\n\\t\\n\\t\\t<link rel=\"shortcut icon\" href=\"https://ssl.pstatic.net/static/m/movie/icons/naver_movie_favicon.ico\" type=\"image/x-icon\">\\n\\t\\t\\t\\n\\n\\r\\n<title>네티즌 평점 : 네이버 영화</title>\\r\\n\\r\\n\\r\\n\\r\\n\\r\\n\\r\\n\\t\\r\\n\\t\\r\\n\\t\\r\\n\\t\\r\\n\\t\\r\\n\\t\\r\\n\\t\\t\\r\\n\\t\\t<link rel=\"stylesheet\" type=\"text/css\" href=\"/common/css/movie_tablet.css?20210624141932\">\\r\\n\\t\\t<link rel=\"stylesheet\" type=\"text/css\" href=\"/common/css/common.css?20210624141932\">\\r\\n\\t\\t<link rel=\"stylesheet\" type=\"text/css\" href=\"/common/css/layout.css?20210624141932\">\\r\\n\\t\\t<link rel=\"stylesheet\" type=\"text/css\" href=\"/common/css/old_default.css?20210624141932\">\\r\\n\\t\\t<link rel=\"stylesheet\" type=\"text/css\" href=\"/common/css/old_layout.css?20210624141932\">\\r\\n\\t\\t<link rel=\"stylesheet\" type=\"text/css\" href=\"/common/css/old_common.css?20210624141932\">\\t\\r\\n\\t\\t<link rel=\"stylesheet\" type=\"text/css\" href=\"/common/css/old_community.css?20210624141932\">\\r\\n\\t\\r\\n\\t\\r\\n\\t\\r\\n\\r\\n\\r\\n<script type=\"text/javascript\" src=\"/common/js/default-min.js\"></script>\\r\\n<script language=\"JavaScript\" src=\"/common/js/jindo2.js\"></script>\\n<script language=\"JavaScript\" src=\"/common/js/pwm.js\"></script>\\n<script type=\"text/javascript\">\\n\\n\\tvar pwmManager = new PwmManager();\\n\\t\\n\\tfunction find_list(st, sword, target) {\\n\\t\\tif (st == \"nickname\" || st == \"nickname_before\") {\\n\\t\\t\\tif (target == \"before\") {\\n\\t\\t\\t\\tlocation.href = \"/movie/point/af/list.nhn?st=nickname_before&sword=\" + sword + \"&target=before\";\\n\\t\\t\\t} else {\\n\\t\\t\\t\\tlocation.href = \"/movie/point/af/list.nhn?st=nickname&sword=\" + sword + \"&target=after\";\\n\\t\\t\\t}\\n\\t\\t} else {\\n\\t\\t\\tlocation.href = \"?st=\" + st + \"&sword=\" + sword + \"&target=\" + target;\\n\\t\\t}\\n\\t}\\n\\t\\n\\tfunction login_check() {\\n\\t\\tif(\"\" == \"\"){\\n\\t\\t\\tif(confirm(\"로그인이 필요합니다. 로그인 하시겠습니까?\")){\\n\\t\\t\\t\\tgoLogin();\\n\\t\\t\\t}\\n\\t\\t\\treturn false;\\n\\t\\t}\\n\\t}\\n\\t\\n\\tfunction goLogin() {\\n\\t\\tlocation.href=\"https://nid.naver.com/nidlogin.login?mode=form&url=\"+encodeURIComponent(location.href);\\n\\t}\\n\\t\\n\\tfunction deletePoint(nid, target) {\\n\\t\\tif( \\'Y\\' == \\'N\\' || \\'Y\\' == \\'G\\' ) {\\n\\t\\t\\topenNotify(\\'Y\\', \\'\\');\\n\\t\\t\\treturn;\\n\\t\\t}\\n\\t\\t\\n\\t\\tvar tmp = document.delete_point_form;\\n\\t\\ttmp.target.value = target;\\n\\t\\ttmp.nid.value = nid;\\n\\t\\t\\n\\t\\tif(confirm(\"사용자 삭제시 복원 할 수 없습니다.정말로 삭제 하시겠습니까?\")){\\n\\t\\t\\ttmp.submit();\\n\\t\\t}\\n\\t\\treturn;\\n\\t}\\n\\t\\n\\tvar gradePopupWin;\\n\\tfunction openRulePopup() {\\n\\t\\tif (screen === undefined || screen.availHeight === undefined || screen.availHeight > 800) {\\n\\t\\t\\tgradePopupWin = window.open(\"/movie/board/popup/board_rule.nhn\", \"gradePopup\", \"width=550, height=800, history=no, resizable=no, scrollbars=yes, status=no, menubar=no, toolbar=no\");\\n\\t\\t} else {\\n\\t\\t\\tgradePopupWin = window.open(\"/movie/board/popup/board_rule.nhn\", \"gradePopup\", \"width=550, height=560, history=no, resizable=no, scrollbars=yes, status=no, menubar=no, toolbar=no\");\\n\\t\\t}\\n\\t\\t\\n\\t\\tif (gradePopupWin) {\\n\\t\\t\\tgradePopupWin.focus();\\n\\t\\t}\\n\\t}\\n\\t\\n\\n\\n</script>\\r\\n</head>\\r\\n<body >\\r\\n\\r\\n\\r\\n\\t\\r\\n\\t\\r\\n\\t\\r\\n\\t\\r\\n\\t\\r\\n\\t\\t\\r\\n\\t\\r\\n\\r\\n<div id=\"wrap\" class=\"fix\">\\r\\n\\t<!-- GNB -->\\r\\n\\t\\r\\n\\r\\n\\r\\n\\r\\n\\r\\n\\r\\n<script type=\"text/javascript\">\\r\\nfunction delayed_submit(object) {\\r\\n\\tif (navigator.userAgent.indexOf(\\'MSIE\\') == -1) {\\r\\n\\t\\tvar b = c = new Date();\\r\\n      \\twhile ((b.getTime() - c.getTime()) < 100) {\\r\\n\\t\\t\\tb = new Date();\\r\\n      \\t}\\r\\n\\t\\t//window.setTimeout(function() {object.submit(); console.log(\\'s\\');}, 300);\\r\\n\\t}\\r\\n}\\r\\nvar gnb_service = \\'movie\\';\\r\\nvar gnb_logout = \\'http://movie.naver.com/movie/point/af/list.nhn%3F%26page%3D2\\';\\r\\nvar gnb_template = \"gnb_utf8\"; /* https://ssl.pstatic.net/static.gn/templates/gnb_utf8.nhn */\\r\\nvar gnb_brightness=3;\\r\\nvar gnb_response = true;\\r\\n</script>\\r\\n\\r\\n\\r\\n\\t\\r\\n\\t\\r\\n\\r\\n<a name=\"gnb_top\"></a>\\r\\n    <!-- skip navigation -->\\r\\n    <div id=\"u_skip\">\\r\\n            <a href=\"#header\" onclick=\"document.getElementById(\\'header\\').tabIndex=-1;document.getElementById(\\'header\\').focus();return false;\"><span>메인 메뉴로 바로가기</span></a>\\r\\n            <a href=\"#content\" id=\"gnb_goContent\" onclick=\"document.getElementById(\\'content\\').tabIndex=-1;document.getElementById(\\'content\\').focus();return false;\"><span>본문으로 바로가기</span></a>\\r\\n    </div>\\r\\n    <!-- //skip navigation -->\\r\\n\\t<!-- GNB -->\\r\\n\\t<div class=\"gnb_container\">\\r\\n\\t\\t<div class=\"gnb_content\">\\r\\n\\t\\t\\t<div class=\"gnb_box\">\\r\\n\\t\\t\\t \\t<div class=\"gnb_wrap\">\\r\\n\\t\\t\\t\\t\\t<div id=\"gnb\" onload=\"javascript:getGNB();\">\\r\\n\\t\\t\\t\\t   \\t \\t<script type=\"text/javascript\" charset=\"utf-8\" src=\"https://ssl.pstatic.net/static.gn/templates/gnb_utf8.nhn\"></script>\\r\\n\\t\\t\\t\\t\\t</div>\\r\\n\\t\\t\\t\\t</div>\\r\\n\\t\\t\\t\\t<!-- 검색창 -->\\r\\n\\t\\t\\t\\t<form id=\"jSearchForm\" action=\"/movie/search/result.nhn\" method=\"get\" style=\"margin:0;display:none;\">\\r\\n\\t\\t\\t\\t\\t<input type=\"text\" name=\"query\" maxlength=\"100\" title=\"영화검색\" />\\r\\n\\t\\t\\t\\t\\t<input type=\"hidden\" name=\"section\" value=\"all\"/>\\r\\n\\t\\t\\t\\t</form>\\r\\n\\t\\t\\t\\t<fieldset id=\"jSearchArea\" class=\"srch_area\">\\r\\n\\t\\t\\t\\t\\t<legend><span class=\"blind\">영화검색 영역</span></legend>\\r\\n\\t\\t\\t\\t\\t<div class=\"srch_field_on _view\">\\r\\n\\t\\t\\t\\t\\t\\t<span class=\"ipt_srch\">\\r\\n\\t\\t\\t\\t\\t\\t\\t<label for=\"ipt_tx_srch\" id=\"search_placeholder\">영화검색</label>\\r\\n\\t\\t\\t\\t\\t\\t\\t<input type=\"text\" id=\"ipt_tx_srch\" class=\"ipt_tx_srch\" name=\"query\" maxlength=\"100\" accesskey=\"s\" style=\"ime-mode:active;\" autocomplete=\"off\" />\\r\\n\\t\\t\\t\\t\\t\\t\\t<span class=\"align\"></span>\\r\\n\\t\\t\\t\\t\\t\\t\\t<span class=\"auto_tx\"><a href=\"#\" title=\"자동완성 펼치기\"><img src=\"https://ssl.pstatic.net/static/movie/2012/06/srch_arrow_down.gif\" width=\"7\" height=\"4\" title=\"자동완성 펼치기\" alt=\"자동완성 펼치기\" /></a></span>\\r\\n\\t\\t\\t\\t\\t\\t</span>\\r\\n\\t\\t\\t\\t\\t\\t<button type=\"submit\" title=\"검색\" class=\"btn_srch\" onclick=\"clickcr(this, \\'GNB.search\\', \\'\\', \\'\\', event); delayed_submit(this);\"><span class=\"blind\">검색</span></button>\\r\\n\\t\\t\\t\\t\\t\\t <!-- 자동 완성 영역임 #autocomplate_template-->\\r\\n\\t\\t\\t\\t\\t</div>\\r\\n\\t\\t\\t\\t</fieldset>\\r\\n\\t\\t\\t\\t<!-- //검색창 -->\\r\\n\\t\\t\\t</div>\\r\\n\\t\\t</div>\\r\\n\\t</div>\\r\\n\\t<!-- //GNB -->\\r\\n\\t<!-- nClicks -->\\r\\n\\t\\r\\n\\t\\t\\r\\n\\t\\t\\r\\n\\t\\t\\r\\n\\t\\t\\r\\n\\t\\t\\t<script type=\"text/javascript\">var nsc = \"movie.comm\";</script>\\r\\n\\t\\t\\t<script type=\"text/javascript\" src=\"/common/js/clickcr.js\"></script>\\r\\n\\t\\t\\r\\n\\t\\t\\t\\t\\r\\n\\t\\t\\r\\n\\t\\t\\r\\n\\t\\t\\r\\n\\t\\t\\r\\n\\t\\t\\r\\n\\t\\t\\r\\n\\t\\t\\r\\n\\t\\t\\r\\n\\t\\r\\n\\t<!-- // nClicks -->\\t\\r\\n\\t<!-- //GNB -->\\r\\n\\t\\r\\n\\t<!-- LNB -->\\r\\n\\t\\n\\n\\n\\n\\t<!-- header -->\\n\\t<div id=\"header\">\\n\\t\\t<h1 class=\"svc_name\">\\n\\t\\t\\t<a href=\"http://www.naver.com/\" title=\"naver로 바로가기\" class=\"ci_logo\" id=\"lnb_gonaver\" onclick=\"clickcr(this, \\'LNB.naver\\', \\'\\', \\'\\', event);\"><img src=\"https://ssl.pstatic.net/static/movie/2013/07/logo_ci.png\" width=\"62\" height=\"13\" alt=\"NAVER\" /></a>\\n\\t\\t\\t<a href=\"/\" title=\"영화서비스홈으로 바로가기\" class=\"svc_logo\" onclick=\"clickcr(this, \\'LNB.movie\\', \\'\\', \\'\\', event);\"><img src=\"https://ssl.pstatic.net/static/movie/2012/06/logo_svc.png\" width=\"34\" height=\"19\" alt=\"영화\" /></a>\\n\\t\\t</h1>\\n\\t\\t<div id=\"scrollbar\" class=\"scrollbar scrollbar-noscript\">\\n\\t\\t\\t<div class=\"scrollbar-box\">\\n\\t\\t\\t\\t<div class=\"scrollbar-content\">\\n\\t\\t\\t\\t\\t<div class=\"in_scroll\">\\n\\t\\t\\t\\t\\t\\t<ul class=\"navi\">\\n\\t\\t\\t\\t\\t\\t<li>\\n\\t\\t\\t\\t\\t\\t\\t<a href=\"/\" title=\"영화홈\" class=\"menu01\" onclick=\"clickcr(this, \\'LNB.home\\', \\'\\', \\'\\', event);\"><strong>영화홈</strong></a>\\n\\t\\t\\t\\t\\t\\t</li>\\n\\t\\t\\t\\t\\t\\t<li>\\n\\t\\t\\t\\t\\t\\t\\t<a href=\"/movie/running/current.nhn\" title=\"상영작·예정작\" class=\"menu02\" onclick=\"clickcr(this, \\'LNB.movies\\', \\'\\', \\'\\', event);\"><strong>상영작·예정작</strong></a>\\n\\t\\t\\t\\t\\t\\t\\t<ul class=\"navi_sub\" style=\"display:none\">\\n\\t\\t\\t\\t\\t\\t\\t<li><a href=\"/movie/running/current.nhn\" title=\"현재 상영영화\" class=\"sub2_1\" onclick=\"clickcr(this, \\'LNB.now\\', \\'\\', \\'\\', event);\"><em>현재 상영영화</em></a></li>\\n\\t\\t\\t\\t\\t\\t\\t<li><a href=\"/movie/running/premovie.nhn\" title=\"개봉 예정영화\" class=\"sub2_2\" onclick=\"clickcr(this, \\'LNB.soon\\', \\'\\', \\'\\', event);\"><em>개봉 예정영화</em></a></li>\\n\\t\\t\\t\\t\\t\\t\\t<li><a href=\"/movie/running/movieclip.nhn\" title=\"예고편\" class=\"sub2_4\" onclick=\"clickcr(this, \\'LNB.tailer\\', \\'\\', \\'\\', event);\"><em>예고편</em></a></li>\\n\\t\\t\\t\\t\\t\\t\\t</ul>\\n\\t\\t\\t\\t\\t\\t</li>\\n\\t\\t\\t\\t\\t\\t<li>\\n\\t\\t\\t\\t\\t\\t\\t<a href=\"/movie/sdb/rank/rmovie.nhn\" title=\"영화랭킹\" class=\"menu03\" onclick=\"clickcr(this, \\'LNB.db\\', \\'\\', \\'\\', event);\"><strong>영화랭킹</strong></a>\\n\\t\\t\\t\\t\\t\\t\\t<ul class=\"navi_sub\" style=\"display:none\">\\n\\t\\t\\t\\t\\t\\t\\t<li><a href=\"/movie/sdb/rank/rmovie.nhn\" title=\"랭킹\" class=\"sub3_1\" onclick=\"clickcr(this, \\'LNB.rank\\', \\'\\', \\'\\', event);\"><em>랭킹</em></a></li>\\n\\t\\t\\t\\t\\t\\t\\t<li><a href=\"/movie/sdb/browsing/bmovie_nation.nhn\" title=\"디렉토리\" class=\"sub3_2\" onclick=\"clickcr(this, \\'LNB.dir\\', \\'\\', \\'\\', event);\"><em>디렉토리</em></a></li>\\n\\t\\t\\t\\t\\t\\t\\t</ul>\\n\\t\\t\\t\\t\\t\\t</li>\\n\\t\\t\\t\\t\\t\\t<li>\\n\\t\\t\\t\\t\\t\\t\\t<a href=\"/movie/bi/mi/reserve.nhn\" title=\"예매\" class=\"menu05\" onclick=\"clickcr(this, \\'LNB.ticket\\', \\'\\', \\'\\', event);\"><strong>예매</strong></a>\\n\\t\\t\\t\\t\\t\\t\\t<ul class=\"navi_sub\" style=\"display:none\">\\n\\t\\t\\t\\t\\t\\t\\t<li><a href=\"http://ticket.movie.naver.com/Ticket/Reserve.aspx\" title=\"예매하기\" class=\"sub5_1\" onclick=\"clickcr(this, \\'LNB.buy\\', \\'\\', \\'\\', event);\"><em>예매하기</em></a></li>\\n\\t\\t\\t\\t\\t\\t\\t<li><a href=\"http://ticket.movie.naver.com/Order/OrderList.aspx\" title=\"예매확인·취소\" class=\"sub5_2\" onclick=\"clickcr(this, \\'LNB.check\\', \\'\\', \\'\\', event);\"><em>예매확인·취소</em></a></li>\\n\\t\\t\\t\\t\\t\\t\\t<li><a href=\"http://ticket.movie.naver.com/Coupon/Ticket.aspx\" title=\"예매권·할인권 등록\" class=\"sub5_3\" onclick=\"clickcr(this, \\'LNB.disticket\\', \\'\\', \\'\\', event);\"><em>예매권·할인권 등록</em></a></li>\\n\\t\\t\\t\\t\\t\\t\\t<li><a href=\"http://ticket.movie.naver.com/Discount/DiscountCard.aspx\" title=\"할인카드안내·등록\" class=\"sub5_4\" onclick=\"clickcr(this, \\'LNB.discard\\', \\'\\', \\'\\', event);\"><em>할인카드안내·등록</em></a></li>\\n\\t\\t\\t\\t\\t\\t\\t<li><a href=\"http://help.naver.com/ops/step2/faq.nhn?parentId=77&depth=2\" title=\"이용안내\" class=\"sub5_5\" target=\"_blank\" onclick=\"clickcr(this, \\'LNB.service\\', \\'\\', \\'\\', event);\"><em>이용안내</em></a></li>\\n\\t\\t\\t\\t\\t\\t\\t</ul>\\n\\t\\t\\t\\t\\t\\t</li>\\n\\n\\t\\t\\t\\t\\t\\t<li>\\n\\t\\t\\t\\t\\t\\t\\t<a href=\"/movie/point/af/list.nhn\" title=\"평점\" class=\"menu07_on\" onclick=\"clickcr(this, \\'LNB.comm\\', \\'\\', \\'\\', event);\"><strong>평점</strong></a>\\n                            <ul class=\"navi_sub\" style=\"display:block\">\\n                                <li><a href=\"/movie/point/af/list.nhn\" title=\"네티즌 평점\" class=\"sub7_1_on\" onclick=\"clickcr(this, \\'LNB.rating\\', \\'\\', \\'\\', event);\"><em>네티즌 평점</em></a></li>\\n                                <li><a href=\"/movie/board/review/list.nhn\" title=\"네티즌 리뷰\" class=\"sub7_2\" onclick=\"clickcr(this, \\'LNB.review\\', \\'\\', \\'\\', event);\"><em>네티즌 리뷰</em></a></li>\\n                                \\n                            </ul>\\n\\t\\t\\t\\t\\t\\t</li>\\n\\t\\t\\t\\t\\t\\t<li>\\n\\t\\t\\t\\t\\t\\t\\t<a href=\"http://serieson.naver.com/movie/home.nhn\" title=\"다운로드\" class=\"menu08\" onclick=\"clickcr(this, \\'LNB.download\\', \\'\\', \\'\\', event);\" target=\"_blank\"><strong>다운로드</strong></a>\\n\\t\\t\\t\\t\\t\\t</li>\\n\\t\\t\\t\\t\\t\\t<li class=\"nav_indi\">\\n\\t\\t\\t\\t\\t\\t        <a href=\"http://tv.naver.com/indiecinema\" title=\"인디극장 UP\" target=\"_blank\"><strong>인디극장 UP</strong></a><!-- N=a:LNB.indie -->\\n\\t\\t\\t\\t\\t\\t</li>\\t\\t\\t\\t\\t\\t\\n\\t\\t\\t\\t\\t\\t</ul>\\n\\t\\t\\t\\t\\t\\t<!-- div class=\"view_mode\">\\n\\t\\t\\t\\t\\t\\t\\t<a href=\"#\" title=\"\" class=\"normal_on\"><em>1단 보기</em></a>\\n\\t\\t\\t\\t\\t\\t\\t<a href=\"#\" title=\"\" class=\"wide_off\"><em>2단 보기</em></a>\\n\\t\\t\\t\\t\\t\\t</div -->\\n\\t\\t\\t\\t\\t</div>\\n\\t\\t\\t\\t</div>\\n\\t\\t\\t</div>\\n\\t\\t\\t<div class=\"scrollbar-v\">\\n\\t\\t\\t\\t<div class=\"scrollbar-button-up\"></div>\\n\\t\\t\\t\\t<div class=\"scrollbar-track\">\\n\\t\\t\\t\\t\\t<div class=\"scrollbar-thumb\"></div>\\n\\t\\t\\t\\t</div>\\n\\t\\t\\t\\t<div class=\"scrollbar-button-down\"></div>\\n\\t\\t\\t</div>\\n\\t\\t</div>\\n\\t</div>\\n\\t<!-- //header -->\\r\\n\\t<!-- //LNB -->\\r\\n\\t\\r\\n\\t<div id=\"container\">\\r\\n\\t\\t<!-- content -->\\r\\n\\t\\t<div id=\"content\">\\r\\n\\t\\t\\t<div class=\"article\">\\r\\n\\t\\t\\t\\r\\n\\t\\t\\t\\t<div class=\"old_layout old_community\">\\r\\n\\r\\n\\t\\t\\t\\t\\r\\n\\t\\t\\t\\t\\r\\n\\r\\n\\t\\t\\t\\t<!-- Content Body -->\\r\\n\\t\\t\\t\\t<div id=\"cbody\" class=\"type_1\">\\r\\n\\t\\t\\t\\t\\r\\n\\t\\t\\t\\t\\t<div id=\"old_content\">\\r\\n\\t\\t\\t\\t\\t<form name=\"delete_point_form\" method=\"post\" action=\"dpoint.nhn\">\\n\\t\\t<input type=\"hidden\" name=\"queryString\" value=\"target=after&page=2\"/>\\n\\t\\t<input type=\"hidden\" name=\"target\" value=\"after\"/>\\n\\t\\t<input type=\"hidden\" name=\"nid\"/>\\n\\t</form>\\n\\n\\t<h4 class=\"tlt\"><img src=\"https://ssl.pstatic.net/static/movie/2019/09/tlt_netizen_grad_2.png\" alt=\"네티즌 관람객 평점\" width=\"116\" height=\"15\"></h4>\\n\\t<div class=\"choice_movie_box\">\\n\\t\\t\\n\\t\\t\\n\\t\\t\\t\\n\\t\\t<!-- 영화선택 -->\\n\\t\\t<div class=\"choice_movie\">\\n\\t\\t<span class=\"fl\">\\n\\t\\t<label for=\"current_movie\"><img src=\"https://ssl.pstatic.net/static/movie/2019/09/txt_review_3.png\" alt=\"현재 상영작 평점보기\" width=\"105\" height=\"14\"></label><br>\\n\\t\\t<select id=\"current_movie\" size=\"1\" name=\"\" style=\"width:250px;\" class=\"select_type_1\" onChange=\"javascript:find_list(\\'mcode\\',this.options[selectedIndex].value,\\'after\\');\">\\n\\t\\t\\t\\t<option>현재 상영작</option>\\n\\t\\t\\t\\t\\n\\t\\t\\t\\t\\t<option value=\"186410\">크레센도</option>\\n\\t\\t\\t\\t\\n\\t\\t\\t\\t\\t<option value=\"185148\">흩어진 밤</option>\\n\\t\\t\\t\\t\\n\\t\\t\\t\\t\\t<option value=\"203668\">신해석 삼국지</option>\\n\\t\\t\\t\\t\\n\\t\\t\\t\\t\\t<option value=\"204174\">식물카페, 온정</option>\\n\\t\\t\\t\\t\\n\\t\\t\\t\\t\\t<option value=\"119126\">북샵</option>\\n\\t\\t\\t\\t\\n\\t\\t\\t\\t\\t<option value=\"194205\">발신제한</option>\\n\\t\\t\\t\\t\\n\\t\\t\\t\\t\\t<option value=\"204624\">킬러의 보디가드 2</option>\\n\\t\\t\\t\\t\\n\\t\\t\\t\\t\\t<option value=\"199068\">메이드 인 루프탑</option>\\n\\t\\t\\t\\t\\n\\t\\t\\t\\t\\t<option value=\"200353\">데이팅 앰버</option>\\n\\t\\t\\t\\t\\n\\t\\t\\t\\t\\t<option value=\"202903\">루카</option>\\n\\t\\t\\t\\t\\n\\t\\t\\t\\t\\t<option value=\"187849\">여고괴담 여섯번째 이야기 : 모교</option>\\n\\t\\t\\t\\t\\n\\t\\t\\t\\t\\t<option value=\"196221\">그 여름, 가장 차가웠던</option>\\n\\t\\t\\t\\t\\n\\t\\t\\t\\t\\t<option value=\"196570\">그레타 툰베리</option>\\n\\t\\t\\t\\t\\n\\t\\t\\t\\t\\t<option value=\"197061\">청춘 선거</option>\\n\\t\\t\\t\\t\\n\\t\\t\\t\\t\\t<option value=\"188441\">폭력의 그림자</option>\\n\\t\\t\\t\\t\\n\\t\\t\\t\\t\\t<option value=\"189368\">콰이어트 플레이스 2</option>\\n\\t\\t\\t\\t\\n\\t\\t\\t\\t\\t<option value=\"198941\">클라이밍</option>\\n\\t\\t\\t\\t\\n\\t\\t\\t\\t\\t<option value=\"195585\">사랑하고 사랑받고 차고 차이고</option>\\n\\t\\t\\t\\t\\n\\t\\t\\t\\t\\t<option value=\"163675\">흐린 하늘에 웃다</option>\\n\\t\\t\\t\\t\\n\\t\\t\\t\\t\\t<option value=\"32723\">분노의 질주</option>\\n\\t\\t\\t\\t\\n\\t\\t\\t\\t\\t<option value=\"188264\">화이트 온 화이트</option>\\n\\t\\t\\t\\t\\n\\t\\t\\t\\t\\t<option value=\"183140\">플래시백</option>\\n\\t\\t\\t\\t\\n\\t\\t\\t\\t\\t<option value=\"173029\">강호아녀</option>\\n\\t\\t\\t\\t\\n\\t\\t\\t\\t\\t<option value=\"194856\">아야와 마녀</option>\\n\\t\\t\\t\\t\\n\\t\\t\\t\\t\\t<option value=\"204214\">캐시트럭</option>\\n\\t\\t\\t\\t\\n\\t\\t\\t\\t\\t<option value=\"190726\">컨저링 3: 악마가 시켰다</option>\\n\\t\\t\\t\\t\\n\\t\\t\\t\\t\\t<option value=\"204197\">뱅드림! 로젤리아 에피소드Ⅰ: 약속</option>\\n\\t\\t\\t\\t\\n\\t\\t\\t\\t\\t<option value=\"151961\">까치발</option>\\n\\t\\t\\t\\t\\n\\t\\t\\t\\t\\t<option value=\"203716\">낫아웃</option>\\n\\t\\t\\t\\t\\n\\t\\t\\t\\t\\t<option value=\"192865\">#위왓치유</option>\\n\\t\\t\\t\\t\\n\\t\\t\\t\\t\\t<option value=\"183600\">포겟 미 낫-엄마에게 쓰는 편지</option>\\n\\t\\t\\t\\t\\n\\t\\t\\t\\t\\t<option value=\"152681\">프로페서 앤 매드맨</option>\\n\\t\\t\\t\\t\\n\\t\\t\\t\\t\\t<option value=\"201107\">라이더스 오브 저스티스</option>\\n\\t\\t\\t\\t\\n\\t\\t\\t\\t\\t<option value=\"201908\">네가 내가 되었으면 좋겠다</option>\\n\\t\\t\\t\\t\\n\\t\\t\\t\\t\\t<option value=\"184320\">전주에서 길을 묻다</option>\\n\\t\\t\\t\\t\\n\\t\\t\\t\\t\\t<option value=\"202541\">인트로덕션</option>\\n\\t\\t\\t\\t\\n\\t\\t\\t\\t\\t<option value=\"187322\">크루엘라</option>\\n\\t\\t\\t\\t\\n\\t\\t\\t\\t\\t<option value=\"196473\">애플</option>\\n\\t\\t\\t\\t\\n\\t\\t\\t\\t\\t<option value=\"53152\">500일의 썸머</option>\\n\\t\\t\\t\\t\\n\\t\\t\\t\\t\\t<option value=\"202086\">굴뚝마을의 푸펠</option>\\n\\t\\t\\t\\t\\n\\t\\t\\t\\t\\t<option value=\"203662\">보이저스</option>\\n\\t\\t\\t\\t\\n\\t\\t\\t\\t\\t<option value=\"187549\">파이프라인</option>\\n\\t\\t\\t\\t\\n\\t\\t\\t\\t\\t<option value=\"189150\">분노의 질주: 더 얼티메이트</option>\\n\\t\\t\\t\\t\\n\\t\\t\\t\\t\\t<option value=\"201863\">혼자 사는 사람들</option>\\n\\t\\t\\t\\t\\n\\t\\t\\t\\t\\t<option value=\"172290\">쿠사마 야요이: 무한의 세계</option>\\n\\t\\t\\t\\t\\n\\t\\t\\t\\t\\t<option value=\"198553\">토토리! 우리 둘만의 여름</option>\\n\\t\\t\\t\\t\\n\\t\\t\\t\\t\\t<option value=\"200052\">도라에몽: 스탠바이미 2</option>\\n\\t\\t\\t\\t\\n\\t\\t\\t\\t\\t<option value=\"203661\">스쿨 오브 락(樂)</option>\\n\\t\\t\\t\\t\\n\\t\\t\\t\\t\\t<option value=\"37936\">빅 피쉬</option>\\n\\t\\t\\t\\t\\n\\t\\t\\t\\t\\t<option value=\"175540\">비커밍 아스트리드</option>\\n\\t\\t\\t\\t\\n\\t\\t\\t\\t\\t<option value=\"203488\">극장판 콩순이: 장난감나라 대모험</option>\\n\\t\\t\\t\\t\\n\\t\\t\\t\\t\\t<option value=\"197071\">학교 가는 길</option>\\n\\t\\t\\t\\t\\n\\t\\t\\t\\t\\t<option value=\"31132\">화녀</option>\\n\\t\\t\\t\\t\\n\\t\\t\\t\\t\\t<option value=\"16601\">바그다드 카페 : 디렉터스컷</option>\\n\\t\\t\\t\\t\\n\\t\\t\\t\\t\\t<option value=\"189566\">무순, 세상을 가로질러</option>\\n\\t\\t\\t\\t\\n\\t\\t\\t\\t\\t<option value=\"203097\">명탐정 코난: 비색의 탄환</option>\\n\\t\\t\\t\\t\\n\\t\\t\\t\\t\\t<option value=\"196215\">노매드랜드</option>\\n\\t\\t\\t\\t\\n\\t\\t\\t\\t\\t<option value=\"195691\">어른들은 몰라요</option>\\n\\t\\t\\t\\t\\n\\t\\t\\t\\t\\t<option value=\"191920\">더 파더</option>\\n\\t\\t\\t\\t\\n\\t\\t\\t\\t\\t<option value=\"194368\">부활</option>\\n\\t\\t\\t\\t\\n\\t\\t\\t\\t\\t<option value=\"17059\">중경삼림</option>\\n\\t\\t\\t\\t\\n\\t\\t\\t\\t\\t<option value=\"187310\">미나리</option>\\n\\t\\t\\t\\t\\n\\t\\t\\t\\t\\t<option value=\"19335\">해피 투게더</option>\\n\\t\\t\\t\\t\\n\\t\\t\\t\\t\\t<option value=\"197523\">스트레스 제로</option>\\n\\t\\t\\t\\t\\n\\t\\t\\t\\t\\t<option value=\"196051\">극장판 귀멸의 칼날: 무한열차편</option>\\n\\t\\t\\t\\t\\n\\t\\t\\t\\t\\t<option value=\"184517\">소울</option>\\n\\t\\t\\t\\t\\n\\t\\t\\t\\t\\t<option value=\"28876\">화양연화</option>\\n\\t\\t\\t\\t\\n\\t\\t\\t\\t\\t<option value=\"36843\">러브 액츄얼리</option>\\n\\t\\t\\t\\t\\n\\t\\t\\t\\t\\t<option value=\"193331\">내언니전지현과 나</option>\\n\\t\\t\\t\\t\\n\\t\\t\\t\\t\\t<option value=\"189624\">찬실이는 복도 많지</option>\\n\\t\\t\\t\\t\\n\\t\\t\\t\\t\\t<option value=\"195659\">봉쇄수도원 카르투시오</option>\\n\\t\\t\\t\\t\\n\\t\\t\\t\\t\\t<option value=\"194644\">기기괴괴 성형수</option>\\n\\t\\t\\t\\t\\n\\t\\t\\t\\t\\t<option value=\"194334\">부활: 그 증거</option>\\n\\t\\t\\t\\t\\n\\t\\t\\t\\t\\t<option value=\"189393\">교실 안의 야크</option>\\n\\t\\t\\t\\t\\n\\t\\t\\t\\t\\t<option value=\"192191\">도망친 여자</option>\\n\\t\\t\\t\\t\\n\\t\\t\\t\\t\\t<option value=\"190458\">여름날</option>\\n\\t\\t\\t\\t\\n\\t\\t\\t\\t\\t<option value=\"189623\">남매의 여름밤</option>\\n\\t\\t\\t\\t\\n\\t\\t\\t\\t\\t<option value=\"189633\">야구소녀</option>\\n\\t\\t\\t\\t\\n\\t\\t\\t\\t\\t<option value=\"185153\">파도를 걷는 소년</option>\\n\\t\\t\\t\\t\\n\\t\\t\\t\\t\\t<option value=\"172113\">이별의 아침에 약속의 꽃을 장식하자</option>\\n\\t\\t\\t\\t\\n\\t\\t\\t\\t\\t<option value=\"182014\">미드소마</option>\\n\\t\\t\\t\\t\\n\\t\\t\\t\\t\\t<option value=\"106335\">언어의 정원</option>\\n\\t\\t\\t\\t\\n\\t\\t\\t\\t\\t<option value=\"180402\">버티고</option>\\n\\t\\t\\t\\t\\n\\t\\t\\t\\t\\t<option value=\"31638\">로슈포르의 숙녀들</option>\\n\\t\\t\\t\\t\\n\\t\\t\\t\\t\\t<option value=\"10323\">쉘부르의 우산</option>\\n\\t\\t\\t\\t\\n\\t\\t\\t\\t\\t<option value=\"174083\">막다른 골목의 추억</option>\\n\\t\\t\\t\\t\\n\\t\\t\\t\\t\\t<option value=\"169263\">페이트 스테이 나이트 헤븐즈필 제2장 로스트 버터플라이</option>\\n\\t\\t\\t\\t\\n\\t\\t\\t\\t\\t<option value=\"181711\">러브 라이브! 선샤인!! 더 스쿨 아이돌 무비 오버 더 레인보우</option>\\n\\t\\t\\t\\t\\n\\t\\t\\t\\t\\t<option value=\"178456\">은혼2: 규칙은 깨라고 있는 것</option>\\n\\t\\t\\t\\t\\n\\t\\t\\t\\t\\t<option value=\"143332\">천당의 밤과 안개</option>\\n\\t\\t\\t\\t\\n\\t\\t\\t\\t\\t<option value=\"172194\">나츠메 우인장: 세상과 연을 맺다</option>\\n\\t\\t\\t\\t\\n\\t\\t\\t\\t\\t<option value=\"154667\">덕구</option>\\n\\t\\t\\t\\t\\n\\t\\t\\t\\t\\t<option value=\"159311\">소공녀</option>\\n\\t\\t\\t\\t\\n\\t\\t\\t\\t\\t<option value=\"164719\">플로리다 프로젝트</option>\\n\\t\\t\\t\\t\\n\\t\\t\\t\\t\\t<option value=\"150198\">너의 이름은.</option>\\n\\t\\t\\t\\t\\n\\t\\t\\t\\t\\t<option value=\"154594\">은혼</option>\\n\\t\\t\\t\\t\\n\\t\\t\\t\\t\\t<option value=\"164968\">노 게임 노 라이프 -제로-</option>\\n\\t\\t\\t\\t\\n\\t\\t\\t\\t\\t<option value=\"153729\">간츠: 오</option>\\n\\t\\t\\t\\t\\n\\t\\t\\t\\t\\t<option value=\"38249\">구름의 저편, 약속의 장소</option>\\n\\t\\t\\t\\t\\n\\t\\t\\t\\t\\t<option value=\"155123\">미스 사이공: 25주년 특별 공연</option>\\n\\t\\t\\t\\t\\n\\t\\t\\t\\t\\t<option value=\"84505\">별을 쫓는 아이</option>\\n\\t\\t\\t\\t\\n\\t\\t\\t\\t\\t<option value=\"139438\">유스</option>\\n\\t\\t\\t\\t\\n\\t\\t\\t\\t\\t<option value=\"113759\">움직이는 삶</option>\\n\\t\\t\\t\\t\\n\\t\\t\\t\\t\\t<option value=\"123688\">우드잡</option>\\n\\t\\t\\t\\t\\n\\t\\t\\t\\t\\t<option value=\"123050\">창문넘어 도망친 100세 노인</option>\\n\\t\\t\\t\\t\\n\\t\\t\\t\\t\\t<option value=\"104331\">블루 재스민</option>\\n\\t\\t\\t\\t\\n\\t\\t\\t\\t\\t<option value=\"91101\">서칭 포 슈가맨</option>\\n\\t\\t\\t\\t\\n\\t\\t\\t\\t\\t<option value=\"78240\">그을린 사랑</option>\\n\\t\\t\\t\\t\\n\\t\\t\\t\\t\\t<option value=\"23870\">내 친구의 집은 어디인가</option>\\n\\t\\t\\t\\t\\n\\t\\t\\t\\t\\t<option value=\"27267\">바람이 우리를 데려다 주리라</option>\\n\\t\\t\\t\\t\\n\\t\\t\\t\\t\\t<option value=\"31323\">와니와 준하</option>\\n\\t\\t\\t\\t\\n\\t\\t\\t\\t\\t<option value=\"19375\">그리고 삶은 계속된다</option>\\n\\t\\t\\t\\t\\n\\t\\t\\t\\t\\t<option value=\"18783\">체리 향기</option>\\n\\t\\t\\t\\t\\n\\t\\t\\t\\t\\t<option value=\"16581\">올리브 나무 사이로</option>\\n\\t\\t\\t\\t\\n\\t\\t\\t\\t\\t<option value=\"10419\">산딸기</option>\\n\\t\\t\\t\\t\\n\\t\\t\\t\\t\\t<option value=\"66098\">날으는 해병대</option>\\n\\t\\t\\t\\t\\n\\t\\t\\t\\t\\t<option value=\"29650\">까라마조프의 형제들</option>\\n\\t\\t\\t\\t\\n\\t\\t\\t\\t\\t<option value=\"10263\">돌아오지 않는 강</option>\\n\\t\\t\\t\\t\\n\\n\\t\\t</select>\\n\\t\\t</span>\\n\\t\\t</div>\\n\\t\\t<!-- //영화선택 -->\\n\\t</div>\\n\\t<!-- 리스트 제목> -->\\n\\t\\n\\t\\t\\n\\t\\t\\n\\t\\t\\n\\t\\t\\n\\t\\t\\t<h5 class=\"sub_tlt underline\"><img src=\"https://ssl.pstatic.net/imgmovie/2007/img/community/stlt_all_list.gif\" alt=\"전체 리스트\" width=\"59\" height=\"13\">\\n\\t\\t\\t\\t\\t<div class=\"h5_right_txt\">총 <strong class=\"c_88 fs_11\">13548906</strong>개의 평점이 있습니다.</div>\\n\\t\\t\\t</h5>\\n\\t\\t\\n\\t\\n\\t<!--// 리스트 제목> -->\\n\\t<!-- list -->\\n\\t<table cellspacing=\"0\" class=\"list_netizen\">\\n\\t\\t<caption class=\"blind\">개봉 후 평점 목록으로 번호, 평점, 내용, 글쓴이, 날짜 정보를 제공</caption>\\n\\t\\t<colgroup><col width=\"44\"><col width=\"*\"><col width=\"68\">\\n\\t\\t<thead>\\n\\t\\t<tr>\\n\\t\\t\\t<th>번호</th>\\n\\t\\t\\t<th>감상평</th>\\n\\t\\t\\t<th class=\"al\"><span class=\"th_m1\">글쓴이·날짜</span></th>\\n\\t\\t</tr>\\n\\t\\t</thead>\\n\\t<tbody>\\n\\t\\n\\t<tr>\\n\\t\\t<td class=\"ac num\">17566024</td>\\n\\t\\t\\t<td class=\"title\">\\n\\t\\t\\t\\n\\t\\t\\t\\n\\t\\t\\t\\t<a href=\"?st=mcode&sword=38835&target=after\" class=\"movie color_b\">터미널</a>\\n\\t\\t\\t\\n\\t\\t\\t\\n\\t\\t\\t\\n\\t\\t\\t<div class=\"list_netizen_score\">\\n\\t\\t\\t\\t<span class=\"st_off\"><span class=\"st_on\" style=\"width:90%\">별점 - 총 10점 중</span></span><em>9</em>\\n\\t\\t\\t</div>\\n\\t\\t\\t<br> \\n\\t\\t\\t\\n\\t\\t\\t\\n\\t\\t\\t\\n\\t\\t\\t\\t\\n\\t\\t\\t\\t\\n\\t\\t\\t\\t\\n\\t\\t\\t\\t<a href=\"#\" onclick=\"report(\\'rhgu****\\', \\'fOCwpDV1ZySkWXCiyP3QrCISU2S0dwPeygeMjFFt9rM=\\', \\'\\', \\'17566024\\', \\'point_after\\');\" class=\"report\" style=\"color:#8F8F8F\" title=\"새 창\">신고</a>\\n\\t\\t\\t\\n\\t\\t\\t\\n\\t\\t\\t</td>\\n\\t\\t<td class=\"num\"><a href=\"javascript:find_list(\\'nickname\\',\\'17566024\\', \\'after\\');\" class=\"author\">rhgu****</a><br>21.06.26</td>\\n\\t</tr>\\n\\t\\n\\t<tr>\\n\\t\\t<td class=\"ac num\">17566023</td>\\n\\t\\t\\t<td class=\"title\">\\n\\t\\t\\t\\n\\t\\t\\t\\n\\t\\t\\t\\t<a href=\"?st=mcode&sword=187322&target=after\" class=\"movie color_b\">크루엘라</a>\\n\\t\\t\\t\\n\\t\\t\\t\\n\\t\\t\\t\\n\\t\\t\\t<div class=\"list_netizen_score\">\\n\\t\\t\\t\\t<span class=\"st_off\"><span class=\"st_on\" style=\"width:100%\">별점 - 총 10점 중</span></span><em>10</em>\\n\\t\\t\\t</div>\\n\\t\\t\\t<br>반전의 반전을 거듭해서 한 순간도 놓칠 수 없던 영화. 엠마 스톤의 매력에 풍덩 빠졌습니다. 인생은 크루엘라처럼! 꼭 보세요 여러분 ( ??? )? \\n\\t\\t\\t\\n\\t\\t\\t\\n\\t\\t\\t\\n\\t\\t\\t\\t\\n\\t\\t\\t\\t\\n\\t\\t\\t\\t\\n\\t\\t\\t\\t<a href=\"#\" onclick=\"report(\\'gksm****\\', \\'+FEuk2r8ih1IuyK5rtvPz1fV/vKs2krxAZf+mNJ5KM8=\\', \\'반전의 반전을 거듭해서 한 순간도 놓칠 수 없던 영화. 엠마 스톤의 매력에 풍덩 빠졌습니다. 인생은 크루엘라처럼! 꼭 보세요 여러분 ( ??? )?\\', \\'17566023\\', \\'point_after\\');\" class=\"report\" style=\"color:#8F8F8F\" title=\"새 창\">신고</a>\\n\\t\\t\\t\\n\\t\\t\\t\\n\\t\\t\\t</td>\\n\\t\\t<td class=\"num\"><a href=\"javascript:find_list(\\'nickname\\',\\'17566023\\', \\'after\\');\" class=\"author\">gksm****</a><br>21.06.26</td>\\n\\t</tr>\\n\\t\\n\\t<tr>\\n\\t\\t<td class=\"ac num\">17566022</td>\\n\\t\\t\\t<td class=\"title\">\\n\\t\\t\\t\\n\\t\\t\\t\\n\\t\\t\\t\\t<a href=\"?st=mcode&sword=187322&target=after\" class=\"movie color_b\">크루엘라</a>\\n\\t\\t\\t\\n\\t\\t\\t\\n\\t\\t\\t\\n\\t\\t\\t<div class=\"list_netizen_score\">\\n\\t\\t\\t\\t<span class=\"st_off\"><span class=\"st_on\" style=\"width:100%\">별점 - 총 10점 중</span></span><em>10</em>\\n\\t\\t\\t</div>\\n\\t\\t\\t<br>시원한 디즈니영화!! \\n\\t\\t\\t\\n\\t\\t\\t\\n\\t\\t\\t\\n\\t\\t\\t\\t\\n\\t\\t\\t\\t\\n\\t\\t\\t\\t\\n\\t\\t\\t\\t<a href=\"#\" onclick=\"report(\\'un97****\\', \\'mqUT70Je65luw8h2i/8mXVrpdN3zppCx10bYserilcY=\\', \\'시원한 디즈니영화!!\\', \\'17566022\\', \\'point_after\\');\" class=\"report\" style=\"color:#8F8F8F\" title=\"새 창\">신고</a>\\n\\t\\t\\t\\n\\t\\t\\t\\n\\t\\t\\t</td>\\n\\t\\t<td class=\"num\"><a href=\"javascript:find_list(\\'nickname\\',\\'17566022\\', \\'after\\');\" class=\"author\">un97****</a><br>21.06.26</td>\\n\\t</tr>\\n\\t\\n\\t<tr>\\n\\t\\t<td class=\"ac num\">17566021</td>\\n\\t\\t\\t<td class=\"title\">\\n\\t\\t\\t\\n\\t\\t\\t\\n\\t\\t\\t\\t<a href=\"?st=mcode&sword=202903&target=after\" class=\"movie color_b\">루카</a>\\n\\t\\t\\t\\n\\t\\t\\t\\n\\t\\t\\t\\n\\t\\t\\t<div class=\"list_netizen_score\">\\n\\t\\t\\t\\t<span class=\"st_off\"><span class=\"st_on\" style=\"width:60%\">별점 - 총 10점 중</span></span><em>6</em>\\n\\t\\t\\t</div>\\n\\t\\t\\t<br>나름 픽사 덕후인데.. 그냥 밋밋하달까... 다른편에비해 큰 울림이라던지 감동은 밀려오지않았고.. 이상하리만큼 이번편은 연출도..캐릭터도 별로 안산느낌이였네요.. 항상 픽사영화보고오면 입소문 내고다녔는데.. 이번편은 주변지인들한테도 막 적극 추천은 못할꺼같아요;; \\n\\t\\t\\t\\n\\t\\t\\t\\n\\t\\t\\t\\n\\t\\t\\t\\t\\n\\t\\t\\t\\t\\n\\t\\t\\t\\t\\n\\t\\t\\t\\t<a href=\"#\" onclick=\"report(\\'jung****\\', \\'T0W+ZNBq4vPc4w0LVVu2VjtePnAJ7p3bgOqLDmwD88A=\\', \\'나름 픽사 덕후인데.. 그냥 밋밋하달까... 다른편에비해 큰 울림이라던지 감동은 밀려오지않았고.. 이상하리만큼 이번편은 연출도..캐릭터도 별로 안산느낌이였네요.. 항상 픽사영화보고오면 입소문 내고다녔는데.. 이번편은 주변지인들한테도 막 적극 추천은 못할꺼같아요;;\\', \\'17566021\\', \\'point_after\\');\" class=\"report\" style=\"color:#8F8F8F\" title=\"새 창\">신고</a>\\n\\t\\t\\t\\n\\t\\t\\t\\n\\t\\t\\t</td>\\n\\t\\t<td class=\"num\"><a href=\"javascript:find_list(\\'nickname\\',\\'17566021\\', \\'after\\');\" class=\"author\">jung****</a><br>21.06.26</td>\\n\\t</tr>\\n\\t\\n\\t<tr>\\n\\t\\t<td class=\"ac num\">17566020</td>\\n\\t\\t\\t<td class=\"title\">\\n\\t\\t\\t\\n\\t\\t\\t\\n\\t\\t\\t\\t<a href=\"?st=mcode&sword=190720&target=after\" class=\"movie color_b\">젠틀맨</a>\\n\\t\\t\\t\\n\\t\\t\\t\\n\\t\\t\\t\\n\\t\\t\\t<div class=\"list_netizen_score\">\\n\\t\\t\\t\\t<span class=\"st_off\"><span class=\"st_on\" style=\"width:100%\">별점 - 총 10점 중</span></span><em>10</em>\\n\\t\\t\\t</div>\\n\\t\\t\\t<br>역시 가이리치...배우들 연기도 좋고.매튜는 명불허전이고.. \\n\\t\\t\\t\\n\\t\\t\\t\\n\\t\\t\\t\\n\\t\\t\\t\\t\\n\\t\\t\\t\\t\\n\\t\\t\\t\\t\\n\\t\\t\\t\\t<a href=\"#\" onclick=\"report(\\'evol****\\', \\'/G/qLpBL8EaxN+S9/zMRsOyjo7EVrE6Cd2XSGktisp4=\\', \\'역시 가이리치...배우들 연기도 좋고.매튜는 명불허전이고..\\', \\'17566020\\', \\'point_after\\');\" class=\"report\" style=\"color:#8F8F8F\" title=\"새 창\">신고</a>\\n\\t\\t\\t\\n\\t\\t\\t\\n\\t\\t\\t</td>\\n\\t\\t<td class=\"num\"><a href=\"javascript:find_list(\\'nickname\\',\\'17566020\\', \\'after\\');\" class=\"author\">evol****</a><br>21.06.26</td>\\n\\t</tr>\\n\\t\\n\\t<tr>\\n\\t\\t<td class=\"ac num\">17566019</td>\\n\\t\\t\\t<td class=\"title\">\\n\\t\\t\\t\\n\\t\\t\\t\\n\\t\\t\\t\\t<a href=\"?st=mcode&sword=183854&target=after\" class=\"movie color_b\">죽지않는 인간들의 밤</a>\\n\\t\\t\\t\\n\\t\\t\\t\\n\\t\\t\\t\\n\\t\\t\\t<div class=\"list_netizen_score\">\\n\\t\\t\\t\\t<span class=\"st_off\"><span class=\"st_on\" style=\"width:100%\">별점 - 총 10점 중</span></span><em>10</em>\\n\\t\\t\\t</div>\\n\\t\\t\\t<br>B급코미디 좋아하시는 분들 추천 \\n\\t\\t\\t\\n\\t\\t\\t\\n\\t\\t\\t\\n\\t\\t\\t\\t\\n\\t\\t\\t\\t\\n\\t\\t\\t\\t\\n\\t\\t\\t\\t<a href=\"#\" onclick=\"report(\\'iam_****\\', \\'/vRe5Zx2ayF5kvAeVav+w2Ol9ypTvPAzRVA6zJaApno=\\', \\'B급코미디 좋아하시는 분들 추천\\', \\'17566019\\', \\'point_after\\');\" class=\"report\" style=\"color:#8F8F8F\" title=\"새 창\">신고</a>\\n\\t\\t\\t\\n\\t\\t\\t\\n\\t\\t\\t</td>\\n\\t\\t<td class=\"num\"><a href=\"javascript:find_list(\\'nickname\\',\\'17566019\\', \\'after\\');\" class=\"author\">iam_****</a><br>21.06.26</td>\\n\\t</tr>\\n\\t\\n\\t<tr>\\n\\t\\t<td class=\"ac num\">17566018</td>\\n\\t\\t\\t<td class=\"title\">\\n\\t\\t\\t\\n\\t\\t\\t\\n\\t\\t\\t\\t<a href=\"?st=mcode&sword=194205&target=after\" class=\"movie color_b\">발신제한</a>\\n\\t\\t\\t\\n\\t\\t\\t\\n\\t\\t\\t\\n\\t\\t\\t<div class=\"list_netizen_score\">\\n\\t\\t\\t\\t<span class=\"st_off\"><span class=\"st_on\" style=\"width:60%\">별점 - 총 10점 중</span></span><em>6</em>\\n\\t\\t\\t</div>\\n\\t\\t\\t<br>유사도 99.999% 더 테러 ‘드’라이브 \\n\\t\\t\\t\\n\\t\\t\\t\\n\\t\\t\\t\\n\\t\\t\\t\\t\\n\\t\\t\\t\\t\\n\\t\\t\\t\\t\\n\\t\\t\\t\\t<a href=\"#\" onclick=\"report(\\'isg5****\\', \\'VbbnJ59vvGMgwGjk7D+fpP6bIxRnA7NExvGVnNTnaMA=\\', \\'유사도 99.999% 더 테러 ‘드’라이브\\', \\'17566018\\', \\'point_after\\');\" class=\"report\" style=\"color:#8F8F8F\" title=\"새 창\">신고</a>\\n\\t\\t\\t\\n\\t\\t\\t\\n\\t\\t\\t</td>\\n\\t\\t<td class=\"num\"><a href=\"javascript:find_list(\\'nickname\\',\\'17566018\\', \\'after\\');\" class=\"author\">isg5****</a><br>21.06.26</td>\\n\\t</tr>\\n\\t\\n\\t<tr>\\n\\t\\t<td class=\"ac num\">17566017</td>\\n\\t\\t\\t<td class=\"title\">\\n\\t\\t\\t\\n\\t\\t\\t\\n\\t\\t\\t\\t<a href=\"?st=mcode&sword=202903&target=after\" class=\"movie color_b\">루카</a>\\n\\t\\t\\t\\n\\t\\t\\t\\n\\t\\t\\t\\n\\t\\t\\t<div class=\"list_netizen_score\">\\n\\t\\t\\t\\t<span class=\"st_off\"><span class=\"st_on\" style=\"width:80%\">별점 - 총 10점 중</span></span><em>8</em>\\n\\t\\t\\t</div>\\n\\t\\t\\t<br>픽사는 픽사 감동은 적지만 \\n\\t\\t\\t\\n\\t\\t\\t\\n\\t\\t\\t\\n\\t\\t\\t\\t\\n\\t\\t\\t\\t\\n\\t\\t\\t\\t\\n\\t\\t\\t\\t<a href=\"#\" onclick=\"report(\\'seoy****\\', \\'lYTv4ldWZUhvMLlTf8W8zMGWEkm/vInNKbEcFwLa86A=\\', \\'픽사는 픽사 감동은 적지만\\', \\'17566017\\', \\'point_after\\');\" class=\"report\" style=\"color:#8F8F8F\" title=\"새 창\">신고</a>\\n\\t\\t\\t\\n\\t\\t\\t\\n\\t\\t\\t</td>\\n\\t\\t<td class=\"num\"><a href=\"javascript:find_list(\\'nickname\\',\\'17566017\\', \\'after\\');\" class=\"author\">seoy****</a><br>21.06.26</td>\\n\\t</tr>\\n\\t\\n\\t<tr>\\n\\t\\t<td class=\"ac num\">17566016</td>\\n\\t\\t\\t<td class=\"title\">\\n\\t\\t\\t\\n\\t\\t\\t\\n\\t\\t\\t\\t<a href=\"?st=mcode&sword=202903&target=after\" class=\"movie color_b\">루카</a>\\n\\t\\t\\t\\n\\t\\t\\t\\n\\t\\t\\t\\n\\t\\t\\t<div class=\"list_netizen_score\">\\n\\t\\t\\t\\t<span class=\"st_off\"><span class=\"st_on\" style=\"width:100%\">별점 - 총 10점 중</span></span><em>10</em>\\n\\t\\t\\t</div>\\n\\t\\t\\t<br> \\n\\t\\t\\t\\n\\t\\t\\t\\n\\t\\t\\t\\n\\t\\t\\t\\t\\n\\t\\t\\t\\t\\n\\t\\t\\t\\t\\n\\t\\t\\t\\t<a href=\"#\" onclick=\"report(\\'cell****\\', \\'W41StkIrvj5c+LHjubSGzfwA1ofBo6hwQk7xySmFrWU=\\', \\'\\', \\'17566016\\', \\'point_after\\');\" class=\"report\" style=\"color:#8F8F8F\" title=\"새 창\">신고</a>\\n\\t\\t\\t\\n\\t\\t\\t\\n\\t\\t\\t</td>\\n\\t\\t<td class=\"num\"><a href=\"javascript:find_list(\\'nickname\\',\\'17566016\\', \\'after\\');\" class=\"author\">cell****</a><br>21.06.26</td>\\n\\t</tr>\\n\\t\\n\\t<tr>\\n\\t\\t<td class=\"ac num\">17566015</td>\\n\\t\\t\\t<td class=\"title\">\\n\\t\\t\\t\\n\\t\\t\\t\\n\\t\\t\\t\\t<a href=\"?st=mcode&sword=194205&target=after\" class=\"movie color_b\">발신제한</a>\\n\\t\\t\\t\\n\\t\\t\\t\\n\\t\\t\\t\\n\\t\\t\\t<div class=\"list_netizen_score\">\\n\\t\\t\\t\\t<span class=\"st_off\"><span class=\"st_on\" style=\"width:40%\">별점 - 총 10점 중</span></span><em>4</em>\\n\\t\\t\\t</div>\\n\\t\\t\\t<br>남주 연기빼면 별점 0점임 그나마 남주 연기력때문에 2점임.여기 알바들이 많은듯. \\n\\t\\t\\t\\n\\t\\t\\t\\n\\t\\t\\t\\n\\t\\t\\t\\t\\n\\t\\t\\t\\t\\n\\t\\t\\t\\t\\n\\t\\t\\t\\t<a href=\"#\" onclick=\"report(\\'hira****\\', \\'8QXpiUp1fTPtGV2rs5sBa8aonD+vIhwXRZcAmXy8WWw=\\', \\'남주 연기빼면 별점 0점임 그나마 남주 연기력때문에 2점임.여기 알바들이 많은듯.\\', \\'17566015\\', \\'point_after\\');\" class=\"report\" style=\"color:#8F8F8F\" title=\"새 창\">신고</a>\\n\\t\\t\\t\\n\\t\\t\\t\\n\\t\\t\\t</td>\\n\\t\\t<td class=\"num\"><a href=\"javascript:find_list(\\'nickname\\',\\'17566015\\', \\'after\\');\" class=\"author\">hira****</a><br>21.06.26</td>\\n\\t</tr>\\n\\t\\n\\t\\n\\t</tbody>\\n\\t</table>\\n\\t<form id=\"reportForm\" name=\"reportForm1\"></form>\\n\\t<script type=\"text/javascript\">\\n\\tfunction report(writerId, encryptedId, title, nid, boardId){\\n\\t\\tif( \\'Y\\' == \\'N\\' || \\'Y\\' == \\'G\\' ) {\\n\\t\\t\\topenNotify(\\'Y\\', \\'\\');\\n\\t\\t\\treturn;\\n\\t\\t}\\n\\t\\tif(login_check()== false) {\\n\\t\\t\\treturn;\\n\\t\\t}\\n\\t\\t\\t\\n\\t\\t\\turl = location.protocol+ \"//\" + location.host + \"/movie/board/common/report.nhn\";\\n\\t\\t\\tif(\"\" == \"\"){\\n\\t\\t\\t\\tgoLogin();\\n\\t\\t\\t}else{\\n\\t\\t\\t\\tvar reportForm = document.getElementById(\"reportForm\");\\n\\t\\t\\t\\tvar formInput1 = createReportHiddenParameter(\"writerId\", writerId);\\n\\t\\t\\t\\tvar formInput2 = createReportHiddenParameter(\"nid\", nid);\\n\\t\\t\\t\\tvar formInput3 = createReportHiddenParameter(\"boardId\", boardId);\\n\\t\\t\\t\\tvar formInput4 = createReportHiddenParameter(\"title\", title);\\n\\t\\t\\t\\tvar formInput5 = createReportHiddenParameter(\"encryptedId\", encryptedId);\\n\\n\\t\\t\\t\\treportForm.appendChild(formInput1);\\n\\t\\t\\t\\treportForm.appendChild(formInput2);\\n\\t\\t\\t\\treportForm.appendChild(formInput3);\\n\\t\\t\\t\\treportForm.appendChild(formInput4);\\n\\t\\t\\t\\treportForm.appendChild(formInput5);\\n\\t\\t\\t\\t\\n\\t\\t\\t\\twindow.open(\"\", \"report\", \"status=yes, width=575, height=800, scrollbars=yes, menubar=no, toolbar=no, location=no\");\\n\\t\\t\\t\\treportForm.action = url;\\n\\t\\t\\t\\treportForm.target=\"report\";\\n\\t\\t\\t\\treportForm.submit();\\n\\n\\t\\t\\t\\treportForm.removeChild(formInput1);\\n\\t\\t\\t\\treportForm.removeChild(formInput2);\\n\\t\\t\\t\\treportForm.removeChild(formInput3);\\n\\t\\t\\t\\treportForm.removeChild(formInput4);\\t\\n\\t\\t\\t\\treportForm.removeChild(formInput5);\\t\\n\\t\\t\\t}\\n\\t}\\n\\tfunction createReportHiddenParameter(name, value){\\n\\t\\tvar input = document.createElement(\"input\");\\n\\t\\tinput.type=\"hidden\";\\n\\t\\tinput.name = name;\\n\\t\\tinput.value = value;\\n\\t\\treturn input;\\n\\t}\\n\\t</script>\\n\\t<!-- //list -->\\n\\t<!-- 페이징 -->\\n\\t<div class=\"paging\">\\n\\t\\t<div>\\n\\t\\t\\n\\t\\t\\t<a href=\"/movie/point/af/list.nhn?&page=1\" title=\\'이전\\' class=\\'pg_prev\\'><em>이전</em></a>\\n\\n\\t\\t\\t<a href=\"/movie/point/af/list.nhn?&page=1\"><span>1</span></a>\\n<a href=\"/movie/point/af/list.nhn?&page=2\"><span class=\"on\">2</span></a>\\n<a href=\"/movie/point/af/list.nhn?&page=3\"><span>3</span></a>\\n<a href=\"/movie/point/af/list.nhn?&page=4\"><span>4</span></a>\\n<a href=\"/movie/point/af/list.nhn?&page=5\"><span>5</span></a>\\n<a href=\"/movie/point/af/list.nhn?&page=6\"><span>6</span></a>\\n<a href=\"/movie/point/af/list.nhn?&page=7\"><span>7</span></a>\\n<a href=\"/movie/point/af/list.nhn?&page=8\"><span>8</span></a>\\n<a href=\"/movie/point/af/list.nhn?&page=9\"><span>9</span></a>\\n<a href=\"/movie/point/af/list.nhn?&page=10\"><span>10</span></a>\\n\\n\\t\\t\\t<a href=\"/movie/point/af/list.nhn?&page=3\" title=\\'다음\\' class=\\'pg_next\\'><em>다음</em></a>\\n\\n\\t\\t\\n\\t\\t</div>\\n\\t</div>\\n\\t<!-- //페이징 -->\\n\\t<!-- 검색 -->\\n\\t<fieldset class=\"form_board_search pt_18\">\\n\\t<legend>게시물 검색</legend>\\n\\t\\t<form name=\"searchListForm\" action=\"list.nhn\" method=\"get\" onSubmit=\"doSearchList(); return false;\">\\n\\t\\t\\t<select size=\"1\" name=\"st\" style=\"width:75px;\" class=\"select_type_1\" onchange=\"checkSearchType(); return false;\" title=\"게시물 검색\">\\n\\t\\t\\t\\t<option value=\"userid\">글쓴이</option>\\n\\t\\t\\t\\t<option value=\"movie\">관련영화</option>\\n\\t\\t\\t</select>\\n\\t\\t\\t<input type=\"hidden\" name=\"target\" value=\"after\"/>\\n\\t\\t\\t<input type=\"hidden\" name=\"mcode\" value=\"\"/>\\n\\t\\t\\t<input name=\"sword\" type=\"text\" style=\"width:145px\" title=\"검색어입력\" class=\"input_type_text_4\" onfocus=\"openMovieSearchPopupOrNot(); return false;\">\\n\\t\\t\\t<input type=\"image\" src=\"https://ssl.pstatic.net/imgmovie/2007/img/common/btn_search.gif\" alt=\"검색\">\\n\\t\\t</form>\\n\\t</fieldset>\\n\\t<!-- //검색 -->\\n\\t<script type=\"text/javascript\">\\n\\t\\n\\t\\tvar oForm = document.searchListForm;\\n\\t\\t\\n\\t\\tfunction checkSearchType() {\\n\\t\\t\\tvar searchType = oForm.st.value;\\n\\t\\t\\t\\n\\t\\t\\tif (searchType == \"movie\") {\\n\\t\\t\\t\\toForm.sword.readOnly = true;\\n\\t\\t\\t} else {\\n\\t\\t\\t\\toForm.sword.readOnly = false;\\n\\t\\t\\t}\\n\\t\\t}\\n\\t\\t\\n\\t\\tfunction openMovieSearchPopupOrNot() {\\n\\t\\t\\tvar searchType = oForm.st.value;\\n\\t\\t\\t\\n\\t\\t\\tif (searchType == \"movie\") {\\n\\t\\t\\t\\toForm.st.focus();\\n\\t\\t\\t\\twindow.open(\"/movie/bi/pop/movie_sel.nhn\", \"select_movie\", \"scrollbars=yes, status=no, toolbar=no, width=530, height=470\");\\n\\t\\t\\t}\\n\\t\\t\\t\\n\\t\\t\\treturn false;\\n\\t\\t}\\n\\t\\t\\n\\t\\tfunction doSearchList() {\\n\\t\\t\\tvar searchType = oForm.st.value;\\n\\t\\t\\t\\n\\t\\t\\tif(oForm.sword.value.length < 1) {\\n\\t\\t\\t\\talert(\"검색어를 입력해 주세요.\");\\n\\t\\t\\t\\treturn false;\\n\\t\\t\\t}\\n\\t\\t\\t\\n\\t\\t\\tif (searchType == \"movie\") {\\n\\t\\t\\t\\tvar st = \"mcode\";\\n\\t\\t\\t\\tvar sword = oForm.mcode.value;\\n\\t\\t\\t\\t\\n\\t\\t\\t\\toForm.st.value = st;\\n\\t\\t\\t\\toForm.sword.value = sword;\\n\\t\\t\\t\\tfind_list(st, sword, \"\");\\n\\t\\t\\t\\t\\n\\t\\t\\t\\treturn false;\\n\\t\\t\\t}\\n\\t\\t\\t\\n\\t\\t\\toForm.sword.value = oForm.sword.value.replace(/\\\\\\'/g,\"\\\\\\\\\\'\");\\n\\t\\t\\toForm.submit();\\n\\t\\t\\treturn true;\\n\\t\\t}\\n\\t\\t\\n\\t\\t// 영화 검색 팝업 창에서 콜백 하는, 영화 정보 세팅 함수\\n\\t\\tfunction setMovieInfo (mcode, mtitle) {\\n\\t\\t\\toForm.mcode.value = mcode;\\n\\t\\t\\toForm.sword.value = mtitle;\\n\\t\\t}\\n\\t\\t\\n\\t</script>\\n\\t\\n\\t<!-- 안내박스 -->\\n\\t<ul class=\"box_guide mt_35\">\\n\\t\\t<li>\\n\\t\\t\\t<dl class=\"info_guide\">\\n\\t\\t\\t\\t<dt class=\"blind\">유의사항</dt>\\n\\t\\t\\t\\t<dd>평점은 영화별로 1개의 아이디당 한 번만 등록이 가능하며 하루에 최대 3개의 영화까지만 등록이 가능합니다.\\n\\t\\t\\t\\t\\t게시판 용도에 맞지 않는 글은 운영자에 의해 삭제될 수 있습니다. <span class=\"rule\"><a href=\"javascript:openRulePopup();\"></a></span></dd>\\n\\t\\t\\t</dl>\\n\\t\\t</li>\\n\\t</ul>\\n\\t<!-- //안내박스 -->\\n\\t<!-- 탑버튼 -->\\n\\t<div class=\"go_top\">\\n\\t\\n\\t<a href=\"#gnb_top\"><img src=\"https://ssl.pstatic.net/imgmovie/2007/img/common/btn_top.gif\" alt=\"TOP\" width=\"30\" height=\"11\"></a>\\n\\t</div>\\n\\t<!-- //탑버튼 -->\\r\\n\\t\\t\\t\\t\\t</div>\\r\\n\\t\\t\\t\\r\\n\\t\\t\\t\\t\\t<div id=\"assistant\">\\r\\n\\t\\t\\t\\t\\t\\t\\r\\n\\r\\n\\r\\n\\r\\n\\r\\n\\r\\n\\r\\n\\r\\n\\t\\r\\n\\t\\t\\r\\n\\r\\n\\r\\n\\r\\n\\r\\n\\r\\n<!-- 우측 메뉴 -->\\r\\n\\r\\n\\t \\r\\n\\r\\n\\r\\n\\r\\n\\t<!-- 영화 인기검색어 -->\\r\\n\\t<div class=\"box_type_1 mb_8\">\\r\\n\\t<h3><img src=\"https://ssl.pstatic.net/imgmovie/2007/img/super_db/tlt_r_best_movie.gif\" alt=\"영화 인기검색어\" width=\"75\" height=\"11\"></h3>\\r\\n\\t\\t<ul class=\"r_ranking\">\\r\\n\\t\\t\\t\\r\\n\\t\\t\\t\\r\\n\\t\\t\\t\\t\\r\\n\\t\\t\\t\\t\\r\\n\\t\\t\\t\\t\\r\\n\\t\\t\\t\\t\\r\\n\\t\\t\\t\\t\\r\\n\\t\\t\\t\\t<li class=\"ranking01\">\\r\\n\\t\\t\\t\\t\\r\\n\\t\\t\\t\\t\\r\\n\\t\\t\\t\\t<a href=\"/movie/bi/mi/basic.nhn?code=189368\" onclick=\"clickcr(this,\\'pop.list\\',\\'189368\\',\\'1\\',event);\" class=\\'b\\' title=\"콰이어트 플레이스 2\"><span class=\"blind\">1위</span>콰이어트 플레이스 ..</a>\\r\\n\\t\\t\\t\\t<span class=\"rank\">\\r\\n\\t\\t\\t\\t\\r\\n\\t\\t\\t\\t\\r\\n\\t\\t\\t\\t\\r\\n\\t\\t\\t\\t\\r\\n\\t\\t\\t\\t\\t\\r\\n\\t\\t\\t\\t\\r\\n\\t\\t\\t\\t\\r\\n\\t\\t\\t\\t\\r\\n\\t\\t\\t\\t\\t\\r\\n\\t\\t\\t\\t\\t\\r\\n\\t\\t\\t\\t\\t\\r\\n\\t\\t\\t\\t\\t\\r\\n\\t\\t\\t\\t\\r\\n\\t\\t\\t\\t<img src=\"https://ssl.pstatic.net/imgmovie/2007/img/common/icon_na_1.gif\"\\r\\n\\t\\t\\t\\t\\t alt=\"순위 변동 없음\"\\r\\n\\t\\t\\t\\t\\t width=\"7\" height=\"10\">0</span>\\r\\n\\t\\t\\t\\t\\r\\n\\t\\t\\t\\r\\n\\t\\t\\t\\t\\r\\n\\t\\t\\t\\t\\r\\n\\t\\t\\t\\t\\r\\n\\t\\t\\t\\t\\r\\n\\t\\t\\t\\t<li class=\"ranking02\">\\r\\n\\t\\t\\t\\t\\r\\n\\t\\t\\t\\t\\r\\n\\t\\t\\t\\t<a href=\"/movie/bi/mi/basic.nhn?code=187322\" onclick=\"clickcr(this,\\'pop.list\\',\\'187322\\',\\'2\\',event);\"  title=\"크루엘라\"><span class=\"blind\">2위</span>크루엘라</a>\\r\\n\\t\\t\\t\\t<span class=\"rank\">\\r\\n\\t\\t\\t\\t\\r\\n\\t\\t\\t\\t\\r\\n\\t\\t\\t\\t\\r\\n\\t\\t\\t\\t\\r\\n\\t\\t\\t\\t\\t\\r\\n\\t\\t\\t\\t\\r\\n\\t\\t\\t\\t\\r\\n\\t\\t\\t\\t\\r\\n\\t\\t\\t\\t\\t\\r\\n\\t\\t\\t\\t\\t\\r\\n\\t\\t\\t\\t\\t\\r\\n\\t\\t\\t\\t\\t\\r\\n\\t\\t\\t\\t\\r\\n\\t\\t\\t\\t<img src=\"https://ssl.pstatic.net/imgmovie/2007/img/common/icon_na_1.gif\"\\r\\n\\t\\t\\t\\t\\t alt=\"순위 변동 없음\"\\r\\n\\t\\t\\t\\t\\t width=\"7\" height=\"10\">0</span>\\r\\n\\t\\t\\t\\t\\r\\n\\t\\t\\t\\r\\n\\t\\t\\t\\t\\r\\n\\t\\t\\t\\t\\r\\n\\t\\t\\t\\t\\r\\n\\t\\t\\t\\t\\r\\n\\t\\t\\t\\t<li class=\"ranking03\">\\r\\n\\t\\t\\t\\t\\r\\n\\t\\t\\t\\t\\r\\n\\t\\t\\t\\t<a href=\"/movie/bi/mi/basic.nhn?code=194205\" onclick=\"clickcr(this,\\'pop.list\\',\\'194205\\',\\'3\\',event);\"  title=\"발신제한\"><span class=\"blind\">3위</span>발신제한</a>\\r\\n\\t\\t\\t\\t<span class=\"rank\">\\r\\n\\t\\t\\t\\t\\r\\n\\t\\t\\t\\t\\r\\n\\t\\t\\t\\t\\r\\n\\t\\t\\t\\t\\r\\n\\t\\t\\t\\t\\r\\n\\t\\t\\t\\t\\t\\r\\n\\t\\t\\t\\t\\r\\n\\t\\t\\t\\t\\r\\n\\t\\t\\t\\t\\t\\r\\n\\t\\t\\t\\t\\t\\r\\n\\t\\t\\t\\t\\t\\r\\n\\t\\t\\t\\t\\t\\r\\n\\t\\t\\t\\t\\r\\n\\t\\t\\t\\t<img src=\"https://ssl.pstatic.net/imgmovie/2007/img/common/icon_up_1.gif\"\\r\\n\\t\\t\\t\\t\\t alt=\"순위 상승\"\\r\\n\\t\\t\\t\\t\\t width=\"7\" height=\"10\">1</span>\\r\\n\\t\\t\\t\\t\\r\\n\\t\\t\\t\\r\\n\\t\\t\\t\\t\\r\\n\\t\\t\\t\\t\\r\\n\\t\\t\\t\\t\\r\\n\\t\\t\\t\\t\\r\\n\\t\\t\\t\\t<li class=\"ranking04\">\\r\\n\\t\\t\\t\\t\\r\\n\\t\\t\\t\\t\\r\\n\\t\\t\\t\\t<a href=\"/movie/bi/mi/basic.nhn?code=202903\" onclick=\"clickcr(this,\\'pop.list\\',\\'202903\\',\\'4\\',event);\"  title=\"루카\"><span class=\"blind\">4위</span>루카</a>\\r\\n\\t\\t\\t\\t<span class=\"rank\">\\r\\n\\t\\t\\t\\t\\r\\n\\t\\t\\t\\t\\r\\n\\t\\t\\t\\t\\r\\n\\t\\t\\t\\t\\r\\n\\t\\t\\t\\t\\r\\n\\t\\t\\t\\t\\t\\r\\n\\t\\t\\t\\t\\r\\n\\t\\t\\t\\t\\r\\n\\t\\t\\t\\t\\t\\r\\n\\t\\t\\t\\t\\t\\r\\n\\t\\t\\t\\t\\t\\r\\n\\t\\t\\t\\t\\t\\r\\n\\t\\t\\t\\t\\r\\n\\t\\t\\t\\t<img src=\"https://ssl.pstatic.net/imgmovie/2007/img/common/icon_down_1.gif\"\\r\\n\\t\\t\\t\\t\\t alt=\"순위 하락\"\\r\\n\\t\\t\\t\\t\\t width=\"7\" height=\"10\">1</span>\\r\\n\\t\\t\\t\\t\\r\\n\\t\\t\\t\\r\\n\\t\\t\\t\\t\\r\\n\\t\\t\\t\\t\\r\\n\\t\\t\\t\\t\\r\\n\\t\\t\\t\\t\\r\\n\\t\\t\\t\\t<li class=\"ranking05\">\\r\\n\\t\\t\\t\\t\\r\\n\\t\\t\\t\\t\\r\\n\\t\\t\\t\\t<a href=\"/movie/bi/mi/basic.nhn?code=204624\" onclick=\"clickcr(this,\\'pop.list\\',\\'204624\\',\\'5\\',event);\"  title=\"킬러의 보디가드 2\"><span class=\"blind\">5위</span>킬러의 보디가드 2</a>\\r\\n\\t\\t\\t\\t<span class=\"rank\">\\r\\n\\t\\t\\t\\t\\r\\n\\t\\t\\t\\t\\r\\n\\t\\t\\t\\t\\r\\n\\t\\t\\t\\t\\r\\n\\t\\t\\t\\t\\r\\n\\t\\t\\t\\t\\t\\r\\n\\t\\t\\t\\t\\r\\n\\t\\t\\t\\t\\r\\n\\t\\t\\t\\t\\t\\r\\n\\t\\t\\t\\t\\t\\r\\n\\t\\t\\t\\t\\t\\r\\n\\t\\t\\t\\t\\t\\r\\n\\t\\t\\t\\t\\r\\n\\t\\t\\t\\t<img src=\"https://ssl.pstatic.net/imgmovie/2007/img/common/icon_up_1.gif\"\\r\\n\\t\\t\\t\\t\\t alt=\"순위 상승\"\\r\\n\\t\\t\\t\\t\\t width=\"7\" height=\"10\">1</span>\\r\\n\\t\\t\\t\\t\\r\\n\\t\\t\\t\\r\\n\\t\\t</ul>\\r\\n        <!--[D] 더보기 위치 이동 -->\\r\\n        <a href=\"/movie/sdb/rank/rmovie.nhn\" onclick=\"clickcr(this,\\'pop.more\\',\\'\\',\\'\\',event);\" class=\"more\">더보기</a>\\r\\n        <p class=\"term\">2021.06.24</p>\\r\\n\\t</div>\\r\\n  \\r\\n\\r\\n\\t \\n\\n\\n\\n\\t<script type=\"text/javascript\">\\n\\t\\t//탭 토글해주는 스크립트\\n\\t\\tfunction showTopPoint(param){\\t\\t\\t\\n\\t\\t\\tif(param ==\"running\"){\\n\\t\\t\\t\\tdocument.getElementById(\"topRunning\").style.display=\"\";\\n\\t\\t\\t\\tdocument.getElementById(\"topAll\").style.display=\"none\";\\n                document.getElementById(\"running_tab\").focus();\\n\\t\\t\\t\\t\\n\\t\\t\\t}else{\\n\\t\\t\\t\\tdocument.getElementById(\"topRunning\").style.display=\"none\";\\n\\t\\t\\t\\tdocument.getElementById(\"topAll\").style.display=\"\";\\n                document.getElementById(\"all_tab_in_all\").focus();\\n\\t\\t\\t}\\n\\t\\t}\\n\\t</script>\\n\\t<!-- 네티즌 최고 평점 -->\\n\\t<div id=\"topRunning\" class=\"box_type_1 mb_8\">\\n\\t\\t<h3><img src=\"https://ssl.pstatic.net/imgmovie/2007/img/community/tlt_r_netizen_good.gif\" alt=\"네티즌 최고 평점\" width=\"77\" height=\"12\"></h3>\\n\\t\\t<div style=\"_margin-top:-1px;\"><a id=\"running_tab\" href=\"javascript:showTopPoint(\\'running\\');\" onclick=\"clickcr(this,\\'npt.now\\',\\'\\',\\'\\',event);\"><img src=\"https://ssl.pstatic.net/imgmovie/2007/img/community/tab_r_01_on.gif\" alt=\"현재 상영영화\" width=\"99\" height=\"33\"></a><a id=\"all_tab\" href=\"javascript:showTopPoint(\\'all\\');\" onclick=\"clickcr(this,\\'npt.all\\',\\'\\',\\'\\',event);\"><img src=\"https://ssl.pstatic.net/imgmovie/2007/img/community/tab_r_02_off.gif\" alt=\"모든영화\" width=\"99\" height=\"33\"></a></div>\\n\\t\\t<!--[D] 선택 된 탭 대체 텍스트 제공 -->\\n\\t\\t<strong class=\"blind\">현재 상영영화</strong>\\n\\t\\t<ul class=\"grade\">\\n\\t\\t\\t\\n\\t\\t\\t\\t<li class=\"1st ranking01\">\\n\\t\\t\\t\\t\\t<span class=\"blind\">1위</span>\\n\\t\\t\\t\\t\\t\\n\\t\\t\\t\\t\\t\\t<a href=\"/movie/point/af/list.nhn?st=mcode&sword=154667\" onclick=\"clickcr(this,\\'npt*n.list\\',\\'154667\\',\\'1\\',event);\" class=\"ls b\" title=\"덕구\">\\n\\t\\t\\t\\t\\t\\t덕구</a><span class=\"num b check\">9.43</span>\\n\\t\\t\\t\\t\\t\\n\\t\\t\\t\\t\\t\\n\\t\\t\\t\\t\\t\\n\\t\\t\\t\\t\\t\\t<p class=\"img_movie\"><a href=\"/movie/point/af/list.nhn?st=mcode&sword=154667\" onclick=\"clickcr(this,\\'npt*n.img\\',\\'154667\\',\\'\\',event);\">\\n\\t\\t\\t\\t\\t\\t\\n\\t\\t\\t\\t\\t\\t\\t<img src=\"https://ssl.pstatic.net/imgmovie/mdi/mi_new_master/1546/154667_M52_143705.jpg\" alt=\"덕구\" width=\"176\" height=\"80\">\\n\\t\\t\\t\\t\\t\\t\\n\\t\\t\\t\\t\\t\\t\\n\\t\\t\\t\\t\\t\\t</a>\\n\\t\\t\\t\\t\\t\\t</p>\\n\\t\\t\\t\\t\\t\\t\\t\\t\\t\\t\\t\\t\\n\\t\\t\\t\\t</li>\\n\\t\\t\\t\\n\\t\\t\\t\\t<li class=\"1st ranking02\">\\n\\t\\t\\t\\t\\t<span class=\"blind\">2위</span>\\n\\t\\t\\t\\t\\t\\n\\t\\t\\t\\t\\t\\n\\t\\t\\t\\t\\t\\t<a href=\"/movie/point/af/list.nhn?st=mcode&sword=194334\" onclick=\"clickcr(this,\\'npt*n.list\\',\\'194334\\',\\'2\\',event);\" class=\"ls\" title=\"부활: 그 증거\">\\n\\t\\t\\t\\t\\t\\t부활: 그 증거</a><span class=\"num b\">9.3</span>\\n\\t\\t\\t\\t\\t\\n\\t\\t\\t\\t\\t\\t\\t\\t\\t\\t\\t\\t\\n\\t\\t\\t\\t</li>\\n\\t\\t\\t\\n\\t\\t\\t\\t<li class=\"1st ranking03\">\\n\\t\\t\\t\\t\\t<span class=\"blind\">3위</span>\\n\\t\\t\\t\\t\\t\\n\\t\\t\\t\\t\\t\\n\\t\\t\\t\\t\\t\\t<a href=\"/movie/point/af/list.nhn?st=mcode&sword=187322\" onclick=\"clickcr(this,\\'npt*n.list\\',\\'187322\\',\\'3\\',event);\" class=\"ls\" title=\"크루엘라\">\\n\\t\\t\\t\\t\\t\\t크루엘라</a><span class=\"num b\">9.29</span>\\n\\t\\t\\t\\t\\t\\n\\t\\t\\t\\t\\t\\t\\t\\t\\t\\t\\t\\t\\n\\t\\t\\t\\t</li>\\n\\t\\t\\t\\n\\t\\t\\t\\t<li class=\"1st ranking04\">\\n\\t\\t\\t\\t\\t<span class=\"blind\">4위</span>\\n\\t\\t\\t\\t\\t\\n\\t\\t\\t\\t\\t\\n\\t\\t\\t\\t\\t\\t<a href=\"/movie/point/af/list.nhn?st=mcode&sword=196051\" onclick=\"clickcr(this,\\'npt*n.list\\',\\'196051\\',\\'4\\',event);\" class=\"ls\" title=\"극장판 귀멸의 칼날: 무한열차편\">\\n\\t\\t\\t\\t\\t\\t극장판 귀멸의 칼날..</a><span class=\"num b\">9.28</span>\\n\\t\\t\\t\\t\\t\\n\\t\\t\\t\\t\\t\\t\\t\\t\\t\\t\\t\\t\\n\\t\\t\\t\\t</li>\\n\\t\\t\\t\\n\\t\\t\\t\\t<li class=\"1st ranking05\">\\n\\t\\t\\t\\t\\t<span class=\"blind\">5위</span>\\n\\t\\t\\t\\t\\t\\n\\t\\t\\t\\t\\t\\n\\t\\t\\t\\t\\t\\t<a href=\"/movie/point/af/list.nhn?st=mcode&sword=19335\" onclick=\"clickcr(this,\\'npt*n.list\\',\\'19335\\',\\'5\\',event);\" class=\"ls\" title=\"해피 투게더\">\\n\\t\\t\\t\\t\\t\\t해피 투게더</a><span class=\"num b\">9.19</span>\\n\\t\\t\\t\\t\\t\\n\\t\\t\\t\\t\\t\\t\\t\\t\\t\\t\\t\\t\\n\\t\\t\\t\\t</li>\\n\\t\\t\\t\\t\\t\\t\\t\\t\\n\\t\\t</ul>\\n\\t\\t<a href=\"/movie/sdb/rank/rmovie.nhn?sel=cur\" onclick=\"clickcr(this,\\'npt.more\\',\\'\\',\\'\\',event);\" class=\"more\">더보기</a><!-- 현재 상영영화의 더보기 -->\\n\\t\\t<p class=\"term\" style=\"padding:0 13px 7px 0;\">2021.06.24<img src=\"https://ssl.pstatic.net/imgmovie/2007/img/community/txt_righ_point.gif\" alt=\"까지의 관람후 누적 평점\" width=\"88\" height=\"9\"></p>\\n\\t</div>\\n\\t<div id=\"topAll\" class=\"box_type_1 mb_8\" style=\"display:none;\">\\n\\t\\t<h3><img src=\"https://ssl.pstatic.net/imgmovie/2007/img/community/tlt_r_netizen_good.gif\" alt=\"네티즌 최고 평점\" width=\"77\" height=\"12\"></h3>\\n\\t\\t<strong class=\"blind\">모든 영화</strong>\\n\\t\\t<div style=\"_margin-top:-1px;\"><a href=\"javascript:showTopPoint(\\'running\\');\" onclick=\"clickcr(this,\\'npt.now\\',\\'\\',\\'\\',event);\"><img src=\"https://ssl.pstatic.net/imgmovie/2007/img/community/tab_r_01_off.gif\" alt=\"현재 상영영화\" width=\"99\" height=\"33\"></a><a id=\"all_tab_in_all\" href=\"javascript:showTopPoint(\\'all\\');\" onclick=\"clickcr(this,\\'npt.all\\',\\'\\',\\'\\',event);\"><img src=\"https://ssl.pstatic.net/imgmovie/2007/img/community/tab_r_02_on.gif\" alt=\"모든영화\" width=\"99\" height=\"33\"></a></div>\\n\\t\\t<ul class=\"grade\">\\n\\t\\t\\t\\n\\t\\t\\t\\t<li class=\"1st ranking01\">\\n\\t\\t\\t\\t\\t<span class=\"blind\">1위</span>\\n\\t\\t\\t\\t\\t\\n\\t\\t\\t\\t\\t\\t<a href=\"/movie/point/af/list.nhn?st=mcode&sword=174830\" onclick=\"clickcr(this,\\'npt*a.list\\',\\'174830\\',\\'1\\',event);\" class=\"ls b\" title=\"가버나움\">\\n\\t\\t\\t\\t\\t\\t가버나움\\n\\t\\t\\t\\t\\t\\t</a><span class=\"num b check\">9.6</span>\\n\\t\\t\\t\\t\\t\\n\\t\\t\\t\\t\\t\\n\\t\\t\\t\\t\\t\\n\\t\\t\\t\\t\\t<p class=\"img_movie\"><a href=\"/movie/point/af/list.nhn?st=mcode&sword=174830\" onclick=\"clickcr(this,\\'npt*a.img\\',\\'174830\\',\\'\\',event);\">\\n\\t\\t\\t\\t\\t\\n\\t\\t\\t\\t\\t\\t\\t<img src=\"https://ssl.pstatic.net/imgmovie/mdi/mi_new_master/1748/174830_M48_174925.jpg\" alt=\"가버나움\" width=\"176\" height=\"80\">\\n\\t\\t\\t\\t\\t\\t\\n\\t\\t\\t\\t\\t\\t\\n\\t\\t\\t\\t\\t</a></p>\\n\\t\\t\\t\\t\\t\\t\\t\\t\\t\\t\\t\\t\\n\\t\\t\\t\\t</li>\\n\\t\\t\\t\\n\\t\\t\\t\\t<li class=\"1st ranking02\">\\n\\t\\t\\t\\t\\t<span class=\"blind\">2위</span>\\n\\t\\t\\t\\t\\t\\n\\t\\t\\t\\t\\t\\n\\t\\t\\t\\t\\t\\t<a href=\"/movie/point/af/list.nhn?st=mcode&sword=171539\" onclick=\"clickcr(this,\\'npt*a.list\\',\\'171539\\',\\'2\\',event);\" class=\"ls\" title=\"그린 북\">\\n\\t\\t\\t\\t\\t\\t그린 북</a><span class=\"num b\">9.6</span>\\n\\t\\t\\t\\t\\t\\n\\t\\t\\t\\t\\t\\t\\t\\t\\t\\t\\t\\t\\n\\t\\t\\t\\t</li>\\n\\t\\t\\t\\n\\t\\t\\t\\t<li class=\"1st ranking03\">\\n\\t\\t\\t\\t\\t<span class=\"blind\">3위</span>\\n\\t\\t\\t\\t\\t\\n\\t\\t\\t\\t\\t\\n\\t\\t\\t\\t\\t\\t<a href=\"/movie/point/af/list.nhn?st=mcode&sword=192613\" onclick=\"clickcr(this,\\'npt*a.list\\',\\'192613\\',\\'3\\',event);\" class=\"ls\" title=\"디지몬 어드벤처 라스트 에볼루션 : 인연\">\\n\\t\\t\\t\\t\\t\\t디지몬 어드벤처 라..</a><span class=\"num b\">9.56</span>\\n\\t\\t\\t\\t\\t\\n\\t\\t\\t\\t\\t\\t\\t\\t\\t\\t\\t\\t\\n\\t\\t\\t\\t</li>\\n\\t\\t\\t\\n\\t\\t\\t\\t<li class=\"1st ranking04\">\\n\\t\\t\\t\\t\\t<span class=\"blind\">4위</span>\\n\\t\\t\\t\\t\\t\\n\\t\\t\\t\\t\\t\\n\\t\\t\\t\\t\\t\\t<a href=\"/movie/point/af/list.nhn?st=mcode&sword=144906\" onclick=\"clickcr(this,\\'npt*a.list\\',\\'144906\\',\\'4\\',event);\" class=\"ls\" title=\"베일리 어게인\">\\n\\t\\t\\t\\t\\t\\t베일리 어게인</a><span class=\"num b\">9.52</span>\\n\\t\\t\\t\\t\\t\\n\\t\\t\\t\\t\\t\\t\\t\\t\\t\\t\\t\\t\\n\\t\\t\\t\\t</li>\\n\\t\\t\\t\\n\\t\\t\\t\\t<li class=\"1st ranking05\">\\n\\t\\t\\t\\t\\t<span class=\"blind\">5위</span>\\n\\t\\t\\t\\t\\t\\n\\t\\t\\t\\t\\t\\n\\t\\t\\t\\t\\t\\t<a href=\"/movie/point/af/list.nhn?st=mcode&sword=175092\" onclick=\"clickcr(this,\\'npt*a.list\\',\\'175092\\',\\'5\\',event);\" class=\"ls\" title=\"먼 훗날 우리\">\\n\\t\\t\\t\\t\\t\\t먼 훗날 우리</a><span class=\"num b\">9.52</span>\\n\\t\\t\\t\\t\\t\\n\\t\\t\\t\\t\\t\\t\\t\\t\\t\\t\\t\\t\\n\\t\\t\\t\\t</li>\\n\\t\\t\\t\\t\\t\\t\\t\\t\\n\\t\\t</ul>\\n\\t\\t<a href=\"/movie/sdb/rank/rmovie.nhn?sel=pnt\" onclick=\"clickcr(this,\\'npt.more\\',\\'\\',\\'\\',event);\" class=\"more\">더보기</a><!-- 모든영화의 더보기 -->\\n\\t\\t<p class=\"term\" style=\"padding:0 13px 7px 0;\">2021.06.24<img src=\"https://ssl.pstatic.net/imgmovie/2007/img/community/txt_righ_point.gif\" alt=\"까지의 관람후 누적 평점\" width=\"88\" height=\"9\"></p>\\n\\t</div>\\n\\t<!-- //네티즌 최고 평점 -->\\n  \\r\\n\\r\\n\\t \\n\\n\\n\\n<!-- 가장 많이 추천된 리뷰 -->\\n<div class=\"box_type_1 mb_8\">\\n\\t<h3><img src=\"https://ssl.pstatic.net/imgmovie/2007/img/community/tlt_r_best_review_reco.gif\" alt=\"가장 많이 추천된 리뷰\" width=\"103\" height=\"12\"></h3>\\n\\t<dl class=\"ranking_data\">\\n\\t\\t\\n\\t\\t\\t<dt class=\"ranking01\">\\n\\t\\t\\t\\t<span class=\"blind\">1위</span>\\n\\t\\t\\t\\t\\n\\t\\t\\t\\t\\t<a href=\"/movie/board/review/read.nhn?nid=4784465\" onclick=\"clickcr(this,\\'rcr.title\\',\\'4784465\\',\\'1\\',event);\" class=\"b\" title=\"[콰이어트 플레이스 2] 조용히 하라고 했지\">[콰이어트 플레이스 2] 조용..</a>\\n\\t\\t\\t\\t\\n\\t\\t\\t\\t\\n\\t\\t\\t\\t\\n\\t\\t\\t</dt>\\n\\t\\t\\t<dd>\\n\\t\\t\\t\\t\\n\\t\\t\\t\\t\\t<a href=\"/movie/bi/mi/basic.nhn?code=189368\" onclick=\"clickcr(this,\\'rcr.movie\\',\\'189368\\',\\'1\\',event);\" class=\"check\" title=\"콰이어트 플레이스 2\">콰이어트 플레..</a><a href=\"/movie/board/review/list.nhn?st=nickname&sword=4784465\" onclick=\"clickcr(this,\\'rcr.id\\',\\'glasmoon00\\',\\'1\\',event);\" class=\"nick check\">glas****</a>\\n\\t\\t\\t\\t\\n\\t\\t\\t\\t\\n\\t\\t\\t</dd>\\n\\t\\t\\n\\t\\t\\t<dt class=\"ranking02\">\\n\\t\\t\\t\\t<span class=\"blind\">2위</span>\\n\\t\\t\\t\\t\\n\\t\\t\\t\\t\\n\\t\\t\\t\\t\\t<a href=\"/movie/board/review/read.nhn?nid=4783977\" onclick=\"clickcr(this,\\'rcr.title\\',\\'4783977\\',\\'2\\',event);\" title=\"문충추천영화_ 미드나이트_음소거추격스릴러,연쇄살인마의타켓_진기주,위하준\">문충추천영화_ 미드나이트_..</a>\\n\\t\\t\\t\\t\\n\\t\\t\\t\\t\\n\\t\\t\\t</dt>\\n\\t\\t\\t<dd>\\n\\t\\t\\t\\t\\n\\t\\t\\t\\t\\n\\t\\t\\t\\t\\t<a href=\"/movie/bi/mi/basic.nhn?code=189120\" onclick=\"clickcr(this,\\'rcr.movie\\',\\'189120\\',\\'2\\',event);\" title=\"미드나이트\">미드나이트</a> <a href=\"/movie/board/review/list.nhn?st=nickname&sword=4783977\" onclick=\"clickcr(this,\\'rcr.id\\',\\'pesung1004\\',\\'2\\',event);\" class=\"nick\">pesu****</a>\\n\\t\\t\\t\\t\\n\\t\\t\\t</dd>\\n\\t\\t\\n\\t\\t\\t<dt class=\"ranking03\">\\n\\t\\t\\t\\t<span class=\"blind\">3위</span>\\n\\t\\t\\t\\t\\n\\t\\t\\t\\t\\n\\t\\t\\t\\t\\t<a href=\"/movie/board/review/read.nhn?nid=4784313\" onclick=\"clickcr(this,\\'rcr.title\\',\\'4784313\\',\\'3\\',event);\" title=\"영화 [7번째 날] 메인 예고편(한글) : 가이 피어스, 스티븐 랭 : 2021.06 : 공포\">영화 [7번째 날] 메인 예고..</a>\\n\\t\\t\\t\\t\\n\\t\\t\\t\\t\\n\\t\\t\\t</dt>\\n\\t\\t\\t<dd>\\n\\t\\t\\t\\t\\n\\t\\t\\t\\t\\n\\t\\t\\t\\t\\t<a href=\"/movie/bi/mi/basic.nhn?code=205618\" onclick=\"clickcr(this,\\'rcr.movie\\',\\'205618\\',\\'3\\',event);\" title=\"7번째 날\">7번째 날</a> <a href=\"/movie/board/review/list.nhn?st=nickname&sword=4784313\" onclick=\"clickcr(this,\\'rcr.id\\',\\'culturenstar\\',\\'3\\',event);\" class=\"nick\">cult****</a>\\n\\t\\t\\t\\t\\n\\t\\t\\t</dd>\\n\\t\\t\\n\\t\\t\\t<dt class=\"ranking04\">\\n\\t\\t\\t\\t<span class=\"blind\">4위</span>\\n\\t\\t\\t\\t\\n\\t\\t\\t\\t\\n\\t\\t\\t\\t\\t<a href=\"/movie/board/review/read.nhn?nid=4784066\" onclick=\"clickcr(this,\\'rcr.title\\',\\'4784066\\',\\'4\\',event);\" title=\"기동전사건담 섬광의 하사웨이 \\'閃光\\' MV\">기동전사건담 섬광의 하사웨..</a>\\n\\t\\t\\t\\t\\n\\t\\t\\t\\t\\n\\t\\t\\t</dt>\\n\\t\\t\\t<dd>\\n\\t\\t\\t\\t\\n\\t\\t\\t\\t\\n\\t\\t\\t\\t\\t<a href=\"/movie/bi/mi/basic.nhn?code=201830\" onclick=\"clickcr(this,\\'rcr.movie\\',\\'201830\\',\\'4\\',event);\" title=\"기동전사 건담: 섬광의 하사웨이\">기동전사 건담..</a> <a href=\"/movie/board/review/list.nhn?st=nickname&sword=4784066\" onclick=\"clickcr(this,\\'rcr.id\\',\\'zjqltmxk4605\\',\\'4\\',event);\" class=\"nick\">zjql****</a>\\n\\t\\t\\t\\t\\n\\t\\t\\t</dd>\\n\\t\\t\\n\\t\\t\\t<dt class=\"ranking05\">\\n\\t\\t\\t\\t<span class=\"blind\">5위</span>\\n\\t\\t\\t\\t\\n\\t\\t\\t\\t\\n\\t\\t\\t\\t\\t<a href=\"/movie/board/review/read.nhn?nid=4784314\" onclick=\"clickcr(this,\\'rcr.title\\',\\'4784314\\',\\'5\\',event);\" title=\"영화 [7번째 날] 메인 예고편(한글) : 가이 피어스, 스티븐 랭 : 2021.06 : 공포\">영화 [7번째 날] 메인 예고..</a>\\n\\t\\t\\t\\t\\n\\t\\t\\t\\t\\n\\t\\t\\t</dt>\\n\\t\\t\\t<dd>\\n\\t\\t\\t\\t\\n\\t\\t\\t\\t\\n\\t\\t\\t\\t\\t<a href=\"/movie/bi/mi/basic.nhn?code=205618\" onclick=\"clickcr(this,\\'rcr.movie\\',\\'205618\\',\\'5\\',event);\" title=\"7번째 날\">7번째 날</a> <a href=\"/movie/board/review/list.nhn?st=nickname&sword=4784314\" onclick=\"clickcr(this,\\'rcr.id\\',\\'shinsuper\\',\\'5\\',event);\" class=\"nick\">shin****</a>\\n\\t\\t\\t\\t\\n\\t\\t\\t</dd>\\n\\t\\t\\n\\t</dl>\\n\\t<p class=\"term\" style=\"padding:0 13px 7px 0;\">2021.06.17-2021.06.24</p>\\n</div>\\n<!-- //가장 많이 추천된 리뷰 -->\\n  \\r\\n\\r\\n\\r\\n\\t\\r\\n\\t\\r\\n\\t\\r\\n\\t\\r\\n\\t\\r\\n\\t\\t\\r\\n\\t\\r\\n\\t\\r\\n\\t\\t\\r\\n\\t\\r\\n\\r\\n\\r\\n\\t\\t\\t\\t\\t</div>\\r\\n\\t\\t\\t\\t\\t<img src=\"https://ssl.pstatic.net/imgmovie/2007/img/common/blank.gif\" alt=\"\" class=\"clear\">\\r\\n\\t\\t\\t\\t</div>\\r\\n\\t\\t\\t\\t<!-- //Content Body -->\\r\\n\\r\\n\\t\\t\\t\\t</div>\\r\\n\\t\\t\\t</div>\\r\\n\\t\\t</div>\\r\\n\\t\\t<!-- //content -->\\r\\n\\t</div>\\r\\n\\t<!-- //container -->\\r\\n\\r\\n\\t<!-- Footer -->\\r\\n\\t<script type=\"text/javascript\" src=\"/common/js/jindo/component/1.0.2/jindo.Component.js\"></script>\\r\\n\\t<script type=\"text/javascript\" src=\"/common/js/jindo/component/1.0.2/jindo.UIComponent.js\"></script>\\r\\n\\t\\n\\n\\n\\n\\n\\n\\n<!-- footer -->\\n<div id=\"footer\">\\n\\t<div class=\"in_footer\">\\n\\t\\t<div class=\"foot_con\">\\n\\t\\t\\t<ul>\\n\\t\\t\\t\\t<li class=\"first\"><a href=\"http://www.naver.com/rules/service.html\" target=\"_blank\" onclick=\"clickcr(this, \\'fot.agreement\\', \\'\\', \\'\\', event);\">이용약관</a></li>\\n\\t\\t\\t\\t<li><a href=\"http://www.naver.com/rules/privacy.html\" target=\"_blank\"  onclick=\"clickcr(this, \\'fot.privacy\\', \\'\\', \\'\\', event);\"><strong>개인정보처리방침</strong></a></li>\\n\\t\\t\\t\\t<li><a href=\"http://www.naver.com/rules/disclaimer.html\" target=\"_blank\" onclick=\"clickcr(this, \\'fot.disclaimer\\', \\'\\', \\'\\', event);\">책임의 한계와 법적고지</a></li>\\n\\t\\t\\t\\t<li><a href=\"https://help.naver.com/support/service/main.nhn?serviceNo=800\" target=\"_blank\" onclick=\"clickcr(this, \\'fot.help\\', \\'\\', \\'\\', event);\">영화 고객센터</a></li>\\n\\t\\t\\t</ul>\\n\\t\\t\\t<p class=\"info\">본 콘텐츠의 저작권은 저작권자 또는 제공처에 있으며, 이를 무단 이용하는 경우 저작권법 등에 따라 법적 책임을 질 수 있습니다.</p>\\n\\t\\t\\t<p class=\"info\">\\n\\t\\t\\t\\t사업자등록번호 : 220-81-62517<span>통신판매업 신고번호</span> : 경기성남 제 2006 - 692호<span>대표이사 : 한성숙</span><span><a href=\"http://www.ftc.go.kr/info/bizinfo/communicationList.jsp\" onclick=\"clickcr(this, \\'fot.bizinfo\\', \\'\\', \\'\\', event);\">사업자등록정보 확인</a></span><br>\\n\\t\\t\\t\\t주소 : 경기도 성남시 분당구 불정로 6 네이버 그린팩토리 <span>대표전화 : 1588-3820</span>\\n\\t\\t\\t</p>\\n\\t\\t\\t<address>\\n\\t\\t\\t\\t<a href=\"http://www.navercorp.com\" target=\"_blank\" class=\"logo\" onclick=\"clickcr(this, \\'fot.nhn\\', \\'\\', \\'\\', event);\"><img src=\"https://ssl.pstatic.net/static/movie/2013/07/logo_naver.png\" width=\"63\" height=\"11\" alt=\"NAVER\"></a>\\n\\t\\t\\t\\t<em>Copyright &copy;</em>\\n\\t\\t\\t\\t<a href=\"http://www.navercorp.com\" target=\"_blank\" onclick=\"clickcr(this, \\'fot.corp\\', \\'\\', \\'\\', event);\">NAVER Corp.</a>\\n\\t\\t\\t\\t<span>All Rights Reserved.</span>\\n\\t\\t\\t</address>\\n\\t\\t</div>\\n\\t</div>\\n</div>\\n<!-- //footer -->\\n\\n\\n\\n\\n\\r\\n\\r\\n\\r\\n\\r\\n<script type=\"text/javascript\">\\r\\n\\r\\nif (false) {\\r\\n\\tvar alertType = \"NONE\";\\r\\n\\tvar koreanTitle = \"\";\\r\\n\\tvar movieCode = \"0\";\\r\\n\\tvar userReserveCount = \"0\";\\r\\n\\tvar todayDatetime = \"20210626012958\";\\r\\n\\tvar endDatetimeAfterTwoDays = \"00000000000000\";\\r\\n\\t\\r\\n\\t\\r\\n\\tif (movieCode > 0) {\\r\\n\\t\\topenWriteActualPointAlert (alertType, koreanTitle, movieCode, userReserveCount, todayDatetime, endDatetimeAfterTwoDays);\\r\\n\\t}\\r\\n}\\r\\n\\r\\nfunction openWriteActualPointAlert (alertType, koreanTitle, movieCode, count, today, endDate) {\\r\\n\\tif (alertType == \"ONE\") {\\r\\n\\t\\tsetCookieLastUserReserveDate(today, endDate);\\r\\n\\t\\tif (confirm(\"관람하신 \" + koreanTitle + \"에\\\\n평점 등록 시 네이버페이 마일리지 500원 적립!\\\\n지금 평점쓰기 메뉴로 이동하시겠습니까?\")) {\\r\\n\\t\\t\\ttop.location.href = \"http://movie.naver.com/movie/bi/mi/point.nhn?code=\" + movieCode;\\r\\n\\t\\t}\\r\\n\\t} else if (alertType == \"MORE\") {\\r\\n\\t\\tsetCookieLastUserReserveDate(today, endDate);\\r\\n\\t\\tif (confirm(\"관람하신 작품에 평점을 등록해주세요\\\\n작품당 네이버페이 마일리지 500원씩 적립!\\\\n평점 미등록작 리스트를 확인하시겠습니까?\")) {\\r\\n\\t\\t\\ttop.location.href = \"http://ticket.movie.naver.com/Order/OverdueList.aspx\";\\r\\n\\t\\t}\\r\\n\\t}\\r\\n}\\r\\n\\r\\nfunction setCookieLastUserReserveDate(today, endDate) {\\r\\n\\tvar cookieForNotOpenActualPointPopup = jindo.$Cookie();\\r\\n\\t\\r\\n\\t\\r\\n\\tcookieForNotOpenActualPointPopup.remove(\"lastUserReserveDatetime\");\\r\\n\\tcookieForNotOpenActualPointPopup.remove(\"lastUserReserveCheckDatetime\");\\r\\n\\t\\r\\n\\tcookieForNotOpenActualPointPopup.set(\"lastUserReserveDatetime\", endDate, 9999, \"movie.naver.com\");\\r\\n\\tcookieForNotOpenActualPointPopup.set(\"lastUserReserveCheckDatetime\", today, 9999, \"movie.naver.com\");\\r\\n}\\r\\n\\r\\n</script>\\n\\n\\n\\n\\r\\n\\r\\n\\n\\n\\r\\n<script type=\"text/javascript\" src=\"/common/js/lcslog.js\"></script>\\r\\n<script type=\"text/javascript\" src=\"/common/js/jindo/component/1.0.2/jindo.Component.min.js\"></script>\\r\\n<script type=\"text/javascript\" src=\"/common/js/vendor/jindo.WatchInput.js\" charset=\"UTF-8\"></script>\\r\\n<script type=\"text/javascript\" src=\"/common/js/lib/Core.js?20210624141932\" charset=\"UTF-8\"></script>\\r\\n<script type=\"text/javascript\" src=\"/common/js/lib/LNB.js?20210624141932\" charset=\"UTF-8\"></script>\\r\\n<script type=\"text/javascript\" src=\"/common/js/lib/Search.js?20210624141932\" charset=\"UTF-8\"></script>\\r\\n\\n\\n\\n\\t\\n\\t\\n\\t\\t\\n\\t\\n\\n\\n\\n\\n\\t\\n\\t\\n\\n<script type=\"text/javascript\">\\n\\n    // nhn.movie.Search가 jindo 기반이어서 javascript로 전환함\\n    if (document.addEventListener) {\\n        document.addEventListener(\"DOMContentLoaded\", function () {\\n            document.removeEventListener(\"DOMContentLoaded\", arguments.callee, false);\\n            loadFooter();\\n        }, false);\\n    }\\n// Internet Explorer\\n    else if (document.attachEvent) {\\n        // onreadystatechange 는 모든 브라우저가 반환\\n        document.attachEvent(\"onreadystatechange\", function () {\\n            if (document.readyState == \"complete\" || document.readyState == \\'loaded\\') {\\n                document.detachEvent(\"onreadystatechange\", arguments.callee);\\n                loadFooter();\\n            }\\n        });\\n    }\\n\\n    function loadFooter() {\\n        var goNaver = document.getElementById(\"lnb_gonaver\");\\n        goNaver.addEventListener(\"focus\", focusonNaverIcon, false);\\n\\n        // LNB - 사용처를 못 찾음\\n//   \\tvar oLNB = new nhn.movie.LNB();\\n\\n        // 상단 검색영역\\n        var oSearch = new nhn.movie.Search({\\n            area : \"jSearchArea\",\\n            autosearch : \"https://auto-movie.naver.com/ac?q_enc=UTF-8&st=1&r_lt=1&n_ext=1&t_koreng=1&r_format=json&r_enc=utf-8&r_unicode=0&r_escape=1&q=\",\\n            movelink : \"/movie/bi/mi/basic.nhn?code=\",\\n            peoplelink : \"/movie/bi/pi/basic.nhn?code=\"\\n        });\\n\\n        getGNB();\\n    }\\n\\n    function focusonNaverIcon(event) {\\n        event.preventDefault();\\t// jindo.$Event.CANCEL_DEFAULT 와 동일한 기능으로 추측됨\\n        document.getElementById(\\'ipt_tx_srch\\').value= \"\";\\n        document.getElementById(\\'search_placeholder\\').style = \"display:inline;\";\\n        if (document.getElementById(\\'jAutoComplate\\') != undefined && document.getElementById(\\'jAutoComplate\\') !== null) {\\n            document.getElementById(\\'jAutoComplate\\').style = \"display:none;\"\\n        }\\n    }\\n\\n    \\n    window.addEventListener(\\'pageshow\\', function(event) { lcs_do(); });\\n\\n    document.addEventListener(\\'click\\', function (event) {\\n        var welSource = event.srcElement;\\t// jindo.$Element(oEvent.element);\\n        if (!document.getElementById(\"gnb\").contains(welSource)) {\\n            gnbAllLayerClose();\\n        }\\n    });\\n</script>\\n\\n\\t\\r\\n\\t<!-- //Footer -->\\r\\n\\t\\t\\t\\r\\n</div>\\r\\n\\r\\n\\r\\n</body>\\r\\n</html>\\t'"
      ]
     },
     "execution_count": 9,
     "metadata": {},
     "output_type": "execute_result"
    }
   ],
   "source": [
    "response.text"
   ]
  },
  {
   "cell_type": "code",
   "execution_count": 10,
   "id": "5c92d82f",
   "metadata": {},
   "outputs": [],
   "source": [
    "from bs4 import BeautifulSoup as bs"
   ]
  },
  {
   "cell_type": "code",
   "execution_count": 11,
   "id": "1133b772",
   "metadata": {},
   "outputs": [],
   "source": [
    "html = bs(response.text, 'lxml')"
   ]
  },
  {
   "cell_type": "code",
   "execution_count": 13,
   "id": "18a34638",
   "metadata": {},
   "outputs": [
    {
     "data": {
      "text/plain": [
       "1"
      ]
     },
     "execution_count": 13,
     "metadata": {},
     "output_type": "execute_result"
    }
   ],
   "source": [
    "temp = html.select('table')\n",
    "len(temp)"
   ]
  },
  {
   "cell_type": "code",
   "execution_count": 14,
   "id": "cf71a6f4",
   "metadata": {},
   "outputs": [],
   "source": [
    "table=pd.read_html(str(temp))"
   ]
  },
  {
   "cell_type": "code",
   "execution_count": 15,
   "id": "c70a7f06",
   "metadata": {},
   "outputs": [
    {
     "data": {
      "text/html": [
       "<div>\n",
       "<style scoped>\n",
       "    .dataframe tbody tr th:only-of-type {\n",
       "        vertical-align: middle;\n",
       "    }\n",
       "\n",
       "    .dataframe tbody tr th {\n",
       "        vertical-align: top;\n",
       "    }\n",
       "\n",
       "    .dataframe thead th {\n",
       "        text-align: right;\n",
       "    }\n",
       "</style>\n",
       "<table border=\"1\" class=\"dataframe\">\n",
       "  <thead>\n",
       "    <tr style=\"text-align: right;\">\n",
       "      <th></th>\n",
       "      <th>번호</th>\n",
       "      <th>감상평</th>\n",
       "      <th>글쓴이·날짜</th>\n",
       "    </tr>\n",
       "  </thead>\n",
       "  <tbody>\n",
       "    <tr>\n",
       "      <th>0</th>\n",
       "      <td>17566024</td>\n",
       "      <td>터미널 별점 - 총 10점 중9 신고</td>\n",
       "      <td>rhgu****21.06.26</td>\n",
       "    </tr>\n",
       "    <tr>\n",
       "      <th>1</th>\n",
       "      <td>17566023</td>\n",
       "      <td>크루엘라 별점 - 총 10점 중10 반전의 반전을 거듭해서 한 순간도 놓칠 수 없던...</td>\n",
       "      <td>gksm****21.06.26</td>\n",
       "    </tr>\n",
       "    <tr>\n",
       "      <th>2</th>\n",
       "      <td>17566022</td>\n",
       "      <td>크루엘라 별점 - 총 10점 중10 시원한 디즈니영화!! 신고</td>\n",
       "      <td>un97****21.06.26</td>\n",
       "    </tr>\n",
       "    <tr>\n",
       "      <th>3</th>\n",
       "      <td>17566021</td>\n",
       "      <td>루카 별점 - 총 10점 중6 나름 픽사 덕후인데.. 그냥 밋밋하달까... 다른편에...</td>\n",
       "      <td>jung****21.06.26</td>\n",
       "    </tr>\n",
       "    <tr>\n",
       "      <th>4</th>\n",
       "      <td>17566020</td>\n",
       "      <td>젠틀맨 별점 - 총 10점 중10 역시 가이리치...배우들 연기도 좋고.매튜는 명불...</td>\n",
       "      <td>evol****21.06.26</td>\n",
       "    </tr>\n",
       "    <tr>\n",
       "      <th>5</th>\n",
       "      <td>17566019</td>\n",
       "      <td>죽지않는 인간들의 밤 별점 - 총 10점 중10 B급코미디 좋아하시는 분들 추천 신고</td>\n",
       "      <td>iam_****21.06.26</td>\n",
       "    </tr>\n",
       "    <tr>\n",
       "      <th>6</th>\n",
       "      <td>17566018</td>\n",
       "      <td>발신제한 별점 - 총 10점 중6 유사도 99.999% 더 테러 ‘드’라이브 신고</td>\n",
       "      <td>isg5****21.06.26</td>\n",
       "    </tr>\n",
       "    <tr>\n",
       "      <th>7</th>\n",
       "      <td>17566017</td>\n",
       "      <td>루카 별점 - 총 10점 중8 픽사는 픽사 감동은 적지만 신고</td>\n",
       "      <td>seoy****21.06.26</td>\n",
       "    </tr>\n",
       "    <tr>\n",
       "      <th>8</th>\n",
       "      <td>17566016</td>\n",
       "      <td>루카 별점 - 총 10점 중10 신고</td>\n",
       "      <td>cell****21.06.26</td>\n",
       "    </tr>\n",
       "    <tr>\n",
       "      <th>9</th>\n",
       "      <td>17566015</td>\n",
       "      <td>발신제한 별점 - 총 10점 중4 남주 연기빼면 별점 0점임 그나마 남주 연기력때문...</td>\n",
       "      <td>hira****21.06.26</td>\n",
       "    </tr>\n",
       "  </tbody>\n",
       "</table>\n",
       "</div>"
      ],
      "text/plain": [
       "         번호                                                감상평  \\\n",
       "0  17566024                               터미널 별점 - 총 10점 중9 신고   \n",
       "1  17566023  크루엘라 별점 - 총 10점 중10 반전의 반전을 거듭해서 한 순간도 놓칠 수 없던...   \n",
       "2  17566022                 크루엘라 별점 - 총 10점 중10 시원한 디즈니영화!! 신고   \n",
       "3  17566021  루카 별점 - 총 10점 중6 나름 픽사 덕후인데.. 그냥 밋밋하달까... 다른편에...   \n",
       "4  17566020  젠틀맨 별점 - 총 10점 중10 역시 가이리치...배우들 연기도 좋고.매튜는 명불...   \n",
       "5  17566019    죽지않는 인간들의 밤 별점 - 총 10점 중10 B급코미디 좋아하시는 분들 추천 신고   \n",
       "6  17566018      발신제한 별점 - 총 10점 중6 유사도 99.999% 더 테러 ‘드’라이브 신고   \n",
       "7  17566017                 루카 별점 - 총 10점 중8 픽사는 픽사 감동은 적지만 신고   \n",
       "8  17566016                               루카 별점 - 총 10점 중10 신고   \n",
       "9  17566015  발신제한 별점 - 총 10점 중4 남주 연기빼면 별점 0점임 그나마 남주 연기력때문...   \n",
       "\n",
       "             글쓴이·날짜  \n",
       "0  rhgu****21.06.26  \n",
       "1  gksm****21.06.26  \n",
       "2  un97****21.06.26  \n",
       "3  jung****21.06.26  \n",
       "4  evol****21.06.26  \n",
       "5  iam_****21.06.26  \n",
       "6  isg5****21.06.26  \n",
       "7  seoy****21.06.26  \n",
       "8  cell****21.06.26  \n",
       "9  hira****21.06.26  "
      ]
     },
     "execution_count": 15,
     "metadata": {},
     "output_type": "execute_result"
    }
   ],
   "source": [
    "table[0]"
   ]
  },
  {
   "cell_type": "code",
   "execution_count": 27,
   "id": "b83a25f0",
   "metadata": {},
   "outputs": [],
   "source": [
    "def get_day_list(page_no):\n",
    "    url=f'https://movie.naver.com/movie/point/af/list.nhn?&page={page_no}'\n",
    "    headers={'user-agent': 'Mozilla/5.0 (Windows NT 10.0; Win64; x64) AppleWebKit/537.36 (KHTML, like Gecko) Chrome/86.0.4240.111 Safari/537.36 Edg/86.0.622.51'}\n",
    "    response=requests.get(url, headers=headers)\n",
    "    html = bs(response.text, 'lxml')\n",
    "    temp = html.select('table')\n",
    "    df_day = pd.read_html(str(temp))\n",
    "    df_day = df_day[0]\n",
    "    return df_day"
   ]
  },
  {
   "cell_type": "code",
   "execution_count": 28,
   "id": "2f00eafe",
   "metadata": {},
   "outputs": [
    {
     "data": {
      "text/html": [
       "<div>\n",
       "<style scoped>\n",
       "    .dataframe tbody tr th:only-of-type {\n",
       "        vertical-align: middle;\n",
       "    }\n",
       "\n",
       "    .dataframe tbody tr th {\n",
       "        vertical-align: top;\n",
       "    }\n",
       "\n",
       "    .dataframe thead th {\n",
       "        text-align: right;\n",
       "    }\n",
       "</style>\n",
       "<table border=\"1\" class=\"dataframe\">\n",
       "  <thead>\n",
       "    <tr style=\"text-align: right;\">\n",
       "      <th></th>\n",
       "      <th>번호</th>\n",
       "      <th>감상평</th>\n",
       "      <th>글쓴이·날짜</th>\n",
       "    </tr>\n",
       "  </thead>\n",
       "  <tbody>\n",
       "    <tr>\n",
       "      <th>0</th>\n",
       "      <td>17566055</td>\n",
       "      <td>에너미 앳 더 게이트 별점 - 총 10점 중9 전쟁 속에서 인간의 모든 감정을 차분...</td>\n",
       "      <td>dltm****21.06.26</td>\n",
       "    </tr>\n",
       "    <tr>\n",
       "      <th>1</th>\n",
       "      <td>17566054</td>\n",
       "      <td>아메리칸 뷰티 별점 - 총 10점 중10 아름다움은 항상 내 곁에 있었다 신고</td>\n",
       "      <td>cute****21.06.26</td>\n",
       "    </tr>\n",
       "    <tr>\n",
       "      <th>2</th>\n",
       "      <td>17566053</td>\n",
       "      <td>콰이어트 플레이스 2 별점 - 총 10점 중10 ㄹㅇ 개재밌네 이런 거 너무 좋군 신고</td>\n",
       "      <td>look****21.06.26</td>\n",
       "    </tr>\n",
       "    <tr>\n",
       "      <th>3</th>\n",
       "      <td>17566052</td>\n",
       "      <td>발신제한 별점 - 총 10점 중10 조우진님 연기 몰입도가 높아서 시간 잘 갔습니다 신고</td>\n",
       "      <td>wlal****21.06.26</td>\n",
       "    </tr>\n",
       "    <tr>\n",
       "      <th>4</th>\n",
       "      <td>17566051</td>\n",
       "      <td>히말라야 별점 - 총 10점 중10 말이 필요없다 산을 전혀 좋아하지 않음에도 불구...</td>\n",
       "      <td>rofl****21.06.26</td>\n",
       "    </tr>\n",
       "    <tr>\n",
       "      <th>5</th>\n",
       "      <td>17566050</td>\n",
       "      <td>결혼 이야기 별점 - 총 10점 중9 니콜이 LA 엄마 집에서 찰리에게 이혼소장을 ...</td>\n",
       "      <td>yuky****21.06.26</td>\n",
       "    </tr>\n",
       "    <tr>\n",
       "      <th>6</th>\n",
       "      <td>17566049</td>\n",
       "      <td>리멤버 별점 - 총 10점 중10 신고</td>\n",
       "      <td>ju69****21.06.26</td>\n",
       "    </tr>\n",
       "    <tr>\n",
       "      <th>7</th>\n",
       "      <td>17566048</td>\n",
       "      <td>킬러의 보디가드 2 별점 - 총 10점 중10 ㅋㅋㅋ그네때문에 진짜 5분동안 웃어서...</td>\n",
       "      <td>rlar****21.06.26</td>\n",
       "    </tr>\n",
       "    <tr>\n",
       "      <th>8</th>\n",
       "      <td>17566047</td>\n",
       "      <td>구타유발자들 별점 - 총 10점 중10 이게 왜 코미디 장르인지 이해가 안 된다. ...</td>\n",
       "      <td>hjh7****21.06.26</td>\n",
       "    </tr>\n",
       "    <tr>\n",
       "      <th>9</th>\n",
       "      <td>17566045</td>\n",
       "      <td>웰컴 투 X-월드 별점 - 총 10점 중10 신고</td>\n",
       "      <td>sowh****21.06.26</td>\n",
       "    </tr>\n",
       "  </tbody>\n",
       "</table>\n",
       "</div>"
      ],
      "text/plain": [
       "         번호                                                감상평  \\\n",
       "0  17566055  에너미 앳 더 게이트 별점 - 총 10점 중9 전쟁 속에서 인간의 모든 감정을 차분...   \n",
       "1  17566054        아메리칸 뷰티 별점 - 총 10점 중10 아름다움은 항상 내 곁에 있었다 신고   \n",
       "2  17566053   콰이어트 플레이스 2 별점 - 총 10점 중10 ㄹㅇ 개재밌네 이런 거 너무 좋군 신고   \n",
       "3  17566052  발신제한 별점 - 총 10점 중10 조우진님 연기 몰입도가 높아서 시간 잘 갔습니다 신고   \n",
       "4  17566051  히말라야 별점 - 총 10점 중10 말이 필요없다 산을 전혀 좋아하지 않음에도 불구...   \n",
       "5  17566050  결혼 이야기 별점 - 총 10점 중9 니콜이 LA 엄마 집에서 찰리에게 이혼소장을 ...   \n",
       "6  17566049                              리멤버 별점 - 총 10점 중10 신고   \n",
       "7  17566048  킬러의 보디가드 2 별점 - 총 10점 중10 ㅋㅋㅋ그네때문에 진짜 5분동안 웃어서...   \n",
       "8  17566047  구타유발자들 별점 - 총 10점 중10 이게 왜 코미디 장르인지 이해가 안 된다. ...   \n",
       "9  17566045                        웰컴 투 X-월드 별점 - 총 10점 중10 신고   \n",
       "\n",
       "             글쓴이·날짜  \n",
       "0  dltm****21.06.26  \n",
       "1  cute****21.06.26  \n",
       "2  look****21.06.26  \n",
       "3  wlal****21.06.26  \n",
       "4  rofl****21.06.26  \n",
       "5  yuky****21.06.26  \n",
       "6  ju69****21.06.26  \n",
       "7  rlar****21.06.26  \n",
       "8  hjh7****21.06.26  \n",
       "9  sowh****21.06.26  "
      ]
     },
     "execution_count": 28,
     "metadata": {},
     "output_type": "execute_result"
    }
   ],
   "source": [
    "get_day_list(1)"
   ]
  },
  {
   "cell_type": "code",
   "execution_count": 31,
   "id": "29a0f5d7",
   "metadata": {},
   "outputs": [
    {
     "name": "stderr",
     "output_type": "stream",
     "text": [
      "100%|██████████████████████████████████████████████████████████████████████████████████| 10/10 [00:01<00:00,  5.61it/s]\n"
     ]
    }
   ],
   "source": [
    "import time\n",
    "from tqdm import trange\n",
    "\n",
    "page_no=1\n",
    "start_page=1\n",
    "end_page=10\n",
    "\n",
    "item_list=[]\n",
    "for page_no in trange(start_page, end_page+1):\n",
    "    df_temp_day=get_day_list(page_no)\n",
    "    item_list.append(df_temp_day)"
   ]
  },
  {
   "cell_type": "code",
   "execution_count": 32,
   "id": "271f760f",
   "metadata": {},
   "outputs": [
    {
     "data": {
      "text/plain": [
       "10"
      ]
     },
     "execution_count": 32,
     "metadata": {},
     "output_type": "execute_result"
    }
   ],
   "source": [
    "len(item_list)"
   ]
  },
  {
   "cell_type": "code",
   "execution_count": 33,
   "id": "7d8644dc",
   "metadata": {},
   "outputs": [],
   "source": [
    "df=pd.concat(item_list)"
   ]
  },
  {
   "cell_type": "code",
   "execution_count": 34,
   "id": "f385d7f2",
   "metadata": {},
   "outputs": [
    {
     "data": {
      "text/html": [
       "<div>\n",
       "<style scoped>\n",
       "    .dataframe tbody tr th:only-of-type {\n",
       "        vertical-align: middle;\n",
       "    }\n",
       "\n",
       "    .dataframe tbody tr th {\n",
       "        vertical-align: top;\n",
       "    }\n",
       "\n",
       "    .dataframe thead th {\n",
       "        text-align: right;\n",
       "    }\n",
       "</style>\n",
       "<table border=\"1\" class=\"dataframe\">\n",
       "  <thead>\n",
       "    <tr style=\"text-align: right;\">\n",
       "      <th></th>\n",
       "      <th>번호</th>\n",
       "      <th>감상평</th>\n",
       "      <th>글쓴이·날짜</th>\n",
       "    </tr>\n",
       "  </thead>\n",
       "  <tbody>\n",
       "    <tr>\n",
       "      <th>0</th>\n",
       "      <td>17566063</td>\n",
       "      <td>캐시트럭 별점 - 총 10점 중9 초반부터 본격적인 이야기가 시작되어 흥미진진한 액...</td>\n",
       "      <td>beas****21.06.26</td>\n",
       "    </tr>\n",
       "    <tr>\n",
       "      <th>1</th>\n",
       "      <td>17566062</td>\n",
       "      <td>프로페서 앤 매드맨 별점 - 총 10점 중10 숀펜의 연기며 또 실화를 바탕으로 만...</td>\n",
       "      <td>ems3****21.06.26</td>\n",
       "    </tr>\n",
       "    <tr>\n",
       "      <th>2</th>\n",
       "      <td>17566060</td>\n",
       "      <td>사라진 시간 별점 - 총 10점 중1 별반개도 아까운. . 그냥 출연진들이 불쌍하네...</td>\n",
       "      <td>me82****21.06.26</td>\n",
       "    </tr>\n",
       "    <tr>\n",
       "      <th>3</th>\n",
       "      <td>17566059</td>\n",
       "      <td>반도 별점 - 총 10점 중6 물론 부산행도 처음 봤을때 감상은 월드워z아류에 오락...</td>\n",
       "      <td>cans****21.06.26</td>\n",
       "    </tr>\n",
       "    <tr>\n",
       "      <th>4</th>\n",
       "      <td>17566058</td>\n",
       "      <td>레이디스 나잇 별점 - 총 10점 중10 신고</td>\n",
       "      <td>coto****21.06.26</td>\n",
       "    </tr>\n",
       "  </tbody>\n",
       "</table>\n",
       "</div>"
      ],
      "text/plain": [
       "         번호                                                감상평  \\\n",
       "0  17566063  캐시트럭 별점 - 총 10점 중9 초반부터 본격적인 이야기가 시작되어 흥미진진한 액...   \n",
       "1  17566062  프로페서 앤 매드맨 별점 - 총 10점 중10 숀펜의 연기며 또 실화를 바탕으로 만...   \n",
       "2  17566060  사라진 시간 별점 - 총 10점 중1 별반개도 아까운. . 그냥 출연진들이 불쌍하네...   \n",
       "3  17566059  반도 별점 - 총 10점 중6 물론 부산행도 처음 봤을때 감상은 월드워z아류에 오락...   \n",
       "4  17566058                          레이디스 나잇 별점 - 총 10점 중10 신고   \n",
       "\n",
       "             글쓴이·날짜  \n",
       "0  beas****21.06.26  \n",
       "1  ems3****21.06.26  \n",
       "2  me82****21.06.26  \n",
       "3  cans****21.06.26  \n",
       "4  coto****21.06.26  "
      ]
     },
     "execution_count": 34,
     "metadata": {},
     "output_type": "execute_result"
    }
   ],
   "source": [
    "df.head()"
   ]
  },
  {
   "cell_type": "code",
   "execution_count": 35,
   "id": "987517ac",
   "metadata": {},
   "outputs": [
    {
     "data": {
      "text/html": [
       "<div>\n",
       "<style scoped>\n",
       "    .dataframe tbody tr th:only-of-type {\n",
       "        vertical-align: middle;\n",
       "    }\n",
       "\n",
       "    .dataframe tbody tr th {\n",
       "        vertical-align: top;\n",
       "    }\n",
       "\n",
       "    .dataframe thead th {\n",
       "        text-align: right;\n",
       "    }\n",
       "</style>\n",
       "<table border=\"1\" class=\"dataframe\">\n",
       "  <thead>\n",
       "    <tr style=\"text-align: right;\">\n",
       "      <th></th>\n",
       "      <th>번호</th>\n",
       "      <th>감상평</th>\n",
       "      <th>글쓴이·날짜</th>\n",
       "    </tr>\n",
       "  </thead>\n",
       "  <tbody>\n",
       "    <tr>\n",
       "      <th>5</th>\n",
       "      <td>17565965</td>\n",
       "      <td>발신제한 별점 - 총 10점 중7 처음부터 끝까지 제네시스 광고를 보는듯한 스토리였...</td>\n",
       "      <td>vang****21.06.26</td>\n",
       "    </tr>\n",
       "    <tr>\n",
       "      <th>6</th>\n",
       "      <td>17565964</td>\n",
       "      <td>낙원의 밤 별점 - 총 10점 중9 재밌게 봤습니다! 배우들 연기가 정말 탄탄합니다...</td>\n",
       "      <td>lita****21.06.26</td>\n",
       "    </tr>\n",
       "    <tr>\n",
       "      <th>7</th>\n",
       "      <td>17565963</td>\n",
       "      <td>킬러의 보디가드 2 별점 - 총 10점 중10 너무너무 재미있음 ㅋ ㅋ ㅋ 신고</td>\n",
       "      <td>akaj****21.06.26</td>\n",
       "    </tr>\n",
       "    <tr>\n",
       "      <th>8</th>\n",
       "      <td>17565962</td>\n",
       "      <td>콰이어트 플레이스 2 별점 - 총 10점 중10 내용 모르고 봤다가 기절하는줄 신고</td>\n",
       "      <td>xx41****21.06.26</td>\n",
       "    </tr>\n",
       "    <tr>\n",
       "      <th>9</th>\n",
       "      <td>17565961</td>\n",
       "      <td>아메리칸 메이드 별점 - 총 10점 중10 너무 유쾌하게 믿기지않게 즐겁게 잘 봤어...</td>\n",
       "      <td>hacc****21.06.26</td>\n",
       "    </tr>\n",
       "  </tbody>\n",
       "</table>\n",
       "</div>"
      ],
      "text/plain": [
       "         번호                                                감상평  \\\n",
       "5  17565965  발신제한 별점 - 총 10점 중7 처음부터 끝까지 제네시스 광고를 보는듯한 스토리였...   \n",
       "6  17565964  낙원의 밤 별점 - 총 10점 중9 재밌게 봤습니다! 배우들 연기가 정말 탄탄합니다...   \n",
       "7  17565963       킬러의 보디가드 2 별점 - 총 10점 중10 너무너무 재미있음 ㅋ ㅋ ㅋ 신고   \n",
       "8  17565962     콰이어트 플레이스 2 별점 - 총 10점 중10 내용 모르고 봤다가 기절하는줄 신고   \n",
       "9  17565961  아메리칸 메이드 별점 - 총 10점 중10 너무 유쾌하게 믿기지않게 즐겁게 잘 봤어...   \n",
       "\n",
       "             글쓴이·날짜  \n",
       "5  vang****21.06.26  \n",
       "6  lita****21.06.26  \n",
       "7  akaj****21.06.26  \n",
       "8  xx41****21.06.26  \n",
       "9  hacc****21.06.26  "
      ]
     },
     "execution_count": 35,
     "metadata": {},
     "output_type": "execute_result"
    }
   ],
   "source": [
    "df.tail()"
   ]
  },
  {
   "cell_type": "code",
   "execution_count": null,
   "id": "82ea582b",
   "metadata": {},
   "outputs": [],
   "source": []
  },
  {
   "cell_type": "code",
   "execution_count": null,
   "id": "25f10d4d",
   "metadata": {},
   "outputs": [],
   "source": []
  },
  {
   "cell_type": "code",
   "execution_count": null,
   "id": "2756ffc9",
   "metadata": {},
   "outputs": [],
   "source": []
  },
  {
   "cell_type": "code",
   "execution_count": null,
   "id": "a47fa06c",
   "metadata": {},
   "outputs": [],
   "source": []
  }
 ],
 "metadata": {
  "kernelspec": {
   "display_name": "Python 3",
   "language": "python",
   "name": "python3"
  },
  "language_info": {
   "codemirror_mode": {
    "name": "ipython",
    "version": 3
   },
   "file_extension": ".py",
   "mimetype": "text/x-python",
   "name": "python",
   "nbconvert_exporter": "python",
   "pygments_lexer": "ipython3",
   "version": "3.8.8"
  },
  "toc": {
   "base_numbering": 1,
   "nav_menu": {},
   "number_sections": true,
   "sideBar": true,
   "skip_h1_title": false,
   "title_cell": "Table of Contents",
   "title_sidebar": "Contents",
   "toc_cell": false,
   "toc_position": {},
   "toc_section_display": true,
   "toc_window_display": false
  }
 },
 "nbformat": 4,
 "nbformat_minor": 5
}
