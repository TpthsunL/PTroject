{
 "cells": [
  {
   "cell_type": "markdown",
   "id": "017fb940",
   "metadata": {},
   "source": [
    "covid_impact_on_airport_traffic"
   ]
  },
  {
   "cell_type": "markdown",
   "id": "e14c5931",
   "metadata": {},
   "source": [
    "- 데이터 출처 : https://www.kaggle.com/terenceshin/covid19s-impact-on-airport-traffic"
   ]
  },
  {
   "cell_type": "markdown",
   "id": "4f71b1fb",
   "metadata": {},
   "source": [
    "해당 데이터 설명\n",
    "\n",
    "- 이 데이터셋은 기준 기간동안 공항으로 들어오고 나가는 트래픽을 트래픽 볼륨의 백분율로 표시합니다. <br>\n",
    "  이 메트릭스를 계산하는 데 사용되는 기준 기간은 2020년 3월 16일 부터 12월 2일까지입니다.  "
   ]
  },
  {
   "cell_type": "code",
   "execution_count": 1,
   "id": "b1724709",
   "metadata": {},
   "outputs": [],
   "source": [
    "# 위치 데이터, 달성률, 날짜, \n",
    "\n",
    "\n",
    "# 날짜와 달성률 \n",
    "# 1. 어느 달의 달성률이 높았는지.\n",
    "# 2. 분기별로 달성률이 높았는지\n",
    "# 3. \n",
    "\n",
    "# 위치 \n",
    "# 1.\n",
    "# 2.\n",
    "# 3. "
   ]
  },
  {
   "cell_type": "markdown",
   "id": "aebe3e08",
   "metadata": {},
   "source": [
    "## 기본 환경 구성"
   ]
  },
  {
   "cell_type": "markdown",
   "id": "1a4918fe",
   "metadata": {},
   "source": [
    "### 라이브러리 설치"
   ]
  },
  {
   "cell_type": "code",
   "execution_count": 2,
   "id": "5694fce7",
   "metadata": {},
   "outputs": [],
   "source": [
    "import numpy as np\n",
    "import pandas as pd\n",
    "import matplotlib.pyplot as plt\n",
    "import seaborn as sns"
   ]
  },
  {
   "cell_type": "code",
   "execution_count": 76,
   "id": "c37bd40e",
   "metadata": {},
   "outputs": [],
   "source": [
    "plt.rc(\"font\", family=\"Malgun Gothic\") #한글 폰트 \n",
    "plt.rc(\"axes\", unicode_minus=False) #마이너스 코드 \n",
    "from IPython.display import set_matplotlib_formats #폰트 선명하게 설정.\n",
    "set_matplotlib_formats('retina')"
   ]
  },
  {
   "cell_type": "markdown",
   "id": "99511001",
   "metadata": {},
   "source": [
    "### 데이터 불러오기"
   ]
  },
  {
   "cell_type": "code",
   "execution_count": 3,
   "id": "747959ab",
   "metadata": {},
   "outputs": [
    {
     "data": {
      "text/plain": [
       "(7247, 11)"
      ]
     },
     "execution_count": 3,
     "metadata": {},
     "output_type": "execute_result"
    }
   ],
   "source": [
    "df = pd.read_csv('covid_impact_on_airport_traffic.csv')\n",
    "df.shape"
   ]
  },
  {
   "cell_type": "code",
   "execution_count": 4,
   "id": "a36e3acf",
   "metadata": {},
   "outputs": [
    {
     "data": {
      "text/html": [
       "<div>\n",
       "<style scoped>\n",
       "    .dataframe tbody tr th:only-of-type {\n",
       "        vertical-align: middle;\n",
       "    }\n",
       "\n",
       "    .dataframe tbody tr th {\n",
       "        vertical-align: top;\n",
       "    }\n",
       "\n",
       "    .dataframe thead th {\n",
       "        text-align: right;\n",
       "    }\n",
       "</style>\n",
       "<table border=\"1\" class=\"dataframe\">\n",
       "  <thead>\n",
       "    <tr style=\"text-align: right;\">\n",
       "      <th></th>\n",
       "      <th>AggregationMethod</th>\n",
       "      <th>Date</th>\n",
       "      <th>Version</th>\n",
       "      <th>AirportName</th>\n",
       "      <th>PercentOfBaseline</th>\n",
       "      <th>Centroid</th>\n",
       "      <th>City</th>\n",
       "      <th>State</th>\n",
       "      <th>ISO_3166_2</th>\n",
       "      <th>Country</th>\n",
       "      <th>Geography</th>\n",
       "    </tr>\n",
       "  </thead>\n",
       "  <tbody>\n",
       "    <tr>\n",
       "      <th>0</th>\n",
       "      <td>Daily</td>\n",
       "      <td>2020-04-03</td>\n",
       "      <td>1.0</td>\n",
       "      <td>Kingsford Smith</td>\n",
       "      <td>64</td>\n",
       "      <td>POINT(151.180087713813 -33.9459774986125)</td>\n",
       "      <td>Sydney</td>\n",
       "      <td>New South Wales</td>\n",
       "      <td>AU</td>\n",
       "      <td>Australia</td>\n",
       "      <td>POLYGON((151.164354085922 -33.9301772341877, 1...</td>\n",
       "    </tr>\n",
       "    <tr>\n",
       "      <th>1</th>\n",
       "      <td>Daily</td>\n",
       "      <td>2020-04-13</td>\n",
       "      <td>1.0</td>\n",
       "      <td>Kingsford Smith</td>\n",
       "      <td>29</td>\n",
       "      <td>POINT(151.180087713813 -33.9459774986125)</td>\n",
       "      <td>Sydney</td>\n",
       "      <td>New South Wales</td>\n",
       "      <td>AU</td>\n",
       "      <td>Australia</td>\n",
       "      <td>POLYGON((151.164354085922 -33.9301772341877, 1...</td>\n",
       "    </tr>\n",
       "    <tr>\n",
       "      <th>2</th>\n",
       "      <td>Daily</td>\n",
       "      <td>2020-07-10</td>\n",
       "      <td>1.0</td>\n",
       "      <td>Kingsford Smith</td>\n",
       "      <td>54</td>\n",
       "      <td>POINT(151.180087713813 -33.9459774986125)</td>\n",
       "      <td>Sydney</td>\n",
       "      <td>New South Wales</td>\n",
       "      <td>AU</td>\n",
       "      <td>Australia</td>\n",
       "      <td>POLYGON((151.164354085922 -33.9301772341877, 1...</td>\n",
       "    </tr>\n",
       "    <tr>\n",
       "      <th>3</th>\n",
       "      <td>Daily</td>\n",
       "      <td>2020-09-02</td>\n",
       "      <td>1.0</td>\n",
       "      <td>Kingsford Smith</td>\n",
       "      <td>18</td>\n",
       "      <td>POINT(151.180087713813 -33.9459774986125)</td>\n",
       "      <td>Sydney</td>\n",
       "      <td>New South Wales</td>\n",
       "      <td>AU</td>\n",
       "      <td>Australia</td>\n",
       "      <td>POLYGON((151.164354085922 -33.9301772341877, 1...</td>\n",
       "    </tr>\n",
       "    <tr>\n",
       "      <th>4</th>\n",
       "      <td>Daily</td>\n",
       "      <td>2020-10-31</td>\n",
       "      <td>1.0</td>\n",
       "      <td>Kingsford Smith</td>\n",
       "      <td>22</td>\n",
       "      <td>POINT(151.180087713813 -33.9459774986125)</td>\n",
       "      <td>Sydney</td>\n",
       "      <td>New South Wales</td>\n",
       "      <td>AU</td>\n",
       "      <td>Australia</td>\n",
       "      <td>POLYGON((151.164354085922 -33.9301772341877, 1...</td>\n",
       "    </tr>\n",
       "  </tbody>\n",
       "</table>\n",
       "</div>"
      ],
      "text/plain": [
       "  AggregationMethod        Date  Version      AirportName  PercentOfBaseline  \\\n",
       "0             Daily  2020-04-03      1.0  Kingsford Smith                 64   \n",
       "1             Daily  2020-04-13      1.0  Kingsford Smith                 29   \n",
       "2             Daily  2020-07-10      1.0  Kingsford Smith                 54   \n",
       "3             Daily  2020-09-02      1.0  Kingsford Smith                 18   \n",
       "4             Daily  2020-10-31      1.0  Kingsford Smith                 22   \n",
       "\n",
       "                                    Centroid    City            State  \\\n",
       "0  POINT(151.180087713813 -33.9459774986125)  Sydney  New South Wales   \n",
       "1  POINT(151.180087713813 -33.9459774986125)  Sydney  New South Wales   \n",
       "2  POINT(151.180087713813 -33.9459774986125)  Sydney  New South Wales   \n",
       "3  POINT(151.180087713813 -33.9459774986125)  Sydney  New South Wales   \n",
       "4  POINT(151.180087713813 -33.9459774986125)  Sydney  New South Wales   \n",
       "\n",
       "  ISO_3166_2    Country                                          Geography  \n",
       "0         AU  Australia  POLYGON((151.164354085922 -33.9301772341877, 1...  \n",
       "1         AU  Australia  POLYGON((151.164354085922 -33.9301772341877, 1...  \n",
       "2         AU  Australia  POLYGON((151.164354085922 -33.9301772341877, 1...  \n",
       "3         AU  Australia  POLYGON((151.164354085922 -33.9301772341877, 1...  \n",
       "4         AU  Australia  POLYGON((151.164354085922 -33.9301772341877, 1...  "
      ]
     },
     "execution_count": 4,
     "metadata": {},
     "output_type": "execute_result"
    }
   ],
   "source": [
    "df.head()"
   ]
  },
  {
   "cell_type": "code",
   "execution_count": 5,
   "id": "8154ec5e",
   "metadata": {},
   "outputs": [
    {
     "data": {
      "text/html": [
       "<div>\n",
       "<style scoped>\n",
       "    .dataframe tbody tr th:only-of-type {\n",
       "        vertical-align: middle;\n",
       "    }\n",
       "\n",
       "    .dataframe tbody tr th {\n",
       "        vertical-align: top;\n",
       "    }\n",
       "\n",
       "    .dataframe thead th {\n",
       "        text-align: right;\n",
       "    }\n",
       "</style>\n",
       "<table border=\"1\" class=\"dataframe\">\n",
       "  <thead>\n",
       "    <tr style=\"text-align: right;\">\n",
       "      <th></th>\n",
       "      <th>AggregationMethod</th>\n",
       "      <th>Date</th>\n",
       "      <th>Version</th>\n",
       "      <th>AirportName</th>\n",
       "      <th>PercentOfBaseline</th>\n",
       "      <th>Centroid</th>\n",
       "      <th>City</th>\n",
       "      <th>State</th>\n",
       "      <th>ISO_3166_2</th>\n",
       "      <th>Country</th>\n",
       "      <th>Geography</th>\n",
       "    </tr>\n",
       "  </thead>\n",
       "  <tbody>\n",
       "    <tr>\n",
       "      <th>7242</th>\n",
       "      <td>Daily</td>\n",
       "      <td>2020-06-05</td>\n",
       "      <td>1.0</td>\n",
       "      <td>Seattle-Tacoma International</td>\n",
       "      <td>80</td>\n",
       "      <td>POINT(-122.308661576118 47.4505828917119)</td>\n",
       "      <td>SeaTac</td>\n",
       "      <td>Washington</td>\n",
       "      <td>US-WA</td>\n",
       "      <td>United States of America (the)</td>\n",
       "      <td>POLYGON((-122.297594547272 47.434474106872, -1...</td>\n",
       "    </tr>\n",
       "    <tr>\n",
       "      <th>7243</th>\n",
       "      <td>Daily</td>\n",
       "      <td>2020-10-03</td>\n",
       "      <td>1.0</td>\n",
       "      <td>Seattle-Tacoma International</td>\n",
       "      <td>55</td>\n",
       "      <td>POINT(-122.308661576118 47.4505828917119)</td>\n",
       "      <td>SeaTac</td>\n",
       "      <td>Washington</td>\n",
       "      <td>US-WA</td>\n",
       "      <td>United States of America (the)</td>\n",
       "      <td>POLYGON((-122.297594547272 47.434474106872, -1...</td>\n",
       "    </tr>\n",
       "    <tr>\n",
       "      <th>7244</th>\n",
       "      <td>Daily</td>\n",
       "      <td>2020-07-16</td>\n",
       "      <td>1.0</td>\n",
       "      <td>Seattle-Tacoma International</td>\n",
       "      <td>76</td>\n",
       "      <td>POINT(-122.308661576118 47.4505828917119)</td>\n",
       "      <td>SeaTac</td>\n",
       "      <td>Washington</td>\n",
       "      <td>US-WA</td>\n",
       "      <td>United States of America (the)</td>\n",
       "      <td>POLYGON((-122.297594547272 47.434474106872, -1...</td>\n",
       "    </tr>\n",
       "    <tr>\n",
       "      <th>7245</th>\n",
       "      <td>Daily</td>\n",
       "      <td>2020-07-31</td>\n",
       "      <td>1.0</td>\n",
       "      <td>Seattle-Tacoma International</td>\n",
       "      <td>69</td>\n",
       "      <td>POINT(-122.308661576118 47.4505828917119)</td>\n",
       "      <td>SeaTac</td>\n",
       "      <td>Washington</td>\n",
       "      <td>US-WA</td>\n",
       "      <td>United States of America (the)</td>\n",
       "      <td>POLYGON((-122.297594547272 47.434474106872, -1...</td>\n",
       "    </tr>\n",
       "    <tr>\n",
       "      <th>7246</th>\n",
       "      <td>Daily</td>\n",
       "      <td>2020-08-30</td>\n",
       "      <td>1.0</td>\n",
       "      <td>Seattle-Tacoma International</td>\n",
       "      <td>68</td>\n",
       "      <td>POINT(-122.308661576118 47.4505828917119)</td>\n",
       "      <td>SeaTac</td>\n",
       "      <td>Washington</td>\n",
       "      <td>US-WA</td>\n",
       "      <td>United States of America (the)</td>\n",
       "      <td>POLYGON((-122.297594547272 47.434474106872, -1...</td>\n",
       "    </tr>\n",
       "  </tbody>\n",
       "</table>\n",
       "</div>"
      ],
      "text/plain": [
       "     AggregationMethod        Date  Version                    AirportName  \\\n",
       "7242             Daily  2020-06-05      1.0  Seattle-Tacoma International    \n",
       "7243             Daily  2020-10-03      1.0  Seattle-Tacoma International    \n",
       "7244             Daily  2020-07-16      1.0  Seattle-Tacoma International    \n",
       "7245             Daily  2020-07-31      1.0  Seattle-Tacoma International    \n",
       "7246             Daily  2020-08-30      1.0  Seattle-Tacoma International    \n",
       "\n",
       "      PercentOfBaseline                                   Centroid    City  \\\n",
       "7242                 80  POINT(-122.308661576118 47.4505828917119)  SeaTac   \n",
       "7243                 55  POINT(-122.308661576118 47.4505828917119)  SeaTac   \n",
       "7244                 76  POINT(-122.308661576118 47.4505828917119)  SeaTac   \n",
       "7245                 69  POINT(-122.308661576118 47.4505828917119)  SeaTac   \n",
       "7246                 68  POINT(-122.308661576118 47.4505828917119)  SeaTac   \n",
       "\n",
       "           State ISO_3166_2                         Country  \\\n",
       "7242  Washington      US-WA  United States of America (the)   \n",
       "7243  Washington      US-WA  United States of America (the)   \n",
       "7244  Washington      US-WA  United States of America (the)   \n",
       "7245  Washington      US-WA  United States of America (the)   \n",
       "7246  Washington      US-WA  United States of America (the)   \n",
       "\n",
       "                                              Geography  \n",
       "7242  POLYGON((-122.297594547272 47.434474106872, -1...  \n",
       "7243  POLYGON((-122.297594547272 47.434474106872, -1...  \n",
       "7244  POLYGON((-122.297594547272 47.434474106872, -1...  \n",
       "7245  POLYGON((-122.297594547272 47.434474106872, -1...  \n",
       "7246  POLYGON((-122.297594547272 47.434474106872, -1...  "
      ]
     },
     "execution_count": 5,
     "metadata": {},
     "output_type": "execute_result"
    }
   ],
   "source": [
    "df.tail()"
   ]
  },
  {
   "cell_type": "code",
   "execution_count": 6,
   "id": "3934d9b8",
   "metadata": {},
   "outputs": [
    {
     "name": "stdout",
     "output_type": "stream",
     "text": [
      "<class 'pandas.core.frame.DataFrame'>\n",
      "RangeIndex: 7247 entries, 0 to 7246\n",
      "Data columns (total 11 columns):\n",
      " #   Column             Non-Null Count  Dtype  \n",
      "---  ------             --------------  -----  \n",
      " 0   AggregationMethod  7247 non-null   object \n",
      " 1   Date               7247 non-null   object \n",
      " 2   Version            7247 non-null   float64\n",
      " 3   AirportName        7247 non-null   object \n",
      " 4   PercentOfBaseline  7247 non-null   int64  \n",
      " 5   Centroid           7247 non-null   object \n",
      " 6   City               7247 non-null   object \n",
      " 7   State              7247 non-null   object \n",
      " 8   ISO_3166_2         7247 non-null   object \n",
      " 9   Country            7247 non-null   object \n",
      " 10  Geography          7247 non-null   object \n",
      "dtypes: float64(1), int64(1), object(9)\n",
      "memory usage: 622.9+ KB\n"
     ]
    }
   ],
   "source": [
    "df.info()"
   ]
  },
  {
   "cell_type": "code",
   "execution_count": 7,
   "id": "acb7a005",
   "metadata": {},
   "outputs": [
    {
     "data": {
      "text/html": [
       "<div>\n",
       "<style scoped>\n",
       "    .dataframe tbody tr th:only-of-type {\n",
       "        vertical-align: middle;\n",
       "    }\n",
       "\n",
       "    .dataframe tbody tr th {\n",
       "        vertical-align: top;\n",
       "    }\n",
       "\n",
       "    .dataframe thead th {\n",
       "        text-align: right;\n",
       "    }\n",
       "</style>\n",
       "<table border=\"1\" class=\"dataframe\">\n",
       "  <thead>\n",
       "    <tr style=\"text-align: right;\">\n",
       "      <th></th>\n",
       "      <th>Version</th>\n",
       "      <th>PercentOfBaseline</th>\n",
       "    </tr>\n",
       "  </thead>\n",
       "  <tbody>\n",
       "    <tr>\n",
       "      <th>count</th>\n",
       "      <td>7247.0</td>\n",
       "      <td>7247.000000</td>\n",
       "    </tr>\n",
       "    <tr>\n",
       "      <th>mean</th>\n",
       "      <td>1.0</td>\n",
       "      <td>66.651442</td>\n",
       "    </tr>\n",
       "    <tr>\n",
       "      <th>std</th>\n",
       "      <td>0.0</td>\n",
       "      <td>22.134433</td>\n",
       "    </tr>\n",
       "    <tr>\n",
       "      <th>min</th>\n",
       "      <td>1.0</td>\n",
       "      <td>0.000000</td>\n",
       "    </tr>\n",
       "    <tr>\n",
       "      <th>25%</th>\n",
       "      <td>1.0</td>\n",
       "      <td>53.000000</td>\n",
       "    </tr>\n",
       "    <tr>\n",
       "      <th>50%</th>\n",
       "      <td>1.0</td>\n",
       "      <td>67.000000</td>\n",
       "    </tr>\n",
       "    <tr>\n",
       "      <th>75%</th>\n",
       "      <td>1.0</td>\n",
       "      <td>84.000000</td>\n",
       "    </tr>\n",
       "    <tr>\n",
       "      <th>max</th>\n",
       "      <td>1.0</td>\n",
       "      <td>100.000000</td>\n",
       "    </tr>\n",
       "  </tbody>\n",
       "</table>\n",
       "</div>"
      ],
      "text/plain": [
       "       Version  PercentOfBaseline\n",
       "count   7247.0        7247.000000\n",
       "mean       1.0          66.651442\n",
       "std        0.0          22.134433\n",
       "min        1.0           0.000000\n",
       "25%        1.0          53.000000\n",
       "50%        1.0          67.000000\n",
       "75%        1.0          84.000000\n",
       "max        1.0         100.000000"
      ]
     },
     "execution_count": 7,
     "metadata": {},
     "output_type": "execute_result"
    }
   ],
   "source": [
    "df.describe()"
   ]
  },
  {
   "cell_type": "code",
   "execution_count": 8,
   "id": "9b8fb95a",
   "metadata": {},
   "outputs": [
    {
     "data": {
      "text/plain": [
       "Index(['AggregationMethod', 'Date', 'Version', 'AirportName',\n",
       "       'PercentOfBaseline', 'Centroid', 'City', 'State', 'ISO_3166_2',\n",
       "       'Country', 'Geography'],\n",
       "      dtype='object')"
      ]
     },
     "execution_count": 8,
     "metadata": {},
     "output_type": "execute_result"
    }
   ],
   "source": [
    "df.columns"
   ]
  },
  {
   "cell_type": "code",
   "execution_count": 70,
   "id": "19eb3fe0",
   "metadata": {},
   "outputs": [],
   "source": [
    "# <!-- 칼럼설명\n",
    "# \"\"\"\n",
    "# Date             : 날짜\n",
    "# Version          : 현재 데이터 셋이 구버전인지 현버전인지 0과 1로 나타냄.\n",
    "# AirportName      : 공항 이름\n",
    "# PercentOfBaseline: 회사가 얻을 수 있는 최대 목표 대비 하루 달성율\n",
    "# Centroid         : 공항 좌표\n",
    "# City             : 공항이 위치한 도시\n",
    "# State            : 공항이 위치한 주\n",
    "# Country          : 공항이 위치한 나라\n",
    "# ISO_3166_2       : 주요 영토 별 국제 명칭 \n",
    "# Geopgraphy       : Polygon 좌표\n",
    "# \"\"\" -->"
   ]
  },
  {
   "cell_type": "markdown",
   "id": "63f6caac",
   "metadata": {},
   "source": [
    "* ISO 3166-2\n",
    "\n",
    "ISO 3166-2는 ISO 3166의 일부로서, 전 세계 나라 및 부속 영토의 주요 구성 단위의 명칭에 고유 부호를 부여하는 국제 표준이다. 1998년 처음으로 결정되어 지금까지 아홉번 개정된 바 있다. 약 3700개의 고유 부호가 있다. 정식 명칭은 'Codes for the representation of names of countries and their subdivisions – Part 2: Country subdivision code'이다.\n",
    "\n",
    "출처 : https://ko.wikipedia.org/wiki/ISO_3166-2"
   ]
  },
  {
   "cell_type": "code",
   "execution_count": 9,
   "id": "3e72b437",
   "metadata": {},
   "outputs": [],
   "source": [
    "columns = ['Version', 'AggregationMethod', 'Geography']\n",
    "df = df.drop(columns, axis=1)"
   ]
  },
  {
   "cell_type": "markdown",
   "id": "bd81ad0d",
   "metadata": {},
   "source": [
    "쓸모 없는 열들을 삭제하여 데이터 전처리를 진행하였다. "
   ]
  },
  {
   "cell_type": "code",
   "execution_count": 10,
   "id": "09a7d154",
   "metadata": {
    "scrolled": true
   },
   "outputs": [
    {
     "data": {
      "text/plain": [
       "Date                 0\n",
       "AirportName          0\n",
       "PercentOfBaseline    0\n",
       "Centroid             0\n",
       "City                 0\n",
       "State                0\n",
       "ISO_3166_2           0\n",
       "Country              0\n",
       "dtype: int64"
      ]
     },
     "execution_count": 10,
     "metadata": {},
     "output_type": "execute_result"
    }
   ],
   "source": [
    "df.isnull().sum()"
   ]
  },
  {
   "cell_type": "markdown",
   "id": "bc73d6d9",
   "metadata": {},
   "source": [
    "결측치 값이 다행히도 아무도 없는 깨끗한 데이터였다. "
   ]
  },
  {
   "cell_type": "code",
   "execution_count": 11,
   "id": "bc63b3ab",
   "metadata": {},
   "outputs": [
    {
     "data": {
      "text/html": [
       "<div>\n",
       "<style scoped>\n",
       "    .dataframe tbody tr th:only-of-type {\n",
       "        vertical-align: middle;\n",
       "    }\n",
       "\n",
       "    .dataframe tbody tr th {\n",
       "        vertical-align: top;\n",
       "    }\n",
       "\n",
       "    .dataframe thead th {\n",
       "        text-align: right;\n",
       "    }\n",
       "</style>\n",
       "<table border=\"1\" class=\"dataframe\">\n",
       "  <thead>\n",
       "    <tr style=\"text-align: right;\">\n",
       "      <th></th>\n",
       "      <th>Date</th>\n",
       "      <th>AirportName</th>\n",
       "      <th>PercentOfBaseline</th>\n",
       "      <th>Centroid</th>\n",
       "      <th>City</th>\n",
       "      <th>State</th>\n",
       "      <th>ISO_3166_2</th>\n",
       "      <th>Country</th>\n",
       "    </tr>\n",
       "  </thead>\n",
       "  <tbody>\n",
       "    <tr>\n",
       "      <th>0</th>\n",
       "      <td>2020-04-03</td>\n",
       "      <td>Kingsford Smith</td>\n",
       "      <td>64</td>\n",
       "      <td>POINT(151.180087713813 -33.9459774986125)</td>\n",
       "      <td>Sydney</td>\n",
       "      <td>New South Wales</td>\n",
       "      <td>AU</td>\n",
       "      <td>Australia</td>\n",
       "    </tr>\n",
       "    <tr>\n",
       "      <th>1</th>\n",
       "      <td>2020-04-13</td>\n",
       "      <td>Kingsford Smith</td>\n",
       "      <td>29</td>\n",
       "      <td>POINT(151.180087713813 -33.9459774986125)</td>\n",
       "      <td>Sydney</td>\n",
       "      <td>New South Wales</td>\n",
       "      <td>AU</td>\n",
       "      <td>Australia</td>\n",
       "    </tr>\n",
       "    <tr>\n",
       "      <th>2</th>\n",
       "      <td>2020-07-10</td>\n",
       "      <td>Kingsford Smith</td>\n",
       "      <td>54</td>\n",
       "      <td>POINT(151.180087713813 -33.9459774986125)</td>\n",
       "      <td>Sydney</td>\n",
       "      <td>New South Wales</td>\n",
       "      <td>AU</td>\n",
       "      <td>Australia</td>\n",
       "    </tr>\n",
       "    <tr>\n",
       "      <th>3</th>\n",
       "      <td>2020-09-02</td>\n",
       "      <td>Kingsford Smith</td>\n",
       "      <td>18</td>\n",
       "      <td>POINT(151.180087713813 -33.9459774986125)</td>\n",
       "      <td>Sydney</td>\n",
       "      <td>New South Wales</td>\n",
       "      <td>AU</td>\n",
       "      <td>Australia</td>\n",
       "    </tr>\n",
       "    <tr>\n",
       "      <th>4</th>\n",
       "      <td>2020-10-31</td>\n",
       "      <td>Kingsford Smith</td>\n",
       "      <td>22</td>\n",
       "      <td>POINT(151.180087713813 -33.9459774986125)</td>\n",
       "      <td>Sydney</td>\n",
       "      <td>New South Wales</td>\n",
       "      <td>AU</td>\n",
       "      <td>Australia</td>\n",
       "    </tr>\n",
       "  </tbody>\n",
       "</table>\n",
       "</div>"
      ],
      "text/plain": [
       "         Date      AirportName  PercentOfBaseline  \\\n",
       "0  2020-04-03  Kingsford Smith                 64   \n",
       "1  2020-04-13  Kingsford Smith                 29   \n",
       "2  2020-07-10  Kingsford Smith                 54   \n",
       "3  2020-09-02  Kingsford Smith                 18   \n",
       "4  2020-10-31  Kingsford Smith                 22   \n",
       "\n",
       "                                    Centroid    City            State  \\\n",
       "0  POINT(151.180087713813 -33.9459774986125)  Sydney  New South Wales   \n",
       "1  POINT(151.180087713813 -33.9459774986125)  Sydney  New South Wales   \n",
       "2  POINT(151.180087713813 -33.9459774986125)  Sydney  New South Wales   \n",
       "3  POINT(151.180087713813 -33.9459774986125)  Sydney  New South Wales   \n",
       "4  POINT(151.180087713813 -33.9459774986125)  Sydney  New South Wales   \n",
       "\n",
       "  ISO_3166_2    Country  \n",
       "0         AU  Australia  \n",
       "1         AU  Australia  \n",
       "2         AU  Australia  \n",
       "3         AU  Australia  \n",
       "4         AU  Australia  "
      ]
     },
     "execution_count": 11,
     "metadata": {},
     "output_type": "execute_result"
    }
   ],
   "source": [
    "df.head()"
   ]
  },
  {
   "cell_type": "markdown",
   "id": "b91ae6e3",
   "metadata": {},
   "source": [
    "날짜 전처리"
   ]
  },
  {
   "cell_type": "code",
   "execution_count": 12,
   "id": "02db9a9f",
   "metadata": {},
   "outputs": [],
   "source": [
    "df[\"Date\"] = df[\"Date\"].astype(\"datetime64\")\n",
    "\n",
    "\n",
    "df['Month'] = df['Date'].dt.month\n",
    "df['Day'] = df['Date'].dt.day\n",
    "df['Quarter'] = df['Date'].dt.quarter\n",
    "df['Weekday'] = df['Date'].dt.weekday\n",
    "\n",
    "#부가설명 weekday : monday를 0으로 부터 해서 요일 나타냄"
   ]
  },
  {
   "cell_type": "code",
   "execution_count": 13,
   "id": "b62548aa",
   "metadata": {
    "scrolled": true
   },
   "outputs": [
    {
     "data": {
      "text/html": [
       "<div>\n",
       "<style scoped>\n",
       "    .dataframe tbody tr th:only-of-type {\n",
       "        vertical-align: middle;\n",
       "    }\n",
       "\n",
       "    .dataframe tbody tr th {\n",
       "        vertical-align: top;\n",
       "    }\n",
       "\n",
       "    .dataframe thead th {\n",
       "        text-align: right;\n",
       "    }\n",
       "</style>\n",
       "<table border=\"1\" class=\"dataframe\">\n",
       "  <thead>\n",
       "    <tr style=\"text-align: right;\">\n",
       "      <th></th>\n",
       "      <th>Date</th>\n",
       "      <th>AirportName</th>\n",
       "      <th>PercentOfBaseline</th>\n",
       "      <th>Centroid</th>\n",
       "      <th>City</th>\n",
       "      <th>State</th>\n",
       "      <th>ISO_3166_2</th>\n",
       "      <th>Country</th>\n",
       "      <th>Month</th>\n",
       "      <th>Day</th>\n",
       "      <th>Quarter</th>\n",
       "      <th>Weekday</th>\n",
       "    </tr>\n",
       "  </thead>\n",
       "  <tbody>\n",
       "    <tr>\n",
       "      <th>0</th>\n",
       "      <td>2020-04-03</td>\n",
       "      <td>Kingsford Smith</td>\n",
       "      <td>64</td>\n",
       "      <td>POINT(151.180087713813 -33.9459774986125)</td>\n",
       "      <td>Sydney</td>\n",
       "      <td>New South Wales</td>\n",
       "      <td>AU</td>\n",
       "      <td>Australia</td>\n",
       "      <td>4</td>\n",
       "      <td>3</td>\n",
       "      <td>2</td>\n",
       "      <td>4</td>\n",
       "    </tr>\n",
       "    <tr>\n",
       "      <th>1</th>\n",
       "      <td>2020-04-13</td>\n",
       "      <td>Kingsford Smith</td>\n",
       "      <td>29</td>\n",
       "      <td>POINT(151.180087713813 -33.9459774986125)</td>\n",
       "      <td>Sydney</td>\n",
       "      <td>New South Wales</td>\n",
       "      <td>AU</td>\n",
       "      <td>Australia</td>\n",
       "      <td>4</td>\n",
       "      <td>13</td>\n",
       "      <td>2</td>\n",
       "      <td>0</td>\n",
       "    </tr>\n",
       "    <tr>\n",
       "      <th>2</th>\n",
       "      <td>2020-07-10</td>\n",
       "      <td>Kingsford Smith</td>\n",
       "      <td>54</td>\n",
       "      <td>POINT(151.180087713813 -33.9459774986125)</td>\n",
       "      <td>Sydney</td>\n",
       "      <td>New South Wales</td>\n",
       "      <td>AU</td>\n",
       "      <td>Australia</td>\n",
       "      <td>7</td>\n",
       "      <td>10</td>\n",
       "      <td>3</td>\n",
       "      <td>4</td>\n",
       "    </tr>\n",
       "    <tr>\n",
       "      <th>3</th>\n",
       "      <td>2020-09-02</td>\n",
       "      <td>Kingsford Smith</td>\n",
       "      <td>18</td>\n",
       "      <td>POINT(151.180087713813 -33.9459774986125)</td>\n",
       "      <td>Sydney</td>\n",
       "      <td>New South Wales</td>\n",
       "      <td>AU</td>\n",
       "      <td>Australia</td>\n",
       "      <td>9</td>\n",
       "      <td>2</td>\n",
       "      <td>3</td>\n",
       "      <td>2</td>\n",
       "    </tr>\n",
       "    <tr>\n",
       "      <th>4</th>\n",
       "      <td>2020-10-31</td>\n",
       "      <td>Kingsford Smith</td>\n",
       "      <td>22</td>\n",
       "      <td>POINT(151.180087713813 -33.9459774986125)</td>\n",
       "      <td>Sydney</td>\n",
       "      <td>New South Wales</td>\n",
       "      <td>AU</td>\n",
       "      <td>Australia</td>\n",
       "      <td>10</td>\n",
       "      <td>31</td>\n",
       "      <td>4</td>\n",
       "      <td>5</td>\n",
       "    </tr>\n",
       "  </tbody>\n",
       "</table>\n",
       "</div>"
      ],
      "text/plain": [
       "        Date      AirportName  PercentOfBaseline  \\\n",
       "0 2020-04-03  Kingsford Smith                 64   \n",
       "1 2020-04-13  Kingsford Smith                 29   \n",
       "2 2020-07-10  Kingsford Smith                 54   \n",
       "3 2020-09-02  Kingsford Smith                 18   \n",
       "4 2020-10-31  Kingsford Smith                 22   \n",
       "\n",
       "                                    Centroid    City            State  \\\n",
       "0  POINT(151.180087713813 -33.9459774986125)  Sydney  New South Wales   \n",
       "1  POINT(151.180087713813 -33.9459774986125)  Sydney  New South Wales   \n",
       "2  POINT(151.180087713813 -33.9459774986125)  Sydney  New South Wales   \n",
       "3  POINT(151.180087713813 -33.9459774986125)  Sydney  New South Wales   \n",
       "4  POINT(151.180087713813 -33.9459774986125)  Sydney  New South Wales   \n",
       "\n",
       "  ISO_3166_2    Country  Month  Day  Quarter  Weekday  \n",
       "0         AU  Australia      4    3        2        4  \n",
       "1         AU  Australia      4   13        2        0  \n",
       "2         AU  Australia      7   10        3        4  \n",
       "3         AU  Australia      9    2        3        2  \n",
       "4         AU  Australia     10   31        4        5  "
      ]
     },
     "execution_count": 13,
     "metadata": {},
     "output_type": "execute_result"
    }
   ],
   "source": [
    "df.head()"
   ]
  },
  {
   "cell_type": "markdown",
   "id": "5332bf91",
   "metadata": {},
   "source": [
    "요일이 숫자로 되어 있어서 가독성이 떨어졌다. 그래서 월화수목금토일 이라는 리스트를 만들어 함수를 만들어 요일을 표기하였다. "
   ]
  },
  {
   "cell_type": "code",
   "execution_count": 14,
   "id": "da283619",
   "metadata": {},
   "outputs": [],
   "source": [
    "dayofweek=\"월화수목금토일\"\n",
    "\n",
    "def find_dayofweek(day_no):\n",
    "    dayofweek = \"월화수목금토일\"\n",
    "    return dayofweek[day_no]\n",
    "\n",
    "\n",
    "df[\"Weekday\"]=df[\"Weekday\"].apply(find_dayofweek) #apply 함수는 함수를 씌워주는 것이다. "
   ]
  },
  {
   "cell_type": "code",
   "execution_count": 15,
   "id": "8f27481f",
   "metadata": {},
   "outputs": [
    {
     "data": {
      "text/html": [
       "<div>\n",
       "<style scoped>\n",
       "    .dataframe tbody tr th:only-of-type {\n",
       "        vertical-align: middle;\n",
       "    }\n",
       "\n",
       "    .dataframe tbody tr th {\n",
       "        vertical-align: top;\n",
       "    }\n",
       "\n",
       "    .dataframe thead th {\n",
       "        text-align: right;\n",
       "    }\n",
       "</style>\n",
       "<table border=\"1\" class=\"dataframe\">\n",
       "  <thead>\n",
       "    <tr style=\"text-align: right;\">\n",
       "      <th></th>\n",
       "      <th>Date</th>\n",
       "      <th>AirportName</th>\n",
       "      <th>PercentOfBaseline</th>\n",
       "      <th>Centroid</th>\n",
       "      <th>City</th>\n",
       "      <th>State</th>\n",
       "      <th>ISO_3166_2</th>\n",
       "      <th>Country</th>\n",
       "      <th>Month</th>\n",
       "      <th>Day</th>\n",
       "      <th>Quarter</th>\n",
       "      <th>Weekday</th>\n",
       "    </tr>\n",
       "  </thead>\n",
       "  <tbody>\n",
       "    <tr>\n",
       "      <th>0</th>\n",
       "      <td>2020-04-03</td>\n",
       "      <td>Kingsford Smith</td>\n",
       "      <td>64</td>\n",
       "      <td>POINT(151.180087713813 -33.9459774986125)</td>\n",
       "      <td>Sydney</td>\n",
       "      <td>New South Wales</td>\n",
       "      <td>AU</td>\n",
       "      <td>Australia</td>\n",
       "      <td>4</td>\n",
       "      <td>3</td>\n",
       "      <td>2</td>\n",
       "      <td>금</td>\n",
       "    </tr>\n",
       "    <tr>\n",
       "      <th>1</th>\n",
       "      <td>2020-04-13</td>\n",
       "      <td>Kingsford Smith</td>\n",
       "      <td>29</td>\n",
       "      <td>POINT(151.180087713813 -33.9459774986125)</td>\n",
       "      <td>Sydney</td>\n",
       "      <td>New South Wales</td>\n",
       "      <td>AU</td>\n",
       "      <td>Australia</td>\n",
       "      <td>4</td>\n",
       "      <td>13</td>\n",
       "      <td>2</td>\n",
       "      <td>월</td>\n",
       "    </tr>\n",
       "    <tr>\n",
       "      <th>2</th>\n",
       "      <td>2020-07-10</td>\n",
       "      <td>Kingsford Smith</td>\n",
       "      <td>54</td>\n",
       "      <td>POINT(151.180087713813 -33.9459774986125)</td>\n",
       "      <td>Sydney</td>\n",
       "      <td>New South Wales</td>\n",
       "      <td>AU</td>\n",
       "      <td>Australia</td>\n",
       "      <td>7</td>\n",
       "      <td>10</td>\n",
       "      <td>3</td>\n",
       "      <td>금</td>\n",
       "    </tr>\n",
       "    <tr>\n",
       "      <th>3</th>\n",
       "      <td>2020-09-02</td>\n",
       "      <td>Kingsford Smith</td>\n",
       "      <td>18</td>\n",
       "      <td>POINT(151.180087713813 -33.9459774986125)</td>\n",
       "      <td>Sydney</td>\n",
       "      <td>New South Wales</td>\n",
       "      <td>AU</td>\n",
       "      <td>Australia</td>\n",
       "      <td>9</td>\n",
       "      <td>2</td>\n",
       "      <td>3</td>\n",
       "      <td>수</td>\n",
       "    </tr>\n",
       "    <tr>\n",
       "      <th>4</th>\n",
       "      <td>2020-10-31</td>\n",
       "      <td>Kingsford Smith</td>\n",
       "      <td>22</td>\n",
       "      <td>POINT(151.180087713813 -33.9459774986125)</td>\n",
       "      <td>Sydney</td>\n",
       "      <td>New South Wales</td>\n",
       "      <td>AU</td>\n",
       "      <td>Australia</td>\n",
       "      <td>10</td>\n",
       "      <td>31</td>\n",
       "      <td>4</td>\n",
       "      <td>토</td>\n",
       "    </tr>\n",
       "  </tbody>\n",
       "</table>\n",
       "</div>"
      ],
      "text/plain": [
       "        Date      AirportName  PercentOfBaseline  \\\n",
       "0 2020-04-03  Kingsford Smith                 64   \n",
       "1 2020-04-13  Kingsford Smith                 29   \n",
       "2 2020-07-10  Kingsford Smith                 54   \n",
       "3 2020-09-02  Kingsford Smith                 18   \n",
       "4 2020-10-31  Kingsford Smith                 22   \n",
       "\n",
       "                                    Centroid    City            State  \\\n",
       "0  POINT(151.180087713813 -33.9459774986125)  Sydney  New South Wales   \n",
       "1  POINT(151.180087713813 -33.9459774986125)  Sydney  New South Wales   \n",
       "2  POINT(151.180087713813 -33.9459774986125)  Sydney  New South Wales   \n",
       "3  POINT(151.180087713813 -33.9459774986125)  Sydney  New South Wales   \n",
       "4  POINT(151.180087713813 -33.9459774986125)  Sydney  New South Wales   \n",
       "\n",
       "  ISO_3166_2    Country  Month  Day  Quarter Weekday  \n",
       "0         AU  Australia      4    3        2       금  \n",
       "1         AU  Australia      4   13        2       월  \n",
       "2         AU  Australia      7   10        3       금  \n",
       "3         AU  Australia      9    2        3       수  \n",
       "4         AU  Australia     10   31        4       토  "
      ]
     },
     "execution_count": 15,
     "metadata": {},
     "output_type": "execute_result"
    }
   ],
   "source": [
    "df.head()"
   ]
  },
  {
   "cell_type": "markdown",
   "id": "7ab32058",
   "metadata": {},
   "source": [
    "데이터 전처리 마무리 \n",
    "\n"
   ]
  },
  {
   "cell_type": "markdown",
   "id": "21c3be1b",
   "metadata": {},
   "source": [
    "## EDA : 날짜"
   ]
  },
  {
   "cell_type": "markdown",
   "id": "0789bbb4",
   "metadata": {},
   "source": [
    "### 분기별과 성과목표 그래프"
   ]
  },
  {
   "cell_type": "code",
   "execution_count": 16,
   "id": "ba57a0e4",
   "metadata": {},
   "outputs": [
    {
     "data": {
      "text/html": [
       "<div>\n",
       "<style scoped>\n",
       "    .dataframe tbody tr th:only-of-type {\n",
       "        vertical-align: middle;\n",
       "    }\n",
       "\n",
       "    .dataframe tbody tr th {\n",
       "        vertical-align: top;\n",
       "    }\n",
       "\n",
       "    .dataframe thead th {\n",
       "        text-align: right;\n",
       "    }\n",
       "</style>\n",
       "<table border=\"1\" class=\"dataframe\">\n",
       "  <thead>\n",
       "    <tr style=\"text-align: right;\">\n",
       "      <th></th>\n",
       "      <th>Quarter</th>\n",
       "      <th>PercentOfBaseline</th>\n",
       "    </tr>\n",
       "  </thead>\n",
       "  <tbody>\n",
       "    <tr>\n",
       "      <th>0</th>\n",
       "      <td>1</td>\n",
       "      <td>31939</td>\n",
       "    </tr>\n",
       "    <tr>\n",
       "      <th>1</th>\n",
       "      <td>2</td>\n",
       "      <td>152546</td>\n",
       "    </tr>\n",
       "    <tr>\n",
       "      <th>2</th>\n",
       "      <td>3</td>\n",
       "      <td>172984</td>\n",
       "    </tr>\n",
       "    <tr>\n",
       "      <th>3</th>\n",
       "      <td>4</td>\n",
       "      <td>125554</td>\n",
       "    </tr>\n",
       "  </tbody>\n",
       "</table>\n",
       "</div>"
      ],
      "text/plain": [
       "   Quarter  PercentOfBaseline\n",
       "0        1              31939\n",
       "1        2             152546\n",
       "2        3             172984\n",
       "3        4             125554"
      ]
     },
     "execution_count": 16,
     "metadata": {},
     "output_type": "execute_result"
    }
   ],
   "source": [
    "df_qu = pd.pivot_table(data=df, index='Quarter', values='PercentOfBaseline', aggfunc='sum')\n",
    "df_qu = df_qu.reset_index()\n",
    "df_qu"
   ]
  },
  {
   "cell_type": "code",
   "execution_count": 17,
   "id": "a639d19a",
   "metadata": {},
   "outputs": [
    {
     "data": {
      "text/plain": [
       "<AxesSubplot:xlabel='Quarter', ylabel='PercentOfBaseline'>"
      ]
     },
     "execution_count": 17,
     "metadata": {},
     "output_type": "execute_result"
    },
    {
     "data": {
      "image/png": "[encoded data removed]",
      "text/plain": [
       "<Figure size 432x288 with 1 Axes>"
      ]
     },
     "metadata": {
      "needs_background": "light"
     },
     "output_type": "display_data"
    }
   ],
   "source": [
    "sns.barplot(data=df_qu,x='Quarter', y='PercentOfBaseline')"
   ]
  },
  {
   "cell_type": "markdown",
   "id": "6e53cec2",
   "metadata": {},
   "source": [
    "데이터 현실상, 1분기 데이터가 3월밖에 없으므로 현재 데이터 분석 시엔 제외하였고, 3분기에 업무율이 가장 높았다.  <br>\n",
    "따라서 공항의 직원 수를 늘리거나 기존의 직원수를 유지하되, 추가근무가 필요할 것으로 예상된다. "
   ]
  },
  {
   "cell_type": "markdown",
   "id": "ce3a1afa",
   "metadata": {},
   "source": [
    "### 월별과 성과목표 그래프"
   ]
  },
  {
   "cell_type": "code",
   "execution_count": 18,
   "id": "ca2a331c",
   "metadata": {},
   "outputs": [
    {
     "data": {
      "text/html": [
       "<div>\n",
       "<style scoped>\n",
       "    .dataframe tbody tr th:only-of-type {\n",
       "        vertical-align: middle;\n",
       "    }\n",
       "\n",
       "    .dataframe tbody tr th {\n",
       "        vertical-align: top;\n",
       "    }\n",
       "\n",
       "    .dataframe thead th {\n",
       "        text-align: right;\n",
       "    }\n",
       "</style>\n",
       "<table border=\"1\" class=\"dataframe\">\n",
       "  <thead>\n",
       "    <tr style=\"text-align: right;\">\n",
       "      <th></th>\n",
       "      <th>Month</th>\n",
       "      <th>PercentOfBaseline</th>\n",
       "    </tr>\n",
       "  </thead>\n",
       "  <tbody>\n",
       "    <tr>\n",
       "      <th>0</th>\n",
       "      <td>3</td>\n",
       "      <td>31939</td>\n",
       "    </tr>\n",
       "    <tr>\n",
       "      <th>1</th>\n",
       "      <td>4</td>\n",
       "      <td>46406</td>\n",
       "    </tr>\n",
       "    <tr>\n",
       "      <th>2</th>\n",
       "      <td>5</td>\n",
       "      <td>50699</td>\n",
       "    </tr>\n",
       "    <tr>\n",
       "      <th>3</th>\n",
       "      <td>6</td>\n",
       "      <td>55441</td>\n",
       "    </tr>\n",
       "    <tr>\n",
       "      <th>4</th>\n",
       "      <td>7</td>\n",
       "      <td>58322</td>\n",
       "    </tr>\n",
       "    <tr>\n",
       "      <th>5</th>\n",
       "      <td>8</td>\n",
       "      <td>56607</td>\n",
       "    </tr>\n",
       "    <tr>\n",
       "      <th>6</th>\n",
       "      <td>9</td>\n",
       "      <td>58055</td>\n",
       "    </tr>\n",
       "    <tr>\n",
       "      <th>7</th>\n",
       "      <td>10</td>\n",
       "      <td>62472</td>\n",
       "    </tr>\n",
       "    <tr>\n",
       "      <th>8</th>\n",
       "      <td>11</td>\n",
       "      <td>58765</td>\n",
       "    </tr>\n",
       "    <tr>\n",
       "      <th>9</th>\n",
       "      <td>12</td>\n",
       "      <td>4317</td>\n",
       "    </tr>\n",
       "  </tbody>\n",
       "</table>\n",
       "</div>"
      ],
      "text/plain": [
       "   Month  PercentOfBaseline\n",
       "0      3              31939\n",
       "1      4              46406\n",
       "2      5              50699\n",
       "3      6              55441\n",
       "4      7              58322\n",
       "5      8              56607\n",
       "6      9              58055\n",
       "7     10              62472\n",
       "8     11              58765\n",
       "9     12               4317"
      ]
     },
     "execution_count": 18,
     "metadata": {},
     "output_type": "execute_result"
    }
   ],
   "source": [
    "df_month = pd.pivot_table(data=df, index='Month', values='PercentOfBaseline', aggfunc='sum')\n",
    "df_month = df_month.reset_index()\n",
    "df_month"
   ]
  },
  {
   "cell_type": "markdown",
   "id": "6436fb36",
   "metadata": {},
   "source": [
    "데이터 수집상 마지막 날짜가 2020-12-02 이므로 하고자 하는 '월별과 성과목표 그래프'에는 영양가 없는 내용이므로 데이터를 삭제하겠다. "
   ]
  },
  {
   "cell_type": "code",
   "execution_count": 19,
   "id": "58182a43",
   "metadata": {},
   "outputs": [
    {
     "data": {
      "text/html": [
       "<div>\n",
       "<style scoped>\n",
       "    .dataframe tbody tr th:only-of-type {\n",
       "        vertical-align: middle;\n",
       "    }\n",
       "\n",
       "    .dataframe tbody tr th {\n",
       "        vertical-align: top;\n",
       "    }\n",
       "\n",
       "    .dataframe thead th {\n",
       "        text-align: right;\n",
       "    }\n",
       "</style>\n",
       "<table border=\"1\" class=\"dataframe\">\n",
       "  <thead>\n",
       "    <tr style=\"text-align: right;\">\n",
       "      <th></th>\n",
       "      <th>Month</th>\n",
       "      <th>PercentOfBaseline</th>\n",
       "    </tr>\n",
       "  </thead>\n",
       "  <tbody>\n",
       "    <tr>\n",
       "      <th>0</th>\n",
       "      <td>3</td>\n",
       "      <td>31939</td>\n",
       "    </tr>\n",
       "    <tr>\n",
       "      <th>1</th>\n",
       "      <td>4</td>\n",
       "      <td>46406</td>\n",
       "    </tr>\n",
       "    <tr>\n",
       "      <th>2</th>\n",
       "      <td>5</td>\n",
       "      <td>50699</td>\n",
       "    </tr>\n",
       "    <tr>\n",
       "      <th>3</th>\n",
       "      <td>6</td>\n",
       "      <td>55441</td>\n",
       "    </tr>\n",
       "    <tr>\n",
       "      <th>4</th>\n",
       "      <td>7</td>\n",
       "      <td>58322</td>\n",
       "    </tr>\n",
       "    <tr>\n",
       "      <th>5</th>\n",
       "      <td>8</td>\n",
       "      <td>56607</td>\n",
       "    </tr>\n",
       "    <tr>\n",
       "      <th>6</th>\n",
       "      <td>9</td>\n",
       "      <td>58055</td>\n",
       "    </tr>\n",
       "    <tr>\n",
       "      <th>7</th>\n",
       "      <td>10</td>\n",
       "      <td>62472</td>\n",
       "    </tr>\n",
       "    <tr>\n",
       "      <th>8</th>\n",
       "      <td>11</td>\n",
       "      <td>58765</td>\n",
       "    </tr>\n",
       "  </tbody>\n",
       "</table>\n",
       "</div>"
      ],
      "text/plain": [
       "   Month  PercentOfBaseline\n",
       "0      3              31939\n",
       "1      4              46406\n",
       "2      5              50699\n",
       "3      6              55441\n",
       "4      7              58322\n",
       "5      8              56607\n",
       "6      9              58055\n",
       "7     10              62472\n",
       "8     11              58765"
      ]
     },
     "execution_count": 19,
     "metadata": {},
     "output_type": "execute_result"
    }
   ],
   "source": [
    "df_month = df_month.drop(index=9).copy()\n",
    "df_month"
   ]
  },
  {
   "cell_type": "code",
   "execution_count": 61,
   "id": "ba426df9",
   "metadata": {},
   "outputs": [],
   "source": [
    "df_month = df_month.drop(index=0).copy()\n"
   ]
  },
  {
   "cell_type": "code",
   "execution_count": 62,
   "id": "5020647b",
   "metadata": {
    "scrolled": true
   },
   "outputs": [
    {
     "data": {
      "text/plain": [
       "[Text(4, 0, '4'),\n",
       " Text(5, 0, '5'),\n",
       " Text(6, 0, '6'),\n",
       " Text(7, 0, '7'),\n",
       " Text(8, 0, '8'),\n",
       " Text(9, 0, '9'),\n",
       " Text(10, 0, '10'),\n",
       " Text(11, 0, '11')]"
      ]
     },
     "execution_count": 62,
     "metadata": {},
     "output_type": "execute_result"
    },
    {
     "data": {
      "image/png": "[encoded data removed]",
      "text/plain": [
       "<Figure size 432x288 with 1 Axes>"
      ]
     },
     "metadata": {},
     "output_type": "display_data"
    }
   ],
   "source": [
    "g = sns.lineplot(data=df_month,x='Month', y='PercentOfBaseline')\n",
    "g.set_xticks(range(4,12)) \n",
    "g.set_xticklabels(['4','5','6','7','8','9','10','11'])"
   ]
  },
  {
   "cell_type": "markdown",
   "id": "9d9f474b",
   "metadata": {},
   "source": [
    "월별 그래프를 나타낸 결과, 월이 거듭될수록 우상향하는 모습을 보여주었다. <br>\n",
    "7~8월에 꺾인 이유는 코로나가 재발이 시작되었다는 것을 유추할 수 있다. "
   ]
  },
  {
   "cell_type": "markdown",
   "id": "15aae209",
   "metadata": {},
   "source": [
    "### 일별 총 달성율과 총 거래수 "
   ]
  },
  {
   "cell_type": "code",
   "execution_count": 94,
   "id": "3229a1f8",
   "metadata": {},
   "outputs": [
    {
     "data": {
      "text/plain": [
       "Day\n",
       "1    222\n",
       "2    221\n",
       "3    222\n",
       "4    222\n",
       "5    220\n",
       "Name: PercentOfBaseline, dtype: int64"
      ]
     },
     "execution_count": 94,
     "metadata": {},
     "output_type": "execute_result"
    }
   ],
   "source": [
    "percent_d = df.groupby(\"Day\")[\"PercentOfBaseline\"].count()\n",
    "percent_d.head()"
   ]
  },
  {
   "cell_type": "code",
   "execution_count": 95,
   "id": "da228207",
   "metadata": {},
   "outputs": [
    {
     "data": {
      "text/plain": [
       "<AxesSubplot:title={'center':'일별 총 거래수'}, xlabel='Day', ylabel='PercentOfBaseline'>"
      ]
     },
     "execution_count": 95,
     "metadata": {},
     "output_type": "execute_result"
    },
    {
     "data": {
      "image/png": "[encoded data removed]",
      "text/plain": [
       "<Figure size 1152x432 with 2 Axes>"
      ]
     },
     "metadata": {
      "image/png": {
       "height": 413,
       "width": 938
      }
     },
     "output_type": "display_data"
    }
   ],
   "source": [
    "fig, axes = plt.subplots(1, 2, sharex=True, figsize=(16, 6))\n",
    "fig.suptitle('일별 분석')\n",
    "\n",
    "axes[0].set_title('일별 총 달성율')\n",
    "axes[1].set_title('일별 총 거래수')\n",
    "\n",
    "\n",
    "# 일별 총 달성율\n",
    "sns.lineplot(data=df, x='Day', y='PercentOfBaseline', ci=None, ax=axes[0])\n",
    "\n",
    "\n",
    "# 일별 총 거래 수\n",
    "percent_d = df.groupby(\"Day\")[\"PercentOfBaseline\"].count()\n",
    "sns.lineplot(data=df, x='Day', y=percent_d, ci=None, ax=axes[1])"
   ]
  },
  {
   "cell_type": "markdown",
   "id": "7442cb97",
   "metadata": {},
   "source": [
    "## EDA : 위치"
   ]
  },
  {
   "cell_type": "markdown",
   "id": "6c49045c",
   "metadata": {},
   "source": [
    "### 월별 나라별의 점수 변화량"
   ]
  },
  {
   "cell_type": "markdown",
   "id": "85744a8d",
   "metadata": {},
   "source": [
    "3월과 12월은 활용되지 않는 데이터이기에 삭제한다."
   ]
  },
  {
   "cell_type": "code",
   "execution_count": 68,
   "id": "62c69514",
   "metadata": {},
   "outputs": [],
   "source": [
    "df = df.drop(df[(df[\"Month\"] == 3) | (df[\"Month\"] == 12)].index, axis=0).reset_index().set_index('index')"
   ]
  },
  {
   "cell_type": "code",
   "execution_count": 69,
   "id": "8f851880",
   "metadata": {
    "scrolled": true
   },
   "outputs": [
    {
     "data": {
      "image/png": "[encoded data removed]",
      "text/plain": [
       "<Figure size 1080x432 with 1 Axes>"
      ]
     },
     "metadata": {},
     "output_type": "display_data"
    }
   ],
   "source": [
    "plt.figure(figsize=(15,6))\n",
    "\n",
    "sns.lineplot(data=df, x=\"Month\", y=\"PercentOfBaseline\", hue=\"Country\", marker='o', ci=None)\n",
    "plt.legend(bbox_to_anchor=(1.02, 1), loc='upper left', borderaxespad=0, )\n",
    "paper_rc = {'lines.linewidth': 1, 'lines.markersize': 13}                  \n",
    "sns.set_context(\"paper\", rc = paper_rc)"
   ]
  },
  {
   "cell_type": "markdown",
   "id": "c395e32d",
   "metadata": {},
   "source": [
    "호주는 8월에 달성율이 급격하게 떨어졌다. 이유는 코로나 확진자 수 급증으로 인해 항공수단을 방어한게 아닌가 싶다. <br>\n",
    "\n",
    "캐나다는 꾸준하게 우상향 하고 있다. \n"
   ]
  },
  {
   "cell_type": "code",
   "execution_count": 86,
   "id": "ca9a3f5e",
   "metadata": {
    "scrolled": true
   },
   "outputs": [
    {
     "data": {
      "text/html": [
       "<div>\n",
       "<style scoped>\n",
       "    .dataframe tbody tr th:only-of-type {\n",
       "        vertical-align: middle;\n",
       "    }\n",
       "\n",
       "    .dataframe tbody tr th {\n",
       "        vertical-align: top;\n",
       "    }\n",
       "\n",
       "    .dataframe thead th {\n",
       "        text-align: right;\n",
       "    }\n",
       "</style>\n",
       "<table border=\"1\" class=\"dataframe\">\n",
       "  <thead>\n",
       "    <tr style=\"text-align: right;\">\n",
       "      <th></th>\n",
       "      <th>Day</th>\n",
       "      <th>PercentOfBaseline</th>\n",
       "    </tr>\n",
       "  </thead>\n",
       "  <tbody>\n",
       "    <tr>\n",
       "      <th>0</th>\n",
       "      <td>1</td>\n",
       "      <td>14440</td>\n",
       "    </tr>\n",
       "    <tr>\n",
       "      <th>1</th>\n",
       "      <td>2</td>\n",
       "      <td>14951</td>\n",
       "    </tr>\n",
       "    <tr>\n",
       "      <th>2</th>\n",
       "      <td>3</td>\n",
       "      <td>13890</td>\n",
       "    </tr>\n",
       "    <tr>\n",
       "      <th>3</th>\n",
       "      <td>4</td>\n",
       "      <td>13881</td>\n",
       "    </tr>\n",
       "    <tr>\n",
       "      <th>4</th>\n",
       "      <td>5</td>\n",
       "      <td>14324</td>\n",
       "    </tr>\n",
       "    <tr>\n",
       "      <th>5</th>\n",
       "      <td>6</td>\n",
       "      <td>14952</td>\n",
       "    </tr>\n",
       "    <tr>\n",
       "      <th>6</th>\n",
       "      <td>7</td>\n",
       "      <td>13924</td>\n",
       "    </tr>\n",
       "    <tr>\n",
       "      <th>7</th>\n",
       "      <td>8</td>\n",
       "      <td>14911</td>\n",
       "    </tr>\n",
       "    <tr>\n",
       "      <th>8</th>\n",
       "      <td>9</td>\n",
       "      <td>14807</td>\n",
       "    </tr>\n",
       "    <tr>\n",
       "      <th>9</th>\n",
       "      <td>10</td>\n",
       "      <td>14239</td>\n",
       "    </tr>\n",
       "    <tr>\n",
       "      <th>10</th>\n",
       "      <td>11</td>\n",
       "      <td>14142</td>\n",
       "    </tr>\n",
       "    <tr>\n",
       "      <th>11</th>\n",
       "      <td>12</td>\n",
       "      <td>13546</td>\n",
       "    </tr>\n",
       "    <tr>\n",
       "      <th>12</th>\n",
       "      <td>13</td>\n",
       "      <td>14805</td>\n",
       "    </tr>\n",
       "    <tr>\n",
       "      <th>13</th>\n",
       "      <td>14</td>\n",
       "      <td>15243</td>\n",
       "    </tr>\n",
       "    <tr>\n",
       "      <th>14</th>\n",
       "      <td>15</td>\n",
       "      <td>15002</td>\n",
       "    </tr>\n",
       "    <tr>\n",
       "      <th>15</th>\n",
       "      <td>16</td>\n",
       "      <td>15072</td>\n",
       "    </tr>\n",
       "    <tr>\n",
       "      <th>16</th>\n",
       "      <td>17</td>\n",
       "      <td>12888</td>\n",
       "    </tr>\n",
       "    <tr>\n",
       "      <th>17</th>\n",
       "      <td>18</td>\n",
       "      <td>14263</td>\n",
       "    </tr>\n",
       "    <tr>\n",
       "      <th>18</th>\n",
       "      <td>19</td>\n",
       "      <td>14725</td>\n",
       "    </tr>\n",
       "    <tr>\n",
       "      <th>19</th>\n",
       "      <td>20</td>\n",
       "      <td>15337</td>\n",
       "    </tr>\n",
       "    <tr>\n",
       "      <th>20</th>\n",
       "      <td>21</td>\n",
       "      <td>15334</td>\n",
       "    </tr>\n",
       "    <tr>\n",
       "      <th>21</th>\n",
       "      <td>22</td>\n",
       "      <td>15465</td>\n",
       "    </tr>\n",
       "    <tr>\n",
       "      <th>22</th>\n",
       "      <td>23</td>\n",
       "      <td>15210</td>\n",
       "    </tr>\n",
       "    <tr>\n",
       "      <th>23</th>\n",
       "      <td>24</td>\n",
       "      <td>15014</td>\n",
       "    </tr>\n",
       "    <tr>\n",
       "      <th>24</th>\n",
       "      <td>25</td>\n",
       "      <td>14273</td>\n",
       "    </tr>\n",
       "    <tr>\n",
       "      <th>25</th>\n",
       "      <td>26</td>\n",
       "      <td>13984</td>\n",
       "    </tr>\n",
       "    <tr>\n",
       "      <th>26</th>\n",
       "      <td>27</td>\n",
       "      <td>14620</td>\n",
       "    </tr>\n",
       "    <tr>\n",
       "      <th>27</th>\n",
       "      <td>28</td>\n",
       "      <td>15556</td>\n",
       "    </tr>\n",
       "    <tr>\n",
       "      <th>28</th>\n",
       "      <td>29</td>\n",
       "      <td>15446</td>\n",
       "    </tr>\n",
       "    <tr>\n",
       "      <th>29</th>\n",
       "      <td>30</td>\n",
       "      <td>15237</td>\n",
       "    </tr>\n",
       "    <tr>\n",
       "      <th>30</th>\n",
       "      <td>31</td>\n",
       "      <td>7286</td>\n",
       "    </tr>\n",
       "  </tbody>\n",
       "</table>\n",
       "</div>"
      ],
      "text/plain": [
       "    Day  PercentOfBaseline\n",
       "0     1              14440\n",
       "1     2              14951\n",
       "2     3              13890\n",
       "3     4              13881\n",
       "4     5              14324\n",
       "5     6              14952\n",
       "6     7              13924\n",
       "7     8              14911\n",
       "8     9              14807\n",
       "9    10              14239\n",
       "10   11              14142\n",
       "11   12              13546\n",
       "12   13              14805\n",
       "13   14              15243\n",
       "14   15              15002\n",
       "15   16              15072\n",
       "16   17              12888\n",
       "17   18              14263\n",
       "18   19              14725\n",
       "19   20              15337\n",
       "20   21              15334\n",
       "21   22              15465\n",
       "22   23              15210\n",
       "23   24              15014\n",
       "24   25              14273\n",
       "25   26              13984\n",
       "26   27              14620\n",
       "27   28              15556\n",
       "28   29              15446\n",
       "29   30              15237\n",
       "30   31               7286"
      ]
     },
     "execution_count": 86,
     "metadata": {},
     "output_type": "execute_result"
    }
   ],
   "source": [
    "percent_d = df.groupby(\"Day\")[\"PercentOfBaseline\"].sum().to_frame()\n",
    "percent_d.reset_index()"
   ]
  }
 ],
 "metadata": {
  "kernelspec": {
   "display_name": "Python 3",
   "language": "python",
   "name": "python3"
  },
  "language_info": {
   "codemirror_mode": {
    "name": "ipython",
    "version": 3
   },
   "file_extension": ".py",
   "mimetype": "text/x-python",
   "name": "python",
   "nbconvert_exporter": "python",
   "pygments_lexer": "ipython3",
   "version": "3.8.8"
  },
  "toc": {
   "base_numbering": 1,
   "nav_menu": {},
   "number_sections": true,
   "sideBar": true,
   "skip_h1_title": false,
   "title_cell": "Table of Contents",
   "title_sidebar": "Contents",
   "toc_cell": false,
   "toc_position": {
    "height": "calc(100% - 180px)",
    "left": "10px",
    "top": "150px",
    "width": "341.333px"
   },
   "toc_section_display": true,
   "toc_window_display": true
  }
 },
 "nbformat": 4,
 "nbformat_minor": 5
}
